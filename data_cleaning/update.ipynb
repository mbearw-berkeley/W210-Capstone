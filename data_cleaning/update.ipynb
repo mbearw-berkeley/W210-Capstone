{
 "cells": [
  {
   "cell_type": "code",
   "execution_count": 100,
   "id": "annoying-reggae",
   "metadata": {
    "scrolled": true
   },
   "outputs": [],
   "source": [
    "import rpy2.robjects as robjects\n",
    "import requests\n",
    "import json\n",
    "import prettytable\n",
    "import pandas as pd\n",
    "from datetime import date"
   ]
  },
  {
   "cell_type": "code",
   "execution_count": 218,
   "id": "imported-olympus",
   "metadata": {},
   "outputs": [
    {
     "name": "stderr",
     "output_type": "stream",
     "text": [
      "R[write to console]: \n",
      "R[write to console]: -\n",
      "R[write to console]: \n",
      "R[write to console]: /\n",
      "                                                                              \n",
      "R[write to console]: \n",
      "R[write to console]: \n",
      "R[write to console]: -\n",
      "R[write to console]: \n",
      "R[write to console]: /\n",
      "                                                                              \n",
      "R[write to console]: \n",
      "R[write to console]: \n",
      "R[write to console]: -\n",
      "R[write to console]: \n",
      "R[write to console]: /\n",
      "                                                                              \n",
      "R[write to console]: \n",
      "R[write to console]: \n",
      "R[write to console]: -\n",
      "R[write to console]: \n",
      "R[write to console]: /\n",
      "                                                                              \n",
      "R[write to console]: \n"
     ]
    },
    {
     "name": "stdout",
     "output_type": "stream",
     "text": [
      "`summarise()` has grouped output by 'YEAR FORECAST MADE', 'QUARTER', 'YEAR BEING FORECAST'. You can override using the `.groups` argument.\n",
      "`summarise()` has grouped output by 'YEAR FORECAST MADE', 'QUARTER', 'BIN'. You can override using the `.groups` argument.\n",
      "[1] \"Finished Saving CSV!\"\n"
     ]
    },
    {
     "data": {
      "text/html": [
       "\n",
       "        <span>ListVector with 2 elements.</span>\n",
       "        <table>\n",
       "        <tbody>\n",
       "        \n",
       "          <tr>\n",
       "            <th>\n",
       "            value\n",
       "            </th>\n",
       "            <td>\n",
       "            <rpy2.rinterface_lib.sexp.StrSexpVector object at 0x000001C2C57320C0> [RTYPES.STRSXP]\n",
       "            </td>\n",
       "          </tr>\n",
       "        \n",
       "          <tr>\n",
       "            <th>\n",
       "            visible\n",
       "            </th>\n",
       "            <td>\n",
       "            <rpy2.rinterface.BoolSexpVector object at 0x000001C2C5732580> [RTYPES.LGLSXP]\n",
       "            </td>\n",
       "          </tr>\n",
       "        \n",
       "        </tbody>\n",
       "        </table>\n",
       "        "
      ],
      "text/plain": [
       "<rpy2.robjects.vectors.ListVector object at 0x000001C2C5732400> [RTYPES.VECSXP]\n",
       "R classes: ('list',)\n",
       "[StrSexpVector, BoolSexpVector]\n",
       "  value: <class 'rpy2.rinterface_lib.sexp.StrSexpVector'>\n",
       "  <rpy2.rinterface_lib.sexp.StrSexpVector object at 0x000001C2C5732480> [RTYPES.STRSXP]\n",
       "  visible: <class 'rpy2.rinterface.BoolSexpVector'>\n",
       "  <rpy2.rinterface.BoolSexpVector object at 0x000001C2C5732B40> [RTYPES.LGLSXP]"
      ]
     },
     "execution_count": 218,
     "metadata": {},
     "output_type": "execute_result"
    }
   ],
   "source": [
    "r = robjects.r\n",
    "r['source']('data_cleaning/preprocess.R')"
   ]
  },
  {
   "cell_type": "code",
   "execution_count": 28,
   "id": "lucky-laptop",
   "metadata": {},
   "outputs": [],
   "source": [
    "item_dict = {}\n",
    "item_dict[\"Gasoline\"] = \"APU000074714\"\n",
    "item_dict[\"Milk\"] = \"APU0000709112\"\n",
    "item_dict[\"Eggs\"] = \"APU0000708111\"\n",
    "item_dict[\"Bacon\"] = \"APU0000704111\"\n",
    "item_dict[\"Electricity\"] = \"APU000072610\"\n",
    "item_dict[\"Rice\"] = \"APU0000701312\"\n",
    "item_dict[\"Chicken\"] = \"APU0000706111\"\n",
    "item_dict[\"banana\"] = \"APU0000711211\"\n",
    "item_dict[\"Coffee\"] = \"APU0000717311\"\n",
    "item_dict[\"Beef\"] = \"APU0000703112\""
   ]
  },
  {
   "cell_type": "code",
   "execution_count": 207,
   "id": "ordered-migration",
   "metadata": {},
   "outputs": [],
   "source": [
    "def update_items(filename):\n",
    "    data = pd.read_csv('./data/RawData/BLS/'+filename)\n",
    "    print(data.columns)\n",
    "    seriesID = data[\"Series ID\"][0]\n",
    "    data = data[[\"Year\",\"Period\",\"Value\"]]\n",
    "    new = get_items(filename.split(\"_\")[0],seriesID)\n",
    "    merged = data.merge(new,how=\"outer\")\n",
    "    return merged"
   ]
  },
  {
   "cell_type": "code",
   "execution_count": 208,
   "id": "wireless-escape",
   "metadata": {},
   "outputs": [],
   "source": [
    "def get_items(item_name,ID):\n",
    "    headers = {'Content-type': 'application/json'}\n",
    "    data = json.dumps({\"seriesid\": [ID],\"startyear\":\"2020\", \"endyear\":date.today().year+1})\n",
    "    p = requests.post('https://api.bls.gov/publicAPI/v2/timeseries/data/', data=data, headers=headers)\n",
    "    json_data = json.loads(p.text)\n",
    "    returnFrame = pd.DataFrame(json_data[\"Results\"][\"series\"][0][\"data\"])\n",
    "    returnFrame.rename(columns={\"year\":\"Year\",\"period\":\"Period\",\"value\":\"Value\"},inplace=True)\n",
    "    returnFrame[\"Year\"] = returnFrame[\"Year\"].astype(int)\n",
    "    returnFrame[\"Value\"] = returnFrame[\"Value\"].astype(float)\n",
    "    return returnFrame"
   ]
  },
  {
   "cell_type": "code",
   "execution_count": 217,
   "id": "representative-siemens",
   "metadata": {},
   "outputs": [
    {
     "name": "stdout",
     "output_type": "stream",
     "text": [
      "banana\n",
      "Index(['Series ID', 'Year', 'Period', 'Label', 'Value'], dtype='object')\n",
      "beef\n",
      "Index(['Series ID', 'Year', 'Period', 'Label', 'Value'], dtype='object')\n",
      "bread\n",
      "Index(['Series ID', 'Year', 'Period', 'Label', 'Value'], dtype='object')\n",
      "chicken\n",
      "Index(['Series ID', 'Year', 'Period', 'Label', 'Value'], dtype='object')\n",
      "coffee\n",
      "Index(['Series ID', 'Year', 'Period', 'Label', 'Value'], dtype='object')\n",
      "eggs\n",
      "Index(['Series ID', 'Year', 'Period', 'Label', 'Value'], dtype='object')\n",
      "electricity\n",
      "Index(['Series ID', 'Year', 'Period', 'Label', 'Value'], dtype='object')\n",
      "flour\n",
      "Index(['Series ID', 'Year', 'Period', 'Label', 'Value'], dtype='object')\n",
      "iceCream\n",
      "Index(['Series ID', 'Year', 'Period', 'Label', 'Value'], dtype='object')\n",
      "rice\n",
      "Index(['Series ID', 'Year', 'Period', 'Label', 'Value'], dtype='object')\n",
      "unleadedGasoline\n",
      "Index(['Series ID', 'Year', 'Period', 'Label', 'Value'], dtype='object')\n"
     ]
    }
   ],
   "source": [
    "for filename in os.listdir(\"./data/RawData/BLS\"):\n",
    "    name = filename.split(\"_\")[0]\n",
    "    print(name)\n",
    "    df = update_items(filename)\n",
    "    df.to_csv(\"./data/RawData/BLS/\"+name+\".csv\",index=False)"
   ]
  },
  {
   "cell_type": "code",
   "execution_count": null,
   "id": "timely-speaking",
   "metadata": {},
   "outputs": [],
   "source": []
  }
 ],
 "metadata": {
  "kernelspec": {
   "display_name": "Python 3 (ipykernel)",
   "language": "python",
   "name": "python3"
  },
  "language_info": {
   "codemirror_mode": {
    "name": "ipython",
    "version": 3
   },
   "file_extension": ".py",
   "mimetype": "text/x-python",
   "name": "python",
   "nbconvert_exporter": "python",
   "pygments_lexer": "ipython3",
   "version": "3.8.6"
  }
 },
 "nbformat": 4,
 "nbformat_minor": 5
}
