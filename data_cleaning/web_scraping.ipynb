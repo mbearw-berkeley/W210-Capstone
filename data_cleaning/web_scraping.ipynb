{
 "cells": [
  {
   "cell_type": "code",
   "execution_count": 3,
   "id": "false-christianity",
   "metadata": {},
   "outputs": [],
   "source": [
    "import csv, pandas as pd, time, requests,urllib,datetime,openpyxl,mock\n",
    "from openpyxl.reader import excel\n",
    "from bs4 import BeautifulSoup"
   ]
  },
  {
   "cell_type": "code",
   "execution_count": 4,
   "id": "creative-divorce",
   "metadata": {},
   "outputs": [],
   "source": [
    "PhillyFedURL = 'https://www.philadelphiafed.org'\n",
    "\n",
    "measures = ['corecpi',\"corepce\",\"unemp\",\"rgdp\"]\n",
    "link_dict = dict.fromkeys(measures)\n",
    "def getUpdateLink(measure):\n",
    "    url = PhillyFedURL +'/surveys-and-data/'+ measure\n",
    "    userAgent = {\"User-agent\":\"Mozilla/5.0\"}\n",
    "    response = requests.get(url,headers=userAgent)\n",
    "    soup = BeautifulSoup(response.text,\"html.parser\")\n",
    "    #get the correct link for download\n",
    "    body = soup.find_all(\"a\",{'rel': \"external\"})\n",
    "    link_dict[measure] = PhillyFedURL+body[1].get(\"href\")\n",
    "    time.sleep(5)\n",
    "    return\n"
   ]
  },
  {
   "cell_type": "code",
   "execution_count": 5,
   "id": "czech-watch",
   "metadata": {},
   "outputs": [],
   "source": [
    "for measure in measures:\n",
    "    getUpdateLink(measure)"
   ]
  },
  {
   "cell_type": "code",
   "execution_count": 6,
   "id": "minimal-vermont",
   "metadata": {},
   "outputs": [
    {
     "data": {
      "text/plain": [
       "{'corecpi': 'https://www.philadelphiafed.org/-/media/frbp/assets/surveys-and-data/survey-of-professional-forecasters/data-files/files/mean_corecpi_level.xlsx?la=en&hash=AE77D7A53410F3A90E44A2AB5A7A40FA',\n",
       " 'corepce': 'https://www.philadelphiafed.org/-/media/frbp/assets/surveys-and-data/survey-of-professional-forecasters/data-files/files/mean_corepce_level.xlsx?la=en&hash=9E178F500C4CCB5BF0F7917B6F8C95A1',\n",
       " 'unemp': 'https://www.philadelphiafed.org/-/media/frbp/assets/surveys-and-data/survey-of-professional-forecasters/data-files/files/mean_unemp_level.xlsx?la=en&hash=151CB62F170CBB918AC59F64A7802994',\n",
       " 'rgdp': 'https://www.philadelphiafed.org/-/media/frbp/assets/surveys-and-data/survey-of-professional-forecasters/data-files/files/mean_rgdp_level.xlsx?la=en&hash=9CBA07DD663BECB56A35385F00985A6A'}"
      ]
     },
     "execution_count": 6,
     "metadata": {},
     "output_type": "execute_result"
    }
   ],
   "source": [
    "link_dict"
   ]
  },
  {
   "cell_type": "code",
   "execution_count": 10,
   "id": "unavailable-easter",
   "metadata": {},
   "outputs": [],
   "source": [
    "def createDataFramesFromURL(url):\n",
    "    with mock.patch.object(excel.ExcelReader, 'read_properties', lambda self: None):\n",
    "        xl_df =  pd.read_excel(url,skiprows=range(1,210), dtype={'YEAR': str, 'QUARTER': str})\n",
    "    return xl_df"
   ]
  },
  {
   "cell_type": "code",
   "execution_count": 11,
   "id": "fresh-advancement",
   "metadata": {
    "scrolled": true
   },
   "outputs": [
    {
     "name": "stderr",
     "output_type": "stream",
     "text": [
      "C:\\Users\\Bear\\anaconda3\\lib\\site-packages\\openpyxl\\worksheet\\header_footer.py:48: UserWarning: Cannot parse header or footer so it will be ignored\n",
      "  warn(\"\"\"Cannot parse header or footer so it will be ignored\"\"\")\n"
     ]
    },
    {
     "data": {
      "text/html": [
       "<div>\n",
       "<style scoped>\n",
       "    .dataframe tbody tr th:only-of-type {\n",
       "        vertical-align: middle;\n",
       "    }\n",
       "\n",
       "    .dataframe tbody tr th {\n",
       "        vertical-align: top;\n",
       "    }\n",
       "\n",
       "    .dataframe thead th {\n",
       "        text-align: right;\n",
       "    }\n",
       "</style>\n",
       "<table border=\"1\" class=\"dataframe\">\n",
       "  <thead>\n",
       "    <tr style=\"text-align: right;\">\n",
       "      <th></th>\n",
       "      <th>YEAR</th>\n",
       "      <th>QUARTER</th>\n",
       "      <th>CORECPI1</th>\n",
       "      <th>CORECPI2</th>\n",
       "      <th>CORECPI3</th>\n",
       "      <th>CORECPI4</th>\n",
       "      <th>CORECPI5</th>\n",
       "      <th>CORECPI6</th>\n",
       "      <th>CORECPIA</th>\n",
       "      <th>CORECPIB</th>\n",
       "      <th>CORECPIC</th>\n",
       "    </tr>\n",
       "  </thead>\n",
       "  <tbody>\n",
       "    <tr>\n",
       "      <th>0</th>\n",
       "      <td>2021</td>\n",
       "      <td>1</td>\n",
       "      <td>1.7993</td>\n",
       "      <td>1.7964</td>\n",
       "      <td>2.0635</td>\n",
       "      <td>2.1682</td>\n",
       "      <td>2.1369</td>\n",
       "      <td>2.1195</td>\n",
       "      <td>2.0401</td>\n",
       "      <td>2.1258</td>\n",
       "      <td>2.2183</td>\n",
       "    </tr>\n",
       "    <tr>\n",
       "      <th>1</th>\n",
       "      <td>2021</td>\n",
       "      <td>2</td>\n",
       "      <td>1.2004</td>\n",
       "      <td>2.6943</td>\n",
       "      <td>2.3995</td>\n",
       "      <td>2.2170</td>\n",
       "      <td>2.3241</td>\n",
       "      <td>2.2866</td>\n",
       "      <td>2.1265</td>\n",
       "      <td>2.2761</td>\n",
       "      <td>2.3301</td>\n",
       "    </tr>\n",
       "  </tbody>\n",
       "</table>\n",
       "</div>"
      ],
      "text/plain": [
       "   YEAR QUARTER  CORECPI1  CORECPI2  CORECPI3  CORECPI4  CORECPI5  CORECPI6  \\\n",
       "0  2021       1    1.7993    1.7964    2.0635    2.1682    2.1369    2.1195   \n",
       "1  2021       2    1.2004    2.6943    2.3995    2.2170    2.3241    2.2866   \n",
       "\n",
       "   CORECPIA  CORECPIB  CORECPIC  \n",
       "0    2.0401    2.1258    2.2183  \n",
       "1    2.1265    2.2761    2.3301  "
      ]
     },
     "execution_count": 11,
     "metadata": {},
     "output_type": "execute_result"
    }
   ],
   "source": [
    "createDataFramesFromURL(link_dict[\"corecpi\"])"
   ]
  },
  {
   "cell_type": "code",
   "execution_count": 12,
   "id": "destroyed-rocket",
   "metadata": {},
   "outputs": [
    {
     "name": "stderr",
     "output_type": "stream",
     "text": [
      "C:\\Users\\Bear\\anaconda3\\lib\\site-packages\\openpyxl\\worksheet\\header_footer.py:48: UserWarning: Cannot parse header or footer so it will be ignored\n",
      "  warn(\"\"\"Cannot parse header or footer so it will be ignored\"\"\")\n"
     ]
    },
    {
     "data": {
      "text/html": [
       "<div>\n",
       "<style scoped>\n",
       "    .dataframe tbody tr th:only-of-type {\n",
       "        vertical-align: middle;\n",
       "    }\n",
       "\n",
       "    .dataframe tbody tr th {\n",
       "        vertical-align: top;\n",
       "    }\n",
       "\n",
       "    .dataframe thead th {\n",
       "        text-align: right;\n",
       "    }\n",
       "</style>\n",
       "<table border=\"1\" class=\"dataframe\">\n",
       "  <thead>\n",
       "    <tr style=\"text-align: right;\">\n",
       "      <th></th>\n",
       "      <th>YEAR</th>\n",
       "      <th>QUARTER</th>\n",
       "      <th>UNEMP1</th>\n",
       "      <th>UNEMP2</th>\n",
       "      <th>UNEMP3</th>\n",
       "      <th>UNEMP4</th>\n",
       "      <th>UNEMP5</th>\n",
       "      <th>UNEMP6</th>\n",
       "      <th>UNEMPA</th>\n",
       "      <th>UNEMPB</th>\n",
       "      <th>UNEMPC</th>\n",
       "      <th>UNEMPD</th>\n",
       "    </tr>\n",
       "  </thead>\n",
       "  <tbody>\n",
       "    <tr>\n",
       "      <th>0</th>\n",
       "      <td>2021</td>\n",
       "      <td>1</td>\n",
       "      <td>6.7984</td>\n",
       "      <td>6.4091</td>\n",
       "      <td>6.1366</td>\n",
       "      <td>5.7217</td>\n",
       "      <td>5.3907</td>\n",
       "      <td>5.101</td>\n",
       "      <td>5.9180</td>\n",
       "      <td>4.8728</td>\n",
       "      <td>4.4491</td>\n",
       "      <td>4.3334</td>\n",
       "    </tr>\n",
       "    <tr>\n",
       "      <th>1</th>\n",
       "      <td>2021</td>\n",
       "      <td>2</td>\n",
       "      <td>6.1991</td>\n",
       "      <td>5.7893</td>\n",
       "      <td>5.3101</td>\n",
       "      <td>4.9829</td>\n",
       "      <td>4.7525</td>\n",
       "      <td>4.569</td>\n",
       "      <td>5.5693</td>\n",
       "      <td>4.5377</td>\n",
       "      <td>4.1701</td>\n",
       "      <td>4.0887</td>\n",
       "    </tr>\n",
       "  </tbody>\n",
       "</table>\n",
       "</div>"
      ],
      "text/plain": [
       "   YEAR QUARTER  UNEMP1  UNEMP2  UNEMP3  UNEMP4  UNEMP5  UNEMP6  UNEMPA  \\\n",
       "0  2021       1  6.7984  6.4091  6.1366  5.7217  5.3907   5.101  5.9180   \n",
       "1  2021       2  6.1991  5.7893  5.3101  4.9829  4.7525   4.569  5.5693   \n",
       "\n",
       "   UNEMPB  UNEMPC  UNEMPD  \n",
       "0  4.8728  4.4491  4.3334  \n",
       "1  4.5377  4.1701  4.0887  "
      ]
     },
     "execution_count": 12,
     "metadata": {},
     "output_type": "execute_result"
    }
   ],
   "source": [
    "createDataFramesFromURL(link_dict[\"unemp\"])"
   ]
  },
  {
   "cell_type": "code",
   "execution_count": null,
   "id": "executed-privacy",
   "metadata": {},
   "outputs": [],
   "source": []
  }
 ],
 "metadata": {
  "kernelspec": {
   "display_name": "Python 3 (ipykernel)",
   "language": "python",
   "name": "python3"
  },
  "language_info": {
   "codemirror_mode": {
    "name": "ipython",
    "version": 3
   },
   "file_extension": ".py",
   "mimetype": "text/x-python",
   "name": "python",
   "nbconvert_exporter": "python",
   "pygments_lexer": "ipython3",
   "version": "3.8.6"
  }
 },
 "nbformat": 4,
 "nbformat_minor": 5
}
