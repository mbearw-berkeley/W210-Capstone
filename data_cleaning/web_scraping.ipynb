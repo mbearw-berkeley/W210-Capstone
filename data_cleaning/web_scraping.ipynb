{
 "cells": [
  {
   "cell_type": "code",
   "execution_count": 3,
   "id": "false-christianity",
   "metadata": {},
   "outputs": [],
   "source": [
    "import csv, pandas as pd, time, requests,urllib,datetime,openpyxl,mock\n",
    "from openpyxl.reader import excel\n",
    "from bs4 import BeautifulSoup"
   ]
  },
  {
   "cell_type": "code",
   "execution_count": 33,
   "id": "creative-divorce",
   "metadata": {},
   "outputs": [],
   "source": [
    "def getUpdateLink():\n",
    "    url = 'https://www.philadelphiafed.org/surveys-and-data/real-time-data-research/individual-forecasts'\n",
    "    userAgent = {\"User-agent\":\"Mozilla/5.0\"}\n",
    "    response = requests.get(url,headers=userAgent)\n",
    "    soup = BeautifulSoup(response.text,\"html.parser\")\n",
    "    #get the correct link for download\n",
    "    body = soup.find_all(\"a\",class_=\"\")\n",
    "    link = 'https://www.philadelphiafed.org'+body[8].get(\"href\")\n",
    "\n",
    "    return link \n"
   ]
  },
  {
   "cell_type": "code",
   "execution_count": 35,
   "id": "czech-watch",
   "metadata": {},
   "outputs": [],
   "source": [
    "microSPF = getUpdateLink()"
   ]
  },
  {
   "cell_type": "code",
   "execution_count": 49,
   "id": "surprised-powder",
   "metadata": {},
   "outputs": [],
   "source": [
    "actualsGDPURL = \"https://fred.stlouisfed.org/graph/fredgraph.csv?bgcolor=%23e1e9f0&chart_type=line&drp=0&fo=open%20sans&graph_bgcolor=%23ffffff&height=450&mode=fred&recession_bars=on&txtcolor=%23444444&ts=12&tts=12&width=748&nt=0&thu=0&trc=0&show_legend=yes&show_axis_titles=yes&show_tooltip=yes&id=GDPC1&scale=left&cosd=1947-01-01&coed=2021-01-01&line_color=%234572a7&link_values=false&line_style=solid&mark_type=none&mw=3&lw=2&ost=-99999&oet=99999&mma=0&fml=a&fq=Annual&fam=avg&fgst=lin&fgsnd=2020-02-01&line_index=1&transformation=pch&vintage_date=2021-07-26&revision_date=2021-07-26&nd=1947-01-01\"\n",
    "actualsUnempURL = \"https://fred.stlouisfed.org/graph/fredgraph.csv?bgcolor=%23e1e9f0&chart_type=line&drp=0&fo=open%20sans&graph_bgcolor=%23ffffff&height=450&mode=fred&recession_bars=on&txtcolor=%23444444&ts=12&tts=12&width=1168&nt=0&thu=0&trc=0&show_legend=yes&show_axis_titles=yes&show_tooltip=yes&id=UNRATE&scale=left&cosd=1948-01-01&coed=2021-06-01&line_color=%234572a7&link_values=false&line_style=solid&mark_type=none&mw=3&lw=2&ost=-99999&oet=99999&mma=0&fml=a&fq=Monthly&fam=avg&fgst=lin&fgsnd=2020-02-01&line_index=1&transformation=lin&vintage_date=2021-07-26&revision_date=2021-07-26&nd=1948-01-01\"\n",
    "actualsCCPIURL = \"https://fred.stlouisfed.org/graph/fredgraph.csv?bgcolor=%23e1e9f0&chart_type=line&drp=0&fo=open%20sans&graph_bgcolor=%23ffffff&height=450&mode=fred&recession_bars=on&txtcolor=%23444444&ts=12&tts=12&width=1168&nt=0&thu=0&trc=0&show_legend=yes&show_axis_titles=yes&show_tooltip=yes&id=CPILFESL&scale=left&cosd=1957-01-01&coed=2021-06-01&line_color=%234572a7&link_values=false&line_style=solid&mark_type=none&mw=3&lw=2&ost=-99999&oet=99999&mma=0&fml=a&fq=Quarterly&fam=avg&fgst=lin&fgsnd=2020-02-01&line_index=1&transformation=lin&vintage_date=2021-07-26&revision_date=2021-07-26&nd=1957-01-01\"\n",
    "actualsCPCEURL = \"https://fred.stlouisfed.org/graph/fredgraph.csv?bgcolor=%23e1e9f0&chart_type=line&drp=0&fo=open%20sans&graph_bgcolor=%23ffffff&height=450&mode=fred&recession_bars=on&txtcolor=%23444444&ts=12&tts=12&width=1168&nt=0&thu=0&trc=0&show_legend=yes&show_axis_titles=yes&show_tooltip=yes&id=PCEPILFE&scale=left&cosd=1959-01-01&coed=2021-05-01&line_color=%234572a7&link_values=false&line_style=solid&mark_type=none&mw=3&lw=2&ost=-99999&oet=99999&mma=0&fml=a&fq=Quarterly&fam=avg&fgst=lin&fgsnd=2020-02-01&line_index=1&transformation=lin&vintage_date=2021-07-26&revision_date=2021-07-26&nd=1959-01-01\""
   ]
  },
  {
   "cell_type": "code",
   "execution_count": 50,
   "id": "grave-switch",
   "metadata": {},
   "outputs": [],
   "source": [
    "actualsURLs = [actualsGDPURL,actualsUnempURL,actualsCCPIURL,actualsCPCEURL]"
   ]
  },
  {
   "cell_type": "code",
   "execution_count": 38,
   "id": "unavailable-easter",
   "metadata": {},
   "outputs": [],
   "source": [
    "def createDataFramesFromURL(measure,url):\n",
    "    with mock.patch.object(excel.ExcelReader, 'read_properties', lambda self: None):\n",
    "        xl_df =  pd.read_excel(url,sheet_name=measure, dtype={'YEAR': str, 'QUARTER': str})\n",
    "        xl_df.to_\n",
    "    return xl_df"
   ]
  },
  {
   "cell_type": "code",
   "execution_count": 61,
   "id": "twenty-winner",
   "metadata": {},
   "outputs": [],
   "source": [
    "for measure in [\"PRGDP\",\"PRUNEMP\",\"PRCCPI\",\"PRCPCE\"]:\n",
    "    export = createDataFramesFromURL(measure,microSPF)\n",
    "    export.to_csv(\"../data/RawData/ScrapedData/\"+measure+\".csv\",index=False)"
   ]
  },
  {
   "cell_type": "code",
   "execution_count": 60,
   "id": "painted-finnish",
   "metadata": {
    "scrolled": true
   },
   "outputs": [],
   "source": [
    "for url,measure in zip(actualsURLs,[\"GDP\",\"UNEMP\",\"CCPI\",\"CPCE\"]):\n",
    "    saveActuals(measure,url)"
   ]
  },
  {
   "cell_type": "code",
   "execution_count": 57,
   "id": "southwest-green",
   "metadata": {},
   "outputs": [],
   "source": [
    "def saveActuals(measure,url):\n",
    "    output = \"../data/RawData/ScrapedData/Actuals/\"+measure+\".csv\"\n",
    "    urllib.request.urlretrieve(url,output)\n",
    "    return"
   ]
  },
  {
   "cell_type": "markdown",
   "id": "boolean-rotation",
   "metadata": {},
   "source": [
    "edit R page to update files in directory in place \n",
    "append price data to training \n",
    "retrain model on new data \n",
    "produce predictions vector that we use for final visualizations\n",
    "make Yaml file\n",
    "Flask server\n",
    "\n"
   ]
  }
 ],
 "metadata": {
  "kernelspec": {
   "display_name": "Python 3 (ipykernel)",
   "language": "python",
   "name": "python3"
  },
  "language_info": {
   "codemirror_mode": {
    "name": "ipython",
    "version": 3
   },
   "file_extension": ".py",
   "mimetype": "text/x-python",
   "name": "python",
   "nbconvert_exporter": "python",
   "pygments_lexer": "ipython3",
   "version": "3.8.6"
  }
 },
 "nbformat": 4,
 "nbformat_minor": 5
}
