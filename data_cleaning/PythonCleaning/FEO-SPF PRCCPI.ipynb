{
 "cells": [
  {
   "cell_type": "code",
   "execution_count": 1,
   "metadata": {},
   "outputs": [],
   "source": [
    "import pandas as pd\n",
    "import numpy as np\n",
    "import os"
   ]
  },
  {
   "cell_type": "code",
   "execution_count": 2,
   "metadata": {},
   "outputs": [
    {
     "data": {
      "text/plain": [
       "'C:\\\\Users\\\\chris\\\\Desktop\\\\210\\\\W210-Capstone'"
      ]
     },
     "execution_count": 2,
     "metadata": {},
     "output_type": "execute_result"
    }
   ],
   "source": [
    "os.getcwd()"
   ]
  },
  {
   "cell_type": "code",
   "execution_count": 3,
   "metadata": {},
   "outputs": [],
   "source": [
    "forecast = pd.read_csv(\"C:\\\\Users\\\\chris\\\\Desktop\\\\210\\\\W210-Capstone\\\\data\\\\RawData\\\\Individual_PRCCPI.csv\") "
   ]
  },
  {
   "cell_type": "code",
   "execution_count": 7,
   "metadata": {},
   "outputs": [],
   "source": [
    "# 2007 Quarter 1 to Present (2019 Quarter 2)\n",
    "# Current Year Forecasts\n",
    "f1 = forecast[forecast[\"YEAR\"] > 2006]\n",
    "f1 = f1[[\"YEAR\", \"QUARTER\", \"ID\", \"INDUSTRY\", \"PRCCPI1\", \"PRCCPI2\", \"PRCCPI3\", \"PRCCPI4\", \"PRCCPI5\", \"PRCCPI6\",\n",
    "         \"PRCCPI7\", \"PRCCPI8\", \"PRCCPI9\", \"PRCCPI10\"]]\n",
    "\n",
    "f1.rename({\"YEAR\":\"YEAR FORECAST MADE\"}, axis=1, inplace=True)\n",
    "f1[\"YEAR BEING FORECAST\"] = f1[\"YEAR FORECAST MADE\"]\n",
    "\n",
    "# 2007 Quarter 1 to Present (2019 Quarter 2)\n",
    "# Second Year Forecasts\n",
    "f2 = forecast[forecast[\"YEAR\"] > 2006]\n",
    "f2 = f2[[\"YEAR\", \"QUARTER\", \"ID\", \"INDUSTRY\", \"PRCCPI11\", \"PRCCPI12\", \"PRCCPI13\", \"PRCCPI14\", \"PRCCPI15\", \"PRCCPI16\",\n",
    "         \"PRCCPI17\", \"PRCCPI18\", \"PRCCPI19\", \"PRCCPI20\"]]\n",
    "\n",
    "f2.rename({\"PRCCPI11\":\"PRCCPI1\", \"PRCCPI12\":\"PRCCPI2\", \"PRCCPI13\":\"PRCCPI3\", \"PRCCPI14\":\"PRCCPI4\", \"PRCCPI15\":\"PRCCPI5\",\n",
    "           \"PRCCPI16\":\"PRCCPI6\", \"PRCCPI17\":\"PRCCPI7\", \"PRCCPI18\":\"PRCCPI8\", \"PRCCPI19\":\"PRCCPI9\", \"PRCCPI20\":\"PRCCPI110\",\n",
    "           \"YEAR\":\"YEAR FORECAST MADE\"}, axis=1, inplace=True)\n",
    "\n",
    "f2[\"YEAR BEING FORECAST\"] = f2[\"YEAR FORECAST MADE\"] + 1\n",
    "\n",
    "# Stack current and second year forecasts\n",
    "\n",
    "PRCCPI = pd.concat([f1, f2])\n",
    "\n",
    "PRCCPI[\"Year.ID.ForecastYear.Quarter\"] = PRCCPI[\"YEAR BEING FORECAST\"].astype(str) + \"-\" + PRCCPI[\n",
    "    \"ID\"].astype(str) + \"-\" + PRCCPI[\"YEAR FORECAST MADE\"].astype(str) + \"-\" + PRCCPI[\"QUARTER\"].astype(str)\n",
    "\n",
    "PRCCPI.rename({\"ID\":\"FORECASTER ID\", \"PRCCPI1\":\"BIN 1\", \"PRCCPI2\":\"BIN 2\", \"PRCCPI3\":\"BIN 3\", \"PRCCPI4\":\"BIN 4\",\n",
    "               \"PRCCPI5\":\"BIN 5\", \"PRCCPI6\":\"BIN 6\", \"PRCCPI7\":\"BIN 7\", \"PRCCPI8\":\"BIN 8\", \"PRCCPI9\":\"BIN 9\",\n",
    "               \"PRCCPI10\":\"BIN 10\"}, axis=1, inplace=True)\n",
    "\n",
    "PRCCPI[\"INDICATOR\"] = np.repeat(\"Core CPI\", len(PRCCPI))\n",
    "\n",
    "PRCCPI[\"TDIST\"] = PRCCPI[\"YEAR BEING FORECAST\"] + 1 - (PRCCPI[\"YEAR FORECAST MADE\"] + PRCCPI[\"QUARTER\"]/4)\n",
    "\n",
    "cols = [\"Year.ID.ForecastYear.Quarter\", \"YEAR FORECAST MADE\", \"YEAR BEING FORECAST\", \"QUARTER\", \"FORECASTER ID\",\n",
    "        \"INDUSTRY\", \"BIN 1\", \"BIN 2\", \"BIN 3\", \"BIN 4\", \"BIN 5\", \"BIN 6\", \"BIN 7\", \"BIN 8\", \"BIN 9\", \"BIN 10\",\n",
    "               \"INDICATOR\", \"TDIST\"]\n",
    "PRCCPI = PRCCPI[cols]"
   ]
  },
  {
   "cell_type": "code",
   "execution_count": 9,
   "metadata": {},
   "outputs": [],
   "source": [
    "PRCCPI.to_csv(\"./CCPI.csv\", index=False)"
   ]
  },
  {
   "cell_type": "code",
   "execution_count": null,
   "metadata": {},
   "outputs": [],
   "source": []
  }
 ],
 "metadata": {
  "kernelspec": {
   "display_name": "Python 3",
   "language": "python",
   "name": "python3"
  },
  "language_info": {
   "codemirror_mode": {
    "name": "ipython",
    "version": 3
   },
   "file_extension": ".py",
   "mimetype": "text/x-python",
   "name": "python",
   "nbconvert_exporter": "python",
   "pygments_lexer": "ipython3",
   "version": "3.9.1"
  }
 },
 "nbformat": 4,
 "nbformat_minor": 4
}
