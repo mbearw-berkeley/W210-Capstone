{
 "cells": [
  {
   "cell_type": "code",
   "execution_count": 5,
   "metadata": {},
   "outputs": [],
   "source": [
    "import pandas as pd\n",
    "import numpy as np\n",
    "\n",
    "forecast = pd.read_csv(\"../../data/RawData/ScrapedData/PRCPCE.csv\")\n",
    "\n",
    "# 2007 Quarter 1 to Present (2019 Quarter 2)\n",
    "# Current Year Forecasts\n",
    "f1 = forecast[forecast[\"YEAR\"] > 2006]\n",
    "f1 = f1[[\"YEAR\", \"QUARTER\", \"ID\", \"INDUSTRY\", \"PRCPCE1\", \"PRCPCE2\", \"PRCPCE3\", \"PRCPCE4\", \"PRCPCE5\", \"PRCPCE6\", \"PRCPCE7\",\n",
    "         \"PRCPCE8\", \"PRCPCE9\", \"PRCPCE10\"]]\n",
    "\n",
    "f1.rename({\"YEAR\":\"YEAR FORECAST MADE\"}, axis=1, inplace=True)\n",
    "\n",
    "f1[\"YEAR BEING FORECAST\"] = f1[\"YEAR FORECAST MADE\"]\n",
    "\n",
    "# 2007 Quarter 1 to Present (2019 Quarter 2)\n",
    "# Second Year Forecasts\n",
    "f2 = forecast[forecast[\"YEAR\"] > 2006]\n",
    "f2 = f2[[\"YEAR\", \"QUARTER\", \"ID\", \"INDUSTRY\", \"PRCPCE11\", \"PRCPCE12\", \"PRCPCE13\", \"PRCPCE14\", \"PRCPCE15\", \"PRCPCE16\",\n",
    "         \"PRCPCE17\", \"PRCPCE18\", \"PRCPCE19\", \"PRCPCE20\"]]\n",
    "\n",
    "f2.rename({\"PRCPCE11\":\"PRCPCE1\", \"PRCPCE12\":\"PRCPCE2\", \"PRCPCE13\":\"PRCPCE3\", \"PRCPCE14\":\"PRCPCE4\", \"PRCPCE15\":\"PRCPCE5\",\n",
    "           \"PRCPCE16\":\"PRCPCE6\", \"PRCPCE17\":\"PRCPCE7\", \"PRCPCE18\":\"PRCPCE8\", \"PRCPCE19\":\"PRCPCE9\",\n",
    "           \"PRCPCE20\":\"PRCPCE10\", \"YEAR\":\"YEAR FORECAST MADE\"}, axis=1, inplace=True)\n",
    "\n",
    "f2[\"YEAR BEING FORECAST\"] = f2[\"YEAR FORECAST MADE\"] + 1\n",
    "\n",
    "# Stack current and second year forecasts\n",
    "\n",
    "PRCPCE = pd.concat([f1, f2])\n",
    "\n",
    "PRCPCE[\"Year.ID.ForecastYear.Quarter\"] = PRCPCE[\"YEAR BEING FORECAST\"].astype(str) + \"-\" + PRCPCE[\n",
    "    \"ID\"].astype(str) + \"-\" + PRCPCE[\"YEAR FORECAST MADE\"].astype(str) + \"-\" + PRCPCE[\"QUARTER\"].astype(str)\n",
    "\n",
    "PRCPCE.rename({\"ID\":\"FORECASTER ID\", \"PRCPCE1\":\"BIN 1\", \"PRCPCE2\":\"BIN 2\", \"PRCPCE3\":\"BIN 3\", \"PRCPCE4\":\"BIN 4\",\n",
    "               \"PRCPCE5\":\"BIN 5\", \"PRCPCE6\":\"BIN 6\", \"PRCPCE7\":\"BIN 7\", \"PRCPCE8\":\"BIN 8\", \"PRCPCE9\":\"BIN 9\",\n",
    "               \"PRCPCE10\":\"BIN 10\"}, axis=1, inplace=True)\n",
    "\n",
    "PRCPCE[\"INDICATOR\"] = np.repeat(\"Core PCE\", len(PRCPCE))\n",
    "\n",
    "PRCPCE[\"TDIST\"] = PRCPCE[\"YEAR BEING FORECAST\"] + 1 - (PRCPCE[\"YEAR FORECAST MADE\"] + PRCPCE[\"QUARTER\"]/4)\n",
    "\n",
    "cols = [\"Year.ID.ForecastYear.Quarter\", \"YEAR FORECAST MADE\", \"YEAR BEING FORECAST\", \"QUARTER\", \"FORECASTER ID\",\n",
    "        \"INDUSTRY\", \"BIN 1\", \"BIN 2\", \"BIN 3\", \"BIN 4\", \"BIN 5\", \"BIN 6\", \"BIN 7\", \"BIN 8\", \"BIN 9\", \"BIN 10\",\n",
    "               \"INDICATOR\", \"TDIST\"]\n",
    "PRCPCE = PRCPCE[cols]\n",
    "\n",
    "PRCPCE.to_csv(\"../../data/CleanData/Python/CPCE.csv\", index=False)"
   ]
  }
 ],
 "metadata": {
  "kernelspec": {
   "display_name": "Python 3 (ipykernel)",
   "language": "python",
   "name": "python3"
  },
  "language_info": {
   "codemirror_mode": {
    "name": "ipython",
    "version": 3
   },
   "file_extension": ".py",
   "mimetype": "text/x-python",
   "name": "python",
   "nbconvert_exporter": "python",
   "pygments_lexer": "ipython3",
   "version": "3.8.6"
  }
 },
 "nbformat": 4,
 "nbformat_minor": 4
}
