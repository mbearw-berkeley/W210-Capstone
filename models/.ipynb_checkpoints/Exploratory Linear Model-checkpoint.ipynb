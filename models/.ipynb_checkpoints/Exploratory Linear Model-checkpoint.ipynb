{
 "cells": [
  {
   "cell_type": "code",
   "execution_count": 1,
   "metadata": {},
   "outputs": [],
   "source": [
    "import pandas as pd\n",
    "from sklearn.linear_model import LinearRegression\n",
    "import numpy as np\n",
    "import matplotlib.pyplot as plt"
   ]
  },
  {
   "cell_type": "code",
   "execution_count": 5,
   "metadata": {},
   "outputs": [],
   "source": [
    "train = pd.read_csv('../data/training.csv')"
   ]
  },
  {
   "cell_type": "code",
   "execution_count": 6,
   "metadata": {},
   "outputs": [
    {
     "data": {
      "text/html": [
       "<div>\n",
       "<style scoped>\n",
       "    .dataframe tbody tr th:only-of-type {\n",
       "        vertical-align: middle;\n",
       "    }\n",
       "\n",
       "    .dataframe tbody tr th {\n",
       "        vertical-align: top;\n",
       "    }\n",
       "\n",
       "    .dataframe thead th {\n",
       "        text-align: right;\n",
       "    }\n",
       "</style>\n",
       "<table border=\"1\" class=\"dataframe\">\n",
       "  <thead>\n",
       "    <tr style=\"text-align: right;\">\n",
       "      <th></th>\n",
       "      <th>YEAR FORECAST MADE</th>\n",
       "      <th>QUARTER</th>\n",
       "      <th>YEAR BEING FORECAST</th>\n",
       "      <th>INDICATOR</th>\n",
       "      <th>FORECASTER ID</th>\n",
       "      <th>INDUSTRY</th>\n",
       "      <th>Year.ID.ForecastYear.Quarter</th>\n",
       "      <th>Indicator.Year.ID.ForecastYear.Quarter</th>\n",
       "      <th>BIN 1</th>\n",
       "      <th>BIN 2</th>\n",
       "      <th>...</th>\n",
       "      <th>bin_value_sum</th>\n",
       "      <th>TDIST</th>\n",
       "      <th>actual</th>\n",
       "      <th>ACTUAL_BIN</th>\n",
       "      <th>MAX</th>\n",
       "      <th>NUM_OF_MAX</th>\n",
       "      <th>ACTUAL_CONF</th>\n",
       "      <th>HIT</th>\n",
       "      <th>pred_average</th>\n",
       "      <th>pred_var</th>\n",
       "    </tr>\n",
       "  </thead>\n",
       "  <tbody>\n",
       "    <tr>\n",
       "      <th>0</th>\n",
       "      <td>1968</td>\n",
       "      <td>4</td>\n",
       "      <td>1968</td>\n",
       "      <td>NominalGNP</td>\n",
       "      <td>32</td>\n",
       "      <td>NaN</td>\n",
       "      <td>1968-32-1968-4</td>\n",
       "      <td>NominalGNP-1968-32-1968-4</td>\n",
       "      <td>0.0</td>\n",
       "      <td>0.0</td>\n",
       "      <td>...</td>\n",
       "      <td>100.0</td>\n",
       "      <td>0.0</td>\n",
       "      <td>9.40449</td>\n",
       "      <td>2.0</td>\n",
       "      <td>0.50</td>\n",
       "      <td>1.0</td>\n",
       "      <td>0.00</td>\n",
       "      <td>0.0</td>\n",
       "      <td>6.65</td>\n",
       "      <td>0.6275</td>\n",
       "    </tr>\n",
       "    <tr>\n",
       "      <th>1</th>\n",
       "      <td>1968</td>\n",
       "      <td>4</td>\n",
       "      <td>1968</td>\n",
       "      <td>NominalGNP</td>\n",
       "      <td>77</td>\n",
       "      <td>NaN</td>\n",
       "      <td>1968-77-1968-4</td>\n",
       "      <td>NominalGNP-1968-77-1968-4</td>\n",
       "      <td>15.0</td>\n",
       "      <td>6.0</td>\n",
       "      <td>...</td>\n",
       "      <td>100.0</td>\n",
       "      <td>0.0</td>\n",
       "      <td>9.40449</td>\n",
       "      <td>2.0</td>\n",
       "      <td>0.15</td>\n",
       "      <td>1.0</td>\n",
       "      <td>0.06</td>\n",
       "      <td>0.0</td>\n",
       "      <td>5.41</td>\n",
       "      <td>13.2419</td>\n",
       "    </tr>\n",
       "    <tr>\n",
       "      <th>2</th>\n",
       "      <td>1968</td>\n",
       "      <td>4</td>\n",
       "      <td>1968</td>\n",
       "      <td>NominalGNP</td>\n",
       "      <td>37</td>\n",
       "      <td>NaN</td>\n",
       "      <td>1968-37-1968-4</td>\n",
       "      <td>NominalGNP-1968-37-1968-4</td>\n",
       "      <td>0.0</td>\n",
       "      <td>1.0</td>\n",
       "      <td>...</td>\n",
       "      <td>100.0</td>\n",
       "      <td>0.0</td>\n",
       "      <td>9.40449</td>\n",
       "      <td>2.0</td>\n",
       "      <td>0.25</td>\n",
       "      <td>1.0</td>\n",
       "      <td>0.01</td>\n",
       "      <td>0.0</td>\n",
       "      <td>2.89</td>\n",
       "      <td>4.3579</td>\n",
       "    </tr>\n",
       "    <tr>\n",
       "      <th>3</th>\n",
       "      <td>1968</td>\n",
       "      <td>4</td>\n",
       "      <td>1968</td>\n",
       "      <td>NominalGNP</td>\n",
       "      <td>53</td>\n",
       "      <td>NaN</td>\n",
       "      <td>1968-53-1968-4</td>\n",
       "      <td>NominalGNP-1968-53-1968-4</td>\n",
       "      <td>5.0</td>\n",
       "      <td>10.0</td>\n",
       "      <td>...</td>\n",
       "      <td>100.0</td>\n",
       "      <td>0.0</td>\n",
       "      <td>9.40449</td>\n",
       "      <td>2.0</td>\n",
       "      <td>0.40</td>\n",
       "      <td>1.0</td>\n",
       "      <td>0.10</td>\n",
       "      <td>0.0</td>\n",
       "      <td>7.50</td>\n",
       "      <td>2.0000</td>\n",
       "    </tr>\n",
       "    <tr>\n",
       "      <th>4</th>\n",
       "      <td>1968</td>\n",
       "      <td>4</td>\n",
       "      <td>1968</td>\n",
       "      <td>NominalGNP</td>\n",
       "      <td>66</td>\n",
       "      <td>NaN</td>\n",
       "      <td>1968-66-1968-4</td>\n",
       "      <td>NominalGNP-1968-66-1968-4</td>\n",
       "      <td>0.0</td>\n",
       "      <td>0.0</td>\n",
       "      <td>...</td>\n",
       "      <td>100.0</td>\n",
       "      <td>0.0</td>\n",
       "      <td>9.40449</td>\n",
       "      <td>2.0</td>\n",
       "      <td>0.95</td>\n",
       "      <td>1.0</td>\n",
       "      <td>0.00</td>\n",
       "      <td>0.0</td>\n",
       "      <td>7.51</td>\n",
       "      <td>0.0499</td>\n",
       "    </tr>\n",
       "  </tbody>\n",
       "</table>\n",
       "<p>5 rows × 64 columns</p>\n",
       "</div>"
      ],
      "text/plain": [
       "   YEAR FORECAST MADE  QUARTER  YEAR BEING FORECAST   INDICATOR  \\\n",
       "0                1968        4                 1968  NominalGNP   \n",
       "1                1968        4                 1968  NominalGNP   \n",
       "2                1968        4                 1968  NominalGNP   \n",
       "3                1968        4                 1968  NominalGNP   \n",
       "4                1968        4                 1968  NominalGNP   \n",
       "\n",
       "   FORECASTER ID  INDUSTRY Year.ID.ForecastYear.Quarter  \\\n",
       "0             32       NaN               1968-32-1968-4   \n",
       "1             77       NaN               1968-77-1968-4   \n",
       "2             37       NaN               1968-37-1968-4   \n",
       "3             53       NaN               1968-53-1968-4   \n",
       "4             66       NaN               1968-66-1968-4   \n",
       "\n",
       "  Indicator.Year.ID.ForecastYear.Quarter  BIN 1  BIN 2  ...  bin_value_sum  \\\n",
       "0              NominalGNP-1968-32-1968-4    0.0    0.0  ...          100.0   \n",
       "1              NominalGNP-1968-77-1968-4   15.0    6.0  ...          100.0   \n",
       "2              NominalGNP-1968-37-1968-4    0.0    1.0  ...          100.0   \n",
       "3              NominalGNP-1968-53-1968-4    5.0   10.0  ...          100.0   \n",
       "4              NominalGNP-1968-66-1968-4    0.0    0.0  ...          100.0   \n",
       "\n",
       "   TDIST   actual  ACTUAL_BIN   MAX  NUM_OF_MAX  ACTUAL_CONF  HIT  \\\n",
       "0    0.0  9.40449         2.0  0.50         1.0         0.00  0.0   \n",
       "1    0.0  9.40449         2.0  0.15         1.0         0.06  0.0   \n",
       "2    0.0  9.40449         2.0  0.25         1.0         0.01  0.0   \n",
       "3    0.0  9.40449         2.0  0.40         1.0         0.10  0.0   \n",
       "4    0.0  9.40449         2.0  0.95         1.0         0.00  0.0   \n",
       "\n",
       "   pred_average  pred_var  \n",
       "0          6.65    0.6275  \n",
       "1          5.41   13.2419  \n",
       "2          2.89    4.3579  \n",
       "3          7.50    2.0000  \n",
       "4          7.51    0.0499  \n",
       "\n",
       "[5 rows x 64 columns]"
      ]
     },
     "execution_count": 6,
     "metadata": {},
     "output_type": "execute_result"
    }
   ],
   "source": [
    "train.head()"
   ]
  },
  {
   "cell_type": "code",
   "execution_count": 69,
   "metadata": {},
   "outputs": [
    {
     "data": {
      "text/plain": [
       "Index(['YEAR FORECAST MADE', 'QUARTER', 'YEAR BEING FORECAST', 'INDICATOR',\n",
       "       'FORECASTER ID', 'INDUSTRY', 'Year.ID.ForecastYear.Quarter',\n",
       "       'Indicator.Year.ID.ForecastYear.Quarter', 'BIN 1', 'BIN 2', 'BIN 3',\n",
       "       'BIN 4', 'BIN 5', 'BIN 6', 'BIN 7', 'BIN 8', 'BIN 9', 'BIN 10',\n",
       "       'BIN 11', 'BIN 12', 'BIN 13', 'BIN 14', 'BIN 15', 'BIN 1 prob',\n",
       "       'BIN 2 prob', 'BIN 3 prob', 'BIN 4 prob', 'BIN 5 prob', 'BIN 6 prob',\n",
       "       'BIN 7 prob', 'BIN 8 prob', 'BIN 9 prob', 'BIN 10 prob', 'BIN 11 prob',\n",
       "       'BIN 12 prob', 'BIN 13 prob', 'BIN 14 prob', 'BIN 15 prob',\n",
       "       'BIN 1 midpoint', 'BIN 2 midpoint', 'BIN 3 midpoint', 'BIN 4 midpoint',\n",
       "       'BIN 5 midpoint', 'BIN 6 midpoint', 'BIN 7 midpoint', 'BIN 8 midpoint',\n",
       "       'BIN 9 midpoint', 'BIN 10 midpoint', 'BIN 11 midpoint',\n",
       "       'BIN 12 midpoint', 'BIN 13 midpoint', 'BIN 14 midpoint',\n",
       "       'BIN 15 midpoint', 'nbin', 'bin_value_sum', 'TDIST', 'actual',\n",
       "       'ACTUAL_BIN', 'MAX', 'NUM_OF_MAX', 'ACTUAL_CONF', 'HIT', 'pred_average',\n",
       "       'pred_var'],\n",
       "      dtype='object')"
      ]
     },
     "execution_count": 69,
     "metadata": {},
     "output_type": "execute_result"
    }
   ],
   "source": [
    "train.columns"
   ]
  },
  {
   "cell_type": "code",
   "execution_count": 70,
   "metadata": {},
   "outputs": [],
   "source": [
    "unemp = train[train['INDICATOR'] == \"Unemployment\"] #only look at unemployment for now"
   ]
  },
  {
   "cell_type": "code",
   "execution_count": 71,
   "metadata": {},
   "outputs": [
    {
     "data": {
      "text/html": [
       "<div>\n",
       "<style scoped>\n",
       "    .dataframe tbody tr th:only-of-type {\n",
       "        vertical-align: middle;\n",
       "    }\n",
       "\n",
       "    .dataframe tbody tr th {\n",
       "        vertical-align: top;\n",
       "    }\n",
       "\n",
       "    .dataframe thead th {\n",
       "        text-align: right;\n",
       "    }\n",
       "</style>\n",
       "<table border=\"1\" class=\"dataframe\">\n",
       "  <thead>\n",
       "    <tr style=\"text-align: right;\">\n",
       "      <th></th>\n",
       "      <th>YEAR FORECAST MADE</th>\n",
       "      <th>QUARTER</th>\n",
       "      <th>YEAR BEING FORECAST</th>\n",
       "      <th>INDICATOR</th>\n",
       "      <th>FORECASTER ID</th>\n",
       "      <th>INDUSTRY</th>\n",
       "      <th>Year.ID.ForecastYear.Quarter</th>\n",
       "      <th>Indicator.Year.ID.ForecastYear.Quarter</th>\n",
       "      <th>BIN 1</th>\n",
       "      <th>BIN 2</th>\n",
       "      <th>...</th>\n",
       "      <th>bin_value_sum</th>\n",
       "      <th>TDIST</th>\n",
       "      <th>actual</th>\n",
       "      <th>ACTUAL_BIN</th>\n",
       "      <th>MAX</th>\n",
       "      <th>NUM_OF_MAX</th>\n",
       "      <th>ACTUAL_CONF</th>\n",
       "      <th>HIT</th>\n",
       "      <th>pred_average</th>\n",
       "      <th>pred_var</th>\n",
       "    </tr>\n",
       "  </thead>\n",
       "  <tbody>\n",
       "    <tr>\n",
       "      <th>6155</th>\n",
       "      <td>2009</td>\n",
       "      <td>2</td>\n",
       "      <td>2009</td>\n",
       "      <td>Unemployment</td>\n",
       "      <td>527</td>\n",
       "      <td>2.0</td>\n",
       "      <td>2009-527-2009-2</td>\n",
       "      <td>Unemployment-2009-527-2009-2</td>\n",
       "      <td>0.0</td>\n",
       "      <td>0.0</td>\n",
       "      <td>...</td>\n",
       "      <td>100.0</td>\n",
       "      <td>0.5</td>\n",
       "      <td>9.283333</td>\n",
       "      <td>4.0</td>\n",
       "      <td>0.60</td>\n",
       "      <td>1.0</td>\n",
       "      <td>0.60</td>\n",
       "      <td>1.0</td>\n",
       "      <td>9.4500</td>\n",
       "      <td>0.060000</td>\n",
       "    </tr>\n",
       "    <tr>\n",
       "      <th>6156</th>\n",
       "      <td>2009</td>\n",
       "      <td>2</td>\n",
       "      <td>2009</td>\n",
       "      <td>Unemployment</td>\n",
       "      <td>540</td>\n",
       "      <td>2.0</td>\n",
       "      <td>2009-540-2009-2</td>\n",
       "      <td>Unemployment-2009-540-2009-2</td>\n",
       "      <td>0.0</td>\n",
       "      <td>0.0</td>\n",
       "      <td>...</td>\n",
       "      <td>100.0</td>\n",
       "      <td>0.5</td>\n",
       "      <td>9.283333</td>\n",
       "      <td>4.0</td>\n",
       "      <td>0.40</td>\n",
       "      <td>2.0</td>\n",
       "      <td>0.40</td>\n",
       "      <td>0.5</td>\n",
       "      <td>8.8500</td>\n",
       "      <td>0.140000</td>\n",
       "    </tr>\n",
       "    <tr>\n",
       "      <th>6157</th>\n",
       "      <td>2009</td>\n",
       "      <td>2</td>\n",
       "      <td>2009</td>\n",
       "      <td>Unemployment</td>\n",
       "      <td>549</td>\n",
       "      <td>1.0</td>\n",
       "      <td>2009-549-2009-2</td>\n",
       "      <td>Unemployment-2009-549-2009-2</td>\n",
       "      <td>0.0</td>\n",
       "      <td>0.0</td>\n",
       "      <td>...</td>\n",
       "      <td>100.0</td>\n",
       "      <td>0.5</td>\n",
       "      <td>9.283333</td>\n",
       "      <td>4.0</td>\n",
       "      <td>0.55</td>\n",
       "      <td>1.0</td>\n",
       "      <td>0.55</td>\n",
       "      <td>1.0</td>\n",
       "      <td>9.4750</td>\n",
       "      <td>0.061875</td>\n",
       "    </tr>\n",
       "    <tr>\n",
       "      <th>6158</th>\n",
       "      <td>2009</td>\n",
       "      <td>2</td>\n",
       "      <td>2009</td>\n",
       "      <td>Unemployment</td>\n",
       "      <td>484</td>\n",
       "      <td>2.0</td>\n",
       "      <td>2009-484-2009-2</td>\n",
       "      <td>Unemployment-2009-484-2009-2</td>\n",
       "      <td>3.0</td>\n",
       "      <td>12.0</td>\n",
       "      <td>...</td>\n",
       "      <td>100.0</td>\n",
       "      <td>0.5</td>\n",
       "      <td>9.283333</td>\n",
       "      <td>4.0</td>\n",
       "      <td>0.27</td>\n",
       "      <td>1.0</td>\n",
       "      <td>0.27</td>\n",
       "      <td>1.0</td>\n",
       "      <td>9.2725</td>\n",
       "      <td>0.656369</td>\n",
       "    </tr>\n",
       "    <tr>\n",
       "      <th>6159</th>\n",
       "      <td>2009</td>\n",
       "      <td>2</td>\n",
       "      <td>2009</td>\n",
       "      <td>Unemployment</td>\n",
       "      <td>553</td>\n",
       "      <td>2.0</td>\n",
       "      <td>2009-553-2009-2</td>\n",
       "      <td>Unemployment-2009-553-2009-2</td>\n",
       "      <td>0.0</td>\n",
       "      <td>10.0</td>\n",
       "      <td>...</td>\n",
       "      <td>100.0</td>\n",
       "      <td>0.5</td>\n",
       "      <td>9.283333</td>\n",
       "      <td>4.0</td>\n",
       "      <td>0.45</td>\n",
       "      <td>1.0</td>\n",
       "      <td>0.40</td>\n",
       "      <td>0.0</td>\n",
       "      <td>9.5750</td>\n",
       "      <td>0.175625</td>\n",
       "    </tr>\n",
       "  </tbody>\n",
       "</table>\n",
       "<p>5 rows × 64 columns</p>\n",
       "</div>"
      ],
      "text/plain": [
       "      YEAR FORECAST MADE  QUARTER  YEAR BEING FORECAST     INDICATOR  \\\n",
       "6155                2009        2                 2009  Unemployment   \n",
       "6156                2009        2                 2009  Unemployment   \n",
       "6157                2009        2                 2009  Unemployment   \n",
       "6158                2009        2                 2009  Unemployment   \n",
       "6159                2009        2                 2009  Unemployment   \n",
       "\n",
       "      FORECASTER ID  INDUSTRY Year.ID.ForecastYear.Quarter  \\\n",
       "6155            527       2.0              2009-527-2009-2   \n",
       "6156            540       2.0              2009-540-2009-2   \n",
       "6157            549       1.0              2009-549-2009-2   \n",
       "6158            484       2.0              2009-484-2009-2   \n",
       "6159            553       2.0              2009-553-2009-2   \n",
       "\n",
       "     Indicator.Year.ID.ForecastYear.Quarter  BIN 1  BIN 2  ...  bin_value_sum  \\\n",
       "6155           Unemployment-2009-527-2009-2    0.0    0.0  ...          100.0   \n",
       "6156           Unemployment-2009-540-2009-2    0.0    0.0  ...          100.0   \n",
       "6157           Unemployment-2009-549-2009-2    0.0    0.0  ...          100.0   \n",
       "6158           Unemployment-2009-484-2009-2    3.0   12.0  ...          100.0   \n",
       "6159           Unemployment-2009-553-2009-2    0.0   10.0  ...          100.0   \n",
       "\n",
       "      TDIST    actual  ACTUAL_BIN   MAX  NUM_OF_MAX  ACTUAL_CONF  HIT  \\\n",
       "6155    0.5  9.283333         4.0  0.60         1.0         0.60  1.0   \n",
       "6156    0.5  9.283333         4.0  0.40         2.0         0.40  0.5   \n",
       "6157    0.5  9.283333         4.0  0.55         1.0         0.55  1.0   \n",
       "6158    0.5  9.283333         4.0  0.27         1.0         0.27  1.0   \n",
       "6159    0.5  9.283333         4.0  0.45         1.0         0.40  0.0   \n",
       "\n",
       "      pred_average  pred_var  \n",
       "6155        9.4500  0.060000  \n",
       "6156        8.8500  0.140000  \n",
       "6157        9.4750  0.061875  \n",
       "6158        9.2725  0.656369  \n",
       "6159        9.5750  0.175625  \n",
       "\n",
       "[5 rows x 64 columns]"
      ]
     },
     "execution_count": 71,
     "metadata": {},
     "output_type": "execute_result"
    }
   ],
   "source": [
    "unemp.head()"
   ]
  },
  {
   "cell_type": "code",
   "execution_count": 72,
   "metadata": {},
   "outputs": [
    {
     "data": {
      "text/plain": [
       "0.5000    393\n",
       "0.4000    286\n",
       "0.6000    225\n",
       "0.3500    154\n",
       "0.4500    146\n",
       "         ... \n",
       "0.2827      1\n",
       "0.4680      1\n",
       "0.4634      1\n",
       "0.2200      1\n",
       "0.9992      1\n",
       "Name: MAX, Length: 202, dtype: int64"
      ]
     },
     "execution_count": 72,
     "metadata": {},
     "output_type": "execute_result"
    }
   ],
   "source": [
    "unemp['MAX'].value_counts() #their highest confidence in their prediction for unemployment rate"
   ]
  },
  {
   "cell_type": "code",
   "execution_count": 73,
   "metadata": {},
   "outputs": [
    {
     "data": {
      "text/plain": [
       "0.000000    1271\n",
       "1.000000     713\n",
       "0.500000     143\n",
       "0.333333       9\n",
       "0.250000       2\n",
       "0.200000       1\n",
       "Name: HIT, dtype: int64"
      ]
     },
     "execution_count": 73,
     "metadata": {},
     "output_type": "execute_result"
    }
   ],
   "source": [
    "unemp['HIT'].value_counts() #how many times they were accurate"
   ]
  },
  {
   "cell_type": "code",
   "execution_count": 182,
   "metadata": {},
   "outputs": [],
   "source": [
    "np.random.seed(0)\n",
    "unemp_rand = unemp.sample(frac = 1)\n",
    "#80/20 split\n",
    "train = unemp_rand[:2704]\n",
    "val = unemp_rand[2704:]\n",
    "\n",
    "#filling na with 0 bc they replaced 0s with na in the original R code but we should definitely look into this more\n",
    "train = train.fillna(0)\n",
    "val = val.fillna(0)\n",
    "\n",
    "X_train, Y_train = train[[\"FORECASTER ID\", \"INDUSTRY\", \"MAX\", \"pred_average\", \"pred_var\", \"HIT\"]], train[[\"actual\"]]\n",
    "X_val, Y_val = val[[\"FORECASTER ID\", \"INDUSTRY\", \"MAX\", \"pred_average\", \"pred_var\", \"HIT\"]], val[[\"actual\"]]"
   ]
  },
  {
   "cell_type": "code",
   "execution_count": 184,
   "metadata": {},
   "outputs": [],
   "source": [
    "lr = LinearRegression()\n",
    "fitted = lr.fit(X_train, Y_train)\n",
    "pred = fitted.predict(X_val)\n",
    "pred = pred.flatten()"
   ]
  },
  {
   "cell_type": "code",
   "execution_count": 186,
   "metadata": {},
   "outputs": [
    {
     "name": "stdout",
     "output_type": "stream",
     "text": [
      "Differences in actual unemployment rate vs. model prediction\n",
      "Mean: -0.11313845729614412\n",
      "Median: -0.04941656910178516\n",
      "Max: 5.980928386245965\n",
      "Min: -4.924484858853711\n"
     ]
    }
   ],
   "source": [
    "diffs = np.subtract(np.array(Y_val['actual'].tolist()), pred)\n",
    "print(\"Differences in actual unemployment rate vs. model prediction\")\n",
    "print(\"Mean: \" + str(np.mean(diffs)))\n",
    "print(\"Median: \" + str(np.median(diffs)))\n",
    "print(\"Max: \" + str(max(diffs)))\n",
    "print(\"Min: \" + str(min(diffs)))"
   ]
  },
  {
   "cell_type": "code",
   "execution_count": 187,
   "metadata": {},
   "outputs": [
    {
     "data": {
      "image/png": "[encoded data removed]",
      "text/plain": [
       "<Figure size 432x288 with 1 Axes>"
      ]
     },
     "metadata": {
      "needs_background": "light"
     },
     "output_type": "display_data"
    }
   ],
   "source": [
    "plt.hist(diffs)\n",
    "plt.title(\"Actual Unemployment Rate minus Model Prediction\")\n",
    "plt.show()"
   ]
  },
  {
   "cell_type": "code",
   "execution_count": 188,
   "metadata": {},
   "outputs": [
    {
     "name": "stdout",
     "output_type": "stream",
     "text": [
      "Differences in actual unemployment rate vs. forecaster average prediction\n",
      "Mean: 0.08545953981755335\n",
      "Median: -0.375\n",
      "Max: 9.60833333333333\n",
      "Min: -6.0753\n"
     ]
    }
   ],
   "source": [
    "actual_diffs = np.subtract(np.array(Y_val['actual'].tolist()), np.array(X_val['pred_average'].tolist()))\n",
    "print(\"Differences in actual unemployment rate vs. forecaster average prediction\")\n",
    "print(\"Mean: \" + str(np.mean(actual_diffs)))\n",
    "print(\"Median: \" + str(np.median(actual_diffs)))\n",
    "print(\"Max: \" + str(max(actual_diffs)))\n",
    "print(\"Min: \" + str(min(actual_diffs)))"
   ]
  },
  {
   "cell_type": "code",
   "execution_count": 189,
   "metadata": {},
   "outputs": [
    {
     "data": {
      "image/png": "[encoded data removed]",
      "text/plain": [
       "<Figure size 432x288 with 1 Axes>"
      ]
     },
     "metadata": {
      "needs_background": "light"
     },
     "output_type": "display_data"
    }
   ],
   "source": [
    "plt.hist(actual_diffs)\n",
    "plt.title(\"Actual Unemployment Rate minus Forecaster Average Prediction\")\n",
    "plt.show()"
   ]
  },
  {
   "cell_type": "code",
   "execution_count": null,
   "metadata": {},
   "outputs": [],
   "source": []
  }
 ],
 "metadata": {
  "kernelspec": {
   "display_name": "Python 3",
   "language": "python",
   "name": "python3"
  },
  "language_info": {
   "codemirror_mode": {
    "name": "ipython",
    "version": 3
   },
   "file_extension": ".py",
   "mimetype": "text/x-python",
   "name": "python",
   "nbconvert_exporter": "python",
   "pygments_lexer": "ipython3",
   "version": "3.8.6"
  }
 },
 "nbformat": 4,
 "nbformat_minor": 4
}
