{
 "cells": [
  {
   "cell_type": "code",
   "execution_count": 104,
   "id": "contrary-summer",
   "metadata": {},
   "outputs": [],
   "source": [
    "import pandas as pd\n",
    "from sklearn.metrics import r2_score\n",
    "from sklearn.base import clone\n",
    "import numpy as np\n",
    "import matplotlib.pyplot as plt\n",
    "import os\n",
    "import seaborn as sns\n",
    "from sklearn.model_selection import train_test_split,GridSearchCV\n",
    "from sklearn.linear_model import LinearRegression\n",
    "from sklearn.ensemble import RandomForestRegressor\n",
    "from xgboost import XGBRegressor\n",
    "from sklearn.neighbors import KNeighborsRegressor"
   ]
  },
  {
   "cell_type": "markdown",
   "id": "straight-bleeding",
   "metadata": {},
   "source": [
    "# RUN MODELS\n",
    "\n",
    "### This notebook serves as a one stop shop for our models. Get all evaluation metrics in one place. "
   ]
  },
  {
   "cell_type": "markdown",
   "id": "unknown-christmas",
   "metadata": {},
   "source": [
    "# Import Data\n",
    "\n",
    "Current Training Data includes SPF survey responses and price for specific items\n"
   ]
  },
  {
   "cell_type": "code",
   "execution_count": 9,
   "id": "amended-consumer",
   "metadata": {
    "scrolled": false
   },
   "outputs": [
    {
     "data": {
      "text/plain": [
       "Index(['YEAR FORECAST MADE', 'QUARTER', 'YEAR BEING FORECAST', 'INDICATOR',\n",
       "       'FORECASTER ID', 'INDUSTRY', 'Year.ID.ForecastYear.Quarter',\n",
       "       'Indicator.Year.ID.ForecastYear.Quarter', 'BIN 1', 'BIN 2', 'BIN 3',\n",
       "       'BIN 4', 'BIN 5', 'BIN 6', 'BIN 7', 'BIN 8', 'BIN 9', 'BIN 10',\n",
       "       'BIN 11', 'BIN 1 prob', 'BIN 2 prob', 'BIN 3 prob', 'BIN 4 prob',\n",
       "       'BIN 5 prob', 'BIN 6 prob', 'BIN 7 prob', 'BIN 8 prob', 'BIN 9 prob',\n",
       "       'BIN 10 prob', 'BIN 11 prob', 'BIN 1 midpoint', 'BIN 2 midpoint',\n",
       "       'BIN 3 midpoint', 'BIN 4 midpoint', 'BIN 5 midpoint', 'BIN 6 midpoint',\n",
       "       'BIN 7 midpoint', 'BIN 8 midpoint', 'BIN 9 midpoint', 'BIN 10 midpoint',\n",
       "       'BIN 11 midpoint', 'nbin', 'bin_value_sum', 'TDIST', 'actual',\n",
       "       'ACTUAL_BIN', 'MAX', 'NUM_OF_MAX', 'ACTUAL_CONF', 'HIT', 'pred_average',\n",
       "       'pred_var', 'banana', 'beef', 'bread', 'chicken', 'coffee', 'eggs',\n",
       "       'electricity', 'flour', 'iceCream', 'rice', 'unleadedGasoline'],\n",
       "      dtype='object')"
      ]
     },
     "execution_count": 9,
     "metadata": {},
     "output_type": "execute_result"
    }
   ],
   "source": [
    "data = pd.read_csv(\"../data/TrainingData/trainingWithItems.csv\")#,index_col=0) \n",
    "data.head()\n",
    "data.columns"
   ]
  },
  {
   "cell_type": "markdown",
   "id": "expired-train",
   "metadata": {},
   "source": [
    "\n",
    "# Train Val Test Split (0.6,0.2,0.2)\n",
    "\n",
    "## And save as csv (actually do we really need to)"
   ]
  },
  {
   "cell_type": "code",
   "execution_count": 5,
   "id": "cubic-applicant",
   "metadata": {
    "scrolled": false
   },
   "outputs": [],
   "source": [
    "relevant=data[data[\"YEAR FORECAST MADE\"]>=1984].drop(columns = ['YEAR FORECAST MADE', 'QUARTER', 'INDUSTRY', 'Year.ID.ForecastYear.Quarter',\n",
    "       'Indicator.Year.ID.ForecastYear.Quarter', 'BIN 1', 'BIN 2', 'BIN 3',\n",
    "       'BIN 4', 'BIN 5', 'BIN 6', 'BIN 7', 'BIN 8', 'BIN 9', 'BIN 10',\n",
    "       'BIN 11', 'BIN 1 prob',\n",
    "       'BIN 2 prob', 'BIN 3 prob', 'BIN 4 prob', 'BIN 5 prob', 'BIN 6 prob',\n",
    "       'BIN 7 prob', 'BIN 8 prob', 'BIN 9 prob', 'BIN 10 prob', 'BIN 11 prob',\n",
    "       'BIN 1 midpoint', 'BIN 2 midpoint', 'BIN 3 midpoint', 'BIN 4 midpoint',\n",
    "       'BIN 5 midpoint', 'BIN 6 midpoint', 'BIN 7 midpoint', 'BIN 8 midpoint',\n",
    "       'BIN 9 midpoint', 'BIN 10 midpoint', 'BIN 11 midpoint','nbin', 'bin_value_sum', 'TDIST',\n",
    "       'ACTUAL_BIN', 'NUM_OF_MAX',\"FORECASTER ID\"])\n",
    "relevant.dropna(inplace=True)"
   ]
  },
  {
   "cell_type": "code",
   "execution_count": 10,
   "id": "intensive-concrete",
   "metadata": {},
   "outputs": [],
   "source": [
    "relevant = data[data[\"YEAR FORECAST MADE\"]>=1992][['YEAR BEING FORECAST', 'INDICATOR', 'actual', 'MAX', 'ACTUAL_CONF',\n",
    "       'HIT', 'pred_average', 'pred_var', 'banana', 'beef', 'bread', 'chicken',\n",
    "       'coffee', 'eggs', 'electricity', 'flour', 'iceCream', 'rice',\n",
    "       'unleadedGasoline']]"
   ]
  },
  {
   "cell_type": "code",
   "execution_count": 11,
   "id": "intended-university",
   "metadata": {},
   "outputs": [
    {
     "data": {
      "text/plain": [
       "Index(['YEAR BEING FORECAST', 'INDICATOR', 'actual', 'MAX', 'ACTUAL_CONF',\n",
       "       'HIT', 'pred_average', 'pred_var', 'banana', 'beef', 'bread', 'chicken',\n",
       "       'coffee', 'eggs', 'electricity', 'flour', 'iceCream', 'rice',\n",
       "       'unleadedGasoline'],\n",
       "      dtype='object')"
      ]
     },
     "execution_count": 11,
     "metadata": {},
     "output_type": "execute_result"
    }
   ],
   "source": [
    "relevant.columns"
   ]
  },
  {
   "cell_type": "code",
   "execution_count": 12,
   "id": "million-window",
   "metadata": {},
   "outputs": [],
   "source": [
    "train,test = train_test_split(relevant,test_size=.2,random_state=42,stratify=relevant[\"INDICATOR\"])"
   ]
  },
  {
   "cell_type": "code",
   "execution_count": 13,
   "id": "variable-rubber",
   "metadata": {},
   "outputs": [],
   "source": [
    "train,val = train_test_split(train,test_size=0.25, random_state=42,stratify = train[\"INDICATOR\"])"
   ]
  },
  {
   "cell_type": "code",
   "execution_count": 7,
   "id": "global-record",
   "metadata": {
    "scrolled": true
   },
   "outputs": [],
   "source": [
    "# train.to_csv(\"../data/TrainingData/shuffled_train.csv\",index=False)\n",
    "# test.to_csv(\"../data/TestData/shuffled_test.csv\",index=False)\n",
    "# val.to_csv(\"../data/ValidationData/val.csv\",index=False)"
   ]
  },
  {
   "cell_type": "code",
   "execution_count": 14,
   "id": "engaged-powell",
   "metadata": {},
   "outputs": [
    {
     "data": {
      "text/html": [
       "<div>\n",
       "<style scoped>\n",
       "    .dataframe tbody tr th:only-of-type {\n",
       "        vertical-align: middle;\n",
       "    }\n",
       "\n",
       "    .dataframe tbody tr th {\n",
       "        vertical-align: top;\n",
       "    }\n",
       "\n",
       "    .dataframe thead th {\n",
       "        text-align: right;\n",
       "    }\n",
       "</style>\n",
       "<table border=\"1\" class=\"dataframe\">\n",
       "  <thead>\n",
       "    <tr style=\"text-align: right;\">\n",
       "      <th></th>\n",
       "      <th>YEAR BEING FORECAST</th>\n",
       "      <th>INDICATOR</th>\n",
       "      <th>actual</th>\n",
       "      <th>MAX</th>\n",
       "      <th>ACTUAL_CONF</th>\n",
       "      <th>HIT</th>\n",
       "      <th>pred_average</th>\n",
       "      <th>pred_var</th>\n",
       "      <th>banana</th>\n",
       "      <th>beef</th>\n",
       "      <th>bread</th>\n",
       "      <th>chicken</th>\n",
       "      <th>coffee</th>\n",
       "      <th>eggs</th>\n",
       "      <th>electricity</th>\n",
       "      <th>flour</th>\n",
       "      <th>iceCream</th>\n",
       "      <th>rice</th>\n",
       "      <th>unleadedGasoline</th>\n",
       "    </tr>\n",
       "  </thead>\n",
       "  <tbody>\n",
       "    <tr>\n",
       "      <th>5412</th>\n",
       "      <td>2007</td>\n",
       "      <td>Core CPI</td>\n",
       "      <td>2.310345</td>\n",
       "      <td>0.7000</td>\n",
       "      <td>0.7000</td>\n",
       "      <td>1.0</td>\n",
       "      <td>2.2000</td>\n",
       "      <td>0.072500</td>\n",
       "      <td>0.516000</td>\n",
       "      <td>2.261000</td>\n",
       "      <td>1.263000</td>\n",
       "      <td>1.154000</td>\n",
       "      <td>3.646000</td>\n",
       "      <td>1.910667</td>\n",
       "      <td>0.115667</td>\n",
       "      <td>0.380333</td>\n",
       "      <td>4.082667</td>\n",
       "      <td>0.550000</td>\n",
       "      <td>2.960667</td>\n",
       "    </tr>\n",
       "    <tr>\n",
       "      <th>25483</th>\n",
       "      <td>2020</td>\n",
       "      <td>RealGDP</td>\n",
       "      <td>-3.486260</td>\n",
       "      <td>0.5000</td>\n",
       "      <td>0.0000</td>\n",
       "      <td>0.0</td>\n",
       "      <td>2.2000</td>\n",
       "      <td>1.110000</td>\n",
       "      <td>0.576000</td>\n",
       "      <td>3.714667</td>\n",
       "      <td>1.284333</td>\n",
       "      <td>1.516000</td>\n",
       "      <td>4.303500</td>\n",
       "      <td>1.898667</td>\n",
       "      <td>0.136333</td>\n",
       "      <td>0.470000</td>\n",
       "      <td>4.651000</td>\n",
       "      <td>0.690667</td>\n",
       "      <td>2.852667</td>\n",
       "    </tr>\n",
       "    <tr>\n",
       "      <th>17551</th>\n",
       "      <td>2015</td>\n",
       "      <td>Core PCE</td>\n",
       "      <td>1.184167</td>\n",
       "      <td>0.3000</td>\n",
       "      <td>0.3000</td>\n",
       "      <td>0.5</td>\n",
       "      <td>1.5300</td>\n",
       "      <td>0.376600</td>\n",
       "      <td>0.602333</td>\n",
       "      <td>3.848000</td>\n",
       "      <td>1.396333</td>\n",
       "      <td>1.529667</td>\n",
       "      <td>5.009000</td>\n",
       "      <td>2.021000</td>\n",
       "      <td>0.136667</td>\n",
       "      <td>0.537000</td>\n",
       "      <td>4.871000</td>\n",
       "      <td>0.743667</td>\n",
       "      <td>3.681667</td>\n",
       "    </tr>\n",
       "    <tr>\n",
       "      <th>14784</th>\n",
       "      <td>2013</td>\n",
       "      <td>Core PCE</td>\n",
       "      <td>1.578237</td>\n",
       "      <td>0.4000</td>\n",
       "      <td>0.4000</td>\n",
       "      <td>0.5</td>\n",
       "      <td>1.5000</td>\n",
       "      <td>0.162500</td>\n",
       "      <td>0.609667</td>\n",
       "      <td>3.372667</td>\n",
       "      <td>1.415000</td>\n",
       "      <td>1.474667</td>\n",
       "      <td>5.886000</td>\n",
       "      <td>1.941000</td>\n",
       "      <td>0.128667</td>\n",
       "      <td>0.515667</td>\n",
       "      <td>5.178667</td>\n",
       "      <td>0.712333</td>\n",
       "      <td>3.593000</td>\n",
       "    </tr>\n",
       "    <tr>\n",
       "      <th>19751</th>\n",
       "      <td>2018</td>\n",
       "      <td>RealGDP</td>\n",
       "      <td>2.996460</td>\n",
       "      <td>0.5000</td>\n",
       "      <td>0.5000</td>\n",
       "      <td>0.5</td>\n",
       "      <td>2.0000</td>\n",
       "      <td>0.250000</td>\n",
       "      <td>0.584333</td>\n",
       "      <td>4.196000</td>\n",
       "      <td>1.461333</td>\n",
       "      <td>1.512333</td>\n",
       "      <td>4.797000</td>\n",
       "      <td>2.199000</td>\n",
       "      <td>0.139000</td>\n",
       "      <td>0.516000</td>\n",
       "      <td>4.702333</td>\n",
       "      <td>0.679000</td>\n",
       "      <td>2.697333</td>\n",
       "    </tr>\n",
       "    <tr>\n",
       "      <th>...</th>\n",
       "      <td>...</td>\n",
       "      <td>...</td>\n",
       "      <td>...</td>\n",
       "      <td>...</td>\n",
       "      <td>...</td>\n",
       "      <td>...</td>\n",
       "      <td>...</td>\n",
       "      <td>...</td>\n",
       "      <td>...</td>\n",
       "      <td>...</td>\n",
       "      <td>...</td>\n",
       "      <td>...</td>\n",
       "      <td>...</td>\n",
       "      <td>...</td>\n",
       "      <td>...</td>\n",
       "      <td>...</td>\n",
       "      <td>...</td>\n",
       "      <td>...</td>\n",
       "      <td>...</td>\n",
       "    </tr>\n",
       "    <tr>\n",
       "      <th>7388</th>\n",
       "      <td>2010</td>\n",
       "      <td>Core CPI</td>\n",
       "      <td>0.645573</td>\n",
       "      <td>0.5500</td>\n",
       "      <td>0.4000</td>\n",
       "      <td>0.0</td>\n",
       "      <td>1.0000</td>\n",
       "      <td>0.087500</td>\n",
       "      <td>0.622667</td>\n",
       "      <td>2.247333</td>\n",
       "      <td>1.397667</td>\n",
       "      <td>1.294000</td>\n",
       "      <td>3.646000</td>\n",
       "      <td>1.601333</td>\n",
       "      <td>0.127667</td>\n",
       "      <td>0.505333</td>\n",
       "      <td>4.300000</td>\n",
       "      <td>0.765333</td>\n",
       "      <td>2.317333</td>\n",
       "    </tr>\n",
       "    <tr>\n",
       "      <th>924</th>\n",
       "      <td>1995</td>\n",
       "      <td>RealGDP</td>\n",
       "      <td>2.684280</td>\n",
       "      <td>0.7500</td>\n",
       "      <td>0.7500</td>\n",
       "      <td>1.0</td>\n",
       "      <td>2.5500</td>\n",
       "      <td>0.247500</td>\n",
       "      <td>0.486000</td>\n",
       "      <td>1.340000</td>\n",
       "      <td>0.775000</td>\n",
       "      <td>0.903333</td>\n",
       "      <td>4.070000</td>\n",
       "      <td>0.825667</td>\n",
       "      <td>0.093333</td>\n",
       "      <td>0.241333</td>\n",
       "      <td>2.637333</td>\n",
       "      <td>0.517000</td>\n",
       "      <td>1.188667</td>\n",
       "    </tr>\n",
       "    <tr>\n",
       "      <th>11304</th>\n",
       "      <td>2011</td>\n",
       "      <td>Unemployment</td>\n",
       "      <td>9.100000</td>\n",
       "      <td>0.2247</td>\n",
       "      <td>0.0809</td>\n",
       "      <td>0.0</td>\n",
       "      <td>7.9914</td>\n",
       "      <td>1.573126</td>\n",
       "      <td>0.617333</td>\n",
       "      <td>2.730000</td>\n",
       "      <td>1.460667</td>\n",
       "      <td>1.289333</td>\n",
       "      <td>5.154667</td>\n",
       "      <td>1.700667</td>\n",
       "      <td>0.130000</td>\n",
       "      <td>0.516333</td>\n",
       "      <td>4.781667</td>\n",
       "      <td>0.752000</td>\n",
       "      <td>3.817000</td>\n",
       "    </tr>\n",
       "    <tr>\n",
       "      <th>11694</th>\n",
       "      <td>2011</td>\n",
       "      <td>Core CPI</td>\n",
       "      <td>2.174324</td>\n",
       "      <td>0.8000</td>\n",
       "      <td>0.8000</td>\n",
       "      <td>1.0</td>\n",
       "      <td>2.2500</td>\n",
       "      <td>0.050000</td>\n",
       "      <td>0.608000</td>\n",
       "      <td>2.835000</td>\n",
       "      <td>1.488000</td>\n",
       "      <td>1.298667</td>\n",
       "      <td>5.654667</td>\n",
       "      <td>1.768333</td>\n",
       "      <td>0.135000</td>\n",
       "      <td>0.540000</td>\n",
       "      <td>4.819667</td>\n",
       "      <td>0.716667</td>\n",
       "      <td>3.632000</td>\n",
       "    </tr>\n",
       "    <tr>\n",
       "      <th>3239</th>\n",
       "      <td>2004</td>\n",
       "      <td>RealGDP</td>\n",
       "      <td>3.798900</td>\n",
       "      <td>0.4000</td>\n",
       "      <td>0.4000</td>\n",
       "      <td>1.0</td>\n",
       "      <td>3.0000</td>\n",
       "      <td>1.450000</td>\n",
       "      <td>0.515667</td>\n",
       "      <td>1.786000</td>\n",
       "      <td>1.044000</td>\n",
       "      <td>1.028000</td>\n",
       "      <td>2.952000</td>\n",
       "      <td>1.191000</td>\n",
       "      <td>0.089000</td>\n",
       "      <td>0.311333</td>\n",
       "      <td>3.797333</td>\n",
       "      <td>0.442667</td>\n",
       "      <td>1.620667</td>\n",
       "    </tr>\n",
       "  </tbody>\n",
       "</table>\n",
       "<p>18627 rows × 19 columns</p>\n",
       "</div>"
      ],
      "text/plain": [
       "       YEAR BEING FORECAST     INDICATOR    actual     MAX  ACTUAL_CONF  HIT  \\\n",
       "5412                  2007      Core CPI  2.310345  0.7000       0.7000  1.0   \n",
       "25483                 2020       RealGDP -3.486260  0.5000       0.0000  0.0   \n",
       "17551                 2015      Core PCE  1.184167  0.3000       0.3000  0.5   \n",
       "14784                 2013      Core PCE  1.578237  0.4000       0.4000  0.5   \n",
       "19751                 2018       RealGDP  2.996460  0.5000       0.5000  0.5   \n",
       "...                    ...           ...       ...     ...          ...  ...   \n",
       "7388                  2010      Core CPI  0.645573  0.5500       0.4000  0.0   \n",
       "924                   1995       RealGDP  2.684280  0.7500       0.7500  1.0   \n",
       "11304                 2011  Unemployment  9.100000  0.2247       0.0809  0.0   \n",
       "11694                 2011      Core CPI  2.174324  0.8000       0.8000  1.0   \n",
       "3239                  2004       RealGDP  3.798900  0.4000       0.4000  1.0   \n",
       "\n",
       "       pred_average  pred_var    banana      beef     bread   chicken  \\\n",
       "5412         2.2000  0.072500  0.516000  2.261000  1.263000  1.154000   \n",
       "25483        2.2000  1.110000  0.576000  3.714667  1.284333  1.516000   \n",
       "17551        1.5300  0.376600  0.602333  3.848000  1.396333  1.529667   \n",
       "14784        1.5000  0.162500  0.609667  3.372667  1.415000  1.474667   \n",
       "19751        2.0000  0.250000  0.584333  4.196000  1.461333  1.512333   \n",
       "...             ...       ...       ...       ...       ...       ...   \n",
       "7388         1.0000  0.087500  0.622667  2.247333  1.397667  1.294000   \n",
       "924          2.5500  0.247500  0.486000  1.340000  0.775000  0.903333   \n",
       "11304        7.9914  1.573126  0.617333  2.730000  1.460667  1.289333   \n",
       "11694        2.2500  0.050000  0.608000  2.835000  1.488000  1.298667   \n",
       "3239         3.0000  1.450000  0.515667  1.786000  1.044000  1.028000   \n",
       "\n",
       "         coffee      eggs  electricity     flour  iceCream      rice  \\\n",
       "5412   3.646000  1.910667     0.115667  0.380333  4.082667  0.550000   \n",
       "25483  4.303500  1.898667     0.136333  0.470000  4.651000  0.690667   \n",
       "17551  5.009000  2.021000     0.136667  0.537000  4.871000  0.743667   \n",
       "14784  5.886000  1.941000     0.128667  0.515667  5.178667  0.712333   \n",
       "19751  4.797000  2.199000     0.139000  0.516000  4.702333  0.679000   \n",
       "...         ...       ...          ...       ...       ...       ...   \n",
       "7388   3.646000  1.601333     0.127667  0.505333  4.300000  0.765333   \n",
       "924    4.070000  0.825667     0.093333  0.241333  2.637333  0.517000   \n",
       "11304  5.154667  1.700667     0.130000  0.516333  4.781667  0.752000   \n",
       "11694  5.654667  1.768333     0.135000  0.540000  4.819667  0.716667   \n",
       "3239   2.952000  1.191000     0.089000  0.311333  3.797333  0.442667   \n",
       "\n",
       "       unleadedGasoline  \n",
       "5412           2.960667  \n",
       "25483          2.852667  \n",
       "17551          3.681667  \n",
       "14784          3.593000  \n",
       "19751          2.697333  \n",
       "...                 ...  \n",
       "7388           2.317333  \n",
       "924            1.188667  \n",
       "11304          3.817000  \n",
       "11694          3.632000  \n",
       "3239           1.620667  \n",
       "\n",
       "[18627 rows x 19 columns]"
      ]
     },
     "execution_count": 14,
     "metadata": {},
     "output_type": "execute_result"
    }
   ],
   "source": [
    "train"
   ]
  },
  {
   "cell_type": "markdown",
   "id": "paperback-proportion",
   "metadata": {},
   "source": [
    "# Model Creation\n",
    "\n",
    "Current Regression Models: XGBoost and RandomForestRegressor\n",
    "Past Regression Models: LinearRegression, KNN,"
   ]
  },
  {
   "cell_type": "code",
   "execution_count": 15,
   "id": "clean-tribe",
   "metadata": {},
   "outputs": [],
   "source": [
    "def MeasureSplit(df,measure):\n",
    "    return df[df[\"INDICATOR\"]==measure].drop(columns = [\"actual\",\"INDICATOR\",\"YEAR BEING FORECAST\"]),df[df[\"INDICATOR\"]==measure][\"actual\"]"
   ]
  },
  {
   "cell_type": "code",
   "execution_count": 108,
   "id": "promising-trainer",
   "metadata": {},
   "outputs": [],
   "source": [
    "class RegressionModel:\n",
    "    measures = [\"Unemployment\",\"RealGDP\",\"Core CPI\",\"Core PCE\"]\n",
    "    \n",
    "    def __init__(self,name,model):\n",
    "        self.name = name\n",
    "        self.model = model\n",
    "        self.fitted_models = dict.fromkeys(self.measures,None)\n",
    "        self.rmse_scores = []\n",
    "        self.optimized_rmse_scores = []\n",
    "        self.optimized_r2_scores = []\n",
    "        self.r2_scores = []\n",
    "        self.validation = True\n",
    "        self.best_models = dict.fromkeys(self.measures,None)\n",
    "        self.optimized=False\n",
    "        self.store_scores()  \n",
    "    \n",
    "    def set_validation(setting):\n",
    "        self.validation=setting\n",
    "        \n",
    "    def clear_scores(self):\n",
    "        self.rmse_scores = []\n",
    "        self.r2_scores = []\n",
    "        \n",
    "    def store_scores(self):\n",
    "        if self.optimized==True:\n",
    "            rmse = self.optimized_rmse_scores\n",
    "            r2 = self.optimized_r2_scores\n",
    "        else:\n",
    "            rmse = self.rmse_scores\n",
    "            r2 = self.r2_scores\n",
    "        for measure in self.measures:\n",
    "            if self.validation:\n",
    "                X_test,y_test = MeasureSplit(val,measure)\n",
    "            else: \n",
    "                X_test,y_test = MeasureSplit(test,measure)\n",
    "            predictions = self.get_predictions(measure) \n",
    "            rmse.append(np.sqrt(np.mean((y_test-predictions)**2)))\n",
    "            r2.append(r2_score(y_test,predictions))\n",
    "        return \n",
    "    \n",
    "    def plot_scores(self):\n",
    "        fig,axes = plt.subplots(2,1,figsize=(10,20))\n",
    "        for i,score,s in zip([0,1],['RMSE Scores','R^2 Scores'],[self.rmse_scores,self.r2_scores]):\n",
    "            sns.barplot(x=self.measures,y=s,ax=axes[i])\n",
    "            axes[i].set_title(score)\n",
    "            axes[i].set_xlabel(\"Economic Measures\")\n",
    "            axes[i].set_ylabel(\"Score\")\n",
    "        return plt.show()\n",
    "    \n",
    "    def get_predictions(self,variable_name):\n",
    "        assert variable_name in self.measures\n",
    "        #returns predictions for specified measure\n",
    "        if self.optimized==True:\n",
    "            model = self.best_models[variable_name]\n",
    "        elif self.fitted_models[self.measures[0]] == None:\n",
    "            model = clone(self.model)\n",
    "        else:\n",
    "            model = self.fitted_models[variable_name]\n",
    "        print(model)\n",
    "        X_train,y_train = MeasureSplit(train,variable_name)\n",
    "        if self.validation:\n",
    "            X_test,y_test = MeasureSplit(val,variable_name)\n",
    "        else: \n",
    "            X_test,y_test = MeasureSplit(test,variable_name)\n",
    "        model.fit(X_train,y_train)\n",
    "        if self.optimized == False:\n",
    "            self.fitted_models[variable_name] = model\n",
    "        return model.predict(X_test)\n",
    "    \n",
    "    def create_results(self):\n",
    "        data = {}\n",
    "        for measure in self.measures:\n",
    "            data[measure] = self.get_predictions(measure)\n",
    "        return pd.DataFrame(dict([ (self.name+\" \"+k,pd.Series(v)) for k,v in data.items()]))\n",
    "    \n",
    "    def annual_performance(self, variable_name, plot=True):\n",
    "        assert variable_name in self.measures\n",
    "        preds = self.get_predictions(variable_name)\n",
    "        actuals = val[val[\"INDICATOR\"]==variable_name]['actual']\n",
    "        spf_preds = val[val[\"INDICATOR\"]==variable_name]['pred_average']\n",
    "        years = val[val[\"INDICATOR\"]==variable_name]['YEAR BEING FORECAST']\n",
    "        frame = pd.DataFrame({\"Actual\": actuals, \"SPF\": spf_preds, \"Model\": preds, \"Year\": years})\n",
    "        grouped = frame.groupby(\"Year\").mean()\n",
    "        if plot == True:\n",
    "            fig,axs = plt.subplots(1,1,figsize=(25,10))\n",
    "            plt.title(\"Historical Model Performance predicting \"+variable_name + \". RMSE: \"+str(self.rmse_scores[self.measures.index(variable_name)]),size=30)\n",
    "            plt.plot(grouped['Actual'])\n",
    "            plt.plot(grouped['SPF'])\n",
    "            plt.plot(grouped['Model'])\n",
    "            labels = [\"Actual\", \"SPF\", \"Model\"]\n",
    "            plt.legend(labels)\n",
    "            plt.show()\n",
    "            \n",
    "        return grouped\n",
    "    \n",
    "    def perform_gridsearch(self,parameters):\n",
    "        \n",
    "        def find_optimal_model(variable_name):\n",
    "            X_train,y_train = MeasureSplit(train,variable_name)\n",
    "            gridsearch = GridSearchCV(estimator=self.model,param_grid = parameters,scoring='neg_root_mean_squared_error',n_jobs=5,cv=5,verbose=True)\n",
    "            gridsearch.fit(X_train,y_train)\n",
    "            return gridsearch.best_estimator_\n",
    "        \n",
    "        for measure in self.measures:    \n",
    "            self.best_models[measure]=find_optimal_model(measure)\n",
    "        self.optimized=True\n",
    "        return\n",
    "    \n",
    "    def get_feature_importance(self,variable_name):\n",
    "        assert variable_name in self.measures\n",
    "        X_train,y_train = MeasureSplit(train,variable_name)\n",
    "        temp_model = self.model.fit(X_train,y_train)\n",
    "        fig,axs = plt.subplots(1,1,figsize=(25,10))\n",
    "        sorted_scores = temp_model.feature_importances_.argsort()\n",
    "        sns.barplot(x=X_train.columns[sorted_scores],y=temp_model.feature_importances_[sorted_scores])\n",
    "        plt.xlabel(\"Feature\")\n",
    "        plt.ylabel(\"Importance\")\n",
    "        plt.title(\"Feature Importance for \"+self.name + \" predicting: \"+variable_name ,size=30);"
   ]
  },
  {
   "cell_type": "code",
   "execution_count": 109,
   "id": "indonesian-sheffield",
   "metadata": {},
   "outputs": [
    {
     "ename": "AttributeError",
     "evalue": "'NoneType' object has no attribute 'fit'",
     "output_type": "error",
     "traceback": [
      "\u001b[1;31m---------------------------------------------------------------------------\u001b[0m",
      "\u001b[1;31mAttributeError\u001b[0m                            Traceback (most recent call last)",
      "\u001b[1;32m~\\AppData\\Local\\Temp/ipykernel_6100/1429837700.py\u001b[0m in \u001b[0;36m<module>\u001b[1;34m\u001b[0m\n\u001b[1;32m----> 1\u001b[1;33m \u001b[0mrf\u001b[0m \u001b[1;33m=\u001b[0m \u001b[0mRegressionModel\u001b[0m\u001b[1;33m(\u001b[0m\u001b[1;34m\"RandomForest\"\u001b[0m\u001b[1;33m,\u001b[0m \u001b[0mRandomForestRegressor\u001b[0m\u001b[1;33m(\u001b[0m\u001b[1;33m)\u001b[0m\u001b[1;33m)\u001b[0m\u001b[1;33m\u001b[0m\u001b[1;33m\u001b[0m\u001b[0m\n\u001b[0m",
      "\u001b[1;32m~\\AppData\\Local\\Temp/ipykernel_6100/2477897877.py\u001b[0m in \u001b[0;36m__init__\u001b[1;34m(self, name, model)\u001b[0m\n\u001b[0;32m     13\u001b[0m         \u001b[0mself\u001b[0m\u001b[1;33m.\u001b[0m\u001b[0mbest_models\u001b[0m \u001b[1;33m=\u001b[0m \u001b[0mdict\u001b[0m\u001b[1;33m.\u001b[0m\u001b[0mfromkeys\u001b[0m\u001b[1;33m(\u001b[0m\u001b[0mself\u001b[0m\u001b[1;33m.\u001b[0m\u001b[0mmeasures\u001b[0m\u001b[1;33m,\u001b[0m\u001b[1;32mNone\u001b[0m\u001b[1;33m)\u001b[0m\u001b[1;33m\u001b[0m\u001b[1;33m\u001b[0m\u001b[0m\n\u001b[0;32m     14\u001b[0m         \u001b[0mself\u001b[0m\u001b[1;33m.\u001b[0m\u001b[0moptimized\u001b[0m\u001b[1;33m=\u001b[0m\u001b[1;32mFalse\u001b[0m\u001b[1;33m\u001b[0m\u001b[1;33m\u001b[0m\u001b[0m\n\u001b[1;32m---> 15\u001b[1;33m         \u001b[0mself\u001b[0m\u001b[1;33m.\u001b[0m\u001b[0mstore_scores\u001b[0m\u001b[1;33m(\u001b[0m\u001b[1;33m)\u001b[0m\u001b[1;33m\u001b[0m\u001b[1;33m\u001b[0m\u001b[0m\n\u001b[0m\u001b[0;32m     16\u001b[0m \u001b[1;33m\u001b[0m\u001b[0m\n\u001b[0;32m     17\u001b[0m     \u001b[1;32mdef\u001b[0m \u001b[0mset_validation\u001b[0m\u001b[1;33m(\u001b[0m\u001b[0msetting\u001b[0m\u001b[1;33m)\u001b[0m\u001b[1;33m:\u001b[0m\u001b[1;33m\u001b[0m\u001b[1;33m\u001b[0m\u001b[0m\n",
      "\u001b[1;32m~\\AppData\\Local\\Temp/ipykernel_6100/2477897877.py\u001b[0m in \u001b[0;36mstore_scores\u001b[1;34m(self)\u001b[0m\n\u001b[0;32m     34\u001b[0m             \u001b[1;32melse\u001b[0m\u001b[1;33m:\u001b[0m\u001b[1;33m\u001b[0m\u001b[1;33m\u001b[0m\u001b[0m\n\u001b[0;32m     35\u001b[0m                 \u001b[0mX_test\u001b[0m\u001b[1;33m,\u001b[0m\u001b[0my_test\u001b[0m \u001b[1;33m=\u001b[0m \u001b[0mMeasureSplit\u001b[0m\u001b[1;33m(\u001b[0m\u001b[0mtest\u001b[0m\u001b[1;33m,\u001b[0m\u001b[0mmeasure\u001b[0m\u001b[1;33m)\u001b[0m\u001b[1;33m\u001b[0m\u001b[1;33m\u001b[0m\u001b[0m\n\u001b[1;32m---> 36\u001b[1;33m             \u001b[0mpredictions\u001b[0m \u001b[1;33m=\u001b[0m \u001b[0mself\u001b[0m\u001b[1;33m.\u001b[0m\u001b[0mget_predictions\u001b[0m\u001b[1;33m(\u001b[0m\u001b[0mmeasure\u001b[0m\u001b[1;33m)\u001b[0m\u001b[1;33m\u001b[0m\u001b[1;33m\u001b[0m\u001b[0m\n\u001b[0m\u001b[0;32m     37\u001b[0m             \u001b[0mrmse\u001b[0m\u001b[1;33m.\u001b[0m\u001b[0mappend\u001b[0m\u001b[1;33m(\u001b[0m\u001b[0mnp\u001b[0m\u001b[1;33m.\u001b[0m\u001b[0msqrt\u001b[0m\u001b[1;33m(\u001b[0m\u001b[0mnp\u001b[0m\u001b[1;33m.\u001b[0m\u001b[0mmean\u001b[0m\u001b[1;33m(\u001b[0m\u001b[1;33m(\u001b[0m\u001b[0my_test\u001b[0m\u001b[1;33m-\u001b[0m\u001b[0mpredictions\u001b[0m\u001b[1;33m)\u001b[0m\u001b[1;33m**\u001b[0m\u001b[1;36m2\u001b[0m\u001b[1;33m)\u001b[0m\u001b[1;33m)\u001b[0m\u001b[1;33m)\u001b[0m\u001b[1;33m\u001b[0m\u001b[1;33m\u001b[0m\u001b[0m\n\u001b[0;32m     38\u001b[0m             \u001b[0mr2\u001b[0m\u001b[1;33m.\u001b[0m\u001b[0mappend\u001b[0m\u001b[1;33m(\u001b[0m\u001b[0mr2_score\u001b[0m\u001b[1;33m(\u001b[0m\u001b[0my_test\u001b[0m\u001b[1;33m,\u001b[0m\u001b[0mpredictions\u001b[0m\u001b[1;33m)\u001b[0m\u001b[1;33m)\u001b[0m\u001b[1;33m\u001b[0m\u001b[1;33m\u001b[0m\u001b[0m\n",
      "\u001b[1;32m~\\AppData\\Local\\Temp/ipykernel_6100/2477897877.py\u001b[0m in \u001b[0;36mget_predictions\u001b[1;34m(self, variable_name)\u001b[0m\n\u001b[0;32m     62\u001b[0m         \u001b[1;32melse\u001b[0m\u001b[1;33m:\u001b[0m\u001b[1;33m\u001b[0m\u001b[1;33m\u001b[0m\u001b[0m\n\u001b[0;32m     63\u001b[0m             \u001b[0mX_test\u001b[0m\u001b[1;33m,\u001b[0m\u001b[0my_test\u001b[0m \u001b[1;33m=\u001b[0m \u001b[0mMeasureSplit\u001b[0m\u001b[1;33m(\u001b[0m\u001b[0mtest\u001b[0m\u001b[1;33m,\u001b[0m\u001b[0mvariable_name\u001b[0m\u001b[1;33m)\u001b[0m\u001b[1;33m\u001b[0m\u001b[1;33m\u001b[0m\u001b[0m\n\u001b[1;32m---> 64\u001b[1;33m         \u001b[0mmodel\u001b[0m\u001b[1;33m.\u001b[0m\u001b[0mfit\u001b[0m\u001b[1;33m(\u001b[0m\u001b[0mX_train\u001b[0m\u001b[1;33m,\u001b[0m\u001b[0my_train\u001b[0m\u001b[1;33m)\u001b[0m\u001b[1;33m\u001b[0m\u001b[1;33m\u001b[0m\u001b[0m\n\u001b[0m\u001b[0;32m     65\u001b[0m         \u001b[1;32mif\u001b[0m \u001b[0mself\u001b[0m\u001b[1;33m.\u001b[0m\u001b[0moptimized\u001b[0m \u001b[1;33m==\u001b[0m \u001b[1;32mFalse\u001b[0m\u001b[1;33m:\u001b[0m\u001b[1;33m\u001b[0m\u001b[1;33m\u001b[0m\u001b[0m\n\u001b[0;32m     66\u001b[0m             \u001b[0mself\u001b[0m\u001b[1;33m.\u001b[0m\u001b[0mfitted_models\u001b[0m\u001b[1;33m[\u001b[0m\u001b[0mvariable_name\u001b[0m\u001b[1;33m]\u001b[0m \u001b[1;33m=\u001b[0m \u001b[0mmodel\u001b[0m\u001b[1;33m\u001b[0m\u001b[1;33m\u001b[0m\u001b[0m\n",
      "\u001b[1;31mAttributeError\u001b[0m: 'NoneType' object has no attribute 'fit'"
     ]
    }
   ],
   "source": [
    "rf = RegressionModel(\"RandomForest\", RandomForestRegressor())"
   ]
  },
  {
   "cell_type": "code",
   "execution_count": 102,
   "id": "twelve-sitting",
   "metadata": {},
   "outputs": [
    {
     "data": {
      "image/png": "[encoded data removed]",
      "text/plain": [
       "<Figure size 1800x720 with 1 Axes>"
      ]
     },
     "metadata": {
      "needs_background": "light"
     },
     "output_type": "display_data"
    }
   ],
   "source": [
    "rf.get_feature_importance(\"Unemployment\")"
   ]
  },
  {
   "cell_type": "code",
   "execution_count": 103,
   "id": "rural-synthesis",
   "metadata": {
    "scrolled": false
   },
   "outputs": [
    {
     "data": {
      "image/png": "[encoded data removed]",
      "text/plain": [
       "<Figure size 1800x720 with 1 Axes>"
      ]
     },
     "metadata": {
      "needs_background": "light"
     },
     "output_type": "display_data"
    }
   ],
   "source": [
    "grouped = rf.annual_performance(\"RealGDP\")"
   ]
  },
  {
   "cell_type": "code",
   "execution_count": 51,
   "id": "thorough-arizona",
   "metadata": {
    "scrolled": true
   },
   "outputs": [
    {
     "data": {
      "text/plain": [
       "<matplotlib.legend.Legend at 0x29ec342a7f0>"
      ]
     },
     "execution_count": 51,
     "metadata": {},
     "output_type": "execute_result"
    },
    {
     "data": {
      "image/png": "[encoded data removed]",
      "text/plain": [
       "<Figure size 432x288 with 1 Axes>"
      ]
     },
     "metadata": {
      "needs_background": "light"
     },
     "output_type": "display_data"
    }
   ],
   "source": [
    "xgboost = RegressionModel(\"XGBoost\", XGBRegressor(verbosity=0))\n",
    "xg_preds = xgboost.get_predictions(\"RealGDP\")\n",
    "actuals = val[val[\"INDICATOR\"]==\"RealGDP\"][\"actual\"]\n",
    "spf_preds = val[val[\"INDICATOR\"]==\"RealGDP\"][\"pred_average\"]\n",
    "years = val[val[\"INDICATOR\"]==\"RealGDP\"]['YEAR BEING FORECAST']\n",
    "frame = pd.DataFrame({\"Actual\": actuals, \"SPF\": spf_preds, \"Model\": preds, \"Year\": years})\n",
    "new = frame.sort_values(by=\"Year\")\n",
    "grouped = new.groupby(\"Year\").mean()\n",
    "plt.plot(grouped['Actual'])\n",
    "plt.plot(grouped['SPF'])\n",
    "plt.plot(grouped['Model'])\n",
    "labels = [\"Actual\", \"SPF\", \"Model\"]\n",
    "plt.legend(labels)"
   ]
  },
  {
   "cell_type": "code",
   "execution_count": 56,
   "id": "super-laptop",
   "metadata": {},
   "outputs": [],
   "source": [
    "X_train, Y_train = MeasureSplit(train, \"RealGDP\")"
   ]
  },
  {
   "cell_type": "code",
   "execution_count": 57,
   "id": "stylish-stick",
   "metadata": {},
   "outputs": [],
   "source": [
    "X_test, Y_test = MeasureSplit(val, \"RealGDP\")"
   ]
  },
  {
   "cell_type": "code",
   "execution_count": 62,
   "id": "russian-marks",
   "metadata": {},
   "outputs": [
    {
     "data": {
      "image/png": "[encoded data removed]",
      "text/plain": [
       "<Figure size 1800x720 with 1 Axes>"
      ]
     },
     "metadata": {
      "needs_background": "light"
     },
     "output_type": "display_data"
    }
   ],
   "source": [
    "xgb = XGBRegressor(verbosity=0).fit(X_train, Y_train)\n",
    "fig,axs = plt.subplots(1,1,figsize=(25,10))\n",
    "sorted_scores = xgb.feature_importances_.argsort()\n",
    "sns.barplot(x=X_train.columns[sorted_scores],y=xgb.feature_importances_[sorted_scores])\n",
    "plt.xlabel(\"Column Name\")\n",
    "plt.ylabel(\"Importance\")\n",
    "plt.title(\"Feature Importance for XGBoost\",size=30);"
   ]
  },
  {
   "cell_type": "code",
   "execution_count": 60,
   "id": "defensive-vaccine",
   "metadata": {},
   "outputs": [
    {
     "data": {
      "image/png": "[encoded data removed]",
      "text/plain": [
       "<Figure size 1800x720 with 1 Axes>"
      ]
     },
     "metadata": {
      "needs_background": "light"
     },
     "output_type": "display_data"
    }
   ],
   "source": [
    "randomforest = RandomForestRegressor().fit(X_train, Y_train)\n",
    "fig,axs = plt.subplots(1,1,figsize=(25,10))\n",
    "sorted_scores = randomforest.feature_importances_.argsort()\n",
    "sns.barplot(x=X_train.columns[sorted_scores],y=randomforest.feature_importances_[sorted_scores])\n",
    "plt.xlabel(\"Column Name\")\n",
    "plt.ylabel(\"Importance\")\n",
    "plt.title(\"Feature Importance for Random Forest Regressor\",size=30);"
   ]
  },
  {
   "cell_type": "code",
   "execution_count": 54,
   "id": "underlying-estonia",
   "metadata": {},
   "outputs": [],
   "source": [
    "xgboost.best_models = {'Unemployment': XGBRegressor(base_score=0.5, booster='gbtree', colsample_bylevel=1,\n",
    "              colsample_bynode=1, colsample_bytree=1, gamma=0, gpu_id=-1,\n",
    "              importance_type='gain', interaction_constraints='',\n",
    "              learning_rate=0.1, max_delta_step=0, max_depth=6,\n",
    "              min_child_weight=1, missing=np.nan, monotone_constraints='()',\n",
    "              n_estimators=180, n_jobs=4, num_parallel_tree=1, random_state=0,\n",
    "              reg_alpha=0, reg_lambda=1, scale_pos_weight=1, subsample=1,\n",
    "              tree_method='exact', validate_parameters=1, verbosity=0),\n",
    " 'RealGDP': XGBRegressor(base_score=0.5, booster='gbtree', colsample_bylevel=1,\n",
    "              colsample_bynode=1, colsample_bytree=1, gamma=0, gpu_id=-1,\n",
    "              importance_type='gain', interaction_constraints='',\n",
    "              learning_rate=0.1, max_delta_step=0, max_depth=7,\n",
    "              min_child_weight=1, missing=np.nan, monotone_constraints='()',\n",
    "              n_estimators=180, n_jobs=4, num_parallel_tree=1, random_state=0,\n",
    "              reg_alpha=0, reg_lambda=1, scale_pos_weight=1, subsample=1,\n",
    "              tree_method='exact', validate_parameters=1, verbosity=0),\n",
    " 'Core CPI': XGBRegressor(base_score=0.5, booster='gbtree', colsample_bylevel=1,\n",
    "              colsample_bynode=1, colsample_bytree=1, gamma=0, gpu_id=-1,\n",
    "              importance_type='gain', interaction_constraints='',\n",
    "              learning_rate=0.1, max_delta_step=0, max_depth=7,\n",
    "              min_child_weight=1, missing=np.nan, monotone_constraints='()',\n",
    "              n_estimators=140, n_jobs=4, num_parallel_tree=1, random_state=0,\n",
    "              reg_alpha=0, reg_lambda=1, scale_pos_weight=1, subsample=1,\n",
    "              tree_method='exact', validate_parameters=1, verbosity=0),\n",
    " 'Core PCE': XGBRegressor(base_score=0.5, booster='gbtree', colsample_bylevel=1,\n",
    "              colsample_bynode=1, colsample_bytree=1, gamma=0, gpu_id=-1,\n",
    "              importance_type='gain', interaction_constraints='',\n",
    "              learning_rate=0.1, max_delta_step=0, max_depth=3,\n",
    "              min_child_weight=1, missing=np.nan, monotone_constraints='()',\n",
    "              n_estimators=180, n_jobs=4, num_parallel_tree=1, random_state=0,\n",
    "              reg_alpha=0, reg_lambda=1, scale_pos_weight=1, subsample=1,\n",
    "              tree_method='exact', validate_parameters=1, verbosity=0)}"
   ]
  },
  {
   "cell_type": "code",
   "execution_count": 12,
   "id": "baking-photograph",
   "metadata": {},
   "outputs": [],
   "source": [
    "xgboost_parameters = {'max_depth':np.arange(2,10),'n_estimators': np.arange(60,200,40),\"learning_rate\":[0.01,0.05,0.1]}"
   ]
  },
  {
   "cell_type": "code",
   "execution_count": 13,
   "id": "integrated-adoption",
   "metadata": {},
   "outputs": [
    {
     "name": "stdout",
     "output_type": "stream",
     "text": [
      "Fitting 5 folds for each of 96 candidates, totalling 480 fits\n",
      "Fitting 5 folds for each of 96 candidates, totalling 480 fits\n",
      "Fitting 5 folds for each of 96 candidates, totalling 480 fits\n",
      "Fitting 5 folds for each of 96 candidates, totalling 480 fits\n"
     ]
    }
   ],
   "source": [
    "xgboost.perform_gridsearch(xgboost_parameters)"
   ]
  },
  {
   "cell_type": "code",
   "execution_count": 56,
   "id": "mysterious-average",
   "metadata": {},
   "outputs": [],
   "source": [
    "xgboost.optimized=True\n",
    "xgboost.store_scores()"
   ]
  },
  {
   "cell_type": "code",
   "execution_count": 57,
   "id": "understanding-saskatchewan",
   "metadata": {
    "scrolled": false
   },
   "outputs": [
    {
     "data": {
      "text/plain": [
       "[0.6871500325214561,\n",
       " 0.43316816574009354,\n",
       " 0.39824419749116546,\n",
       " 0.3210065767781438]"
      ]
     },
     "execution_count": 57,
     "metadata": {},
     "output_type": "execute_result"
    }
   ],
   "source": [
    "xgboost.rmse_scores"
   ]
  },
  {
   "cell_type": "code",
   "execution_count": 58,
   "id": "practical-saint",
   "metadata": {},
   "outputs": [
    {
     "data": {
      "text/plain": [
       "[0.6742677863500751,\n",
       " 0.42378448833869503,\n",
       " 0.39885080082601687,\n",
       " 0.40314091915689343]"
      ]
     },
     "execution_count": 58,
     "metadata": {},
     "output_type": "execute_result"
    }
   ],
   "source": [
    "xgboost.optimized_rmse_scores"
   ]
  },
  {
   "cell_type": "code",
   "execution_count": 37,
   "id": "macro-probe",
   "metadata": {
    "scrolled": true
   },
   "outputs": [
    {
     "data": {
      "image/png": "[encoded data removed]",
      "text/plain": [
       "<Figure size 720x1440 with 2 Axes>"
      ]
     },
     "metadata": {
      "needs_background": "light"
     },
     "output_type": "display_data"
    }
   ],
   "source": [
    "xgboost.plot_scores()"
   ]
  },
  {
   "cell_type": "code",
   "execution_count": 65,
   "id": "innocent-stations",
   "metadata": {},
   "outputs": [
    {
     "data": {
      "text/plain": [
       "True"
      ]
     },
     "execution_count": 65,
     "metadata": {},
     "output_type": "execute_result"
    }
   ],
   "source": [
    "xgboost.optimized"
   ]
  },
  {
   "cell_type": "code",
   "execution_count": 66,
   "id": "backed-authorization",
   "metadata": {
    "scrolled": true
   },
   "outputs": [],
   "source": [
    "xg_scores = xgboost.create_results()"
   ]
  },
  {
   "cell_type": "code",
   "execution_count": 59,
   "id": "toxic-excitement",
   "metadata": {},
   "outputs": [],
   "source": [
    "RF = RegressionModel(\"Random Forest\" ,RandomForestRegressor())"
   ]
  },
  {
   "cell_type": "code",
   "execution_count": 45,
   "id": "different-debut",
   "metadata": {},
   "outputs": [],
   "source": [
    "RF_params = {\"n_estimators\":np.arange(100,300,20)}"
   ]
  },
  {
   "cell_type": "code",
   "execution_count": 46,
   "id": "burning-plumbing",
   "metadata": {
    "scrolled": true
   },
   "outputs": [
    {
     "name": "stdout",
     "output_type": "stream",
     "text": [
      "Fitting 5 folds for each of 10 candidates, totalling 50 fits\n",
      "Fitting 5 folds for each of 10 candidates, totalling 50 fits\n",
      "Fitting 5 folds for each of 10 candidates, totalling 50 fits\n",
      "Fitting 5 folds for each of 10 candidates, totalling 50 fits\n"
     ]
    }
   ],
   "source": [
    "RF.perform_gridsearch(RF_params)"
   ]
  },
  {
   "cell_type": "code",
   "execution_count": 60,
   "id": "amber-credits",
   "metadata": {},
   "outputs": [],
   "source": [
    "RF.best_models = {'Unemployment': RandomForestRegressor(n_estimators=180),\n",
    " 'RealGDP': RandomForestRegressor(n_estimators=160),\n",
    " 'Core CPI': RandomForestRegressor(),\n",
    " 'Core PCE': RandomForestRegressor(n_estimators=120)}"
   ]
  },
  {
   "cell_type": "code",
   "execution_count": 61,
   "id": "later-simulation",
   "metadata": {
    "scrolled": false
   },
   "outputs": [
    {
     "data": {
      "text/plain": [
       "{'Unemployment': RandomForestRegressor(n_estimators=180),\n",
       " 'RealGDP': RandomForestRegressor(n_estimators=160),\n",
       " 'Core CPI': RandomForestRegressor(),\n",
       " 'Core PCE': RandomForestRegressor(n_estimators=120)}"
      ]
     },
     "execution_count": 61,
     "metadata": {},
     "output_type": "execute_result"
    }
   ],
   "source": [
    "RF.best_models"
   ]
  },
  {
   "cell_type": "code",
   "execution_count": 62,
   "id": "instrumental-prayer",
   "metadata": {},
   "outputs": [],
   "source": [
    "RF.optimized=True\n",
    "RF.store_scores()"
   ]
  },
  {
   "cell_type": "code",
   "execution_count": 63,
   "id": "seven-hurricane",
   "metadata": {},
   "outputs": [
    {
     "data": {
      "text/plain": [
       "[0.7065132210519138,\n",
       " 0.4157836682672575,\n",
       " 0.34028788176224795,\n",
       " 0.40485490317099837]"
      ]
     },
     "execution_count": 63,
     "metadata": {},
     "output_type": "execute_result"
    }
   ],
   "source": [
    "RF.rmse_scores"
   ]
  },
  {
   "cell_type": "code",
   "execution_count": 64,
   "id": "entitled-fleece",
   "metadata": {},
   "outputs": [
    {
     "data": {
      "text/plain": [
       "[0.7094118600284802,\n",
       " 0.41713586057771124,\n",
       " 0.34741118690012224,\n",
       " 0.3952660596084598]"
      ]
     },
     "execution_count": 64,
     "metadata": {},
     "output_type": "execute_result"
    }
   ],
   "source": [
    "RF.optimized_rmse_scores"
   ]
  },
  {
   "cell_type": "code",
   "execution_count": 43,
   "id": "after-receiver",
   "metadata": {
    "scrolled": true
   },
   "outputs": [
    {
     "data": {
      "image/png": "[encoded data removed]",
      "text/plain": [
       "<Figure size 720x1440 with 2 Axes>"
      ]
     },
     "metadata": {
      "needs_background": "light"
     },
     "output_type": "display_data"
    }
   ],
   "source": [
    "RF.plot_scores()"
   ]
  },
  {
   "cell_type": "code",
   "execution_count": null,
   "id": "specialized-jersey",
   "metadata": {},
   "outputs": [],
   "source": [
    "RF.get_predictions(\"Unemployment\")"
   ]
  },
  {
   "cell_type": "code",
   "execution_count": 67,
   "id": "emerging-chart",
   "metadata": {},
   "outputs": [
    {
     "data": {
      "text/plain": [
       "True"
      ]
     },
     "execution_count": 67,
     "metadata": {},
     "output_type": "execute_result"
    }
   ],
   "source": [
    "RF.optimized"
   ]
  },
  {
   "cell_type": "code",
   "execution_count": 68,
   "id": "demonstrated-dimension",
   "metadata": {},
   "outputs": [],
   "source": [
    "rf_scores = RF.create_results()"
   ]
  },
  {
   "cell_type": "code",
   "execution_count": null,
   "id": "statistical-vulnerability",
   "metadata": {},
   "outputs": [],
   "source": [
    "lm  = RegressionModel(\"Linear Regression\", LinearRegression())"
   ]
  },
  {
   "cell_type": "code",
   "execution_count": null,
   "id": "spoken-float",
   "metadata": {},
   "outputs": [],
   "source": [
    "lm_scores = lm.create_results()"
   ]
  },
  {
   "cell_type": "code",
   "execution_count": null,
   "id": "important-niagara",
   "metadata": {
    "scrolled": true
   },
   "outputs": [],
   "source": [
    "lm.plot_scores()"
   ]
  },
  {
   "cell_type": "code",
   "execution_count": null,
   "id": "creative-albuquerque",
   "metadata": {},
   "outputs": [],
   "source": [
    "neighbors = RegressionModel(\"KNeigborsRegressor\",KNeighborsRegressor())"
   ]
  },
  {
   "cell_type": "code",
   "execution_count": null,
   "id": "hollow-terrorism",
   "metadata": {},
   "outputs": [],
   "source": [
    "neighbors.plot_scores()"
   ]
  },
  {
   "cell_type": "code",
   "execution_count": null,
   "id": "mathematical-atlanta",
   "metadata": {},
   "outputs": [],
   "source": [
    "neighbor_scores = neighbors.create_results()"
   ]
  },
  {
   "cell_type": "code",
   "execution_count": 69,
   "id": "relative-disclaimer",
   "metadata": {},
   "outputs": [],
   "source": [
    "model_predictions = pd.concat([xg_scores,rf_scores],axis=1)#,lm_scores,neighbor_scores],axis=1)"
   ]
  },
  {
   "cell_type": "code",
   "execution_count": 70,
   "id": "associate-rogers",
   "metadata": {
    "scrolled": true
   },
   "outputs": [
    {
     "data": {
      "text/html": [
       "<div>\n",
       "<style scoped>\n",
       "    .dataframe tbody tr th:only-of-type {\n",
       "        vertical-align: middle;\n",
       "    }\n",
       "\n",
       "    .dataframe tbody tr th {\n",
       "        vertical-align: top;\n",
       "    }\n",
       "\n",
       "    .dataframe thead th {\n",
       "        text-align: right;\n",
       "    }\n",
       "</style>\n",
       "<table border=\"1\" class=\"dataframe\">\n",
       "  <thead>\n",
       "    <tr style=\"text-align: right;\">\n",
       "      <th></th>\n",
       "      <th>XGBoost Unemployment</th>\n",
       "      <th>XGBoost RealGDP</th>\n",
       "      <th>XGBoost Core CPI</th>\n",
       "      <th>XGBoost Core PCE</th>\n",
       "      <th>Random Forest Unemployment</th>\n",
       "      <th>Random Forest RealGDP</th>\n",
       "      <th>Random Forest Core CPI</th>\n",
       "      <th>Random Forest Core PCE</th>\n",
       "    </tr>\n",
       "  </thead>\n",
       "  <tbody>\n",
       "    <tr>\n",
       "      <th>0</th>\n",
       "      <td>0.024529</td>\n",
       "      <td>2.525367</td>\n",
       "      <td>2.284678</td>\n",
       "      <td>1.277267</td>\n",
       "      <td>0.000000</td>\n",
       "      <td>2.690666</td>\n",
       "      <td>2.275708</td>\n",
       "      <td>1.246261</td>\n",
       "    </tr>\n",
       "    <tr>\n",
       "      <th>1</th>\n",
       "      <td>3.809880</td>\n",
       "      <td>4.161139</td>\n",
       "      <td>2.084491</td>\n",
       "      <td>1.495712</td>\n",
       "      <td>3.874306</td>\n",
       "      <td>4.249021</td>\n",
       "      <td>2.174324</td>\n",
       "      <td>1.351786</td>\n",
       "    </tr>\n",
       "    <tr>\n",
       "      <th>2</th>\n",
       "      <td>3.915925</td>\n",
       "      <td>4.266360</td>\n",
       "      <td>2.059632</td>\n",
       "      <td>1.563071</td>\n",
       "      <td>3.712870</td>\n",
       "      <td>4.158768</td>\n",
       "      <td>1.961115</td>\n",
       "      <td>1.640270</td>\n",
       "    </tr>\n",
       "    <tr>\n",
       "      <th>3</th>\n",
       "      <td>8.112351</td>\n",
       "      <td>0.977842</td>\n",
       "      <td>2.211206</td>\n",
       "      <td>1.715864</td>\n",
       "      <td>8.108333</td>\n",
       "      <td>0.355206</td>\n",
       "      <td>2.221205</td>\n",
       "      <td>1.722364</td>\n",
       "    </tr>\n",
       "    <tr>\n",
       "      <th>4</th>\n",
       "      <td>4.358871</td>\n",
       "      <td>4.604209</td>\n",
       "      <td>2.228309</td>\n",
       "      <td>1.908844</td>\n",
       "      <td>4.350000</td>\n",
       "      <td>4.530313</td>\n",
       "      <td>2.218232</td>\n",
       "      <td>1.703876</td>\n",
       "    </tr>\n",
       "    <tr>\n",
       "      <th>...</th>\n",
       "      <td>...</td>\n",
       "      <td>...</td>\n",
       "      <td>...</td>\n",
       "      <td>...</td>\n",
       "      <td>...</td>\n",
       "      <td>...</td>\n",
       "      <td>...</td>\n",
       "      <td>...</td>\n",
       "    </tr>\n",
       "    <tr>\n",
       "      <th>2665</th>\n",
       "      <td>NaN</td>\n",
       "      <td>2.695229</td>\n",
       "      <td>NaN</td>\n",
       "      <td>NaN</td>\n",
       "      <td>NaN</td>\n",
       "      <td>2.913138</td>\n",
       "      <td>NaN</td>\n",
       "      <td>NaN</td>\n",
       "    </tr>\n",
       "    <tr>\n",
       "      <th>2666</th>\n",
       "      <td>NaN</td>\n",
       "      <td>2.509414</td>\n",
       "      <td>NaN</td>\n",
       "      <td>NaN</td>\n",
       "      <td>NaN</td>\n",
       "      <td>2.639555</td>\n",
       "      <td>NaN</td>\n",
       "      <td>NaN</td>\n",
       "    </tr>\n",
       "    <tr>\n",
       "      <th>2667</th>\n",
       "      <td>NaN</td>\n",
       "      <td>4.217857</td>\n",
       "      <td>NaN</td>\n",
       "      <td>NaN</td>\n",
       "      <td>NaN</td>\n",
       "      <td>4.127480</td>\n",
       "      <td>NaN</td>\n",
       "      <td>NaN</td>\n",
       "    </tr>\n",
       "    <tr>\n",
       "      <th>2668</th>\n",
       "      <td>NaN</td>\n",
       "      <td>2.411485</td>\n",
       "      <td>NaN</td>\n",
       "      <td>NaN</td>\n",
       "      <td>NaN</td>\n",
       "      <td>2.402891</td>\n",
       "      <td>NaN</td>\n",
       "      <td>NaN</td>\n",
       "    </tr>\n",
       "    <tr>\n",
       "      <th>2669</th>\n",
       "      <td>NaN</td>\n",
       "      <td>4.221494</td>\n",
       "      <td>NaN</td>\n",
       "      <td>NaN</td>\n",
       "      <td>NaN</td>\n",
       "      <td>4.211068</td>\n",
       "      <td>NaN</td>\n",
       "      <td>NaN</td>\n",
       "    </tr>\n",
       "  </tbody>\n",
       "</table>\n",
       "<p>2670 rows × 8 columns</p>\n",
       "</div>"
      ],
      "text/plain": [
       "      XGBoost Unemployment  XGBoost RealGDP  XGBoost Core CPI  \\\n",
       "0                 0.024529         2.525367          2.284678   \n",
       "1                 3.809880         4.161139          2.084491   \n",
       "2                 3.915925         4.266360          2.059632   \n",
       "3                 8.112351         0.977842          2.211206   \n",
       "4                 4.358871         4.604209          2.228309   \n",
       "...                    ...              ...               ...   \n",
       "2665                   NaN         2.695229               NaN   \n",
       "2666                   NaN         2.509414               NaN   \n",
       "2667                   NaN         4.217857               NaN   \n",
       "2668                   NaN         2.411485               NaN   \n",
       "2669                   NaN         4.221494               NaN   \n",
       "\n",
       "      XGBoost Core PCE  Random Forest Unemployment  Random Forest RealGDP  \\\n",
       "0             1.277267                    0.000000               2.690666   \n",
       "1             1.495712                    3.874306               4.249021   \n",
       "2             1.563071                    3.712870               4.158768   \n",
       "3             1.715864                    8.108333               0.355206   \n",
       "4             1.908844                    4.350000               4.530313   \n",
       "...                ...                         ...                    ...   \n",
       "2665               NaN                         NaN               2.913138   \n",
       "2666               NaN                         NaN               2.639555   \n",
       "2667               NaN                         NaN               4.127480   \n",
       "2668               NaN                         NaN               2.402891   \n",
       "2669               NaN                         NaN               4.211068   \n",
       "\n",
       "      Random Forest Core CPI  Random Forest Core PCE  \n",
       "0                   2.275708                1.246261  \n",
       "1                   2.174324                1.351786  \n",
       "2                   1.961115                1.640270  \n",
       "3                   2.221205                1.722364  \n",
       "4                   2.218232                1.703876  \n",
       "...                      ...                     ...  \n",
       "2665                     NaN                     NaN  \n",
       "2666                     NaN                     NaN  \n",
       "2667                     NaN                     NaN  \n",
       "2668                     NaN                     NaN  \n",
       "2669                     NaN                     NaN  \n",
       "\n",
       "[2670 rows x 8 columns]"
      ]
     },
     "execution_count": 70,
     "metadata": {},
     "output_type": "execute_result"
    }
   ],
   "source": [
    "model_predictions"
   ]
  },
  {
   "cell_type": "code",
   "execution_count": 71,
   "id": "opening-facial",
   "metadata": {},
   "outputs": [
    {
     "name": "stderr",
     "output_type": "stream",
     "text": [
      "C:\\Users\\Bear\\anaconda3\\lib\\site-packages\\pandas\\core\\frame.py:4438: SettingWithCopyWarning: \n",
      "A value is trying to be set on a copy of a slice from a DataFrame\n",
      "\n",
      "See the caveats in the documentation: https://pandas.pydata.org/pandas-docs/stable/user_guide/indexing.html#returning-a-view-versus-a-copy\n",
      "  return super().rename(\n"
     ]
    }
   ],
   "source": [
    "t = val.loc[:,[\"INDICATOR\",\"actual\"]]\n",
    "initial = pd.DataFrame([])\n",
    "for measure in xgboost.measures:\n",
    "    temp = t[t[\"INDICATOR\"]==measure]\n",
    "    temp.rename(columns={\"actual\":measure + \" actual\",\"INDICATOR\":measure},inplace=True)\n",
    "    temp.reset_index(inplace=True)\n",
    "    initial = pd.concat([initial,temp],axis=1)\n",
    "initial.drop(columns = ['index'],inplace=True)\n"
   ]
  },
  {
   "cell_type": "code",
   "execution_count": 72,
   "id": "continuous-night",
   "metadata": {
    "scrolled": true
   },
   "outputs": [],
   "source": [
    "final = pd.concat([initial,model_predictions],axis=1)"
   ]
  },
  {
   "cell_type": "code",
   "execution_count": 73,
   "id": "technological-dakota",
   "metadata": {},
   "outputs": [
    {
     "data": {
      "text/html": [
       "<div>\n",
       "<style scoped>\n",
       "    .dataframe tbody tr th:only-of-type {\n",
       "        vertical-align: middle;\n",
       "    }\n",
       "\n",
       "    .dataframe tbody tr th {\n",
       "        vertical-align: top;\n",
       "    }\n",
       "\n",
       "    .dataframe thead th {\n",
       "        text-align: right;\n",
       "    }\n",
       "</style>\n",
       "<table border=\"1\" class=\"dataframe\">\n",
       "  <thead>\n",
       "    <tr style=\"text-align: right;\">\n",
       "      <th></th>\n",
       "      <th>Unemployment</th>\n",
       "      <th>Unemployment actual</th>\n",
       "      <th>RealGDP</th>\n",
       "      <th>RealGDP actual</th>\n",
       "      <th>Core CPI</th>\n",
       "      <th>Core CPI actual</th>\n",
       "      <th>Core PCE</th>\n",
       "      <th>Core PCE actual</th>\n",
       "      <th>XGBoost Unemployment</th>\n",
       "      <th>XGBoost RealGDP</th>\n",
       "      <th>XGBoost Core CPI</th>\n",
       "      <th>XGBoost Core PCE</th>\n",
       "      <th>Random Forest Unemployment</th>\n",
       "      <th>Random Forest RealGDP</th>\n",
       "      <th>Random Forest Core CPI</th>\n",
       "      <th>Random Forest Core PCE</th>\n",
       "    </tr>\n",
       "  </thead>\n",
       "  <tbody>\n",
       "    <tr>\n",
       "      <th>0</th>\n",
       "      <td>Unemployment</td>\n",
       "      <td>0.000000</td>\n",
       "      <td>RealGDP</td>\n",
       "      <td>2.99646</td>\n",
       "      <td>Core CPI</td>\n",
       "      <td>2.290573</td>\n",
       "      <td>Core PCE</td>\n",
       "      <td>1.184167</td>\n",
       "      <td>0.024529</td>\n",
       "      <td>2.525367</td>\n",
       "      <td>2.284678</td>\n",
       "      <td>1.277267</td>\n",
       "      <td>0.000000</td>\n",
       "      <td>2.690666</td>\n",
       "      <td>2.275708</td>\n",
       "      <td>1.246261</td>\n",
       "    </tr>\n",
       "    <tr>\n",
       "      <th>1</th>\n",
       "      <td>Unemployment</td>\n",
       "      <td>3.891667</td>\n",
       "      <td>RealGDP</td>\n",
       "      <td>4.44722</td>\n",
       "      <td>Core CPI</td>\n",
       "      <td>2.174324</td>\n",
       "      <td>Core PCE</td>\n",
       "      <td>1.184167</td>\n",
       "      <td>3.809880</td>\n",
       "      <td>4.161139</td>\n",
       "      <td>2.084491</td>\n",
       "      <td>1.495712</td>\n",
       "      <td>3.874306</td>\n",
       "      <td>4.249021</td>\n",
       "      <td>2.174324</td>\n",
       "      <td>1.351786</td>\n",
       "    </tr>\n",
       "    <tr>\n",
       "      <th>2</th>\n",
       "      <td>Unemployment</td>\n",
       "      <td>3.683333</td>\n",
       "      <td>RealGDP</td>\n",
       "      <td>4.75324</td>\n",
       "      <td>Core CPI</td>\n",
       "      <td>2.174324</td>\n",
       "      <td>Core PCE</td>\n",
       "      <td>1.647664</td>\n",
       "      <td>3.915925</td>\n",
       "      <td>4.266360</td>\n",
       "      <td>2.059632</td>\n",
       "      <td>1.563071</td>\n",
       "      <td>3.712870</td>\n",
       "      <td>4.158768</td>\n",
       "      <td>1.961115</td>\n",
       "      <td>1.640270</td>\n",
       "    </tr>\n",
       "    <tr>\n",
       "      <th>3</th>\n",
       "      <td>Unemployment</td>\n",
       "      <td>8.108333</td>\n",
       "      <td>RealGDP</td>\n",
       "      <td>2.99646</td>\n",
       "      <td>Core CPI</td>\n",
       "      <td>2.290573</td>\n",
       "      <td>Core PCE</td>\n",
       "      <td>1.664742</td>\n",
       "      <td>8.112351</td>\n",
       "      <td>0.977842</td>\n",
       "      <td>2.211206</td>\n",
       "      <td>1.715864</td>\n",
       "      <td>8.108333</td>\n",
       "      <td>0.355206</td>\n",
       "      <td>2.221205</td>\n",
       "      <td>1.722364</td>\n",
       "    </tr>\n",
       "    <tr>\n",
       "      <th>4</th>\n",
       "      <td>Unemployment</td>\n",
       "      <td>4.350000</td>\n",
       "      <td>RealGDP</td>\n",
       "      <td>4.75324</td>\n",
       "      <td>Core CPI</td>\n",
       "      <td>2.290573</td>\n",
       "      <td>Core PCE</td>\n",
       "      <td>1.559324</td>\n",
       "      <td>4.358871</td>\n",
       "      <td>4.604209</td>\n",
       "      <td>2.228309</td>\n",
       "      <td>1.908844</td>\n",
       "      <td>4.350000</td>\n",
       "      <td>4.530313</td>\n",
       "      <td>2.218232</td>\n",
       "      <td>1.703876</td>\n",
       "    </tr>\n",
       "    <tr>\n",
       "      <th>...</th>\n",
       "      <td>...</td>\n",
       "      <td>...</td>\n",
       "      <td>...</td>\n",
       "      <td>...</td>\n",
       "      <td>...</td>\n",
       "      <td>...</td>\n",
       "      <td>...</td>\n",
       "      <td>...</td>\n",
       "      <td>...</td>\n",
       "      <td>...</td>\n",
       "      <td>...</td>\n",
       "      <td>...</td>\n",
       "      <td>...</td>\n",
       "      <td>...</td>\n",
       "      <td>...</td>\n",
       "      <td>...</td>\n",
       "    </tr>\n",
       "    <tr>\n",
       "      <th>2665</th>\n",
       "      <td>NaN</td>\n",
       "      <td>NaN</td>\n",
       "      <td>RealGDP</td>\n",
       "      <td>2.68428</td>\n",
       "      <td>NaN</td>\n",
       "      <td>NaN</td>\n",
       "      <td>NaN</td>\n",
       "      <td>NaN</td>\n",
       "      <td>NaN</td>\n",
       "      <td>2.695229</td>\n",
       "      <td>NaN</td>\n",
       "      <td>NaN</td>\n",
       "      <td>NaN</td>\n",
       "      <td>2.913138</td>\n",
       "      <td>NaN</td>\n",
       "      <td>NaN</td>\n",
       "    </tr>\n",
       "    <tr>\n",
       "      <th>2666</th>\n",
       "      <td>NaN</td>\n",
       "      <td>NaN</td>\n",
       "      <td>RealGDP</td>\n",
       "      <td>3.07551</td>\n",
       "      <td>NaN</td>\n",
       "      <td>NaN</td>\n",
       "      <td>NaN</td>\n",
       "      <td>NaN</td>\n",
       "      <td>NaN</td>\n",
       "      <td>2.509414</td>\n",
       "      <td>NaN</td>\n",
       "      <td>NaN</td>\n",
       "      <td>NaN</td>\n",
       "      <td>2.639555</td>\n",
       "      <td>NaN</td>\n",
       "      <td>NaN</td>\n",
       "    </tr>\n",
       "    <tr>\n",
       "      <th>2667</th>\n",
       "      <td>NaN</td>\n",
       "      <td>NaN</td>\n",
       "      <td>RealGDP</td>\n",
       "      <td>4.12748</td>\n",
       "      <td>NaN</td>\n",
       "      <td>NaN</td>\n",
       "      <td>NaN</td>\n",
       "      <td>NaN</td>\n",
       "      <td>NaN</td>\n",
       "      <td>4.217857</td>\n",
       "      <td>NaN</td>\n",
       "      <td>NaN</td>\n",
       "      <td>NaN</td>\n",
       "      <td>4.127480</td>\n",
       "      <td>NaN</td>\n",
       "      <td>NaN</td>\n",
       "    </tr>\n",
       "    <tr>\n",
       "      <th>2668</th>\n",
       "      <td>NaN</td>\n",
       "      <td>NaN</td>\n",
       "      <td>RealGDP</td>\n",
       "      <td>2.56377</td>\n",
       "      <td>NaN</td>\n",
       "      <td>NaN</td>\n",
       "      <td>NaN</td>\n",
       "      <td>NaN</td>\n",
       "      <td>NaN</td>\n",
       "      <td>2.411485</td>\n",
       "      <td>NaN</td>\n",
       "      <td>NaN</td>\n",
       "      <td>NaN</td>\n",
       "      <td>2.402891</td>\n",
       "      <td>NaN</td>\n",
       "      <td>NaN</td>\n",
       "    </tr>\n",
       "    <tr>\n",
       "      <th>2669</th>\n",
       "      <td>NaN</td>\n",
       "      <td>NaN</td>\n",
       "      <td>RealGDP</td>\n",
       "      <td>4.44722</td>\n",
       "      <td>NaN</td>\n",
       "      <td>NaN</td>\n",
       "      <td>NaN</td>\n",
       "      <td>NaN</td>\n",
       "      <td>NaN</td>\n",
       "      <td>4.221494</td>\n",
       "      <td>NaN</td>\n",
       "      <td>NaN</td>\n",
       "      <td>NaN</td>\n",
       "      <td>4.211068</td>\n",
       "      <td>NaN</td>\n",
       "      <td>NaN</td>\n",
       "    </tr>\n",
       "  </tbody>\n",
       "</table>\n",
       "<p>2670 rows × 16 columns</p>\n",
       "</div>"
      ],
      "text/plain": [
       "      Unemployment  Unemployment actual  RealGDP  RealGDP actual  Core CPI  \\\n",
       "0     Unemployment             0.000000  RealGDP         2.99646  Core CPI   \n",
       "1     Unemployment             3.891667  RealGDP         4.44722  Core CPI   \n",
       "2     Unemployment             3.683333  RealGDP         4.75324  Core CPI   \n",
       "3     Unemployment             8.108333  RealGDP         2.99646  Core CPI   \n",
       "4     Unemployment             4.350000  RealGDP         4.75324  Core CPI   \n",
       "...            ...                  ...      ...             ...       ...   \n",
       "2665           NaN                  NaN  RealGDP         2.68428       NaN   \n",
       "2666           NaN                  NaN  RealGDP         3.07551       NaN   \n",
       "2667           NaN                  NaN  RealGDP         4.12748       NaN   \n",
       "2668           NaN                  NaN  RealGDP         2.56377       NaN   \n",
       "2669           NaN                  NaN  RealGDP         4.44722       NaN   \n",
       "\n",
       "      Core CPI actual  Core PCE  Core PCE actual  XGBoost Unemployment  \\\n",
       "0            2.290573  Core PCE         1.184167              0.024529   \n",
       "1            2.174324  Core PCE         1.184167              3.809880   \n",
       "2            2.174324  Core PCE         1.647664              3.915925   \n",
       "3            2.290573  Core PCE         1.664742              8.112351   \n",
       "4            2.290573  Core PCE         1.559324              4.358871   \n",
       "...               ...       ...              ...                   ...   \n",
       "2665              NaN       NaN              NaN                   NaN   \n",
       "2666              NaN       NaN              NaN                   NaN   \n",
       "2667              NaN       NaN              NaN                   NaN   \n",
       "2668              NaN       NaN              NaN                   NaN   \n",
       "2669              NaN       NaN              NaN                   NaN   \n",
       "\n",
       "      XGBoost RealGDP  XGBoost Core CPI  XGBoost Core PCE  \\\n",
       "0            2.525367          2.284678          1.277267   \n",
       "1            4.161139          2.084491          1.495712   \n",
       "2            4.266360          2.059632          1.563071   \n",
       "3            0.977842          2.211206          1.715864   \n",
       "4            4.604209          2.228309          1.908844   \n",
       "...               ...               ...               ...   \n",
       "2665         2.695229               NaN               NaN   \n",
       "2666         2.509414               NaN               NaN   \n",
       "2667         4.217857               NaN               NaN   \n",
       "2668         2.411485               NaN               NaN   \n",
       "2669         4.221494               NaN               NaN   \n",
       "\n",
       "      Random Forest Unemployment  Random Forest RealGDP  \\\n",
       "0                       0.000000               2.690666   \n",
       "1                       3.874306               4.249021   \n",
       "2                       3.712870               4.158768   \n",
       "3                       8.108333               0.355206   \n",
       "4                       4.350000               4.530313   \n",
       "...                          ...                    ...   \n",
       "2665                         NaN               2.913138   \n",
       "2666                         NaN               2.639555   \n",
       "2667                         NaN               4.127480   \n",
       "2668                         NaN               2.402891   \n",
       "2669                         NaN               4.211068   \n",
       "\n",
       "      Random Forest Core CPI  Random Forest Core PCE  \n",
       "0                   2.275708                1.246261  \n",
       "1                   2.174324                1.351786  \n",
       "2                   1.961115                1.640270  \n",
       "3                   2.221205                1.722364  \n",
       "4                   2.218232                1.703876  \n",
       "...                      ...                     ...  \n",
       "2665                     NaN                     NaN  \n",
       "2666                     NaN                     NaN  \n",
       "2667                     NaN                     NaN  \n",
       "2668                     NaN                     NaN  \n",
       "2669                     NaN                     NaN  \n",
       "\n",
       "[2670 rows x 16 columns]"
      ]
     },
     "execution_count": 73,
     "metadata": {},
     "output_type": "execute_result"
    }
   ],
   "source": [
    "final"
   ]
  },
  {
   "cell_type": "code",
   "execution_count": 74,
   "id": "annual-british",
   "metadata": {},
   "outputs": [],
   "source": [
    "final.to_csv(\"../models/results_post_gridsearch.csv\",index=False)"
   ]
  },
  {
   "cell_type": "code",
   "execution_count": null,
   "id": "bridal-humor",
   "metadata": {},
   "outputs": [],
   "source": []
  }
 ],
 "metadata": {
  "kernelspec": {
   "display_name": "Python 3 (ipykernel)",
   "language": "python",
   "name": "python3"
  },
  "language_info": {
   "codemirror_mode": {
    "name": "ipython",
    "version": 3
   },
   "file_extension": ".py",
   "mimetype": "text/x-python",
   "name": "python",
   "nbconvert_exporter": "python",
   "pygments_lexer": "ipython3",
   "version": "3.8.6"
  }
 },
 "nbformat": 4,
 "nbformat_minor": 5
}
