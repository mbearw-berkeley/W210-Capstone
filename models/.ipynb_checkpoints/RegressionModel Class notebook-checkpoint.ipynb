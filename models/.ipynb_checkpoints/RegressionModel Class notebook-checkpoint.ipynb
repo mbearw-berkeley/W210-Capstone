{
 "cells": [
  {
   "cell_type": "code",
   "execution_count": 71,
   "id": "danish-hospital",
   "metadata": {},
   "outputs": [],
   "source": [
    "import pandas as pd\n",
    "from sklearn.linear_model import LinearRegression\n",
    "from sklearn.metrics import r2_score\n",
    "import numpy as np\n",
    "import matplotlib.pyplot as plt\n",
    "import os\n",
    "import seaborn as sns\n",
    "from sklearn.model_selection import train_test_split\n",
    "from sklearn.ensemble import VotingRegressor\n",
    "from sklearn.linear_model import LinearRegression\n",
    "\n",
    "from sklearn.model_selection import cross_val_score\n",
    "from sklearn.model_selection import RepeatedKFold\n",
    "from sklearn.ensemble import RandomForestRegressor\n",
    "import xgboost as xgb\n",
    "from sklearn.neighbors import KNeighborsRegressor\n",
    "from sklearn.svm import SVR\n",
    "\n",
    "np.random.seed(0)"
   ]
  },
  {
   "cell_type": "markdown",
   "id": "rotary-cedar",
   "metadata": {},
   "source": [
    "# RUN MODELS\n",
    "\n",
    "### This notebook serves as a one stop shop for our models. Get all evaluation metrics in one place. "
   ]
  },
  {
   "cell_type": "markdown",
   "id": "english-mention",
   "metadata": {},
   "source": [
    "# Import Data\n",
    "\n",
    "Current Training Data includes SPF survey responses and price for specific items\n"
   ]
  },
  {
   "cell_type": "code",
   "execution_count": 5,
   "id": "involved-pollution",
   "metadata": {
    "scrolled": true
   },
   "outputs": [
    {
     "data": {
      "text/plain": [
       "Index(['YEAR FORECAST MADE', 'QUARTER', 'YEAR BEING FORECAST', 'INDICATOR',\n",
       "       'FORECASTER ID', 'INDUSTRY', 'Year.ID.ForecastYear.Quarter',\n",
       "       'Indicator.Year.ID.ForecastYear.Quarter', 'BIN 1', 'BIN 2', 'BIN 3',\n",
       "       'BIN 4', 'BIN 5', 'BIN 6', 'BIN 7', 'BIN 8', 'BIN 9', 'BIN 10',\n",
       "       'BIN 11', 'BIN 12', 'BIN 13', 'BIN 14', 'BIN 15', 'BIN 1 prob',\n",
       "       'BIN 2 prob', 'BIN 3 prob', 'BIN 4 prob', 'BIN 5 prob', 'BIN 6 prob',\n",
       "       'BIN 7 prob', 'BIN 8 prob', 'BIN 9 prob', 'BIN 10 prob', 'BIN 11 prob',\n",
       "       'BIN 12 prob', 'BIN 13 prob', 'BIN 14 prob', 'BIN 15 prob',\n",
       "       'BIN 1 midpoint', 'BIN 2 midpoint', 'BIN 3 midpoint', 'BIN 4 midpoint',\n",
       "       'BIN 5 midpoint', 'BIN 6 midpoint', 'BIN 7 midpoint', 'BIN 8 midpoint',\n",
       "       'BIN 9 midpoint', 'BIN 10 midpoint', 'BIN 11 midpoint',\n",
       "       'BIN 12 midpoint', 'BIN 13 midpoint', 'BIN 14 midpoint',\n",
       "       'BIN 15 midpoint', 'nbin', 'bin_value_sum', 'TDIST', 'actual',\n",
       "       'ACTUAL_BIN', 'MAX', 'NUM_OF_MAX', 'ACTUAL_CONF', 'HIT', 'pred_average',\n",
       "       'pred_var', 'banana', 'beef', 'bread', 'chicken', 'coffee', 'eggs',\n",
       "       'electricity', 'flour', 'iceCream', 'rice', 'unleadedGasoline'],\n",
       "      dtype='object')"
      ]
     },
     "execution_count": 5,
     "metadata": {},
     "output_type": "execute_result"
    }
   ],
   "source": [
    "data = pd.read_csv(\"../data/TrainingData/trainingWithItems.csv\")#,index_col=0) \n",
    "data.head()\n",
    "data.columns"
   ]
  },
  {
   "cell_type": "code",
   "execution_count": 6,
   "id": "eight-surface",
   "metadata": {},
   "outputs": [],
   "source": [
    "unemp = data[data['INDICATOR'] == \"Unemployment\"]\n",
    "rgdp = data[data['INDICATOR'] == \"RealGDP\"]\n",
    "cpce = data[data['INDICATOR'] == \"Core PCE\"]\n",
    "ccpi = data[data['INDICATOR'] == \"Core CPI\"]\n",
    "ngnp = data[data['INDICATOR'] == \"NominalGNP\"]\n",
    "rgnp = data[data['INDICATOR'] == \"RealGNP\"]"
   ]
  },
  {
   "cell_type": "markdown",
   "id": "rural-headset",
   "metadata": {},
   "source": [
    "\n",
    "# Train Val Test Split (0.6,0.2,0.2)\n",
    "\n",
    "## And save as csv (actually do we really need to)"
   ]
  },
  {
   "cell_type": "code",
   "execution_count": 59,
   "id": "above-cathedral",
   "metadata": {
    "scrolled": false
   },
   "outputs": [],
   "source": [
    "relevant=data[data[\"YEAR FORECAST MADE\"]>=1984].drop(columns = ['YEAR FORECAST MADE', 'QUARTER', 'YEAR BEING FORECAST',  'INDUSTRY', 'Year.ID.ForecastYear.Quarter',\n",
    "       'Indicator.Year.ID.ForecastYear.Quarter', 'BIN 1', 'BIN 2', 'BIN 3',\n",
    "       'BIN 4', 'BIN 5', 'BIN 6', 'BIN 7', 'BIN 8', 'BIN 9', 'BIN 10',\n",
    "       'BIN 11', 'BIN 12', 'BIN 13', 'BIN 14', 'BIN 15', 'BIN 1 prob',\n",
    "       'BIN 2 prob', 'BIN 3 prob', 'BIN 4 prob', 'BIN 5 prob', 'BIN 6 prob',\n",
    "       'BIN 7 prob', 'BIN 8 prob', 'BIN 9 prob', 'BIN 10 prob', 'BIN 11 prob',\n",
    "       'BIN 12 prob', 'BIN 13 prob', 'BIN 14 prob', 'BIN 15 prob',\n",
    "       'BIN 1 midpoint', 'BIN 2 midpoint', 'BIN 3 midpoint', 'BIN 4 midpoint',\n",
    "       'BIN 5 midpoint', 'BIN 6 midpoint', 'BIN 7 midpoint', 'BIN 8 midpoint',\n",
    "       'BIN 9 midpoint', 'BIN 10 midpoint', 'BIN 11 midpoint',\n",
    "       'BIN 12 midpoint', 'BIN 13 midpoint', 'BIN 14 midpoint',\n",
    "       'BIN 15 midpoint', 'nbin', 'bin_value_sum', 'TDIST',\n",
    "       'ACTUAL_BIN', 'NUM_OF_MAX',\"FORECASTER ID\"])\n",
    "relevant.dropna(inplace=True)"
   ]
  },
  {
   "cell_type": "code",
   "execution_count": 60,
   "id": "complicated-convert",
   "metadata": {},
   "outputs": [],
   "source": [
    "train,test = train_test_split(relevant,test_size=.2,random_state=42,stratify=relevant[\"INDICATOR\"])"
   ]
  },
  {
   "cell_type": "code",
   "execution_count": 61,
   "id": "alien-sarah",
   "metadata": {},
   "outputs": [],
   "source": [
    "train,val = train_test_split(train,test_size=0.25, random_state=42,stratify = train[\"INDICATOR\"])"
   ]
  },
  {
   "cell_type": "code",
   "execution_count": 62,
   "id": "vital-allah",
   "metadata": {
    "scrolled": true
   },
   "outputs": [],
   "source": [
    "# train.to_csv(\"../data/TrainingData/shuffled_train.csv\",index=False)\n",
    "# test.to_csv(\"../data/TestData/shuffled_test.csv\",index=False)\n",
    "# val.to_csv(\"../data/ValidationData/val.csv\",index=False)"
   ]
  },
  {
   "cell_type": "markdown",
   "id": "described-therapist",
   "metadata": {},
   "source": [
    "# Model Creation\n",
    "\n",
    "Current Regression Models: XGBoost and RandomForestRegressor\n",
    "Past Regression Models: LinearRegression, KNN, MLP"
   ]
  },
  {
   "cell_type": "code",
   "execution_count": 66,
   "id": "necessary-tolerance",
   "metadata": {},
   "outputs": [],
   "source": [
    "lm = LinearRegression()\n",
    "#add previous models here"
   ]
  },
  {
   "cell_type": "code",
   "execution_count": 154,
   "id": "norman-swedish",
   "metadata": {},
   "outputs": [],
   "source": [
    "xgboost = xgb.XGBRegressor(verbosity=0)\n",
    "randomForest = RandomForestRegressor()"
   ]
  },
  {
   "cell_type": "code",
   "execution_count": 155,
   "id": "devoted-denial",
   "metadata": {},
   "outputs": [],
   "source": [
    "def MeasureSplit(df,measure):\n",
    "    return df[df[\"INDICATOR\"]==measure].drop(columns = [\"actual\",\"INDICATOR\"]),df[df[\"INDICATOR\"]==measure][\"actual\"]"
   ]
  },
  {
   "cell_type": "code",
   "execution_count": 156,
   "id": "champion-dominant",
   "metadata": {},
   "outputs": [],
   "source": [
    "def run_model(model,variable_name,plot=True,validation = True):\n",
    "    \n",
    "    X_train,y_train = MeasureSplit(train,variable_name)\n",
    "    X_val,y_val = MeasureSplit(val,variable_name)\n",
    "    if validation:\n",
    "        X_test,y_test = MeasureSplit(val,variable_name)\n",
    "    else: \n",
    "        X_test,y_test = MeasureSplit(test,variable_name)\n",
    "    model.fit(X_train,y_train)\n",
    "    predictions = model.predict(X_test)\n",
    "\n",
    "    rmse = np.sqrt(np.mean((y_test-predictions)**2))\n",
    "    r_squared = r2_score(y_test,predictions)\n",
    "    return [rmse,r_squared]"
   ]
  },
  {
   "cell_type": "code",
   "execution_count": 159,
   "id": "further-ghana",
   "metadata": {},
   "outputs": [
    {
     "data": {
      "text/plain": [
       "[1.2200985243216396, 0.59887098062772]"
      ]
     },
     "execution_count": 159,
     "metadata": {},
     "output_type": "execute_result"
    }
   ],
   "source": [
    "run_model(LinearRegression(),\"RealGDP\")"
   ]
  },
  {
   "cell_type": "code",
   "execution_count": 160,
   "id": "strange-milton",
   "metadata": {},
   "outputs": [
    {
     "data": {
      "text/plain": [
       "[0.6871500325214561, 0.9414440952099403]"
      ]
     },
     "execution_count": 160,
     "metadata": {},
     "output_type": "execute_result"
    }
   ],
   "source": [
    "run_model(xgboost,\"Unemployment\")"
   ]
  },
  {
   "cell_type": "code",
   "execution_count": 89,
   "id": "whole-telephone",
   "metadata": {},
   "outputs": [
    {
     "data": {
      "text/plain": [
       "[0.7029518154349778, 0.9387200126550224]"
      ]
     },
     "execution_count": 89,
     "metadata": {},
     "output_type": "execute_result"
    }
   ],
   "source": [
    "run_model(randomForest,\"Unemployment\")"
   ]
  },
  {
   "cell_type": "code",
   "execution_count": null,
   "id": "regulated-insight",
   "metadata": {},
   "outputs": [],
   "source": []
  },
  {
   "cell_type": "code",
   "execution_count": 161,
   "id": "absent-venture",
   "metadata": {},
   "outputs": [],
   "source": [
    "class RegressionModel:\n",
    "    measures = [\"Unemployment\",\"RealGDP\",\"Core CPI\",\"Core PCE\"]\n",
    "    def __init__(self,model):\n",
    "        self.model = model\n",
    "        self.rmse_scores = []\n",
    "        self.r2_scores = []\n",
    "        self.validation = True\n",
    "        self.store_scores()\n",
    "    def set_validation(setting):\n",
    "        self.validation=setting\n",
    "    def store_scores(self):\n",
    "        for measure in self.measures:\n",
    "            if self.validation:\n",
    "                X_test,y_test = MeasureSplit(val,measure)\n",
    "            else: \n",
    "                X_test,y_test = MeasureSplit(test,measure)\n",
    "            predictions = self.get_predictions(measure)\n",
    "            self.rmse_scores.append(np.sqrt(np.mean((y_test-predictions)**2)))\n",
    "            self.r2_scores.append(r2_score(y_test,predictions))\n",
    "    def plot_scores(self):\n",
    "        fig,axes = plt.subplots(2,1,figsize=(10,20))\n",
    "        for i,score,s in zip([0,1],['RMSE Scores','R^2 Scores'],[self.rmse_scores,self.r2_scores]):\n",
    "            sns.barplot(x=self.measures,y=s,ax=axes[i])\n",
    "            axes[i].set_title(score)\n",
    "            axes[i].set_xlabel(\"Economic Measures\")\n",
    "            axes[i].set_ylabel(\"Score\")\n",
    "        return plt.show()\n",
    "    \n",
    "    \n",
    "    \n",
    "    def get_predictions(self,variable_name):\n",
    "        #calculates and stores scores\n",
    "        #returns predictions for specified measure\n",
    "        X_train,y_train = MeasureSplit(train,variable_name)\n",
    "        if self.validation:\n",
    "            X_test,y_test = MeasureSplit(val,variable_name)\n",
    "        else: \n",
    "            X_test,y_test = MeasureSplit(test,variable_name)\n",
    "        self.model.fit(X_train,y_train)\n",
    "        return self.model.predict(X_test)"
   ]
  },
  {
   "cell_type": "code",
   "execution_count": 162,
   "id": "prostate-spanish",
   "metadata": {},
   "outputs": [],
   "source": [
    "xgboost = RegressionModel(xgb.XGBRegressor(verbosity=0))"
   ]
  },
  {
   "cell_type": "code",
   "execution_count": 153,
   "id": "material-pharmacy",
   "metadata": {
    "scrolled": true
   },
   "outputs": [],
   "source": [
    "#xgboost.get_predictions(\"Unemployment\")"
   ]
  },
  {
   "cell_type": "code",
   "execution_count": 165,
   "id": "taken-graph",
   "metadata": {},
   "outputs": [
    {
     "data": {
      "text/plain": [
       "array([2.5001261, 4.1237764, 4.178174 , ..., 4.376538 , 2.5061462,\n",
       "       4.2140946], dtype=float32)"
      ]
     },
     "execution_count": 165,
     "metadata": {},
     "output_type": "execute_result"
    }
   ],
   "source": [
    "xgboost.get_predictions(\"RealGDP\")"
   ]
  },
  {
   "cell_type": "code",
   "execution_count": 152,
   "id": "beneficial-classics",
   "metadata": {},
   "outputs": [
    {
     "data": {
      "image/png": "[encoded data removed]",
      "text/plain": [
       "<Figure size 720x1440 with 2 Axes>"
      ]
     },
     "metadata": {
      "needs_background": "light"
     },
     "output_type": "display_data"
    }
   ],
   "source": [
    "xgboost.plot_scores()"
   ]
  },
  {
   "cell_type": "code",
   "execution_count": null,
   "id": "caroline-novelty",
   "metadata": {},
   "outputs": [],
   "source": []
  }
 ],
 "metadata": {
  "kernelspec": {
   "display_name": "Python 3",
   "language": "python",
   "name": "python3"
  },
  "language_info": {
   "codemirror_mode": {
    "name": "ipython",
    "version": 3
   },
   "file_extension": ".py",
   "mimetype": "text/x-python",
   "name": "python",
   "nbconvert_exporter": "python",
   "pygments_lexer": "ipython3",
   "version": "3.8.6"
  }
 },
 "nbformat": 4,
 "nbformat_minor": 5
}
