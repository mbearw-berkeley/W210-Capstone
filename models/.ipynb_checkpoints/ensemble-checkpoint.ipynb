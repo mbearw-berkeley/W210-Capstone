{
 "cells": [
  {
   "cell_type": "code",
   "execution_count": 3,
   "metadata": {
    "id": "odkz6q4ACC0p"
   },
   "outputs": [],
   "source": [
    "import pandas as pd\n",
    "import numpy as np\n",
    "#import tensorflow as tf\n",
    "#from keras.models import Sequential\n",
    "#from keras.layers import Dense"
   ]
  },
  {
   "cell_type": "code",
   "execution_count": 4,
   "metadata": {
    "id": "hHjAp6xpCJBJ"
   },
   "outputs": [],
   "source": [
    "df = pd.read_csv(\"../data/CleanData/Ensemble_inputs.csv\")"
   ]
  },
  {
   "cell_type": "code",
   "execution_count": 47,
   "metadata": {
    "id": "_DiR9UjrhSTn"
   },
   "outputs": [],
   "source": [
    "dfs = pd.read_csv(\"results_post_gridsearch.csv\")"
   ]
  },
  {
   "cell_type": "code",
   "execution_count": 5,
   "metadata": {
    "colab": {
     "base_uri": "https://localhost:8080/",
     "height": 582
    },
    "id": "6zZ2hoDAikOZ",
    "outputId": "62551779-15ef-4705-f9d2-774efb76d813"
   },
   "outputs": [
    {
     "ename": "NameError",
     "evalue": "name 'dfs' is not defined",
     "output_type": "error",
     "traceback": [
      "\u001b[1;31m---------------------------------------------------------------------------\u001b[0m",
      "\u001b[1;31mNameError\u001b[0m                                 Traceback (most recent call last)",
      "\u001b[1;32m<ipython-input-5-b4ba2fa0b5dc>\u001b[0m in \u001b[0;36m<module>\u001b[1;34m\u001b[0m\n\u001b[1;32m----> 1\u001b[1;33m \u001b[0mdfs\u001b[0m\u001b[1;33m\u001b[0m\u001b[1;33m\u001b[0m\u001b[0m\n\u001b[0m",
      "\u001b[1;31mNameError\u001b[0m: name 'dfs' is not defined"
     ]
    }
   ],
   "source": [
    "dfs"
   ]
  },
  {
   "cell_type": "code",
   "execution_count": 6,
   "metadata": {
    "colab": {
     "base_uri": "https://localhost:8080/",
     "height": 582
    },
    "id": "WCrp3-5oCs9i",
    "outputId": "089fca54-35e5-42ff-e6c8-f98f7cec97a0"
   },
   "outputs": [
    {
     "data": {
      "text/html": [
       "<div>\n",
       "<style scoped>\n",
       "    .dataframe tbody tr th:only-of-type {\n",
       "        vertical-align: middle;\n",
       "    }\n",
       "\n",
       "    .dataframe tbody tr th {\n",
       "        vertical-align: top;\n",
       "    }\n",
       "\n",
       "    .dataframe thead th {\n",
       "        text-align: right;\n",
       "    }\n",
       "</style>\n",
       "<table border=\"1\" class=\"dataframe\">\n",
       "  <thead>\n",
       "    <tr style=\"text-align: right;\">\n",
       "      <th></th>\n",
       "      <th>Unemployment</th>\n",
       "      <th>Unemployment actual</th>\n",
       "      <th>RealGDP</th>\n",
       "      <th>RealGDP actual</th>\n",
       "      <th>Core CPI</th>\n",
       "      <th>Core CPI actual</th>\n",
       "      <th>Core PCE</th>\n",
       "      <th>Core PCE actual</th>\n",
       "      <th>XGBoost Unemployment</th>\n",
       "      <th>XGBoost RealGDP</th>\n",
       "      <th>XGBoost Core CPI</th>\n",
       "      <th>XGBoost Core PCE</th>\n",
       "      <th>RandomForest Unemployment</th>\n",
       "      <th>RandomForest RealGDP</th>\n",
       "      <th>RandomForest Core CPI</th>\n",
       "      <th>RandomForest Core PCE</th>\n",
       "    </tr>\n",
       "  </thead>\n",
       "  <tbody>\n",
       "    <tr>\n",
       "      <th>0</th>\n",
       "      <td>Unemployment</td>\n",
       "      <td>3.683333</td>\n",
       "      <td>RealGDP</td>\n",
       "      <td>0.12219</td>\n",
       "      <td>Core CPI</td>\n",
       "      <td>1.994200</td>\n",
       "      <td>Core PCE</td>\n",
       "      <td>1.559324</td>\n",
       "      <td>4.211512</td>\n",
       "      <td>-2.012987</td>\n",
       "      <td>2.071996</td>\n",
       "      <td>1.565199</td>\n",
       "      <td>5.096548</td>\n",
       "      <td>-2.302936</td>\n",
       "      <td>2.011306</td>\n",
       "      <td>1.556049</td>\n",
       "    </tr>\n",
       "    <tr>\n",
       "      <th>1</th>\n",
       "      <td>Unemployment</td>\n",
       "      <td>9.608333</td>\n",
       "      <td>RealGDP</td>\n",
       "      <td>4.48139</td>\n",
       "      <td>Core CPI</td>\n",
       "      <td>1.994200</td>\n",
       "      <td>Core PCE</td>\n",
       "      <td>0.923599</td>\n",
       "      <td>9.320926</td>\n",
       "      <td>4.531895</td>\n",
       "      <td>1.920453</td>\n",
       "      <td>1.514309</td>\n",
       "      <td>9.473244</td>\n",
       "      <td>4.492776</td>\n",
       "      <td>1.928142</td>\n",
       "      <td>1.498557</td>\n",
       "    </tr>\n",
       "    <tr>\n",
       "      <th>2</th>\n",
       "      <td>Unemployment</td>\n",
       "      <td>8.933333</td>\n",
       "      <td>RealGDP</td>\n",
       "      <td>-2.59989</td>\n",
       "      <td>Core CPI</td>\n",
       "      <td>2.191476</td>\n",
       "      <td>Core PCE</td>\n",
       "      <td>1.664742</td>\n",
       "      <td>8.873712</td>\n",
       "      <td>-2.545449</td>\n",
       "      <td>1.958338</td>\n",
       "      <td>1.835796</td>\n",
       "      <td>8.654524</td>\n",
       "      <td>-2.599890</td>\n",
       "      <td>1.992068</td>\n",
       "      <td>1.859907</td>\n",
       "    </tr>\n",
       "    <tr>\n",
       "      <th>3</th>\n",
       "      <td>Unemployment</td>\n",
       "      <td>4.875000</td>\n",
       "      <td>RealGDP</td>\n",
       "      <td>2.68421</td>\n",
       "      <td>Core CPI</td>\n",
       "      <td>2.290573</td>\n",
       "      <td>Core PCE</td>\n",
       "      <td>1.821892</td>\n",
       "      <td>5.428789</td>\n",
       "      <td>3.159158</td>\n",
       "      <td>2.018655</td>\n",
       "      <td>1.549108</td>\n",
       "      <td>5.228887</td>\n",
       "      <td>2.837877</td>\n",
       "      <td>2.154794</td>\n",
       "      <td>1.556173</td>\n",
       "    </tr>\n",
       "    <tr>\n",
       "      <th>4</th>\n",
       "      <td>Unemployment</td>\n",
       "      <td>3.891667</td>\n",
       "      <td>RealGDP</td>\n",
       "      <td>-3.40459</td>\n",
       "      <td>Core CPI</td>\n",
       "      <td>1.750223</td>\n",
       "      <td>Core PCE</td>\n",
       "      <td>1.807526</td>\n",
       "      <td>4.454912</td>\n",
       "      <td>1.268150</td>\n",
       "      <td>1.262077</td>\n",
       "      <td>1.703812</td>\n",
       "      <td>4.128137</td>\n",
       "      <td>1.804374</td>\n",
       "      <td>1.501677</td>\n",
       "      <td>1.651084</td>\n",
       "    </tr>\n",
       "    <tr>\n",
       "      <th>5</th>\n",
       "      <td>Unemployment</td>\n",
       "      <td>5.275000</td>\n",
       "      <td>RealGDP</td>\n",
       "      <td>2.28069</td>\n",
       "      <td>Core CPI</td>\n",
       "      <td>2.174324</td>\n",
       "      <td>Core PCE</td>\n",
       "      <td>1.664742</td>\n",
       "      <td>6.788349</td>\n",
       "      <td>1.916486</td>\n",
       "      <td>1.646681</td>\n",
       "      <td>1.834477</td>\n",
       "      <td>7.128512</td>\n",
       "      <td>2.400206</td>\n",
       "      <td>2.105497</td>\n",
       "      <td>1.887801</td>\n",
       "    </tr>\n",
       "    <tr>\n",
       "      <th>6</th>\n",
       "      <td>Unemployment</td>\n",
       "      <td>4.875000</td>\n",
       "      <td>RealGDP</td>\n",
       "      <td>4.48139</td>\n",
       "      <td>Core CPI</td>\n",
       "      <td>0.645573</td>\n",
       "      <td>Core PCE</td>\n",
       "      <td>1.807526</td>\n",
       "      <td>4.180569</td>\n",
       "      <td>4.554674</td>\n",
       "      <td>1.010632</td>\n",
       "      <td>1.689451</td>\n",
       "      <td>4.086406</td>\n",
       "      <td>4.496631</td>\n",
       "      <td>0.894083</td>\n",
       "      <td>1.654550</td>\n",
       "    </tr>\n",
       "    <tr>\n",
       "      <th>7</th>\n",
       "      <td>Unemployment</td>\n",
       "      <td>4.350000</td>\n",
       "      <td>RealGDP</td>\n",
       "      <td>1.66747</td>\n",
       "      <td>Core CPI</td>\n",
       "      <td>1.742585</td>\n",
       "      <td>Core PCE</td>\n",
       "      <td>1.184167</td>\n",
       "      <td>4.435113</td>\n",
       "      <td>2.200533</td>\n",
       "      <td>1.937459</td>\n",
       "      <td>1.343718</td>\n",
       "      <td>4.476530</td>\n",
       "      <td>2.233687</td>\n",
       "      <td>2.065750</td>\n",
       "      <td>1.323880</td>\n",
       "    </tr>\n",
       "    <tr>\n",
       "      <th>8</th>\n",
       "      <td>Unemployment</td>\n",
       "      <td>4.350000</td>\n",
       "      <td>RealGDP</td>\n",
       "      <td>3.48322</td>\n",
       "      <td>Core CPI</td>\n",
       "      <td>1.949002</td>\n",
       "      <td>Core PCE</td>\n",
       "      <td>1.450287</td>\n",
       "      <td>4.491841</td>\n",
       "      <td>3.164743</td>\n",
       "      <td>2.016255</td>\n",
       "      <td>1.556219</td>\n",
       "      <td>4.412827</td>\n",
       "      <td>3.182335</td>\n",
       "      <td>2.066397</td>\n",
       "      <td>1.493057</td>\n",
       "    </tr>\n",
       "    <tr>\n",
       "      <th>9</th>\n",
       "      <td>Unemployment</td>\n",
       "      <td>5.275000</td>\n",
       "      <td>RealGDP</td>\n",
       "      <td>-3.40459</td>\n",
       "      <td>Core CPI</td>\n",
       "      <td>1.633581</td>\n",
       "      <td>Core PCE</td>\n",
       "      <td>1.821892</td>\n",
       "      <td>4.685955</td>\n",
       "      <td>0.331314</td>\n",
       "      <td>1.701727</td>\n",
       "      <td>1.592919</td>\n",
       "      <td>5.019831</td>\n",
       "      <td>0.740020</td>\n",
       "      <td>1.582525</td>\n",
       "      <td>1.478787</td>\n",
       "    </tr>\n",
       "    <tr>\n",
       "      <th>10</th>\n",
       "      <td>Unemployment</td>\n",
       "      <td>4.350000</td>\n",
       "      <td>RealGDP</td>\n",
       "      <td>2.28069</td>\n",
       "      <td>Core CPI</td>\n",
       "      <td>2.290573</td>\n",
       "      <td>Core PCE</td>\n",
       "      <td>1.821892</td>\n",
       "      <td>4.468960</td>\n",
       "      <td>2.186767</td>\n",
       "      <td>2.174854</td>\n",
       "      <td>1.727183</td>\n",
       "      <td>4.174008</td>\n",
       "      <td>2.078306</td>\n",
       "      <td>2.207198</td>\n",
       "      <td>1.811353</td>\n",
       "    </tr>\n",
       "    <tr>\n",
       "      <th>11</th>\n",
       "      <td>Unemployment</td>\n",
       "      <td>3.683333</td>\n",
       "      <td>RealGDP</td>\n",
       "      <td>3.77257</td>\n",
       "      <td>Core CPI</td>\n",
       "      <td>2.191476</td>\n",
       "      <td>Core PCE</td>\n",
       "      <td>1.529039</td>\n",
       "      <td>4.584361</td>\n",
       "      <td>4.207169</td>\n",
       "      <td>2.183831</td>\n",
       "      <td>1.611273</td>\n",
       "      <td>5.005437</td>\n",
       "      <td>4.338314</td>\n",
       "      <td>2.250463</td>\n",
       "      <td>1.550903</td>\n",
       "    </tr>\n",
       "    <tr>\n",
       "      <th>12</th>\n",
       "      <td>Unemployment</td>\n",
       "      <td>8.075000</td>\n",
       "      <td>RealGDP</td>\n",
       "      <td>2.70886</td>\n",
       "      <td>Core CPI</td>\n",
       "      <td>0.645573</td>\n",
       "      <td>Core PCE</td>\n",
       "      <td>1.578237</td>\n",
       "      <td>7.930826</td>\n",
       "      <td>1.970091</td>\n",
       "      <td>1.585646</td>\n",
       "      <td>1.696623</td>\n",
       "      <td>8.363899</td>\n",
       "      <td>1.919419</td>\n",
       "      <td>2.049320</td>\n",
       "      <td>1.716270</td>\n",
       "    </tr>\n",
       "    <tr>\n",
       "      <th>13</th>\n",
       "      <td>Unemployment</td>\n",
       "      <td>8.075000</td>\n",
       "      <td>RealGDP</td>\n",
       "      <td>2.28778</td>\n",
       "      <td>Core CPI</td>\n",
       "      <td>1.949002</td>\n",
       "      <td>Core PCE</td>\n",
       "      <td>1.559324</td>\n",
       "      <td>7.427298</td>\n",
       "      <td>2.101130</td>\n",
       "      <td>1.827619</td>\n",
       "      <td>1.539040</td>\n",
       "      <td>7.714797</td>\n",
       "      <td>2.164341</td>\n",
       "      <td>1.863642</td>\n",
       "      <td>1.555664</td>\n",
       "    </tr>\n",
       "    <tr>\n",
       "      <th>14</th>\n",
       "      <td>Unemployment</td>\n",
       "      <td>6.158333</td>\n",
       "      <td>RealGDP</td>\n",
       "      <td>1.54990</td>\n",
       "      <td>Core CPI</td>\n",
       "      <td>0.645573</td>\n",
       "      <td>Core PCE</td>\n",
       "      <td>1.578237</td>\n",
       "      <td>6.787695</td>\n",
       "      <td>1.723376</td>\n",
       "      <td>1.259888</td>\n",
       "      <td>1.560391</td>\n",
       "      <td>7.262530</td>\n",
       "      <td>1.597041</td>\n",
       "      <td>1.501677</td>\n",
       "      <td>1.545629</td>\n",
       "    </tr>\n",
       "    <tr>\n",
       "      <th>15</th>\n",
       "      <td>Unemployment</td>\n",
       "      <td>8.933333</td>\n",
       "      <td>RealGDP</td>\n",
       "      <td>2.70637</td>\n",
       "      <td>Core CPI</td>\n",
       "      <td>1.633581</td>\n",
       "      <td>Core PCE</td>\n",
       "      <td>1.382284</td>\n",
       "      <td>8.466259</td>\n",
       "      <td>2.216650</td>\n",
       "      <td>2.019673</td>\n",
       "      <td>1.351537</td>\n",
       "      <td>8.490506</td>\n",
       "      <td>2.519056</td>\n",
       "      <td>1.829036</td>\n",
       "      <td>1.383134</td>\n",
       "    </tr>\n",
       "    <tr>\n",
       "      <th>16</th>\n",
       "      <td>Unemployment</td>\n",
       "      <td>7.358333</td>\n",
       "      <td>RealGDP</td>\n",
       "      <td>3.48322</td>\n",
       "      <td>Core CPI</td>\n",
       "      <td>1.727100</td>\n",
       "      <td>Core PCE</td>\n",
       "      <td>1.184167</td>\n",
       "      <td>7.767553</td>\n",
       "      <td>3.574723</td>\n",
       "      <td>1.799191</td>\n",
       "      <td>1.527237</td>\n",
       "      <td>8.221071</td>\n",
       "      <td>3.232761</td>\n",
       "      <td>1.726393</td>\n",
       "      <td>1.745503</td>\n",
       "    </tr>\n",
       "    <tr>\n",
       "      <th>17</th>\n",
       "      <td>Unemployment</td>\n",
       "      <td>4.875000</td>\n",
       "      <td>RealGDP</td>\n",
       "      <td>2.78281</td>\n",
       "      <td>Core CPI</td>\n",
       "      <td>2.290573</td>\n",
       "      <td>Core PCE</td>\n",
       "      <td>1.184167</td>\n",
       "      <td>4.389169</td>\n",
       "      <td>2.772450</td>\n",
       "      <td>2.167798</td>\n",
       "      <td>1.320978</td>\n",
       "      <td>4.502081</td>\n",
       "      <td>2.910916</td>\n",
       "      <td>2.235409</td>\n",
       "      <td>1.285071</td>\n",
       "    </tr>\n",
       "    <tr>\n",
       "      <th>18</th>\n",
       "      <td>Unemployment</td>\n",
       "      <td>4.350000</td>\n",
       "      <td>RealGDP</td>\n",
       "      <td>3.52244</td>\n",
       "      <td>Core CPI</td>\n",
       "      <td>1.727100</td>\n",
       "      <td>Core PCE</td>\n",
       "      <td>1.450287</td>\n",
       "      <td>4.303118</td>\n",
       "      <td>3.415173</td>\n",
       "      <td>1.853894</td>\n",
       "      <td>1.485225</td>\n",
       "      <td>4.499487</td>\n",
       "      <td>3.500156</td>\n",
       "      <td>1.868883</td>\n",
       "      <td>1.535363</td>\n",
       "    </tr>\n",
       "    <tr>\n",
       "      <th>19</th>\n",
       "      <td>Unemployment</td>\n",
       "      <td>4.350000</td>\n",
       "      <td>RealGDP</td>\n",
       "      <td>0.12219</td>\n",
       "      <td>Core CPI</td>\n",
       "      <td>1.750223</td>\n",
       "      <td>Core PCE</td>\n",
       "      <td>1.664742</td>\n",
       "      <td>4.553443</td>\n",
       "      <td>1.515814</td>\n",
       "      <td>1.854074</td>\n",
       "      <td>1.752552</td>\n",
       "      <td>4.673829</td>\n",
       "      <td>1.769542</td>\n",
       "      <td>1.904946</td>\n",
       "      <td>1.737949</td>\n",
       "    </tr>\n",
       "    <tr>\n",
       "      <th>20</th>\n",
       "      <td>Unemployment</td>\n",
       "      <td>9.608333</td>\n",
       "      <td>RealGDP</td>\n",
       "      <td>0.95434</td>\n",
       "      <td>Core CPI</td>\n",
       "      <td>2.174324</td>\n",
       "      <td>Core PCE</td>\n",
       "      <td>1.821892</td>\n",
       "      <td>9.117358</td>\n",
       "      <td>1.154352</td>\n",
       "      <td>1.351851</td>\n",
       "      <td>1.668418</td>\n",
       "      <td>9.109792</td>\n",
       "      <td>1.193512</td>\n",
       "      <td>0.714366</td>\n",
       "      <td>1.710520</td>\n",
       "    </tr>\n",
       "    <tr>\n",
       "      <th>21</th>\n",
       "      <td>Unemployment</td>\n",
       "      <td>8.108333</td>\n",
       "      <td>RealGDP</td>\n",
       "      <td>-2.59989</td>\n",
       "      <td>Core CPI</td>\n",
       "      <td>2.290573</td>\n",
       "      <td>Core PCE</td>\n",
       "      <td>2.009623</td>\n",
       "      <td>8.031281</td>\n",
       "      <td>-0.326731</td>\n",
       "      <td>2.020513</td>\n",
       "      <td>1.836410</td>\n",
       "      <td>8.153065</td>\n",
       "      <td>-0.088153</td>\n",
       "      <td>1.859257</td>\n",
       "      <td>1.842927</td>\n",
       "    </tr>\n",
       "    <tr>\n",
       "      <th>22</th>\n",
       "      <td>Unemployment</td>\n",
       "      <td>7.358333</td>\n",
       "      <td>RealGDP</td>\n",
       "      <td>1.54990</td>\n",
       "      <td>Core CPI</td>\n",
       "      <td>1.633581</td>\n",
       "      <td>Core PCE</td>\n",
       "      <td>1.184167</td>\n",
       "      <td>7.075536</td>\n",
       "      <td>1.863106</td>\n",
       "      <td>1.743453</td>\n",
       "      <td>1.382463</td>\n",
       "      <td>7.149464</td>\n",
       "      <td>1.983305</td>\n",
       "      <td>1.622769</td>\n",
       "      <td>1.401948</td>\n",
       "    </tr>\n",
       "    <tr>\n",
       "      <th>23</th>\n",
       "      <td>Unemployment</td>\n",
       "      <td>9.283333</td>\n",
       "      <td>RealGDP</td>\n",
       "      <td>1.54990</td>\n",
       "      <td>Core CPI</td>\n",
       "      <td>2.182359</td>\n",
       "      <td>Core PCE</td>\n",
       "      <td>2.009623</td>\n",
       "      <td>9.319451</td>\n",
       "      <td>2.139496</td>\n",
       "      <td>1.964304</td>\n",
       "      <td>1.792845</td>\n",
       "      <td>9.067500</td>\n",
       "      <td>2.055856</td>\n",
       "      <td>2.115080</td>\n",
       "      <td>1.765032</td>\n",
       "    </tr>\n",
       "    <tr>\n",
       "      <th>24</th>\n",
       "      <td>Unemployment</td>\n",
       "      <td>9.608333</td>\n",
       "      <td>RealGDP</td>\n",
       "      <td>2.28778</td>\n",
       "      <td>Core CPI</td>\n",
       "      <td>2.174324</td>\n",
       "      <td>Core PCE</td>\n",
       "      <td>1.382284</td>\n",
       "      <td>9.333075</td>\n",
       "      <td>2.031463</td>\n",
       "      <td>1.994314</td>\n",
       "      <td>1.523025</td>\n",
       "      <td>9.466220</td>\n",
       "      <td>2.333709</td>\n",
       "      <td>2.024416</td>\n",
       "      <td>1.454329</td>\n",
       "    </tr>\n",
       "    <tr>\n",
       "      <th>25</th>\n",
       "      <td>Unemployment</td>\n",
       "      <td>4.350000</td>\n",
       "      <td>RealGDP</td>\n",
       "      <td>2.28069</td>\n",
       "      <td>Core CPI</td>\n",
       "      <td>1.723147</td>\n",
       "      <td>Core PCE</td>\n",
       "      <td>1.578237</td>\n",
       "      <td>4.505048</td>\n",
       "      <td>1.943110</td>\n",
       "      <td>1.789063</td>\n",
       "      <td>1.703860</td>\n",
       "      <td>4.425357</td>\n",
       "      <td>2.128889</td>\n",
       "      <td>1.724649</td>\n",
       "      <td>1.776837</td>\n",
       "    </tr>\n",
       "    <tr>\n",
       "      <th>26</th>\n",
       "      <td>Unemployment</td>\n",
       "      <td>6.158333</td>\n",
       "      <td>RealGDP</td>\n",
       "      <td>1.54990</td>\n",
       "      <td>Core CPI</td>\n",
       "      <td>1.723147</td>\n",
       "      <td>Core PCE</td>\n",
       "      <td>1.559324</td>\n",
       "      <td>5.385572</td>\n",
       "      <td>2.093625</td>\n",
       "      <td>1.788111</td>\n",
       "      <td>1.513781</td>\n",
       "      <td>5.425327</td>\n",
       "      <td>2.076257</td>\n",
       "      <td>1.723839</td>\n",
       "      <td>1.528569</td>\n",
       "    </tr>\n",
       "    <tr>\n",
       "      <th>27</th>\n",
       "      <td>Unemployment</td>\n",
       "      <td>5.275000</td>\n",
       "      <td>RealGDP</td>\n",
       "      <td>0.95434</td>\n",
       "      <td>Core CPI</td>\n",
       "      <td>0.645573</td>\n",
       "      <td>Core PCE</td>\n",
       "      <td>1.821892</td>\n",
       "      <td>4.832800</td>\n",
       "      <td>1.072883</td>\n",
       "      <td>1.599192</td>\n",
       "      <td>1.674599</td>\n",
       "      <td>5.210506</td>\n",
       "      <td>1.304183</td>\n",
       "      <td>1.849722</td>\n",
       "      <td>1.790121</td>\n",
       "    </tr>\n",
       "    <tr>\n",
       "      <th>28</th>\n",
       "      <td>Unemployment</td>\n",
       "      <td>4.875000</td>\n",
       "      <td>RealGDP</td>\n",
       "      <td>2.25568</td>\n",
       "      <td>Core CPI</td>\n",
       "      <td>1.742585</td>\n",
       "      <td>Core PCE</td>\n",
       "      <td>1.664742</td>\n",
       "      <td>4.457995</td>\n",
       "      <td>1.822543</td>\n",
       "      <td>1.966158</td>\n",
       "      <td>1.852143</td>\n",
       "      <td>4.735362</td>\n",
       "      <td>1.860915</td>\n",
       "      <td>2.066783</td>\n",
       "      <td>1.835735</td>\n",
       "    </tr>\n",
       "    <tr>\n",
       "      <th>29</th>\n",
       "      <td>Unemployment</td>\n",
       "      <td>3.683333</td>\n",
       "      <td>RealGDP</td>\n",
       "      <td>1.84187</td>\n",
       "      <td>Core CPI</td>\n",
       "      <td>0.645573</td>\n",
       "      <td>Core PCE</td>\n",
       "      <td>1.184167</td>\n",
       "      <td>4.200745</td>\n",
       "      <td>2.160613</td>\n",
       "      <td>1.182274</td>\n",
       "      <td>1.298812</td>\n",
       "      <td>4.157937</td>\n",
       "      <td>1.974081</td>\n",
       "      <td>1.402258</td>\n",
       "      <td>1.252914</td>\n",
       "    </tr>\n",
       "    <tr>\n",
       "      <th>...</th>\n",
       "      <td>...</td>\n",
       "      <td>...</td>\n",
       "      <td>...</td>\n",
       "      <td>...</td>\n",
       "      <td>...</td>\n",
       "      <td>...</td>\n",
       "      <td>...</td>\n",
       "      <td>...</td>\n",
       "      <td>...</td>\n",
       "      <td>...</td>\n",
       "      <td>...</td>\n",
       "      <td>...</td>\n",
       "      <td>...</td>\n",
       "      <td>...</td>\n",
       "      <td>...</td>\n",
       "      <td>...</td>\n",
       "    </tr>\n",
       "    <tr>\n",
       "      <th>2085</th>\n",
       "      <td>NaN</td>\n",
       "      <td>NaN</td>\n",
       "      <td>RealGDP</td>\n",
       "      <td>2.78281</td>\n",
       "      <td>NaN</td>\n",
       "      <td>NaN</td>\n",
       "      <td>NaN</td>\n",
       "      <td>NaN</td>\n",
       "      <td>NaN</td>\n",
       "      <td>2.390012</td>\n",
       "      <td>NaN</td>\n",
       "      <td>NaN</td>\n",
       "      <td>NaN</td>\n",
       "      <td>2.171991</td>\n",
       "      <td>NaN</td>\n",
       "      <td>NaN</td>\n",
       "    </tr>\n",
       "    <tr>\n",
       "      <th>2086</th>\n",
       "      <td>NaN</td>\n",
       "      <td>NaN</td>\n",
       "      <td>RealGDP</td>\n",
       "      <td>0.12219</td>\n",
       "      <td>NaN</td>\n",
       "      <td>NaN</td>\n",
       "      <td>NaN</td>\n",
       "      <td>NaN</td>\n",
       "      <td>NaN</td>\n",
       "      <td>-0.882184</td>\n",
       "      <td>NaN</td>\n",
       "      <td>NaN</td>\n",
       "      <td>NaN</td>\n",
       "      <td>-0.385107</td>\n",
       "      <td>NaN</td>\n",
       "      <td>NaN</td>\n",
       "    </tr>\n",
       "    <tr>\n",
       "      <th>2087</th>\n",
       "      <td>NaN</td>\n",
       "      <td>NaN</td>\n",
       "      <td>RealGDP</td>\n",
       "      <td>-3.40459</td>\n",
       "      <td>NaN</td>\n",
       "      <td>NaN</td>\n",
       "      <td>NaN</td>\n",
       "      <td>NaN</td>\n",
       "      <td>NaN</td>\n",
       "      <td>1.359901</td>\n",
       "      <td>NaN</td>\n",
       "      <td>NaN</td>\n",
       "      <td>NaN</td>\n",
       "      <td>0.686181</td>\n",
       "      <td>NaN</td>\n",
       "      <td>NaN</td>\n",
       "    </tr>\n",
       "    <tr>\n",
       "      <th>2088</th>\n",
       "      <td>NaN</td>\n",
       "      <td>NaN</td>\n",
       "      <td>RealGDP</td>\n",
       "      <td>2.28887</td>\n",
       "      <td>NaN</td>\n",
       "      <td>NaN</td>\n",
       "      <td>NaN</td>\n",
       "      <td>NaN</td>\n",
       "      <td>NaN</td>\n",
       "      <td>1.328269</td>\n",
       "      <td>NaN</td>\n",
       "      <td>NaN</td>\n",
       "      <td>NaN</td>\n",
       "      <td>1.276301</td>\n",
       "      <td>NaN</td>\n",
       "      <td>NaN</td>\n",
       "    </tr>\n",
       "    <tr>\n",
       "      <th>2089</th>\n",
       "      <td>NaN</td>\n",
       "      <td>NaN</td>\n",
       "      <td>RealGDP</td>\n",
       "      <td>-3.40459</td>\n",
       "      <td>NaN</td>\n",
       "      <td>NaN</td>\n",
       "      <td>NaN</td>\n",
       "      <td>NaN</td>\n",
       "      <td>NaN</td>\n",
       "      <td>-2.932355</td>\n",
       "      <td>NaN</td>\n",
       "      <td>NaN</td>\n",
       "      <td>NaN</td>\n",
       "      <td>-3.207399</td>\n",
       "      <td>NaN</td>\n",
       "      <td>NaN</td>\n",
       "    </tr>\n",
       "    <tr>\n",
       "      <th>2090</th>\n",
       "      <td>NaN</td>\n",
       "      <td>NaN</td>\n",
       "      <td>RealGDP</td>\n",
       "      <td>2.25568</td>\n",
       "      <td>NaN</td>\n",
       "      <td>NaN</td>\n",
       "      <td>NaN</td>\n",
       "      <td>NaN</td>\n",
       "      <td>NaN</td>\n",
       "      <td>2.402832</td>\n",
       "      <td>NaN</td>\n",
       "      <td>NaN</td>\n",
       "      <td>NaN</td>\n",
       "      <td>2.387157</td>\n",
       "      <td>NaN</td>\n",
       "      <td>NaN</td>\n",
       "    </tr>\n",
       "    <tr>\n",
       "      <th>2091</th>\n",
       "      <td>NaN</td>\n",
       "      <td>NaN</td>\n",
       "      <td>RealGDP</td>\n",
       "      <td>1.54990</td>\n",
       "      <td>NaN</td>\n",
       "      <td>NaN</td>\n",
       "      <td>NaN</td>\n",
       "      <td>NaN</td>\n",
       "      <td>NaN</td>\n",
       "      <td>2.266650</td>\n",
       "      <td>NaN</td>\n",
       "      <td>NaN</td>\n",
       "      <td>NaN</td>\n",
       "      <td>1.949310</td>\n",
       "      <td>NaN</td>\n",
       "      <td>NaN</td>\n",
       "    </tr>\n",
       "    <tr>\n",
       "      <th>2092</th>\n",
       "      <td>NaN</td>\n",
       "      <td>NaN</td>\n",
       "      <td>RealGDP</td>\n",
       "      <td>2.70637</td>\n",
       "      <td>NaN</td>\n",
       "      <td>NaN</td>\n",
       "      <td>NaN</td>\n",
       "      <td>NaN</td>\n",
       "      <td>NaN</td>\n",
       "      <td>2.398972</td>\n",
       "      <td>NaN</td>\n",
       "      <td>NaN</td>\n",
       "      <td>NaN</td>\n",
       "      <td>2.508822</td>\n",
       "      <td>NaN</td>\n",
       "      <td>NaN</td>\n",
       "    </tr>\n",
       "    <tr>\n",
       "      <th>2093</th>\n",
       "      <td>NaN</td>\n",
       "      <td>NaN</td>\n",
       "      <td>RealGDP</td>\n",
       "      <td>-2.59989</td>\n",
       "      <td>NaN</td>\n",
       "      <td>NaN</td>\n",
       "      <td>NaN</td>\n",
       "      <td>NaN</td>\n",
       "      <td>NaN</td>\n",
       "      <td>-2.454382</td>\n",
       "      <td>NaN</td>\n",
       "      <td>NaN</td>\n",
       "      <td>NaN</td>\n",
       "      <td>-2.599890</td>\n",
       "      <td>NaN</td>\n",
       "      <td>NaN</td>\n",
       "    </tr>\n",
       "    <tr>\n",
       "      <th>2094</th>\n",
       "      <td>NaN</td>\n",
       "      <td>NaN</td>\n",
       "      <td>RealGDP</td>\n",
       "      <td>1.66747</td>\n",
       "      <td>NaN</td>\n",
       "      <td>NaN</td>\n",
       "      <td>NaN</td>\n",
       "      <td>NaN</td>\n",
       "      <td>NaN</td>\n",
       "      <td>2.247502</td>\n",
       "      <td>NaN</td>\n",
       "      <td>NaN</td>\n",
       "      <td>NaN</td>\n",
       "      <td>2.239776</td>\n",
       "      <td>NaN</td>\n",
       "      <td>NaN</td>\n",
       "    </tr>\n",
       "    <tr>\n",
       "      <th>2095</th>\n",
       "      <td>NaN</td>\n",
       "      <td>NaN</td>\n",
       "      <td>RealGDP</td>\n",
       "      <td>2.28069</td>\n",
       "      <td>NaN</td>\n",
       "      <td>NaN</td>\n",
       "      <td>NaN</td>\n",
       "      <td>NaN</td>\n",
       "      <td>NaN</td>\n",
       "      <td>2.046041</td>\n",
       "      <td>NaN</td>\n",
       "      <td>NaN</td>\n",
       "      <td>NaN</td>\n",
       "      <td>2.039743</td>\n",
       "      <td>NaN</td>\n",
       "      <td>NaN</td>\n",
       "    </tr>\n",
       "    <tr>\n",
       "      <th>2096</th>\n",
       "      <td>NaN</td>\n",
       "      <td>NaN</td>\n",
       "      <td>RealGDP</td>\n",
       "      <td>2.28069</td>\n",
       "      <td>NaN</td>\n",
       "      <td>NaN</td>\n",
       "      <td>NaN</td>\n",
       "      <td>NaN</td>\n",
       "      <td>NaN</td>\n",
       "      <td>2.118556</td>\n",
       "      <td>NaN</td>\n",
       "      <td>NaN</td>\n",
       "      <td>NaN</td>\n",
       "      <td>2.056631</td>\n",
       "      <td>NaN</td>\n",
       "      <td>NaN</td>\n",
       "    </tr>\n",
       "    <tr>\n",
       "      <th>2097</th>\n",
       "      <td>NaN</td>\n",
       "      <td>NaN</td>\n",
       "      <td>RealGDP</td>\n",
       "      <td>3.48322</td>\n",
       "      <td>NaN</td>\n",
       "      <td>NaN</td>\n",
       "      <td>NaN</td>\n",
       "      <td>NaN</td>\n",
       "      <td>NaN</td>\n",
       "      <td>3.547539</td>\n",
       "      <td>NaN</td>\n",
       "      <td>NaN</td>\n",
       "      <td>NaN</td>\n",
       "      <td>3.023875</td>\n",
       "      <td>NaN</td>\n",
       "      <td>NaN</td>\n",
       "    </tr>\n",
       "    <tr>\n",
       "      <th>2098</th>\n",
       "      <td>NaN</td>\n",
       "      <td>NaN</td>\n",
       "      <td>RealGDP</td>\n",
       "      <td>2.25568</td>\n",
       "      <td>NaN</td>\n",
       "      <td>NaN</td>\n",
       "      <td>NaN</td>\n",
       "      <td>NaN</td>\n",
       "      <td>NaN</td>\n",
       "      <td>2.354289</td>\n",
       "      <td>NaN</td>\n",
       "      <td>NaN</td>\n",
       "      <td>NaN</td>\n",
       "      <td>2.285382</td>\n",
       "      <td>NaN</td>\n",
       "      <td>NaN</td>\n",
       "    </tr>\n",
       "    <tr>\n",
       "      <th>2099</th>\n",
       "      <td>NaN</td>\n",
       "      <td>NaN</td>\n",
       "      <td>RealGDP</td>\n",
       "      <td>3.48322</td>\n",
       "      <td>NaN</td>\n",
       "      <td>NaN</td>\n",
       "      <td>NaN</td>\n",
       "      <td>NaN</td>\n",
       "      <td>NaN</td>\n",
       "      <td>3.015465</td>\n",
       "      <td>NaN</td>\n",
       "      <td>NaN</td>\n",
       "      <td>NaN</td>\n",
       "      <td>3.134694</td>\n",
       "      <td>NaN</td>\n",
       "      <td>NaN</td>\n",
       "    </tr>\n",
       "    <tr>\n",
       "      <th>2100</th>\n",
       "      <td>NaN</td>\n",
       "      <td>NaN</td>\n",
       "      <td>RealGDP</td>\n",
       "      <td>2.25568</td>\n",
       "      <td>NaN</td>\n",
       "      <td>NaN</td>\n",
       "      <td>NaN</td>\n",
       "      <td>NaN</td>\n",
       "      <td>NaN</td>\n",
       "      <td>2.403350</td>\n",
       "      <td>NaN</td>\n",
       "      <td>NaN</td>\n",
       "      <td>NaN</td>\n",
       "      <td>1.930030</td>\n",
       "      <td>NaN</td>\n",
       "      <td>NaN</td>\n",
       "    </tr>\n",
       "    <tr>\n",
       "      <th>2101</th>\n",
       "      <td>NaN</td>\n",
       "      <td>NaN</td>\n",
       "      <td>RealGDP</td>\n",
       "      <td>2.01051</td>\n",
       "      <td>NaN</td>\n",
       "      <td>NaN</td>\n",
       "      <td>NaN</td>\n",
       "      <td>NaN</td>\n",
       "      <td>NaN</td>\n",
       "      <td>1.652578</td>\n",
       "      <td>NaN</td>\n",
       "      <td>NaN</td>\n",
       "      <td>NaN</td>\n",
       "      <td>1.877475</td>\n",
       "      <td>NaN</td>\n",
       "      <td>NaN</td>\n",
       "    </tr>\n",
       "    <tr>\n",
       "      <th>2102</th>\n",
       "      <td>NaN</td>\n",
       "      <td>NaN</td>\n",
       "      <td>RealGDP</td>\n",
       "      <td>2.28069</td>\n",
       "      <td>NaN</td>\n",
       "      <td>NaN</td>\n",
       "      <td>NaN</td>\n",
       "      <td>NaN</td>\n",
       "      <td>NaN</td>\n",
       "      <td>2.048167</td>\n",
       "      <td>NaN</td>\n",
       "      <td>NaN</td>\n",
       "      <td>NaN</td>\n",
       "      <td>1.759109</td>\n",
       "      <td>NaN</td>\n",
       "      <td>NaN</td>\n",
       "    </tr>\n",
       "    <tr>\n",
       "      <th>2103</th>\n",
       "      <td>NaN</td>\n",
       "      <td>NaN</td>\n",
       "      <td>RealGDP</td>\n",
       "      <td>2.79621</td>\n",
       "      <td>NaN</td>\n",
       "      <td>NaN</td>\n",
       "      <td>NaN</td>\n",
       "      <td>NaN</td>\n",
       "      <td>NaN</td>\n",
       "      <td>2.969962</td>\n",
       "      <td>NaN</td>\n",
       "      <td>NaN</td>\n",
       "      <td>NaN</td>\n",
       "      <td>2.973135</td>\n",
       "      <td>NaN</td>\n",
       "      <td>NaN</td>\n",
       "    </tr>\n",
       "    <tr>\n",
       "      <th>2104</th>\n",
       "      <td>NaN</td>\n",
       "      <td>NaN</td>\n",
       "      <td>RealGDP</td>\n",
       "      <td>2.68421</td>\n",
       "      <td>NaN</td>\n",
       "      <td>NaN</td>\n",
       "      <td>NaN</td>\n",
       "      <td>NaN</td>\n",
       "      <td>NaN</td>\n",
       "      <td>2.844384</td>\n",
       "      <td>NaN</td>\n",
       "      <td>NaN</td>\n",
       "      <td>NaN</td>\n",
       "      <td>2.711275</td>\n",
       "      <td>NaN</td>\n",
       "      <td>NaN</td>\n",
       "    </tr>\n",
       "    <tr>\n",
       "      <th>2105</th>\n",
       "      <td>NaN</td>\n",
       "      <td>NaN</td>\n",
       "      <td>RealGDP</td>\n",
       "      <td>4.44717</td>\n",
       "      <td>NaN</td>\n",
       "      <td>NaN</td>\n",
       "      <td>NaN</td>\n",
       "      <td>NaN</td>\n",
       "      <td>NaN</td>\n",
       "      <td>4.411243</td>\n",
       "      <td>NaN</td>\n",
       "      <td>NaN</td>\n",
       "      <td>NaN</td>\n",
       "      <td>4.444721</td>\n",
       "      <td>NaN</td>\n",
       "      <td>NaN</td>\n",
       "    </tr>\n",
       "    <tr>\n",
       "      <th>2106</th>\n",
       "      <td>NaN</td>\n",
       "      <td>NaN</td>\n",
       "      <td>RealGDP</td>\n",
       "      <td>4.44717</td>\n",
       "      <td>NaN</td>\n",
       "      <td>NaN</td>\n",
       "      <td>NaN</td>\n",
       "      <td>NaN</td>\n",
       "      <td>NaN</td>\n",
       "      <td>3.907781</td>\n",
       "      <td>NaN</td>\n",
       "      <td>NaN</td>\n",
       "      <td>NaN</td>\n",
       "      <td>3.895225</td>\n",
       "      <td>NaN</td>\n",
       "      <td>NaN</td>\n",
       "    </tr>\n",
       "    <tr>\n",
       "      <th>2107</th>\n",
       "      <td>NaN</td>\n",
       "      <td>NaN</td>\n",
       "      <td>RealGDP</td>\n",
       "      <td>2.70637</td>\n",
       "      <td>NaN</td>\n",
       "      <td>NaN</td>\n",
       "      <td>NaN</td>\n",
       "      <td>NaN</td>\n",
       "      <td>NaN</td>\n",
       "      <td>2.284795</td>\n",
       "      <td>NaN</td>\n",
       "      <td>NaN</td>\n",
       "      <td>NaN</td>\n",
       "      <td>2.494834</td>\n",
       "      <td>NaN</td>\n",
       "      <td>NaN</td>\n",
       "    </tr>\n",
       "    <tr>\n",
       "      <th>2108</th>\n",
       "      <td>NaN</td>\n",
       "      <td>NaN</td>\n",
       "      <td>RealGDP</td>\n",
       "      <td>2.68421</td>\n",
       "      <td>NaN</td>\n",
       "      <td>NaN</td>\n",
       "      <td>NaN</td>\n",
       "      <td>NaN</td>\n",
       "      <td>NaN</td>\n",
       "      <td>3.115910</td>\n",
       "      <td>NaN</td>\n",
       "      <td>NaN</td>\n",
       "      <td>NaN</td>\n",
       "      <td>2.931565</td>\n",
       "      <td>NaN</td>\n",
       "      <td>NaN</td>\n",
       "    </tr>\n",
       "    <tr>\n",
       "      <th>2109</th>\n",
       "      <td>NaN</td>\n",
       "      <td>NaN</td>\n",
       "      <td>RealGDP</td>\n",
       "      <td>2.70886</td>\n",
       "      <td>NaN</td>\n",
       "      <td>NaN</td>\n",
       "      <td>NaN</td>\n",
       "      <td>NaN</td>\n",
       "      <td>NaN</td>\n",
       "      <td>2.193980</td>\n",
       "      <td>NaN</td>\n",
       "      <td>NaN</td>\n",
       "      <td>NaN</td>\n",
       "      <td>2.410022</td>\n",
       "      <td>NaN</td>\n",
       "      <td>NaN</td>\n",
       "    </tr>\n",
       "    <tr>\n",
       "      <th>2110</th>\n",
       "      <td>NaN</td>\n",
       "      <td>NaN</td>\n",
       "      <td>RealGDP</td>\n",
       "      <td>1.66747</td>\n",
       "      <td>NaN</td>\n",
       "      <td>NaN</td>\n",
       "      <td>NaN</td>\n",
       "      <td>NaN</td>\n",
       "      <td>NaN</td>\n",
       "      <td>2.374355</td>\n",
       "      <td>NaN</td>\n",
       "      <td>NaN</td>\n",
       "      <td>NaN</td>\n",
       "      <td>2.668563</td>\n",
       "      <td>NaN</td>\n",
       "      <td>NaN</td>\n",
       "    </tr>\n",
       "    <tr>\n",
       "      <th>2111</th>\n",
       "      <td>NaN</td>\n",
       "      <td>NaN</td>\n",
       "      <td>RealGDP</td>\n",
       "      <td>2.28069</td>\n",
       "      <td>NaN</td>\n",
       "      <td>NaN</td>\n",
       "      <td>NaN</td>\n",
       "      <td>NaN</td>\n",
       "      <td>NaN</td>\n",
       "      <td>2.084629</td>\n",
       "      <td>NaN</td>\n",
       "      <td>NaN</td>\n",
       "      <td>NaN</td>\n",
       "      <td>1.929529</td>\n",
       "      <td>NaN</td>\n",
       "      <td>NaN</td>\n",
       "    </tr>\n",
       "    <tr>\n",
       "      <th>2112</th>\n",
       "      <td>NaN</td>\n",
       "      <td>NaN</td>\n",
       "      <td>RealGDP</td>\n",
       "      <td>2.75179</td>\n",
       "      <td>NaN</td>\n",
       "      <td>NaN</td>\n",
       "      <td>NaN</td>\n",
       "      <td>NaN</td>\n",
       "      <td>NaN</td>\n",
       "      <td>3.032074</td>\n",
       "      <td>NaN</td>\n",
       "      <td>NaN</td>\n",
       "      <td>NaN</td>\n",
       "      <td>3.283464</td>\n",
       "      <td>NaN</td>\n",
       "      <td>NaN</td>\n",
       "    </tr>\n",
       "    <tr>\n",
       "      <th>2113</th>\n",
       "      <td>NaN</td>\n",
       "      <td>NaN</td>\n",
       "      <td>RealGDP</td>\n",
       "      <td>3.77257</td>\n",
       "      <td>NaN</td>\n",
       "      <td>NaN</td>\n",
       "      <td>NaN</td>\n",
       "      <td>NaN</td>\n",
       "      <td>NaN</td>\n",
       "      <td>3.903992</td>\n",
       "      <td>NaN</td>\n",
       "      <td>NaN</td>\n",
       "      <td>NaN</td>\n",
       "      <td>3.775636</td>\n",
       "      <td>NaN</td>\n",
       "      <td>NaN</td>\n",
       "    </tr>\n",
       "    <tr>\n",
       "      <th>2114</th>\n",
       "      <td>NaN</td>\n",
       "      <td>NaN</td>\n",
       "      <td>RealGDP</td>\n",
       "      <td>3.48322</td>\n",
       "      <td>NaN</td>\n",
       "      <td>NaN</td>\n",
       "      <td>NaN</td>\n",
       "      <td>NaN</td>\n",
       "      <td>NaN</td>\n",
       "      <td>3.781668</td>\n",
       "      <td>NaN</td>\n",
       "      <td>NaN</td>\n",
       "      <td>NaN</td>\n",
       "      <td>3.609758</td>\n",
       "      <td>NaN</td>\n",
       "      <td>NaN</td>\n",
       "    </tr>\n",
       "  </tbody>\n",
       "</table>\n",
       "<p>2115 rows × 16 columns</p>\n",
       "</div>"
      ],
      "text/plain": [
       "      Unemployment  Unemployment actual  RealGDP  RealGDP actual  Core CPI  \\\n",
       "0     Unemployment             3.683333  RealGDP         0.12219  Core CPI   \n",
       "1     Unemployment             9.608333  RealGDP         4.48139  Core CPI   \n",
       "2     Unemployment             8.933333  RealGDP        -2.59989  Core CPI   \n",
       "3     Unemployment             4.875000  RealGDP         2.68421  Core CPI   \n",
       "4     Unemployment             3.891667  RealGDP        -3.40459  Core CPI   \n",
       "5     Unemployment             5.275000  RealGDP         2.28069  Core CPI   \n",
       "6     Unemployment             4.875000  RealGDP         4.48139  Core CPI   \n",
       "7     Unemployment             4.350000  RealGDP         1.66747  Core CPI   \n",
       "8     Unemployment             4.350000  RealGDP         3.48322  Core CPI   \n",
       "9     Unemployment             5.275000  RealGDP        -3.40459  Core CPI   \n",
       "10    Unemployment             4.350000  RealGDP         2.28069  Core CPI   \n",
       "11    Unemployment             3.683333  RealGDP         3.77257  Core CPI   \n",
       "12    Unemployment             8.075000  RealGDP         2.70886  Core CPI   \n",
       "13    Unemployment             8.075000  RealGDP         2.28778  Core CPI   \n",
       "14    Unemployment             6.158333  RealGDP         1.54990  Core CPI   \n",
       "15    Unemployment             8.933333  RealGDP         2.70637  Core CPI   \n",
       "16    Unemployment             7.358333  RealGDP         3.48322  Core CPI   \n",
       "17    Unemployment             4.875000  RealGDP         2.78281  Core CPI   \n",
       "18    Unemployment             4.350000  RealGDP         3.52244  Core CPI   \n",
       "19    Unemployment             4.350000  RealGDP         0.12219  Core CPI   \n",
       "20    Unemployment             9.608333  RealGDP         0.95434  Core CPI   \n",
       "21    Unemployment             8.108333  RealGDP        -2.59989  Core CPI   \n",
       "22    Unemployment             7.358333  RealGDP         1.54990  Core CPI   \n",
       "23    Unemployment             9.283333  RealGDP         1.54990  Core CPI   \n",
       "24    Unemployment             9.608333  RealGDP         2.28778  Core CPI   \n",
       "25    Unemployment             4.350000  RealGDP         2.28069  Core CPI   \n",
       "26    Unemployment             6.158333  RealGDP         1.54990  Core CPI   \n",
       "27    Unemployment             5.275000  RealGDP         0.95434  Core CPI   \n",
       "28    Unemployment             4.875000  RealGDP         2.25568  Core CPI   \n",
       "29    Unemployment             3.683333  RealGDP         1.84187  Core CPI   \n",
       "...            ...                  ...      ...             ...       ...   \n",
       "2085           NaN                  NaN  RealGDP         2.78281       NaN   \n",
       "2086           NaN                  NaN  RealGDP         0.12219       NaN   \n",
       "2087           NaN                  NaN  RealGDP        -3.40459       NaN   \n",
       "2088           NaN                  NaN  RealGDP         2.28887       NaN   \n",
       "2089           NaN                  NaN  RealGDP        -3.40459       NaN   \n",
       "2090           NaN                  NaN  RealGDP         2.25568       NaN   \n",
       "2091           NaN                  NaN  RealGDP         1.54990       NaN   \n",
       "2092           NaN                  NaN  RealGDP         2.70637       NaN   \n",
       "2093           NaN                  NaN  RealGDP        -2.59989       NaN   \n",
       "2094           NaN                  NaN  RealGDP         1.66747       NaN   \n",
       "2095           NaN                  NaN  RealGDP         2.28069       NaN   \n",
       "2096           NaN                  NaN  RealGDP         2.28069       NaN   \n",
       "2097           NaN                  NaN  RealGDP         3.48322       NaN   \n",
       "2098           NaN                  NaN  RealGDP         2.25568       NaN   \n",
       "2099           NaN                  NaN  RealGDP         3.48322       NaN   \n",
       "2100           NaN                  NaN  RealGDP         2.25568       NaN   \n",
       "2101           NaN                  NaN  RealGDP         2.01051       NaN   \n",
       "2102           NaN                  NaN  RealGDP         2.28069       NaN   \n",
       "2103           NaN                  NaN  RealGDP         2.79621       NaN   \n",
       "2104           NaN                  NaN  RealGDP         2.68421       NaN   \n",
       "2105           NaN                  NaN  RealGDP         4.44717       NaN   \n",
       "2106           NaN                  NaN  RealGDP         4.44717       NaN   \n",
       "2107           NaN                  NaN  RealGDP         2.70637       NaN   \n",
       "2108           NaN                  NaN  RealGDP         2.68421       NaN   \n",
       "2109           NaN                  NaN  RealGDP         2.70886       NaN   \n",
       "2110           NaN                  NaN  RealGDP         1.66747       NaN   \n",
       "2111           NaN                  NaN  RealGDP         2.28069       NaN   \n",
       "2112           NaN                  NaN  RealGDP         2.75179       NaN   \n",
       "2113           NaN                  NaN  RealGDP         3.77257       NaN   \n",
       "2114           NaN                  NaN  RealGDP         3.48322       NaN   \n",
       "\n",
       "      Core CPI actual  Core PCE  Core PCE actual  XGBoost Unemployment  \\\n",
       "0            1.994200  Core PCE         1.559324              4.211512   \n",
       "1            1.994200  Core PCE         0.923599              9.320926   \n",
       "2            2.191476  Core PCE         1.664742              8.873712   \n",
       "3            2.290573  Core PCE         1.821892              5.428789   \n",
       "4            1.750223  Core PCE         1.807526              4.454912   \n",
       "5            2.174324  Core PCE         1.664742              6.788349   \n",
       "6            0.645573  Core PCE         1.807526              4.180569   \n",
       "7            1.742585  Core PCE         1.184167              4.435113   \n",
       "8            1.949002  Core PCE         1.450287              4.491841   \n",
       "9            1.633581  Core PCE         1.821892              4.685955   \n",
       "10           2.290573  Core PCE         1.821892              4.468960   \n",
       "11           2.191476  Core PCE         1.529039              4.584361   \n",
       "12           0.645573  Core PCE         1.578237              7.930826   \n",
       "13           1.949002  Core PCE         1.559324              7.427298   \n",
       "14           0.645573  Core PCE         1.578237              6.787695   \n",
       "15           1.633581  Core PCE         1.382284              8.466259   \n",
       "16           1.727100  Core PCE         1.184167              7.767553   \n",
       "17           2.290573  Core PCE         1.184167              4.389169   \n",
       "18           1.727100  Core PCE         1.450287              4.303118   \n",
       "19           1.750223  Core PCE         1.664742              4.553443   \n",
       "20           2.174324  Core PCE         1.821892              9.117358   \n",
       "21           2.290573  Core PCE         2.009623              8.031281   \n",
       "22           1.633581  Core PCE         1.184167              7.075536   \n",
       "23           2.182359  Core PCE         2.009623              9.319451   \n",
       "24           2.174324  Core PCE         1.382284              9.333075   \n",
       "25           1.723147  Core PCE         1.578237              4.505048   \n",
       "26           1.723147  Core PCE         1.559324              5.385572   \n",
       "27           0.645573  Core PCE         1.821892              4.832800   \n",
       "28           1.742585  Core PCE         1.664742              4.457995   \n",
       "29           0.645573  Core PCE         1.184167              4.200745   \n",
       "...               ...       ...              ...                   ...   \n",
       "2085              NaN       NaN              NaN                   NaN   \n",
       "2086              NaN       NaN              NaN                   NaN   \n",
       "2087              NaN       NaN              NaN                   NaN   \n",
       "2088              NaN       NaN              NaN                   NaN   \n",
       "2089              NaN       NaN              NaN                   NaN   \n",
       "2090              NaN       NaN              NaN                   NaN   \n",
       "2091              NaN       NaN              NaN                   NaN   \n",
       "2092              NaN       NaN              NaN                   NaN   \n",
       "2093              NaN       NaN              NaN                   NaN   \n",
       "2094              NaN       NaN              NaN                   NaN   \n",
       "2095              NaN       NaN              NaN                   NaN   \n",
       "2096              NaN       NaN              NaN                   NaN   \n",
       "2097              NaN       NaN              NaN                   NaN   \n",
       "2098              NaN       NaN              NaN                   NaN   \n",
       "2099              NaN       NaN              NaN                   NaN   \n",
       "2100              NaN       NaN              NaN                   NaN   \n",
       "2101              NaN       NaN              NaN                   NaN   \n",
       "2102              NaN       NaN              NaN                   NaN   \n",
       "2103              NaN       NaN              NaN                   NaN   \n",
       "2104              NaN       NaN              NaN                   NaN   \n",
       "2105              NaN       NaN              NaN                   NaN   \n",
       "2106              NaN       NaN              NaN                   NaN   \n",
       "2107              NaN       NaN              NaN                   NaN   \n",
       "2108              NaN       NaN              NaN                   NaN   \n",
       "2109              NaN       NaN              NaN                   NaN   \n",
       "2110              NaN       NaN              NaN                   NaN   \n",
       "2111              NaN       NaN              NaN                   NaN   \n",
       "2112              NaN       NaN              NaN                   NaN   \n",
       "2113              NaN       NaN              NaN                   NaN   \n",
       "2114              NaN       NaN              NaN                   NaN   \n",
       "\n",
       "      XGBoost RealGDP  XGBoost Core CPI  XGBoost Core PCE  \\\n",
       "0           -2.012987          2.071996          1.565199   \n",
       "1            4.531895          1.920453          1.514309   \n",
       "2           -2.545449          1.958338          1.835796   \n",
       "3            3.159158          2.018655          1.549108   \n",
       "4            1.268150          1.262077          1.703812   \n",
       "5            1.916486          1.646681          1.834477   \n",
       "6            4.554674          1.010632          1.689451   \n",
       "7            2.200533          1.937459          1.343718   \n",
       "8            3.164743          2.016255          1.556219   \n",
       "9            0.331314          1.701727          1.592919   \n",
       "10           2.186767          2.174854          1.727183   \n",
       "11           4.207169          2.183831          1.611273   \n",
       "12           1.970091          1.585646          1.696623   \n",
       "13           2.101130          1.827619          1.539040   \n",
       "14           1.723376          1.259888          1.560391   \n",
       "15           2.216650          2.019673          1.351537   \n",
       "16           3.574723          1.799191          1.527237   \n",
       "17           2.772450          2.167798          1.320978   \n",
       "18           3.415173          1.853894          1.485225   \n",
       "19           1.515814          1.854074          1.752552   \n",
       "20           1.154352          1.351851          1.668418   \n",
       "21          -0.326731          2.020513          1.836410   \n",
       "22           1.863106          1.743453          1.382463   \n",
       "23           2.139496          1.964304          1.792845   \n",
       "24           2.031463          1.994314          1.523025   \n",
       "25           1.943110          1.789063          1.703860   \n",
       "26           2.093625          1.788111          1.513781   \n",
       "27           1.072883          1.599192          1.674599   \n",
       "28           1.822543          1.966158          1.852143   \n",
       "29           2.160613          1.182274          1.298812   \n",
       "...               ...               ...               ...   \n",
       "2085         2.390012               NaN               NaN   \n",
       "2086        -0.882184               NaN               NaN   \n",
       "2087         1.359901               NaN               NaN   \n",
       "2088         1.328269               NaN               NaN   \n",
       "2089        -2.932355               NaN               NaN   \n",
       "2090         2.402832               NaN               NaN   \n",
       "2091         2.266650               NaN               NaN   \n",
       "2092         2.398972               NaN               NaN   \n",
       "2093        -2.454382               NaN               NaN   \n",
       "2094         2.247502               NaN               NaN   \n",
       "2095         2.046041               NaN               NaN   \n",
       "2096         2.118556               NaN               NaN   \n",
       "2097         3.547539               NaN               NaN   \n",
       "2098         2.354289               NaN               NaN   \n",
       "2099         3.015465               NaN               NaN   \n",
       "2100         2.403350               NaN               NaN   \n",
       "2101         1.652578               NaN               NaN   \n",
       "2102         2.048167               NaN               NaN   \n",
       "2103         2.969962               NaN               NaN   \n",
       "2104         2.844384               NaN               NaN   \n",
       "2105         4.411243               NaN               NaN   \n",
       "2106         3.907781               NaN               NaN   \n",
       "2107         2.284795               NaN               NaN   \n",
       "2108         3.115910               NaN               NaN   \n",
       "2109         2.193980               NaN               NaN   \n",
       "2110         2.374355               NaN               NaN   \n",
       "2111         2.084629               NaN               NaN   \n",
       "2112         3.032074               NaN               NaN   \n",
       "2113         3.903992               NaN               NaN   \n",
       "2114         3.781668               NaN               NaN   \n",
       "\n",
       "      RandomForest Unemployment  RandomForest RealGDP  RandomForest Core CPI  \\\n",
       "0                      5.096548             -2.302936               2.011306   \n",
       "1                      9.473244              4.492776               1.928142   \n",
       "2                      8.654524             -2.599890               1.992068   \n",
       "3                      5.228887              2.837877               2.154794   \n",
       "4                      4.128137              1.804374               1.501677   \n",
       "5                      7.128512              2.400206               2.105497   \n",
       "6                      4.086406              4.496631               0.894083   \n",
       "7                      4.476530              2.233687               2.065750   \n",
       "8                      4.412827              3.182335               2.066397   \n",
       "9                      5.019831              0.740020               1.582525   \n",
       "10                     4.174008              2.078306               2.207198   \n",
       "11                     5.005437              4.338314               2.250463   \n",
       "12                     8.363899              1.919419               2.049320   \n",
       "13                     7.714797              2.164341               1.863642   \n",
       "14                     7.262530              1.597041               1.501677   \n",
       "15                     8.490506              2.519056               1.829036   \n",
       "16                     8.221071              3.232761               1.726393   \n",
       "17                     4.502081              2.910916               2.235409   \n",
       "18                     4.499487              3.500156               1.868883   \n",
       "19                     4.673829              1.769542               1.904946   \n",
       "20                     9.109792              1.193512               0.714366   \n",
       "21                     8.153065             -0.088153               1.859257   \n",
       "22                     7.149464              1.983305               1.622769   \n",
       "23                     9.067500              2.055856               2.115080   \n",
       "24                     9.466220              2.333709               2.024416   \n",
       "25                     4.425357              2.128889               1.724649   \n",
       "26                     5.425327              2.076257               1.723839   \n",
       "27                     5.210506              1.304183               1.849722   \n",
       "28                     4.735362              1.860915               2.066783   \n",
       "29                     4.157937              1.974081               1.402258   \n",
       "...                         ...                   ...                    ...   \n",
       "2085                        NaN              2.171991                    NaN   \n",
       "2086                        NaN             -0.385107                    NaN   \n",
       "2087                        NaN              0.686181                    NaN   \n",
       "2088                        NaN              1.276301                    NaN   \n",
       "2089                        NaN             -3.207399                    NaN   \n",
       "2090                        NaN              2.387157                    NaN   \n",
       "2091                        NaN              1.949310                    NaN   \n",
       "2092                        NaN              2.508822                    NaN   \n",
       "2093                        NaN             -2.599890                    NaN   \n",
       "2094                        NaN              2.239776                    NaN   \n",
       "2095                        NaN              2.039743                    NaN   \n",
       "2096                        NaN              2.056631                    NaN   \n",
       "2097                        NaN              3.023875                    NaN   \n",
       "2098                        NaN              2.285382                    NaN   \n",
       "2099                        NaN              3.134694                    NaN   \n",
       "2100                        NaN              1.930030                    NaN   \n",
       "2101                        NaN              1.877475                    NaN   \n",
       "2102                        NaN              1.759109                    NaN   \n",
       "2103                        NaN              2.973135                    NaN   \n",
       "2104                        NaN              2.711275                    NaN   \n",
       "2105                        NaN              4.444721                    NaN   \n",
       "2106                        NaN              3.895225                    NaN   \n",
       "2107                        NaN              2.494834                    NaN   \n",
       "2108                        NaN              2.931565                    NaN   \n",
       "2109                        NaN              2.410022                    NaN   \n",
       "2110                        NaN              2.668563                    NaN   \n",
       "2111                        NaN              1.929529                    NaN   \n",
       "2112                        NaN              3.283464                    NaN   \n",
       "2113                        NaN              3.775636                    NaN   \n",
       "2114                        NaN              3.609758                    NaN   \n",
       "\n",
       "      RandomForest Core PCE  \n",
       "0                  1.556049  \n",
       "1                  1.498557  \n",
       "2                  1.859907  \n",
       "3                  1.556173  \n",
       "4                  1.651084  \n",
       "5                  1.887801  \n",
       "6                  1.654550  \n",
       "7                  1.323880  \n",
       "8                  1.493057  \n",
       "9                  1.478787  \n",
       "10                 1.811353  \n",
       "11                 1.550903  \n",
       "12                 1.716270  \n",
       "13                 1.555664  \n",
       "14                 1.545629  \n",
       "15                 1.383134  \n",
       "16                 1.745503  \n",
       "17                 1.285071  \n",
       "18                 1.535363  \n",
       "19                 1.737949  \n",
       "20                 1.710520  \n",
       "21                 1.842927  \n",
       "22                 1.401948  \n",
       "23                 1.765032  \n",
       "24                 1.454329  \n",
       "25                 1.776837  \n",
       "26                 1.528569  \n",
       "27                 1.790121  \n",
       "28                 1.835735  \n",
       "29                 1.252914  \n",
       "...                     ...  \n",
       "2085                    NaN  \n",
       "2086                    NaN  \n",
       "2087                    NaN  \n",
       "2088                    NaN  \n",
       "2089                    NaN  \n",
       "2090                    NaN  \n",
       "2091                    NaN  \n",
       "2092                    NaN  \n",
       "2093                    NaN  \n",
       "2094                    NaN  \n",
       "2095                    NaN  \n",
       "2096                    NaN  \n",
       "2097                    NaN  \n",
       "2098                    NaN  \n",
       "2099                    NaN  \n",
       "2100                    NaN  \n",
       "2101                    NaN  \n",
       "2102                    NaN  \n",
       "2103                    NaN  \n",
       "2104                    NaN  \n",
       "2105                    NaN  \n",
       "2106                    NaN  \n",
       "2107                    NaN  \n",
       "2108                    NaN  \n",
       "2109                    NaN  \n",
       "2110                    NaN  \n",
       "2111                    NaN  \n",
       "2112                    NaN  \n",
       "2113                    NaN  \n",
       "2114                    NaN  \n",
       "\n",
       "[2115 rows x 16 columns]"
      ]
     },
     "execution_count": 6,
     "metadata": {},
     "output_type": "execute_result"
    }
   ],
   "source": [
    "df"
   ]
  },
  {
   "cell_type": "code",
   "execution_count": 10,
   "metadata": {
    "id": "JrynsjqXC_mG"
   },
   "outputs": [],
   "source": [
    "uX = df[[\"XGBoost Unemployment\", \"RandomForest Unemployment\"]]#, \"Linear Regression Unemployment\", \"KNeigborsRegressor Unemployment\"]]\n",
    "uY = df[[\"Unemployment actual\"]]\n",
    "\n",
    "uX = uX.dropna()\n",
    "uY = uY.dropna()"
   ]
  },
  {
   "cell_type": "code",
   "execution_count": 11,
   "metadata": {
    "id": "h01F04ryDXO6"
   },
   "outputs": [],
   "source": [
    "gX = df[[\"XGBoost RealGDP\", \"RandomForest RealGDP\"]]#, \"Linear Regression RealGDP\", \"KNeigborsRegressor RealGDP\"]]\n",
    "gY = df[[\"RealGDP actual\"]]"
   ]
  },
  {
   "cell_type": "code",
   "execution_count": 12,
   "metadata": {
    "id": "r9aE-DSaEEG0"
   },
   "outputs": [],
   "source": [
    "cX = df[[\"XGBoost Core CPI\", \"RandomForest Core CPI\"]]#, \"Linear Regression Core CPI\", \"KNeigborsRegressor Core CPI\"]]\n",
    "cY = df[[\"Core CPI actual\"]]\n",
    "\n",
    "cX = cX.dropna()\n",
    "cY = cY.dropna()"
   ]
  },
  {
   "cell_type": "code",
   "execution_count": 13,
   "metadata": {
    "id": "_yslW5RuEPCA"
   },
   "outputs": [],
   "source": [
    "pX = df[[\"XGBoost Core PCE\", \"RandomForest Core PCE\"]]#, \"Linear Regression Core PCE\", \"KNeigborsRegressor Core PCE\"]]\n",
    "pY = df[[\"Core PCE actual\"]]\n",
    "\n",
    "pX = pX.dropna()\n",
    "pY = pY.dropna()"
   ]
  },
  {
   "cell_type": "code",
   "execution_count": 14,
   "metadata": {
    "id": "D9vL3QVyEVrB"
   },
   "outputs": [],
   "source": [
    "#from keras.models import Sequential\n",
    "#from keras.layers import Dense\n",
    "#from keras.wrappers.scikit_learn import KerasRegressor\n",
    "from sklearn.model_selection import cross_val_score\n",
    "from sklearn.model_selection import KFold\n",
    "from sklearn.preprocessing import StandardScaler\n",
    "from sklearn.pipeline import Pipeline"
   ]
  },
  {
   "cell_type": "code",
   "execution_count": 15,
   "metadata": {
    "id": "WlD7pMfJEpMH"
   },
   "outputs": [],
   "source": [
    "def create_mlp(dim, regress=False):\n",
    "\t# define our MLP network\n",
    "\tmodel = Sequential()\n",
    "\tmodel.add(Dense(8, input_dim=dim, activation=\"relu\"))\n",
    "\tmodel.add(Dense(4, activation=\"relu\"))\n",
    "\t# check to see if the regression node should be added\n",
    "\tif regress:\n",
    "\t\tmodel.add(Dense(1, activation=\"linear\"))\n",
    "\t# return our model\n",
    "\treturn model"
   ]
  },
  {
   "cell_type": "code",
   "execution_count": 16,
   "metadata": {
    "id": "aqpfJfMHEpqz"
   },
   "outputs": [],
   "source": [
    "#from tensorflow.keras.optimizers import Adam\n",
    "#from sklearn.model_selection import train_test_split\n",
    "#import numpy as np\n",
    "#import argparse\n",
    "#import locale\n",
    "#import os\n",
    "\n",
    "#model = create_mlp(uX.shape[1], regress=True)\n",
    "#opt = Adam(lr=1e-3, decay=1e-3 / 200)\n",
    "#model.compile(loss=\"mean_absolute_percentage_error\", optimizer=opt)\n",
    "## train the model\n",
    "#print(\"[INFO] training model...\")\n",
    "#model.fit(x=uX, y=uY, #\n",
    "#\tvalidation_data=(uX, uY),#\n",
    "#\tepochs=200, batch_size=8)"
   ]
  },
  {
   "cell_type": "code",
   "execution_count": 17,
   "metadata": {
    "id": "FpcD-NQ0Ezau"
   },
   "outputs": [],
   "source": [
    "#preds = model.predict(uX)"
   ]
  },
  {
   "cell_type": "code",
   "execution_count": 18,
   "metadata": {
    "id": "tCEjZ-uCGErJ"
   },
   "outputs": [],
   "source": [
    "#preds"
   ]
  },
  {
   "cell_type": "code",
   "execution_count": 19,
   "metadata": {
    "id": "RVy0cEDfHzvH"
   },
   "outputs": [],
   "source": [
    "from sklearn.linear_model import LinearRegression"
   ]
  },
  {
   "cell_type": "code",
   "execution_count": 20,
   "metadata": {
    "colab": {
     "base_uri": "https://localhost:8080/"
    },
    "id": "zQYpRBIkH9aq",
    "outputId": "8d4713d1-a52b-42e9-ab05-7c7a250e85a0"
   },
   "outputs": [
    {
     "data": {
      "text/plain": [
       "0.7255517468974357"
      ]
     },
     "execution_count": 20,
     "metadata": {},
     "output_type": "execute_result"
    }
   ],
   "source": [
    "reg = LinearRegression().fit(gX, gY)\n",
    "reg.score(gX, gY)"
   ]
  },
  {
   "cell_type": "code",
   "execution_count": 21,
   "metadata": {
    "colab": {
     "base_uri": "https://localhost:8080/"
    },
    "id": "kK21dADxIFfu",
    "outputId": "304f585e-56dc-4c86-916f-24ccb580c7d0"
   },
   "outputs": [
    {
     "data": {
      "text/plain": [
       "array([[-2.05132144],\n",
       "       [ 4.48464736],\n",
       "       [-2.52209716],\n",
       "       ...,\n",
       "       [ 3.06976261],\n",
       "       [ 3.84207475],\n",
       "       [ 3.71065915]])"
      ]
     },
     "execution_count": 21,
     "metadata": {},
     "output_type": "execute_result"
    }
   ],
   "source": [
    "reg.predict(gX)"
   ]
  },
  {
   "cell_type": "code",
   "execution_count": 22,
   "metadata": {
    "colab": {
     "base_uri": "https://localhost:8080/"
    },
    "id": "d4aVBJSyITOM",
    "outputId": "d804607a-f2cd-470c-b2a7-44c91da37c23"
   },
   "outputs": [
    {
     "data": {
      "text/plain": [
       "array([[0.7513008 , 0.23820811]])"
      ]
     },
     "execution_count": 22,
     "metadata": {},
     "output_type": "execute_result"
    }
   ],
   "source": [
    "reg.coef_"
   ]
  },
  {
   "cell_type": "code",
   "execution_count": 23,
   "metadata": {
    "colab": {
     "base_uri": "https://localhost:8080/"
    },
    "id": "mDNW9dmMIajt",
    "outputId": "a7198e8c-f1fe-40eb-f66f-df9a7bdcf043"
   },
   "outputs": [
    {
     "data": {
      "text/plain": [
       "0.9605828153882446"
      ]
     },
     "execution_count": 23,
     "metadata": {},
     "output_type": "execute_result"
    }
   ],
   "source": [
    "from sklearn.metrics import mean_squared_error\n",
    "\n",
    "pred = reg.predict(gX)\n",
    "actual = gY\n",
    "\n",
    "np.sqrt(mean_squared_error(pred, actual))"
   ]
  },
  {
   "cell_type": "code",
   "execution_count": 24,
   "metadata": {
    "colab": {
     "base_uri": "https://localhost:8080/"
    },
    "id": "DLQToPGyOH__",
    "outputId": "019e16ba-a2dd-4c25-fafb-eda6b1d2f7ea"
   },
   "outputs": [
    {
     "name": "stdout",
     "output_type": "stream",
     "text": [
      "0.7255517468974357\n"
     ]
    },
    {
     "data": {
      "text/plain": [
       "0.9605828153882446"
      ]
     },
     "execution_count": 24,
     "metadata": {},
     "output_type": "execute_result"
    }
   ],
   "source": [
    "reg = LinearRegression().fit(gX, gY)\n",
    "print(reg.score(gX, gY))\n",
    "\n",
    "pred = reg.predict(gX)\n",
    "actual = gY\n",
    "\n",
    "np.sqrt(mean_squared_error(pred, actual))"
   ]
  },
  {
   "cell_type": "code",
   "execution_count": 25,
   "metadata": {
    "colab": {
     "base_uri": "https://localhost:8080/"
    },
    "id": "Xs1pYPmPomqN",
    "outputId": "00a067f0-d1c3-45f9-c46f-52d0b7f22e6f"
   },
   "outputs": [
    {
     "data": {
      "text/plain": [
       "array([[0.7513008 , 0.23820811]])"
      ]
     },
     "execution_count": 25,
     "metadata": {},
     "output_type": "execute_result"
    }
   ],
   "source": [
    "reg.coef_"
   ]
  },
  {
   "cell_type": "code",
   "execution_count": 26,
   "metadata": {
    "colab": {
     "base_uri": "https://localhost:8080/"
    },
    "id": "Xm5bee0vNFIg",
    "outputId": "c302e755-8804-4c76-afb2-a7fee85df242"
   },
   "outputs": [
    {
     "name": "stdout",
     "output_type": "stream",
     "text": [
      "0.7925541511778704\n"
     ]
    },
    {
     "data": {
      "text/plain": [
       "0.8812050404877251"
      ]
     },
     "execution_count": 26,
     "metadata": {},
     "output_type": "execute_result"
    }
   ],
   "source": [
    "reg = LinearRegression().fit(uX, uY)\n",
    "print(reg.score(uX, uY))\n",
    "\n",
    "pred = reg.predict(uX)\n",
    "actual = uY\n",
    "\n",
    "np.sqrt(mean_squared_error(pred, actual))"
   ]
  },
  {
   "cell_type": "code",
   "execution_count": 27,
   "metadata": {
    "colab": {
     "base_uri": "https://localhost:8080/"
    },
    "id": "AoP0UCs0ok8d",
    "outputId": "76e12ddd-93a4-44ec-bd5b-204fa4824495"
   },
   "outputs": [
    {
     "data": {
      "text/plain": [
       "array([[0.89907881, 0.1030051 ]])"
      ]
     },
     "execution_count": 27,
     "metadata": {},
     "output_type": "execute_result"
    }
   ],
   "source": [
    "reg.coef_"
   ]
  },
  {
   "cell_type": "code",
   "execution_count": 28,
   "metadata": {
    "colab": {
     "base_uri": "https://localhost:8080/"
    },
    "id": "nUoIvhdhJCpv",
    "outputId": "bee4cb95-8809-4eb2-bd49-f46804352c06"
   },
   "outputs": [
    {
     "name": "stdout",
     "output_type": "stream",
     "text": [
      "0.47296388930613054\n"
     ]
    },
    {
     "data": {
      "text/plain": [
       "0.2943635989333608"
      ]
     },
     "execution_count": 28,
     "metadata": {},
     "output_type": "execute_result"
    }
   ],
   "source": [
    "reg = LinearRegression().fit(cX, cY)\n",
    "print(reg.score(cX, cY))\n",
    "\n",
    "pred = reg.predict(cX)\n",
    "actual = cY\n",
    "\n",
    "np.sqrt(mean_squared_error(pred, actual))"
   ]
  },
  {
   "cell_type": "code",
   "execution_count": 29,
   "metadata": {
    "colab": {
     "base_uri": "https://localhost:8080/"
    },
    "id": "Vy2ZEpqsojkA",
    "outputId": "1203b8f4-a6bb-4735-dd49-4152e2103ef1"
   },
   "outputs": [
    {
     "data": {
      "text/plain": [
       "array([[0.93280043, 0.14751195]])"
      ]
     },
     "execution_count": 29,
     "metadata": {},
     "output_type": "execute_result"
    }
   ],
   "source": [
    "reg.coef_"
   ]
  },
  {
   "cell_type": "code",
   "execution_count": 30,
   "metadata": {
    "colab": {
     "base_uri": "https://localhost:8080/"
    },
    "id": "rPjmaFawNJWE",
    "outputId": "f3a6adf8-0b3e-48fb-90c9-30956e8c1af9"
   },
   "outputs": [
    {
     "name": "stdout",
     "output_type": "stream",
     "text": [
      "0.5146228020778377\n"
     ]
    },
    {
     "data": {
      "text/plain": [
       "0.21094134019330718"
      ]
     },
     "execution_count": 30,
     "metadata": {},
     "output_type": "execute_result"
    }
   ],
   "source": [
    "reg = LinearRegression().fit(pX, pY)\n",
    "print(reg.score(pX, pY))\n",
    "\n",
    "pred = reg.predict(pX)\n",
    "actual = pY\n",
    "\n",
    "np.sqrt(mean_squared_error(pred, actual))"
   ]
  },
  {
   "cell_type": "code",
   "execution_count": 31,
   "metadata": {
    "colab": {
     "base_uri": "https://localhost:8080/"
    },
    "id": "6YqvHpJRNN0o",
    "outputId": "653ebef9-3871-47d2-98da-38fa9d33d59f"
   },
   "outputs": [
    {
     "data": {
      "text/plain": [
       "array([[1.05239414, 0.01996658]])"
      ]
     },
     "execution_count": 31,
     "metadata": {},
     "output_type": "execute_result"
    }
   ],
   "source": [
    "reg.coef_"
   ]
  },
  {
   "cell_type": "markdown",
   "metadata": {
    "id": "XKhBQ8Iwi8P2"
   },
   "source": [
    "Use Gridsearch Results"
   ]
  },
  {
   "cell_type": "code",
   "execution_count": 71,
   "metadata": {
    "id": "F3aO_OmMoiI8"
   },
   "outputs": [],
   "source": []
  },
  {
   "cell_type": "code",
   "execution_count": 72,
   "metadata": {
    "id": "3dMqKC4pi-yL"
   },
   "outputs": [],
   "source": [
    "uX = dfs[[\"XGBoost Unemployment\", \"Random Forest Unemployment\"]]\n",
    "uY = dfs[[\"Unemployment actual\"]]\n",
    "\n",
    "uX = uX.dropna()\n",
    "uY = uY.dropna()"
   ]
  },
  {
   "cell_type": "code",
   "execution_count": 73,
   "metadata": {
    "id": "L8-mLDGJjC60"
   },
   "outputs": [],
   "source": [
    "gX = dfs[[\"XGBoost RealGDP\", \"Random Forest RealGDP\"]]\n",
    "gY = dfs[[\"RealGDP actual\"]]"
   ]
  },
  {
   "cell_type": "code",
   "execution_count": 74,
   "metadata": {
    "id": "qSIqHV_ejEvm"
   },
   "outputs": [],
   "source": [
    "cX = dfs[[\"XGBoost Core CPI\", \"Random Forest Core CPI\"]]\n",
    "cY = dfs[[\"Core CPI actual\"]]\n",
    "\n",
    "cX = cX.dropna()\n",
    "cY = cY.dropna()"
   ]
  },
  {
   "cell_type": "code",
   "execution_count": 75,
   "metadata": {
    "id": "ygeSWBA7jHIH"
   },
   "outputs": [],
   "source": [
    "pX = dfs[[\"XGBoost Core PCE\", \"Random Forest Core PCE\"]]\n",
    "pY = dfs[[\"Core PCE actual\"]]\n",
    "\n",
    "pX = pX.dropna()\n",
    "pY = pY.dropna()"
   ]
  },
  {
   "cell_type": "code",
   "execution_count": 76,
   "metadata": {
    "colab": {
     "base_uri": "https://localhost:8080/"
    },
    "id": "dIbbmEx8jNzw",
    "outputId": "deffbc9a-a56f-42e2-de17-933ad500a44f"
   },
   "outputs": [
    {
     "name": "stdout",
     "output_type": "stream",
     "text": [
      "0.9546869021295435\n"
     ]
    },
    {
     "data": {
      "text/plain": [
       "0.4100763638910511"
      ]
     },
     "execution_count": 76,
     "metadata": {
      "tags": []
     },
     "output_type": "execute_result"
    }
   ],
   "source": [
    "reg = LinearRegression().fit(gX, gY)\n",
    "print(reg.score(gX, gY))\n",
    "\n",
    "pred = reg.predict(gX)\n",
    "actual = gY\n",
    "\n",
    "np.sqrt(mean_squared_error(pred, actual))"
   ]
  },
  {
   "cell_type": "code",
   "execution_count": 77,
   "metadata": {
    "colab": {
     "base_uri": "https://localhost:8080/"
    },
    "id": "h_E5TUxXjRPd",
    "outputId": "7c359dbe-5191-45fa-8fc9-d977f559fdc7"
   },
   "outputs": [
    {
     "data": {
      "text/plain": [
       "array([[0.42815693, 0.57616913]])"
      ]
     },
     "execution_count": 77,
     "metadata": {
      "tags": []
     },
     "output_type": "execute_result"
    }
   ],
   "source": [
    "reg.coef_"
   ]
  },
  {
   "cell_type": "code",
   "execution_count": 78,
   "metadata": {
    "colab": {
     "base_uri": "https://localhost:8080/"
    },
    "id": "Mv06rZsSjUH7",
    "outputId": "aa71aec4-df7a-44dd-bbe3-2a366a9daf8b"
   },
   "outputs": [
    {
     "name": "stdout",
     "output_type": "stream",
     "text": [
      "0.9442919819963325\n"
     ]
    },
    {
     "data": {
      "text/plain": [
       "0.6702318731501157"
      ]
     },
     "execution_count": 78,
     "metadata": {
      "tags": []
     },
     "output_type": "execute_result"
    }
   ],
   "source": [
    "reg = LinearRegression().fit(uX, uY)\n",
    "print(reg.score(uX, uY))\n",
    "\n",
    "pred = reg.predict(uX)\n",
    "actual = uY\n",
    "\n",
    "np.sqrt(mean_squared_error(pred, actual))"
   ]
  },
  {
   "cell_type": "code",
   "execution_count": 79,
   "metadata": {
    "colab": {
     "base_uri": "https://localhost:8080/"
    },
    "id": "4ciadom6jU80",
    "outputId": "de584b4e-ae5c-411a-9390-337f170225ca"
   },
   "outputs": [
    {
     "data": {
      "text/plain": [
       "array([[0.74354694, 0.26637404]])"
      ]
     },
     "execution_count": 79,
     "metadata": {
      "tags": []
     },
     "output_type": "execute_result"
    }
   ],
   "source": [
    "reg.coef_"
   ]
  },
  {
   "cell_type": "code",
   "execution_count": 80,
   "metadata": {
    "colab": {
     "base_uri": "https://localhost:8080/"
    },
    "id": "gAPqjCFljYhX",
    "outputId": "0f51803b-2b98-4558-95fa-25e60ade0cc5"
   },
   "outputs": [
    {
     "name": "stdout",
     "output_type": "stream",
     "text": [
      "0.922610484523368\n"
     ]
    },
    {
     "data": {
      "text/plain": [
       "0.337232509244397"
      ]
     },
     "execution_count": 80,
     "metadata": {
      "tags": []
     },
     "output_type": "execute_result"
    }
   ],
   "source": [
    "reg = LinearRegression().fit(cX, cY)\n",
    "print(reg.score(cX, cY))\n",
    "\n",
    "pred = reg.predict(cX)\n",
    "actual = cY\n",
    "\n",
    "np.sqrt(mean_squared_error(pred, actual))"
   ]
  },
  {
   "cell_type": "code",
   "execution_count": 81,
   "metadata": {
    "colab": {
     "base_uri": "https://localhost:8080/"
    },
    "id": "lfqVoY-ijZQy",
    "outputId": "84a8de23-39ec-4b12-d610-917dc3abf6e9"
   },
   "outputs": [
    {
     "data": {
      "text/plain": [
       "array([[-0.45484695,  1.50678078]])"
      ]
     },
     "execution_count": 81,
     "metadata": {
      "tags": []
     },
     "output_type": "execute_result"
    }
   ],
   "source": [
    "reg.coef_"
   ]
  },
  {
   "cell_type": "code",
   "execution_count": 82,
   "metadata": {
    "colab": {
     "base_uri": "https://localhost:8080/"
    },
    "id": "57Ch4uJdjbHW",
    "outputId": "d457c0d0-d14e-4c9a-8351-f33715127fbe"
   },
   "outputs": [
    {
     "name": "stdout",
     "output_type": "stream",
     "text": [
      "0.9039947016794517\n"
     ]
    },
    {
     "data": {
      "text/plain": [
       "0.37225918993422225"
      ]
     },
     "execution_count": 82,
     "metadata": {
      "tags": []
     },
     "output_type": "execute_result"
    }
   ],
   "source": [
    "reg = LinearRegression().fit(pX, pY)\n",
    "print(reg.score(pX, pY))\n",
    "\n",
    "pred = reg.predict(pX)\n",
    "actual = pY\n",
    "\n",
    "np.sqrt(mean_squared_error(pred, actual))"
   ]
  },
  {
   "cell_type": "code",
   "execution_count": 83,
   "metadata": {
    "colab": {
     "base_uri": "https://localhost:8080/"
    },
    "id": "hV5QYj-Cjb6d",
    "outputId": "dada75eb-39db-4dfc-f335-0fa1d0a66a85"
   },
   "outputs": [
    {
     "data": {
      "text/plain": [
       "array([[0.41344445, 0.59470852]])"
      ]
     },
     "execution_count": 83,
     "metadata": {
      "tags": []
     },
     "output_type": "execute_result"
    }
   ],
   "source": [
    "reg.coef_"
   ]
  }
 ],
 "metadata": {
  "colab": {
   "name": "ensemble",
   "provenance": []
  },
  "kernelspec": {
   "display_name": "Python 3",
   "language": "python",
   "name": "python3"
  },
  "language_info": {
   "codemirror_mode": {
    "name": "ipython",
    "version": 3
   },
   "file_extension": ".py",
   "mimetype": "text/x-python",
   "name": "python",
   "nbconvert_exporter": "python",
   "pygments_lexer": "ipython3",
   "version": "3.7.1"
  }
 },
 "nbformat": 4,
 "nbformat_minor": 1
}
