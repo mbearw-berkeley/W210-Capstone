{
 "cells": [
  {
   "cell_type": "code",
   "execution_count": 156,
   "metadata": {},
   "outputs": [],
   "source": [
    "import pandas as pd\n",
    "import numpy as np\n",
    "import matplotlib.pyplot as plt\n",
    "import os\n",
    "\n",
    "from sklearn.linear_model import LinearRegression\n",
    "from sklearn.metrics import mean_squared_error\n",
    "from sklearn.model_selection import cross_val_score\n",
    "from sklearn.model_selection import RepeatedKFold\n",
    "from sklearn.ensemble import RandomForestRegressor\n",
    "import xgboost as xgb\n",
    "\n",
    "np.random.seed(0)"
   ]
  },
  {
   "cell_type": "code",
   "execution_count": 61,
   "metadata": {},
   "outputs": [],
   "source": [
    "os.getcwd()\n",
    "train = pd.read_csv('C:\\\\Users\\\\chris\\\\Desktop\\\\210\\\\W210-Capstone\\\\data\\\\TrainingData\\\\trainingWithItems.csv')"
   ]
  },
  {
   "cell_type": "code",
   "execution_count": 127,
   "metadata": {},
   "outputs": [
    {
     "data": {
      "text/html": [
       "<div>\n",
       "<style scoped>\n",
       "    .dataframe tbody tr th:only-of-type {\n",
       "        vertical-align: middle;\n",
       "    }\n",
       "\n",
       "    .dataframe tbody tr th {\n",
       "        vertical-align: top;\n",
       "    }\n",
       "\n",
       "    .dataframe thead th {\n",
       "        text-align: right;\n",
       "    }\n",
       "</style>\n",
       "<table border=\"1\" class=\"dataframe\">\n",
       "  <thead>\n",
       "    <tr style=\"text-align: right;\">\n",
       "      <th></th>\n",
       "      <th>Unnamed: 0</th>\n",
       "      <th>YEAR FORECAST MADE</th>\n",
       "      <th>QUARTER</th>\n",
       "      <th>YEAR BEING FORECAST</th>\n",
       "      <th>INDICATOR</th>\n",
       "      <th>FORECASTER ID</th>\n",
       "      <th>INDUSTRY</th>\n",
       "      <th>Year.ID.ForecastYear.Quarter</th>\n",
       "      <th>Indicator.Year.ID.ForecastYear.Quarter</th>\n",
       "      <th>BIN 1</th>\n",
       "      <th>...</th>\n",
       "      <th>ACTUAL_CONF</th>\n",
       "      <th>HIT</th>\n",
       "      <th>pred_average</th>\n",
       "      <th>pred_var</th>\n",
       "      <th>chicken</th>\n",
       "      <th>coffee</th>\n",
       "      <th>eggs</th>\n",
       "      <th>electricity</th>\n",
       "      <th>rice</th>\n",
       "      <th>unleadedGasoline</th>\n",
       "    </tr>\n",
       "  </thead>\n",
       "  <tbody>\n",
       "    <tr>\n",
       "      <th>0</th>\n",
       "      <td>0</td>\n",
       "      <td>1968</td>\n",
       "      <td>4</td>\n",
       "      <td>1968</td>\n",
       "      <td>NominalGNP</td>\n",
       "      <td>1</td>\n",
       "      <td>NaN</td>\n",
       "      <td>1968-1-1968-4</td>\n",
       "      <td>NominalGNP-1968-1-1968-4</td>\n",
       "      <td>0.0</td>\n",
       "      <td>...</td>\n",
       "      <td>0.00</td>\n",
       "      <td>0.0</td>\n",
       "      <td>6.00</td>\n",
       "      <td>0.4500</td>\n",
       "      <td>NaN</td>\n",
       "      <td>NaN</td>\n",
       "      <td>NaN</td>\n",
       "      <td>NaN</td>\n",
       "      <td>NaN</td>\n",
       "      <td>NaN</td>\n",
       "    </tr>\n",
       "    <tr>\n",
       "      <th>1</th>\n",
       "      <td>1</td>\n",
       "      <td>1968</td>\n",
       "      <td>4</td>\n",
       "      <td>1968</td>\n",
       "      <td>NominalGNP</td>\n",
       "      <td>2</td>\n",
       "      <td>NaN</td>\n",
       "      <td>1968-2-1968-4</td>\n",
       "      <td>NominalGNP-1968-2-1968-4</td>\n",
       "      <td>0.0</td>\n",
       "      <td>...</td>\n",
       "      <td>0.00</td>\n",
       "      <td>0.0</td>\n",
       "      <td>6.10</td>\n",
       "      <td>1.0400</td>\n",
       "      <td>NaN</td>\n",
       "      <td>NaN</td>\n",
       "      <td>NaN</td>\n",
       "      <td>NaN</td>\n",
       "      <td>NaN</td>\n",
       "      <td>NaN</td>\n",
       "    </tr>\n",
       "    <tr>\n",
       "      <th>2</th>\n",
       "      <td>2</td>\n",
       "      <td>1968</td>\n",
       "      <td>4</td>\n",
       "      <td>1968</td>\n",
       "      <td>NominalGNP</td>\n",
       "      <td>3</td>\n",
       "      <td>NaN</td>\n",
       "      <td>1968-3-1968-4</td>\n",
       "      <td>NominalGNP-1968-3-1968-4</td>\n",
       "      <td>0.0</td>\n",
       "      <td>...</td>\n",
       "      <td>0.00</td>\n",
       "      <td>0.0</td>\n",
       "      <td>6.80</td>\n",
       "      <td>0.4100</td>\n",
       "      <td>NaN</td>\n",
       "      <td>NaN</td>\n",
       "      <td>NaN</td>\n",
       "      <td>NaN</td>\n",
       "      <td>NaN</td>\n",
       "      <td>NaN</td>\n",
       "    </tr>\n",
       "    <tr>\n",
       "      <th>3</th>\n",
       "      <td>3</td>\n",
       "      <td>1968</td>\n",
       "      <td>4</td>\n",
       "      <td>1968</td>\n",
       "      <td>NominalGNP</td>\n",
       "      <td>4</td>\n",
       "      <td>NaN</td>\n",
       "      <td>1968-4-1968-4</td>\n",
       "      <td>NominalGNP-1968-4-1968-4</td>\n",
       "      <td>0.0</td>\n",
       "      <td>...</td>\n",
       "      <td>0.00</td>\n",
       "      <td>0.0</td>\n",
       "      <td>6.15</td>\n",
       "      <td>1.3275</td>\n",
       "      <td>NaN</td>\n",
       "      <td>NaN</td>\n",
       "      <td>NaN</td>\n",
       "      <td>NaN</td>\n",
       "      <td>NaN</td>\n",
       "      <td>NaN</td>\n",
       "    </tr>\n",
       "    <tr>\n",
       "      <th>4</th>\n",
       "      <td>4</td>\n",
       "      <td>1968</td>\n",
       "      <td>4</td>\n",
       "      <td>1968</td>\n",
       "      <td>NominalGNP</td>\n",
       "      <td>5</td>\n",
       "      <td>NaN</td>\n",
       "      <td>1968-5-1968-4</td>\n",
       "      <td>NominalGNP-1968-5-1968-4</td>\n",
       "      <td>3.0</td>\n",
       "      <td>...</td>\n",
       "      <td>0.04</td>\n",
       "      <td>0.0</td>\n",
       "      <td>4.65</td>\n",
       "      <td>7.2275</td>\n",
       "      <td>NaN</td>\n",
       "      <td>NaN</td>\n",
       "      <td>NaN</td>\n",
       "      <td>NaN</td>\n",
       "      <td>NaN</td>\n",
       "      <td>NaN</td>\n",
       "    </tr>\n",
       "  </tbody>\n",
       "</table>\n",
       "<p>5 rows × 71 columns</p>\n",
       "</div>"
      ],
      "text/plain": [
       "   Unnamed: 0  YEAR FORECAST MADE  QUARTER  YEAR BEING FORECAST   INDICATOR  \\\n",
       "0           0                1968        4                 1968  NominalGNP   \n",
       "1           1                1968        4                 1968  NominalGNP   \n",
       "2           2                1968        4                 1968  NominalGNP   \n",
       "3           3                1968        4                 1968  NominalGNP   \n",
       "4           4                1968        4                 1968  NominalGNP   \n",
       "\n",
       "   FORECASTER ID  INDUSTRY Year.ID.ForecastYear.Quarter  \\\n",
       "0              1       NaN                1968-1-1968-4   \n",
       "1              2       NaN                1968-2-1968-4   \n",
       "2              3       NaN                1968-3-1968-4   \n",
       "3              4       NaN                1968-4-1968-4   \n",
       "4              5       NaN                1968-5-1968-4   \n",
       "\n",
       "  Indicator.Year.ID.ForecastYear.Quarter  BIN 1  ...  ACTUAL_CONF  HIT  \\\n",
       "0               NominalGNP-1968-1-1968-4    0.0  ...         0.00  0.0   \n",
       "1               NominalGNP-1968-2-1968-4    0.0  ...         0.00  0.0   \n",
       "2               NominalGNP-1968-3-1968-4    0.0  ...         0.00  0.0   \n",
       "3               NominalGNP-1968-4-1968-4    0.0  ...         0.00  0.0   \n",
       "4               NominalGNP-1968-5-1968-4    3.0  ...         0.04  0.0   \n",
       "\n",
       "   pred_average  pred_var  chicken  coffee  eggs  electricity  rice  \\\n",
       "0          6.00    0.4500      NaN     NaN   NaN          NaN   NaN   \n",
       "1          6.10    1.0400      NaN     NaN   NaN          NaN   NaN   \n",
       "2          6.80    0.4100      NaN     NaN   NaN          NaN   NaN   \n",
       "3          6.15    1.3275      NaN     NaN   NaN          NaN   NaN   \n",
       "4          4.65    7.2275      NaN     NaN   NaN          NaN   NaN   \n",
       "\n",
       "   unleadedGasoline  \n",
       "0               NaN  \n",
       "1               NaN  \n",
       "2               NaN  \n",
       "3               NaN  \n",
       "4               NaN  \n",
       "\n",
       "[5 rows x 71 columns]"
      ]
     },
     "execution_count": 127,
     "metadata": {},
     "output_type": "execute_result"
    }
   ],
   "source": [
    "train.head()"
   ]
  },
  {
   "cell_type": "code",
   "execution_count": 62,
   "metadata": {},
   "outputs": [],
   "source": [
    "unemp = train[train['INDICATOR'] == \"Unemployment\"]\n",
    "rgdp = train[train['INDICATOR'] == \"RealGDP\"]\n",
    "cpce = train[train['INDICATOR'] == \"Core PCE\"]\n",
    "ccpi = train[train['INDICATOR'] == \"Core CPI\"]\n",
    "ngnp = train[train['INDICATOR'] == \"NominalGNP\"]\n",
    "rgnp = train[train['INDICATOR'] == \"RealGNP\"]"
   ]
  },
  {
   "cell_type": "code",
   "execution_count": 131,
   "metadata": {},
   "outputs": [],
   "source": [
    "np.random.seed(0)\n",
    "def model_setup(df):\n",
    "    \n",
    "    rand = df.sample(frac = 1)\n",
    "    #80/20 split\n",
    "    nrow = len(rand)\n",
    "    train_prop = int(np.round(nrow*0.8))\n",
    "    train = rand[:train_prop]\n",
    "    val = rand[train_prop:]\n",
    "    \n",
    "    train = train[[\"FORECASTER ID\", \"MAX\", \"pred_average\", \"pred_var\", \"HIT\", \"ACTUAL_CONF\", \"actual\",\n",
    "                  \"chicken\", \"coffee\", \"eggs\", \"electricity\", \"rice\", \"unleadedGasoline\"]]\n",
    "    val = val[[\"FORECASTER ID\", \"MAX\", \"pred_average\", \"pred_var\", \"HIT\", \"ACTUAL_CONF\", \"actual\",\n",
    "              \"chicken\", \"coffee\", \"eggs\", \"electricity\", \"rice\", \"unleadedGasoline\"]]\n",
    "    \n",
    "    return train.dropna(), val.dropna()"
   ]
  },
  {
   "cell_type": "code",
   "execution_count": 158,
   "metadata": {},
   "outputs": [],
   "source": [
    "def run_model(df, variable_name, model, plot=True, ensemble=False):\n",
    "    \n",
    "    \"\"\"model can be \"LM\" or \"RF\" for linear model or random forest\"\"\"\n",
    "    \n",
    "    train, val = model_setup(df)\n",
    "    X_train, Y_train = train[[\"FORECASTER ID\", \"MAX\", \"pred_average\", \"pred_var\", \"HIT\", \"ACTUAL_CONF\",\n",
    "                             \"chicken\", \"coffee\", \"eggs\", \"electricity\", \"rice\", \"unleadedGasoline\"]], train[\"actual\"].tolist()\n",
    "    X_val, Y_val = val[[\"FORECASTER ID\", \"MAX\", \"pred_average\", \"pred_var\", \"HIT\", \"ACTUAL_CONF\",\n",
    "                       \"chicken\", \"coffee\", \"eggs\", \"electricity\", \"rice\", \"unleadedGasoline\"]], val[\"actual\"].tolist()\n",
    "    \n",
    "    if ensemble == True:\n",
    "        lr = LinearRegression()\n",
    "        fitted = lr.fit(X_train, Y_train)\n",
    "        preds_lm = fitted.predict(X_val)\n",
    "        preds_lm = preds_lm.flatten()\n",
    "        \n",
    "        rf = RandomForestRegressor()\n",
    "        fitted = rf.fit(X_train, Y_train)\n",
    "        \n",
    "        model=xgb.XGBRegressor(verbosity=0)\n",
    "        fitted = model.fit(X_train, Y_train)\n",
    "        preds_xg = model.predict(X_val)\n",
    "\n",
    "        preds_rf = []\n",
    "        for i in range(len(Y_val)):\n",
    "            row = X_val.iloc[[i]].values.tolist()\n",
    "            pred = rf.predict(row)\n",
    "            pred = pred.flatten()[0]\n",
    "            preds_rf.append(pred)\n",
    "            \n",
    "        preds = [np.mean(val) for val in zip(preds_lm, preds_rf, preds_xg)]\n",
    "        \n",
    "    else:\n",
    "        if model == \"LM\":\n",
    "            lr = LinearRegression()\n",
    "            fitted = lr.fit(X_train, Y_train)\n",
    "            preds = fitted.predict(X_val)\n",
    "            preds = preds.flatten()\n",
    "\n",
    "        elif model == \"RF\":\n",
    "            rf = RandomForestRegressor()\n",
    "            fitted = rf.fit(X_train, Y_train)\n",
    "\n",
    "            preds = []\n",
    "            for i in range(len(Y_val)):\n",
    "                row = X_val.iloc[[i]].values.tolist()\n",
    "                pred = rf.predict(row)\n",
    "                pred = pred.flatten()[0]\n",
    "                preds.append(pred)\n",
    "                \n",
    "        elif model == \"XG\":\n",
    "            model=xgb.XGBRegressor(verbosity=0)\n",
    "            fitted = model.fit(X_train, Y_train)\n",
    "            preds = model.predict(X_val)\n",
    "\n",
    "        else:\n",
    "            print(\"Please select a different model.\")\n",
    "            return\n",
    "    \n",
    "    diffs = np.subtract(Y_val, preds)\n",
    "\n",
    "    r2_pred = np.corrcoef(Y_val, preds)[0][1]\n",
    "    r2_actual = np.corrcoef(Y_val, np.array(X_val['pred_average'].tolist()))[0][1]\n",
    "    \n",
    "    rmse_pred = np.sqrt(mean_squared_error(Y_val, preds))\n",
    "    rmse_actual = np.sqrt(mean_squared_error(Y_val, np.array(X_val['pred_average'].tolist())))\n",
    "    \n",
    "    if plot == True:\n",
    "        print(\"Differences in actual vs. model prediction (\" + variable_name + \")\")\n",
    "        print(\"Mean: \" + str(np.mean(diffs)))\n",
    "        print(\"Median: \" + str(np.median(diffs)))\n",
    "        print(\"Max: \" + str(max(diffs)))\n",
    "        print(\"Min: \" + str(min(diffs)))\n",
    "        print(\"Correlation Coef: \" + str(r2_pred))\n",
    "        print(\"RMSE: \" + str(rmse_pred))\n",
    "\n",
    "        plt.hist(diffs)\n",
    "        plt.title(\"Actual minus Model Prediction (\" + variable_name + \")\")\n",
    "        plt.show()\n",
    "\n",
    "        actual_diffs = np.subtract(Y_val, np.array(X_val['pred_average'].tolist()))\n",
    "        print(\"Differences in actual vs. forecaster average prediction (\" + variable_name + \")\")\n",
    "        print(\"Mean: \" + str(np.mean(actual_diffs)))\n",
    "        print(\"Median: \" + str(np.median(actual_diffs)))\n",
    "        print(\"Max: \" + str(max(actual_diffs)))\n",
    "        print(\"Min: \" + str(min(actual_diffs)))\n",
    "        print(\"Correlation Coef: \" + str(r2_actual))\n",
    "        print(\"RMSE: \" + str(rmse_actual))\n",
    "\n",
    "        plt.hist(actual_diffs)\n",
    "        plt.title(\"Actual Rate minus Forecaster Average Prediction (\" + variable_name + \")\")\n",
    "        plt.show()\n",
    "        \n",
    "    else:\n",
    "        return rmse_pred, rmse_actual, r2_pred, r2_actual"
   ]
  },
  {
   "cell_type": "code",
   "execution_count": null,
   "metadata": {},
   "outputs": [],
   "source": []
  },
  {
   "cell_type": "code",
   "execution_count": 129,
   "metadata": {},
   "outputs": [],
   "source": [
    "def get_preds(df, model):\n",
    "    \n",
    "    \"\"\"model can be \"LM\" or \"RF\" for linear model or random forest\n",
    "       returns the actual, model predicted, and forecaster predicted for that model/economics measure\n",
    "    \"\"\"\n",
    "    \n",
    "    train, val = model_setup(df)\n",
    "    X_train, Y_train = train[[\"FORECASTER ID\", \"MAX\", \"pred_average\", \"pred_var\", \"HIT\", \"ACTUAL_CONF\",\n",
    "                             \"chicken\", \"coffee\", \"eggs\", \"electricity\", \"rice\", \"unleadedGasoline\"]], train[\"actual\"].tolist()\n",
    "    X_val, Y_val = val[[\"FORECASTER ID\", \"MAX\", \"pred_average\", \"pred_var\", \"HIT\", \"ACTUAL_CONF\",\n",
    "                       \"chicken\", \"coffee\", \"eggs\", \"electricity\", \"rice\", \"unleadedGasoline\"]], val[\"actual\"].tolist()\n",
    "    \n",
    "    if model == \"LM\":\n",
    "        lr = LinearRegression()\n",
    "        fitted = lr.fit(X_train, Y_train)\n",
    "        preds = fitted.predict(X_val)\n",
    "        preds = preds.flatten()\n",
    "        \n",
    "    elif model == \"RF\":\n",
    "        rf = RandomForestRegressor()\n",
    "        fitted = rf.fit(X_train, Y_train)\n",
    "\n",
    "        preds = []\n",
    "        for i in range(len(Y_val)):\n",
    "            row = X_val.iloc[[i]].values.tolist()\n",
    "            pred = rf.predict(row)\n",
    "            pred = pred.flatten()[0]\n",
    "            preds.append(pred)\n",
    "            \n",
    "    else:\n",
    "        print(\"Please select a different model.\")\n",
    "        return\n",
    "    \n",
    "    return X_val, Y_val, pred"
   ]
  },
  {
   "cell_type": "code",
   "execution_count": 142,
   "metadata": {},
   "outputs": [],
   "source": [
    "def evaluate(model):\n",
    "    rmse1s = []\n",
    "    rmse2s = []\n",
    "    r21s = []\n",
    "    r22s = []\n",
    "    names = [\"Unemployment\", \"Real GDP\", \"Core PCE\", \"Core CPI\"]\n",
    "    dfs = [unemp, rgdp, cpce, ccpi]\n",
    "    for i in range(len(dfs)):\n",
    "        rmse1, rmse2, r21, r22 = run_model(dfs[i], \"name\", model, plot=False)\n",
    "        rmse1s.append(rmse1)\n",
    "        rmse2s.append(rmse2)\n",
    "        r21s.append(r21)\n",
    "        r22s.append(r22)\n",
    "        print(names[i])\n",
    "        print(rmse1, rmse2, r21, r22)\n",
    "        print()\n",
    "        \n",
    "    rmse_diff = np.mean(np.subtract(rmse2s,rmse1s))\n",
    "    r2_diff = np.mean(np.subtract(r21s, r22s))\n",
    "    \n",
    "    print(\"We decrease RMSE by \" + str(rmse_diff))\n",
    "    print(\"We increase R-squared by \" + str(r2_diff))\n",
    "    \n",
    "    #return rmse1s, rmsess, r21s, r22s"
   ]
  },
  {
   "cell_type": "code",
   "execution_count": 147,
   "metadata": {},
   "outputs": [],
   "source": [
    "def evaluate_ensemble():\n",
    "    rmse1s = []\n",
    "    rmse2s = []\n",
    "    r21s = []\n",
    "    r22s = []\n",
    "    names = [\"Unemployment\", \"Real GDP\", \"Core PCE\", \"Core CPI\"]\n",
    "    dfs = [unemp, rgdp, cpce, ccpi]\n",
    "    for i in range(len(dfs)):\n",
    "        rmse1, rmse2, r21, r22 = run_model(dfs[i], \"name\", \"LM\", plot=False, ensemble=True)\n",
    "        rmse1s.append(rmse1)\n",
    "        rmse2s.append(rmse2)\n",
    "        r21s.append(r21)\n",
    "        r22s.append(r22)\n",
    "        print(names[i])\n",
    "        print(rmse1, rmse2, r21, r22)\n",
    "        print()\n",
    "        \n",
    "    rmse_diff = np.mean(np.subtract(rmse2s,rmse1s))\n",
    "    r2_diff = np.mean(np.subtract(r21s, r22s))\n",
    "    \n",
    "    print(\"We decrease RMSE by \" + str(rmse_diff))\n",
    "    print(\"We increase R-squared by \" + str(r2_diff))\n",
    "    \n",
    "    #return rmse1s, rmse2s, r21s, r22s"
   ]
  },
  {
   "cell_type": "markdown",
   "metadata": {},
   "source": [
    "# Linear Regression"
   ]
  },
  {
   "cell_type": "markdown",
   "metadata": {},
   "source": [
    "### Unemployment"
   ]
  },
  {
   "cell_type": "code",
   "execution_count": 87,
   "metadata": {
    "scrolled": false
   },
   "outputs": [
    {
     "name": "stdout",
     "output_type": "stream",
     "text": [
      "Differences in actual vs. model prediction (Unemployment)\n",
      "Mean: -0.1251444764087436\n",
      "Median: 0.20529560148101478\n",
      "Max: 6.85234194992708\n",
      "Min: -7.17145913339471\n",
      "Correlation Coef: 0.6784085426838877\n",
      "RMSE: 2.111294240899633\n"
     ]
    },
    {
     "data": {
      "image/png": "[encoded data removed]",
      "text/plain": [
       "<Figure size 432x288 with 1 Axes>"
      ]
     },
     "metadata": {
      "needs_background": "light"
     },
     "output_type": "display_data"
    },
    {
     "name": "stdout",
     "output_type": "stream",
     "text": [
      "Differences in actual vs. forecaster average prediction (Unemployment)\n",
      "Mean: -1.0486688786646037\n",
      "Median: -0.6326126399126251\n",
      "Max: 7.28333333333333\n",
      "Min: -7.85\n",
      "Correlation Coef: 0.6527027422763371\n",
      "RMSE: 2.410424114046406\n"
     ]
    },
    {
     "data": {
      "image/png": "[encoded data removed]",
      "text/plain": [
       "<Figure size 432x288 with 1 Axes>"
      ]
     },
     "metadata": {
      "needs_background": "light"
     },
     "output_type": "display_data"
    }
   ],
   "source": [
    "run_model(unemp, \"Unemployment\", \"LM\", plot = True)"
   ]
  },
  {
   "cell_type": "markdown",
   "metadata": {},
   "source": [
    "### Real GDP"
   ]
  },
  {
   "cell_type": "code",
   "execution_count": 88,
   "metadata": {
    "scrolled": false
   },
   "outputs": [
    {
     "name": "stdout",
     "output_type": "stream",
     "text": [
      "Differences in actual vs. model prediction (Real GDP)\n",
      "Mean: 0.007831027307495771\n",
      "Median: 0.038458297049159595\n",
      "Max: 4.365659285769476\n",
      "Min: -7.523480816009251\n",
      "Correlation Coef: 0.6055716928571496\n",
      "RMSE: 1.4865919626250528\n"
     ]
    },
    {
     "data": {
      "image/png": "[encoded data removed]",
      "text/plain": [
       "<Figure size 432x288 with 1 Axes>"
      ]
     },
     "metadata": {
      "needs_background": "light"
     },
     "output_type": "display_data"
    },
    {
     "name": "stdout",
     "output_type": "stream",
     "text": [
      "Differences in actual vs. forecaster average prediction (Real GDP)\n",
      "Mean: -0.4499737041036553\n",
      "Median: -0.20306500000000005\n",
      "Max: 3.70324\n",
      "Min: -7.57376\n",
      "Correlation Coef: 0.5333098587682804\n",
      "RMSE: 1.643381354579117\n"
     ]
    },
    {
     "data": {
      "image/png": "[encoded data removed]",
      "text/plain": [
       "<Figure size 432x288 with 1 Axes>"
      ]
     },
     "metadata": {
      "needs_background": "light"
     },
     "output_type": "display_data"
    }
   ],
   "source": [
    "run_model(rgdp, \"Real GDP\", \"LM\", plot=True)"
   ]
  },
  {
   "cell_type": "markdown",
   "metadata": {},
   "source": [
    "### Core PCE"
   ]
  },
  {
   "cell_type": "code",
   "execution_count": 89,
   "metadata": {},
   "outputs": [
    {
     "name": "stdout",
     "output_type": "stream",
     "text": [
      "Differences in actual vs. model prediction (Core PCE)\n",
      "Mean: 0.009011527990146616\n",
      "Median: -0.1359294428864799\n",
      "Max: 6.371452804488813\n",
      "Min: -1.9759611578211713\n",
      "Correlation Coef: 0.07697877076398316\n",
      "RMSE: 1.2174383258602164\n"
     ]
    },
    {
     "data": {
      "image/png": "[encoded data removed]",
      "text/plain": [
       "<Figure size 432x288 with 1 Axes>"
      ]
     },
     "metadata": {
      "needs_background": "light"
     },
     "output_type": "display_data"
    },
    {
     "name": "stdout",
     "output_type": "stream",
     "text": [
      "Differences in actual vs. forecaster average prediction (Core PCE)\n",
      "Mean: -0.05154847312459374\n",
      "Median: -0.17810805484746006\n",
      "Max: 7.358333\n",
      "Min: -2.85\n",
      "Correlation Coef: 0.022225592335442364\n",
      "RMSE: 1.2901135498525942\n"
     ]
    },
    {
     "data": {
      "image/png": "[encoded data removed]",
      "text/plain": [
       "<Figure size 432x288 with 1 Axes>"
      ]
     },
     "metadata": {
      "needs_background": "light"
     },
     "output_type": "display_data"
    }
   ],
   "source": [
    "run_model(cpce, \"Core PCE\", \"LM\", plot=True)"
   ]
  },
  {
   "cell_type": "markdown",
   "metadata": {},
   "source": [
    "### Core CPI"
   ]
  },
  {
   "cell_type": "code",
   "execution_count": 90,
   "metadata": {},
   "outputs": [
    {
     "name": "stdout",
     "output_type": "stream",
     "text": [
      "Differences in actual vs. model prediction (Core CPI)\n",
      "Mean: -0.00876333380078843\n",
      "Median: -0.08565511184134889\n",
      "Max: 6.302206194840204\n",
      "Min: -2.2811708513905\n",
      "Correlation Coef: 0.09290685800648438\n",
      "RMSE: 1.2196359915755413\n"
     ]
    },
    {
     "data": {
      "image/png": "[encoded data removed]",
      "text/plain": [
       "<Figure size 432x288 with 1 Axes>"
      ]
     },
     "metadata": {
      "needs_background": "light"
     },
     "output_type": "display_data"
    },
    {
     "name": "stdout",
     "output_type": "stream",
     "text": [
      "Differences in actual vs. forecaster average prediction (Core CPI)\n",
      "Mean: 0.0036721104765551162\n",
      "Median: -0.10442747353666604\n",
      "Max: 8.008333\n",
      "Min: -4.29380034612723\n",
      "Correlation Coef: 0.04899231624101068\n",
      "RMSE: 1.3288383911563013\n"
     ]
    },
    {
     "data": {
      "image/png": "[encoded data removed]",
      "text/plain": [
       "<Figure size 432x288 with 1 Axes>"
      ]
     },
     "metadata": {
      "needs_background": "light"
     },
     "output_type": "display_data"
    }
   ],
   "source": [
    "run_model(ccpi, \"Core CPI\", \"LM\", plot=True)"
   ]
  },
  {
   "cell_type": "markdown",
   "metadata": {},
   "source": [
    "### Nominal GNP"
   ]
  },
  {
   "cell_type": "code",
   "execution_count": 91,
   "metadata": {},
   "outputs": [
    {
     "name": "stdout",
     "output_type": "stream",
     "text": [
      "Differences in actual vs. model prediction (Nominal GNP)\n",
      "Mean: -0.04880222522515166\n",
      "Median: 0.03413358163926361\n",
      "Max: 6.202904553375824\n",
      "Min: -4.564786936549464\n",
      "Correlation Coef: 0.7206398800825808\n",
      "RMSE: 1.4146400990381125\n"
     ]
    },
    {
     "data": {
      "image/png": "[encoded data removed]",
      "text/plain": [
       "<Figure size 432x288 with 1 Axes>"
      ]
     },
     "metadata": {
      "needs_background": "light"
     },
     "output_type": "display_data"
    },
    {
     "name": "stdout",
     "output_type": "stream",
     "text": [
      "Differences in actual vs. forecaster average prediction (Nominal GNP)\n",
      "Mean: 1.1144252624592066\n",
      "Median: 0.8078699999999994\n",
      "Max: 10.97415\n",
      "Min: -4.01285\n",
      "Correlation Coef: 0.6837811524931326\n",
      "RMSE: 2.1929177836500116\n"
     ]
    },
    {
     "data": {
      "image/png": "[encoded data removed]",
      "text/plain": [
       "<Figure size 432x288 with 1 Axes>"
      ]
     },
     "metadata": {
      "needs_background": "light"
     },
     "output_type": "display_data"
    }
   ],
   "source": [
    "run_model(ngnp, \"Nominal GNP\", \"LM\", plot=True)"
   ]
  },
  {
   "cell_type": "markdown",
   "metadata": {},
   "source": [
    "### Real GNP"
   ]
  },
  {
   "cell_type": "code",
   "execution_count": 92,
   "metadata": {},
   "outputs": [
    {
     "name": "stdout",
     "output_type": "stream",
     "text": [
      "Differences in actual vs. model prediction (Real GNP)\n",
      "Mean: -0.05166542864738989\n",
      "Median: 0.23560430758405237\n",
      "Max: 4.792626207561592\n",
      "Min: -6.121128116781475\n",
      "Correlation Coef: 0.7411309579936309\n",
      "RMSE: 1.5959852789152813\n"
     ]
    },
    {
     "data": {
      "image/png": "[encoded data removed]",
      "text/plain": [
       "<Figure size 432x288 with 1 Axes>"
      ]
     },
     "metadata": {
      "needs_background": "light"
     },
     "output_type": "display_data"
    },
    {
     "name": "stdout",
     "output_type": "stream",
     "text": [
      "Differences in actual vs. forecaster average prediction (Real GNP)\n",
      "Mean: 0.7461467851527642\n",
      "Median: 0.8447200000000001\n",
      "Max: 6.23229\n",
      "Min: -4.83796\n",
      "Correlation Coef: 0.7261290675796293\n",
      "RMSE: 1.7987498474175718\n"
     ]
    },
    {
     "data": {
      "image/png": "[encoded data removed]",
      "text/plain": [
       "<Figure size 432x288 with 1 Axes>"
      ]
     },
     "metadata": {
      "needs_background": "light"
     },
     "output_type": "display_data"
    }
   ],
   "source": [
    "run_model(rgnp, \"Real GNP\", \"LM\", plot=True)"
   ]
  },
  {
   "cell_type": "markdown",
   "metadata": {},
   "source": [
    "## Linear Regression Evaluation"
   ]
  },
  {
   "cell_type": "code",
   "execution_count": 95,
   "metadata": {},
   "outputs": [
    {
     "name": "stdout",
     "output_type": "stream",
     "text": [
      "We decrease RMSE by 0.27228587265821685\n",
      "We increase R-squared by 0.04751278154269382\n"
     ]
    }
   ],
   "source": [
    "evaluate(\"LM\")"
   ]
  },
  {
   "cell_type": "markdown",
   "metadata": {},
   "source": [
    "# Random Forest Regression"
   ]
  },
  {
   "cell_type": "markdown",
   "metadata": {},
   "source": [
    "### Unemployment"
   ]
  },
  {
   "cell_type": "code",
   "execution_count": 96,
   "metadata": {},
   "outputs": [
    {
     "name": "stdout",
     "output_type": "stream",
     "text": [
      "Differences in actual vs. model prediction (Unemployment)\n",
      "Mean: -0.014756261630211287\n",
      "Median: -7.105427357601002e-15\n",
      "Max: 6.46908305\n",
      "Min: -7.540749690000008\n",
      "Correlation Coef: 0.9305346558458819\n",
      "RMSE: 1.0099637912333324\n"
     ]
    },
    {
     "data": {
      "image/png": "[encoded data removed]",
      "text/plain": [
       "<Figure size 432x288 with 1 Axes>"
      ]
     },
     "metadata": {
      "needs_background": "light"
     },
     "output_type": "display_data"
    },
    {
     "name": "stdout",
     "output_type": "stream",
     "text": [
      "Differences in actual vs. forecaster average prediction (Unemployment)\n",
      "Mean: -0.927036679770596\n",
      "Median: -0.6187499999999999\n",
      "Max: 7.28333333333333\n",
      "Min: -8.475\n",
      "Correlation Coef: 0.6223703505934035\n",
      "RMSE: 2.3521156066892823\n"
     ]
    },
    {
     "data": {
      "image/png": "[encoded data removed]",
      "text/plain": [
       "<Figure size 432x288 with 1 Axes>"
      ]
     },
     "metadata": {
      "needs_background": "light"
     },
     "output_type": "display_data"
    }
   ],
   "source": [
    "run_model(unemp, \"Unemployment\", \"RF\", plot = True)"
   ]
  },
  {
   "cell_type": "markdown",
   "metadata": {},
   "source": [
    "### Real GDP"
   ]
  },
  {
   "cell_type": "code",
   "execution_count": 97,
   "metadata": {},
   "outputs": [
    {
     "name": "stdout",
     "output_type": "stream",
     "text": [
      "Differences in actual vs. model prediction (Real GDP)\n",
      "Mean: -0.01608006618574017\n",
      "Median: -0.0029124999999998735\n",
      "Max: 6.271102299999997\n",
      "Min: -7.439254555\n",
      "Correlation Coef: 0.8656690561219095\n",
      "RMSE: 0.9540375368636396\n"
     ]
    },
    {
     "data": {
      "image/png": "[encoded data removed]",
      "text/plain": [
       "<Figure size 432x288 with 1 Axes>"
      ]
     },
     "metadata": {
      "needs_background": "light"
     },
     "output_type": "display_data"
    },
    {
     "name": "stdout",
     "output_type": "stream",
     "text": [
      "Differences in actual vs. forecaster average prediction (Real GDP)\n",
      "Mean: -0.5016833731834279\n",
      "Median: -0.22448999999999986\n",
      "Max: 4.6814100000000005\n",
      "Min: -8.82417\n",
      "Correlation Coef: 0.49099374746379565\n",
      "RMSE: 1.738230519261282\n"
     ]
    },
    {
     "data": {
      "image/png": "[encoded data removed]",
      "text/plain": [
       "<Figure size 432x288 with 1 Axes>"
      ]
     },
     "metadata": {
      "needs_background": "light"
     },
     "output_type": "display_data"
    }
   ],
   "source": [
    "run_model(rgdp, \"Real GDP\", \"RF\", plot=True)"
   ]
  },
  {
   "cell_type": "markdown",
   "metadata": {},
   "source": [
    "### Core CPE"
   ]
  },
  {
   "cell_type": "code",
   "execution_count": 98,
   "metadata": {},
   "outputs": [
    {
     "name": "stdout",
     "output_type": "stream",
     "text": [
      "Differences in actual vs. model prediction (Core PCE)\n",
      "Mean: -0.010891497712617628\n",
      "Median: -0.00487101457906558\n",
      "Max: 6.938217756882324\n",
      "Min: -7.520478857500007\n",
      "Correlation Coef: 0.7557578966992166\n",
      "RMSE: 0.7739566483970595\n"
     ]
    },
    {
     "data": {
      "image/png": "[encoded data removed]",
      "text/plain": [
       "<Figure size 432x288 with 1 Axes>"
      ]
     },
     "metadata": {
      "needs_background": "light"
     },
     "output_type": "display_data"
    },
    {
     "name": "stdout",
     "output_type": "stream",
     "text": [
      "Differences in actual vs. forecaster average prediction (Core PCE)\n",
      "Mean: -0.057051824546893094\n",
      "Median: -0.1924743228105099\n",
      "Max: 7.608333\n",
      "Min: -2.65\n",
      "Correlation Coef: -0.04452120446356747\n",
      "RMSE: 1.2772863612158625\n"
     ]
    },
    {
     "data": {
      "image/png": "[encoded data removed]",
      "text/plain": [
       "<Figure size 432x288 with 1 Axes>"
      ]
     },
     "metadata": {
      "needs_background": "light"
     },
     "output_type": "display_data"
    }
   ],
   "source": [
    "run_model(cpce, \"Core PCE\", \"RF\", plot=True)"
   ]
  },
  {
   "cell_type": "markdown",
   "metadata": {},
   "source": [
    "### Core CPI"
   ]
  },
  {
   "cell_type": "code",
   "execution_count": 99,
   "metadata": {},
   "outputs": [
    {
     "name": "stdout",
     "output_type": "stream",
     "text": [
      "Differences in actual vs. model prediction (Core CPI)\n",
      "Mean: 0.018667897246921594\n",
      "Median: -0.007711757338618064\n",
      "Max: 7.935167630869168\n",
      "Min: -5.983640342646338\n",
      "Correlation Coef: 0.6473939587408589\n",
      "RMSE: 0.9784509162611379\n"
     ]
    },
    {
     "data": {
      "image/png": "[encoded data removed]",
      "text/plain": [
       "<Figure size 432x288 with 1 Axes>"
      ]
     },
     "metadata": {
      "needs_background": "light"
     },
     "output_type": "display_data"
    },
    {
     "name": "stdout",
     "output_type": "stream",
     "text": [
      "Differences in actual vs. forecaster average prediction (Core CPI)\n",
      "Mean: -0.01767454758190156\n",
      "Median: -0.11764099999999988\n",
      "Max: 7.729433\n",
      "Min: -8.629427473536666\n",
      "Correlation Coef: 0.03776833640357241\n",
      "RMSE: 1.4030688358253587\n"
     ]
    },
    {
     "data": {
      "image/png": "[encoded data removed]",
      "text/plain": [
       "<Figure size 432x288 with 1 Axes>"
      ]
     },
     "metadata": {
      "needs_background": "light"
     },
     "output_type": "display_data"
    }
   ],
   "source": [
    "run_model(ccpi, \"Core CPI\", \"RF\", plot=True)"
   ]
  },
  {
   "cell_type": "markdown",
   "metadata": {},
   "source": [
    "### Nominal GNP"
   ]
  },
  {
   "cell_type": "code",
   "execution_count": 100,
   "metadata": {},
   "outputs": [
    {
     "name": "stdout",
     "output_type": "stream",
     "text": [
      "Differences in actual vs. model prediction (Nominal GNP)\n",
      "Mean: -0.0698944562258711\n",
      "Median: -0.014018099999992373\n",
      "Max: 3.5798198000000028\n",
      "Min: -6.223417599999995\n",
      "Correlation Coef: 0.892553127851153\n",
      "RMSE: 0.9215949203735522\n"
     ]
    },
    {
     "data": {
      "image/png": "[encoded data removed]",
      "text/plain": [
       "<Figure size 432x288 with 1 Axes>"
      ]
     },
     "metadata": {
      "needs_background": "light"
     },
     "output_type": "display_data"
    },
    {
     "name": "stdout",
     "output_type": "stream",
     "text": [
      "Differences in actual vs. forecaster average prediction (Nominal GNP)\n",
      "Mean: 1.1021452065932849\n",
      "Median: 0.8385509900989998\n",
      "Max: 10.274149999999999\n",
      "Min: -4.61285\n",
      "Correlation Coef: 0.675624737953995\n",
      "RMSE: 2.1765804640572437\n"
     ]
    },
    {
     "data": {
      "image/png": "[encoded data removed]",
      "text/plain": [
       "<Figure size 432x288 with 1 Axes>"
      ]
     },
     "metadata": {
      "needs_background": "light"
     },
     "output_type": "display_data"
    }
   ],
   "source": [
    "run_model(ngnp, \"Nominal GNP\", \"RF\", plot=True)"
   ]
  },
  {
   "cell_type": "markdown",
   "metadata": {},
   "source": [
    "### Real GNP"
   ]
  },
  {
   "cell_type": "code",
   "execution_count": 101,
   "metadata": {},
   "outputs": [
    {
     "name": "stdout",
     "output_type": "stream",
     "text": [
      "Differences in actual vs. model prediction (Real GNP)\n",
      "Mean: 0.002665560526617765\n",
      "Median: 0.03261690000000872\n",
      "Max: 3.8264485999999973\n",
      "Min: -6.602354708333339\n",
      "Correlation Coef: 0.8915529647370358\n",
      "RMSE: 1.1152224128326984\n"
     ]
    },
    {
     "data": {
      "image/png": "[encoded data removed]",
      "text/plain": [
       "<Figure size 432x288 with 1 Axes>"
      ]
     },
     "metadata": {
      "needs_background": "light"
     },
     "output_type": "display_data"
    },
    {
     "name": "stdout",
     "output_type": "stream",
     "text": [
      "Differences in actual vs. forecaster average prediction (Real GNP)\n",
      "Mean: 0.7653847722347342\n",
      "Median: 0.8090600000000002\n",
      "Max: 7.90641\n",
      "Min: -4.93796\n",
      "Correlation Coef: 0.7512422754939493\n",
      "RMSE: 1.7965890089623433\n"
     ]
    },
    {
     "data": {
      "image/png": "[encoded data removed]",
      "text/plain": [
       "<Figure size 432x288 with 1 Axes>"
      ]
     },
     "metadata": {
      "needs_background": "light"
     },
     "output_type": "display_data"
    }
   ],
   "source": [
    "run_model(rgnp, \"Real GNP\", \"RF\", plot=True)"
   ]
  },
  {
   "cell_type": "markdown",
   "metadata": {},
   "source": [
    "## Random Forest Evaluation"
   ]
  },
  {
   "cell_type": "code",
   "execution_count": 102,
   "metadata": {},
   "outputs": [
    {
     "name": "stdout",
     "output_type": "stream",
     "text": [
      "We decrease RMSE by 0.8214505051625908\n",
      "We increase R-squared by 0.39515713245749823\n"
     ]
    }
   ],
   "source": [
    "evaluate(\"RF\")"
   ]
  },
  {
   "cell_type": "code",
   "execution_count": null,
   "metadata": {},
   "outputs": [],
   "source": [
    "evaluate(\"LM\")"
   ]
  },
  {
   "cell_type": "code",
   "execution_count": 34,
   "metadata": {},
   "outputs": [],
   "source": [
    "data, actual, pred = get_preds(unemp, \"RF\")\n",
    "#plt.plot(actual)\n",
    "#plt.plot(pred)\n",
    "#plt.plot(forecaster)"
   ]
  },
  {
   "cell_type": "code",
   "execution_count": 35,
   "metadata": {},
   "outputs": [
    {
     "data": {
      "text/html": [
       "<div>\n",
       "<style scoped>\n",
       "    .dataframe tbody tr th:only-of-type {\n",
       "        vertical-align: middle;\n",
       "    }\n",
       "\n",
       "    .dataframe tbody tr th {\n",
       "        vertical-align: top;\n",
       "    }\n",
       "\n",
       "    .dataframe thead th {\n",
       "        text-align: right;\n",
       "    }\n",
       "</style>\n",
       "<table border=\"1\" class=\"dataframe\">\n",
       "  <thead>\n",
       "    <tr style=\"text-align: right;\">\n",
       "      <th></th>\n",
       "      <th>FORECASTER ID</th>\n",
       "      <th>MAX</th>\n",
       "      <th>pred_average</th>\n",
       "      <th>pred_var</th>\n",
       "      <th>HIT</th>\n",
       "      <th>ACTUAL_CONF</th>\n",
       "    </tr>\n",
       "  </thead>\n",
       "  <tbody>\n",
       "    <tr>\n",
       "      <th>13741</th>\n",
       "      <td>549</td>\n",
       "      <td>0.95</td>\n",
       "      <td>4.5375</td>\n",
       "      <td>0.026719</td>\n",
       "      <td>1.0</td>\n",
       "      <td>0.95</td>\n",
       "    </tr>\n",
       "    <tr>\n",
       "      <th>6521</th>\n",
       "      <td>456</td>\n",
       "      <td>0.40</td>\n",
       "      <td>10.0500</td>\n",
       "      <td>0.633750</td>\n",
       "      <td>0.0</td>\n",
       "      <td>0.30</td>\n",
       "    </tr>\n",
       "    <tr>\n",
       "      <th>7818</th>\n",
       "      <td>483</td>\n",
       "      <td>0.25</td>\n",
       "      <td>8.0950</td>\n",
       "      <td>1.623475</td>\n",
       "      <td>0.0</td>\n",
       "      <td>0.15</td>\n",
       "    </tr>\n",
       "    <tr>\n",
       "      <th>10595</th>\n",
       "      <td>572</td>\n",
       "      <td>0.38</td>\n",
       "      <td>6.6525</td>\n",
       "      <td>0.709869</td>\n",
       "      <td>0.0</td>\n",
       "      <td>0.25</td>\n",
       "    </tr>\n",
       "    <tr>\n",
       "      <th>7403</th>\n",
       "      <td>421</td>\n",
       "      <td>0.40</td>\n",
       "      <td>9.6125</td>\n",
       "      <td>0.215469</td>\n",
       "      <td>0.5</td>\n",
       "      <td>0.40</td>\n",
       "    </tr>\n",
       "  </tbody>\n",
       "</table>\n",
       "</div>"
      ],
      "text/plain": [
       "       FORECASTER ID   MAX  pred_average  pred_var  HIT  ACTUAL_CONF\n",
       "13741            549  0.95        4.5375  0.026719  1.0         0.95\n",
       "6521             456  0.40       10.0500  0.633750  0.0         0.30\n",
       "7818             483  0.25        8.0950  1.623475  0.0         0.15\n",
       "10595            572  0.38        6.6525  0.709869  0.0         0.25\n",
       "7403             421  0.40        9.6125  0.215469  0.5         0.40"
      ]
     },
     "execution_count": 35,
     "metadata": {},
     "output_type": "execute_result"
    }
   ],
   "source": [
    "data.head()"
   ]
  },
  {
   "cell_type": "code",
   "execution_count": 140,
   "metadata": {},
   "outputs": [
    {
     "data": {
      "text/html": [
       "<div>\n",
       "<style scoped>\n",
       "    .dataframe tbody tr th:only-of-type {\n",
       "        vertical-align: middle;\n",
       "    }\n",
       "\n",
       "    .dataframe tbody tr th {\n",
       "        vertical-align: top;\n",
       "    }\n",
       "\n",
       "    .dataframe thead th {\n",
       "        text-align: right;\n",
       "    }\n",
       "</style>\n",
       "<table border=\"1\" class=\"dataframe\">\n",
       "  <thead>\n",
       "    <tr style=\"text-align: right;\">\n",
       "      <th></th>\n",
       "      <th>Unnamed: 0</th>\n",
       "      <th>YEAR FORECAST MADE</th>\n",
       "      <th>QUARTER</th>\n",
       "      <th>YEAR BEING FORECAST</th>\n",
       "      <th>INDICATOR</th>\n",
       "      <th>FORECASTER ID</th>\n",
       "      <th>INDUSTRY</th>\n",
       "      <th>Year.ID.ForecastYear.Quarter</th>\n",
       "      <th>Indicator.Year.ID.ForecastYear.Quarter</th>\n",
       "      <th>BIN 1</th>\n",
       "      <th>...</th>\n",
       "      <th>ACTUAL_CONF</th>\n",
       "      <th>HIT</th>\n",
       "      <th>pred_average</th>\n",
       "      <th>pred_var</th>\n",
       "      <th>chicken</th>\n",
       "      <th>coffee</th>\n",
       "      <th>eggs</th>\n",
       "      <th>electricity</th>\n",
       "      <th>rice</th>\n",
       "      <th>unleadedGasoline</th>\n",
       "    </tr>\n",
       "  </thead>\n",
       "  <tbody>\n",
       "    <tr>\n",
       "      <th>5016</th>\n",
       "      <td>5016</td>\n",
       "      <td>1992</td>\n",
       "      <td>1</td>\n",
       "      <td>1992</td>\n",
       "      <td>RealGDP</td>\n",
       "      <td>20</td>\n",
       "      <td>2.0</td>\n",
       "      <td>1992-20-1992-1</td>\n",
       "      <td>RealGDP-1992-20-1992-1</td>\n",
       "      <td>0.0</td>\n",
       "      <td>...</td>\n",
       "      <td>0.0</td>\n",
       "      <td>0.0</td>\n",
       "      <td>1.00</td>\n",
       "      <td>0.2500</td>\n",
       "      <td>0.862</td>\n",
       "      <td>2.662333</td>\n",
       "      <td>0.888</td>\n",
       "      <td>0.085</td>\n",
       "      <td>0.515333</td>\n",
       "      <td>1.061667</td>\n",
       "    </tr>\n",
       "    <tr>\n",
       "      <th>5017</th>\n",
       "      <td>5017</td>\n",
       "      <td>1992</td>\n",
       "      <td>1</td>\n",
       "      <td>1992</td>\n",
       "      <td>RealGDP</td>\n",
       "      <td>30</td>\n",
       "      <td>3.0</td>\n",
       "      <td>1992-30-1992-1</td>\n",
       "      <td>RealGDP-1992-30-1992-1</td>\n",
       "      <td>0.0</td>\n",
       "      <td>...</td>\n",
       "      <td>0.6</td>\n",
       "      <td>1.0</td>\n",
       "      <td>3.30</td>\n",
       "      <td>0.3600</td>\n",
       "      <td>0.862</td>\n",
       "      <td>2.662333</td>\n",
       "      <td>0.888</td>\n",
       "      <td>0.085</td>\n",
       "      <td>0.515333</td>\n",
       "      <td>1.061667</td>\n",
       "    </tr>\n",
       "    <tr>\n",
       "      <th>5018</th>\n",
       "      <td>5018</td>\n",
       "      <td>1992</td>\n",
       "      <td>1</td>\n",
       "      <td>1992</td>\n",
       "      <td>RealGDP</td>\n",
       "      <td>35</td>\n",
       "      <td>2.0</td>\n",
       "      <td>1992-35-1992-1</td>\n",
       "      <td>RealGDP-1992-35-1992-1</td>\n",
       "      <td>0.0</td>\n",
       "      <td>...</td>\n",
       "      <td>0.1</td>\n",
       "      <td>0.0</td>\n",
       "      <td>2.10</td>\n",
       "      <td>1.2400</td>\n",
       "      <td>0.862</td>\n",
       "      <td>2.662333</td>\n",
       "      <td>0.888</td>\n",
       "      <td>0.085</td>\n",
       "      <td>0.515333</td>\n",
       "      <td>1.061667</td>\n",
       "    </tr>\n",
       "    <tr>\n",
       "      <th>5019</th>\n",
       "      <td>5019</td>\n",
       "      <td>1992</td>\n",
       "      <td>1</td>\n",
       "      <td>1992</td>\n",
       "      <td>RealGDP</td>\n",
       "      <td>40</td>\n",
       "      <td>2.0</td>\n",
       "      <td>1992-40-1992-1</td>\n",
       "      <td>RealGDP-1992-40-1992-1</td>\n",
       "      <td>0.0</td>\n",
       "      <td>...</td>\n",
       "      <td>0.1</td>\n",
       "      <td>0.0</td>\n",
       "      <td>2.10</td>\n",
       "      <td>1.2400</td>\n",
       "      <td>0.862</td>\n",
       "      <td>2.662333</td>\n",
       "      <td>0.888</td>\n",
       "      <td>0.085</td>\n",
       "      <td>0.515333</td>\n",
       "      <td>1.061667</td>\n",
       "    </tr>\n",
       "    <tr>\n",
       "      <th>5020</th>\n",
       "      <td>5020</td>\n",
       "      <td>1992</td>\n",
       "      <td>1</td>\n",
       "      <td>1992</td>\n",
       "      <td>RealGDP</td>\n",
       "      <td>60</td>\n",
       "      <td>2.0</td>\n",
       "      <td>1992-60-1992-1</td>\n",
       "      <td>RealGDP-1992-60-1992-1</td>\n",
       "      <td>0.0</td>\n",
       "      <td>...</td>\n",
       "      <td>0.0</td>\n",
       "      <td>0.0</td>\n",
       "      <td>1.15</td>\n",
       "      <td>0.4275</td>\n",
       "      <td>0.862</td>\n",
       "      <td>2.662333</td>\n",
       "      <td>0.888</td>\n",
       "      <td>0.085</td>\n",
       "      <td>0.515333</td>\n",
       "      <td>1.061667</td>\n",
       "    </tr>\n",
       "  </tbody>\n",
       "</table>\n",
       "<p>5 rows × 71 columns</p>\n",
       "</div>"
      ],
      "text/plain": [
       "      Unnamed: 0  YEAR FORECAST MADE  QUARTER  YEAR BEING FORECAST INDICATOR  \\\n",
       "5016        5016                1992        1                 1992   RealGDP   \n",
       "5017        5017                1992        1                 1992   RealGDP   \n",
       "5018        5018                1992        1                 1992   RealGDP   \n",
       "5019        5019                1992        1                 1992   RealGDP   \n",
       "5020        5020                1992        1                 1992   RealGDP   \n",
       "\n",
       "      FORECASTER ID  INDUSTRY Year.ID.ForecastYear.Quarter  \\\n",
       "5016             20       2.0               1992-20-1992-1   \n",
       "5017             30       3.0               1992-30-1992-1   \n",
       "5018             35       2.0               1992-35-1992-1   \n",
       "5019             40       2.0               1992-40-1992-1   \n",
       "5020             60       2.0               1992-60-1992-1   \n",
       "\n",
       "     Indicator.Year.ID.ForecastYear.Quarter  BIN 1  ...  ACTUAL_CONF  HIT  \\\n",
       "5016                 RealGDP-1992-20-1992-1    0.0  ...          0.0  0.0   \n",
       "5017                 RealGDP-1992-30-1992-1    0.0  ...          0.6  1.0   \n",
       "5018                 RealGDP-1992-35-1992-1    0.0  ...          0.1  0.0   \n",
       "5019                 RealGDP-1992-40-1992-1    0.0  ...          0.1  0.0   \n",
       "5020                 RealGDP-1992-60-1992-1    0.0  ...          0.0  0.0   \n",
       "\n",
       "      pred_average  pred_var  chicken    coffee   eggs  electricity      rice  \\\n",
       "5016          1.00    0.2500    0.862  2.662333  0.888        0.085  0.515333   \n",
       "5017          3.30    0.3600    0.862  2.662333  0.888        0.085  0.515333   \n",
       "5018          2.10    1.2400    0.862  2.662333  0.888        0.085  0.515333   \n",
       "5019          2.10    1.2400    0.862  2.662333  0.888        0.085  0.515333   \n",
       "5020          1.15    0.4275    0.862  2.662333  0.888        0.085  0.515333   \n",
       "\n",
       "      unleadedGasoline  \n",
       "5016          1.061667  \n",
       "5017          1.061667  \n",
       "5018          1.061667  \n",
       "5019          1.061667  \n",
       "5020          1.061667  \n",
       "\n",
       "[5 rows x 71 columns]"
      ]
     },
     "execution_count": 140,
     "metadata": {},
     "output_type": "execute_result"
    }
   ],
   "source": [
    "rgdp.head()"
   ]
  },
  {
   "cell_type": "code",
   "execution_count": 37,
   "metadata": {},
   "outputs": [
    {
     "data": {
      "text/plain": [
       "Index(['YEAR FORECAST MADE', 'QUARTER', 'YEAR BEING FORECAST', 'INDICATOR',\n",
       "       'FORECASTER ID', 'INDUSTRY', 'Year.ID.ForecastYear.Quarter',\n",
       "       'Indicator.Year.ID.ForecastYear.Quarter', 'BIN 1', 'BIN 2', 'BIN 3',\n",
       "       'BIN 4', 'BIN 5', 'BIN 6', 'BIN 7', 'BIN 8', 'BIN 9', 'BIN 10',\n",
       "       'BIN 11', 'BIN 12', 'BIN 13', 'BIN 14', 'BIN 15', 'BIN 1 prob',\n",
       "       'BIN 2 prob', 'BIN 3 prob', 'BIN 4 prob', 'BIN 5 prob', 'BIN 6 prob',\n",
       "       'BIN 7 prob', 'BIN 8 prob', 'BIN 9 prob', 'BIN 10 prob', 'BIN 11 prob',\n",
       "       'BIN 12 prob', 'BIN 13 prob', 'BIN 14 prob', 'BIN 15 prob',\n",
       "       'BIN 1 midpoint', 'BIN 2 midpoint', 'BIN 3 midpoint', 'BIN 4 midpoint',\n",
       "       'BIN 5 midpoint', 'BIN 6 midpoint', 'BIN 7 midpoint', 'BIN 8 midpoint',\n",
       "       'BIN 9 midpoint', 'BIN 10 midpoint', 'BIN 11 midpoint',\n",
       "       'BIN 12 midpoint', 'BIN 13 midpoint', 'BIN 14 midpoint',\n",
       "       'BIN 15 midpoint', 'nbin', 'bin_value_sum', 'TDIST', 'actual',\n",
       "       'ACTUAL_BIN', 'MAX', 'NUM_OF_MAX', 'ACTUAL_CONF', 'HIT', 'pred_average',\n",
       "       'pred_var'],\n",
       "      dtype='object')"
      ]
     },
     "execution_count": 37,
     "metadata": {},
     "output_type": "execute_result"
    }
   ],
   "source": [
    "unemp.columns"
   ]
  },
  {
   "cell_type": "code",
   "execution_count": 42,
   "metadata": {},
   "outputs": [
    {
     "data": {
      "text/plain": [
       "2015    342\n",
       "2014    341\n",
       "2016    338\n",
       "2013    338\n",
       "2017    332\n",
       "2018    319\n",
       "2012    316\n",
       "2019    273\n",
       "2011    230\n",
       "2020    191\n",
       "2010    146\n",
       "2021    112\n",
       "2009     63\n",
       "2022     39\n",
       "Name: YEAR BEING FORECAST, dtype: int64"
      ]
     },
     "execution_count": 42,
     "metadata": {},
     "output_type": "execute_result"
    }
   ],
   "source": [
    "unemp['YEAR BEING FORECAST'].value_counts()"
   ]
  },
  {
   "cell_type": "code",
   "execution_count": 43,
   "metadata": {},
   "outputs": [
    {
     "data": {
      "text/plain": [
       "2012    344\n",
       "2014    344\n",
       "2013    340\n",
       "2015    340\n",
       "2011    336\n",
       "2010    332\n",
       "2016    328\n",
       "2017    316\n",
       "2018    292\n",
       "2009    252\n",
       "2019    156\n",
       "Name: YEAR FORECAST MADE, dtype: int64"
      ]
     },
     "execution_count": 43,
     "metadata": {},
     "output_type": "execute_result"
    }
   ],
   "source": [
    "unemp['YEAR FORECAST MADE'].value_counts()"
   ]
  },
  {
   "cell_type": "code",
   "execution_count": 44,
   "metadata": {},
   "outputs": [
    {
     "data": {
      "text/plain": [
       "7090"
      ]
     },
     "execution_count": 44,
     "metadata": {},
     "output_type": "execute_result"
    }
   ],
   "source": [
    "len(train[train['YEAR FORECAST MADE'] == train['YEAR BEING FORECAST']])"
   ]
  },
  {
   "cell_type": "code",
   "execution_count": 45,
   "metadata": {},
   "outputs": [
    {
     "data": {
      "text/plain": [
       "16217"
      ]
     },
     "execution_count": 45,
     "metadata": {},
     "output_type": "execute_result"
    }
   ],
   "source": [
    "len(train)"
   ]
  },
  {
   "cell_type": "code",
   "execution_count": 46,
   "metadata": {},
   "outputs": [
    {
     "data": {
      "text/plain": [
       "3380"
      ]
     },
     "execution_count": 46,
     "metadata": {},
     "output_type": "execute_result"
    }
   ],
   "source": [
    "len(unemp)"
   ]
  },
  {
   "cell_type": "code",
   "execution_count": 54,
   "metadata": {},
   "outputs": [
    {
     "data": {
      "text/plain": [
       "845"
      ]
     },
     "execution_count": 54,
     "metadata": {},
     "output_type": "execute_result"
    }
   ],
   "source": [
    "same_unemp = unemp[unemp['YEAR FORECAST MADE'] == unemp['YEAR BEING FORECAST']]\n",
    "len(unemp[unemp['YEAR FORECAST MADE'] == unemp['YEAR BEING FORECAST']])"
   ]
  },
  {
   "cell_type": "code",
   "execution_count": 48,
   "metadata": {},
   "outputs": [
    {
     "data": {
      "text/plain": [
       "2188"
      ]
     },
     "execution_count": 48,
     "metadata": {},
     "output_type": "execute_result"
    }
   ],
   "source": [
    "len(rgdp[rgdp['YEAR FORECAST MADE'] == rgdp['YEAR BEING FORECAST']])"
   ]
  },
  {
   "cell_type": "code",
   "execution_count": 49,
   "metadata": {},
   "outputs": [
    {
     "data": {
      "text/plain": [
       "584"
      ]
     },
     "execution_count": 49,
     "metadata": {},
     "output_type": "execute_result"
    }
   ],
   "source": [
    "len(rgnp[rgnp['YEAR FORECAST MADE'] == rgnp['YEAR BEING FORECAST']])"
   ]
  },
  {
   "cell_type": "code",
   "execution_count": 50,
   "metadata": {},
   "outputs": [
    {
     "data": {
      "text/plain": [
       "1343"
      ]
     },
     "execution_count": 50,
     "metadata": {},
     "output_type": "execute_result"
    }
   ],
   "source": [
    "len(ngnp[ngnp['YEAR FORECAST MADE'] == ngnp['YEAR BEING FORECAST']])"
   ]
  },
  {
   "cell_type": "code",
   "execution_count": 51,
   "metadata": {},
   "outputs": [
    {
     "data": {
      "text/plain": [
       "1065"
      ]
     },
     "execution_count": 51,
     "metadata": {},
     "output_type": "execute_result"
    }
   ],
   "source": [
    "len(ccpi[ccpi['YEAR FORECAST MADE'] == ccpi['YEAR BEING FORECAST']])"
   ]
  },
  {
   "cell_type": "code",
   "execution_count": 53,
   "metadata": {},
   "outputs": [
    {
     "data": {
      "text/plain": [
       "1065"
      ]
     },
     "execution_count": 53,
     "metadata": {},
     "output_type": "execute_result"
    }
   ],
   "source": [
    "len(cpce[cpce['YEAR FORECAST MADE'] == cpce['YEAR BEING FORECAST']])"
   ]
  },
  {
   "cell_type": "code",
   "execution_count": 55,
   "metadata": {},
   "outputs": [
    {
     "data": {
      "text/plain": [
       "2012    86\n",
       "2014    86\n",
       "2013    85\n",
       "2015    85\n",
       "2011    84\n",
       "2010    83\n",
       "2016    82\n",
       "2017    79\n",
       "2018    73\n",
       "2009    63\n",
       "2019    39\n",
       "Name: YEAR FORECAST MADE, dtype: int64"
      ]
     },
     "execution_count": 55,
     "metadata": {},
     "output_type": "execute_result"
    }
   ],
   "source": [
    "same_unemp['YEAR FORECAST MADE'].value_counts()"
   ]
  },
  {
   "cell_type": "code",
   "execution_count": 60,
   "metadata": {},
   "outputs": [
    {
     "data": {
      "text/html": [
       "<div>\n",
       "<style scoped>\n",
       "    .dataframe tbody tr th:only-of-type {\n",
       "        vertical-align: middle;\n",
       "    }\n",
       "\n",
       "    .dataframe tbody tr th {\n",
       "        vertical-align: top;\n",
       "    }\n",
       "\n",
       "    .dataframe thead th {\n",
       "        text-align: right;\n",
       "    }\n",
       "</style>\n",
       "<table border=\"1\" class=\"dataframe\">\n",
       "  <thead>\n",
       "    <tr style=\"text-align: right;\">\n",
       "      <th></th>\n",
       "      <th>YEAR FORECAST MADE</th>\n",
       "      <th>QUARTER</th>\n",
       "      <th>YEAR BEING FORECAST</th>\n",
       "      <th>INDICATOR</th>\n",
       "      <th>FORECASTER ID</th>\n",
       "      <th>INDUSTRY</th>\n",
       "      <th>Year.ID.ForecastYear.Quarter</th>\n",
       "      <th>Indicator.Year.ID.ForecastYear.Quarter</th>\n",
       "      <th>BIN 1</th>\n",
       "      <th>BIN 2</th>\n",
       "      <th>...</th>\n",
       "      <th>bin_value_sum</th>\n",
       "      <th>TDIST</th>\n",
       "      <th>actual</th>\n",
       "      <th>ACTUAL_BIN</th>\n",
       "      <th>MAX</th>\n",
       "      <th>NUM_OF_MAX</th>\n",
       "      <th>ACTUAL_CONF</th>\n",
       "      <th>HIT</th>\n",
       "      <th>pred_average</th>\n",
       "      <th>pred_var</th>\n",
       "    </tr>\n",
       "  </thead>\n",
       "  <tbody>\n",
       "    <tr>\n",
       "      <th>6155</th>\n",
       "      <td>2009</td>\n",
       "      <td>2</td>\n",
       "      <td>2009</td>\n",
       "      <td>Unemployment</td>\n",
       "      <td>527</td>\n",
       "      <td>2.0</td>\n",
       "      <td>2009-527-2009-2</td>\n",
       "      <td>Unemployment-2009-527-2009-2</td>\n",
       "      <td>0.0</td>\n",
       "      <td>0.0</td>\n",
       "      <td>...</td>\n",
       "      <td>100.0</td>\n",
       "      <td>0.5</td>\n",
       "      <td>9.283333</td>\n",
       "      <td>4.0</td>\n",
       "      <td>0.60</td>\n",
       "      <td>1.0</td>\n",
       "      <td>0.60</td>\n",
       "      <td>1.0</td>\n",
       "      <td>9.4500</td>\n",
       "      <td>0.060000</td>\n",
       "    </tr>\n",
       "    <tr>\n",
       "      <th>6156</th>\n",
       "      <td>2009</td>\n",
       "      <td>2</td>\n",
       "      <td>2009</td>\n",
       "      <td>Unemployment</td>\n",
       "      <td>540</td>\n",
       "      <td>2.0</td>\n",
       "      <td>2009-540-2009-2</td>\n",
       "      <td>Unemployment-2009-540-2009-2</td>\n",
       "      <td>0.0</td>\n",
       "      <td>0.0</td>\n",
       "      <td>...</td>\n",
       "      <td>100.0</td>\n",
       "      <td>0.5</td>\n",
       "      <td>9.283333</td>\n",
       "      <td>4.0</td>\n",
       "      <td>0.40</td>\n",
       "      <td>2.0</td>\n",
       "      <td>0.40</td>\n",
       "      <td>0.5</td>\n",
       "      <td>8.8500</td>\n",
       "      <td>0.140000</td>\n",
       "    </tr>\n",
       "    <tr>\n",
       "      <th>6157</th>\n",
       "      <td>2009</td>\n",
       "      <td>2</td>\n",
       "      <td>2009</td>\n",
       "      <td>Unemployment</td>\n",
       "      <td>549</td>\n",
       "      <td>1.0</td>\n",
       "      <td>2009-549-2009-2</td>\n",
       "      <td>Unemployment-2009-549-2009-2</td>\n",
       "      <td>0.0</td>\n",
       "      <td>0.0</td>\n",
       "      <td>...</td>\n",
       "      <td>100.0</td>\n",
       "      <td>0.5</td>\n",
       "      <td>9.283333</td>\n",
       "      <td>4.0</td>\n",
       "      <td>0.55</td>\n",
       "      <td>1.0</td>\n",
       "      <td>0.55</td>\n",
       "      <td>1.0</td>\n",
       "      <td>9.4750</td>\n",
       "      <td>0.061875</td>\n",
       "    </tr>\n",
       "    <tr>\n",
       "      <th>6158</th>\n",
       "      <td>2009</td>\n",
       "      <td>2</td>\n",
       "      <td>2009</td>\n",
       "      <td>Unemployment</td>\n",
       "      <td>484</td>\n",
       "      <td>2.0</td>\n",
       "      <td>2009-484-2009-2</td>\n",
       "      <td>Unemployment-2009-484-2009-2</td>\n",
       "      <td>3.0</td>\n",
       "      <td>12.0</td>\n",
       "      <td>...</td>\n",
       "      <td>100.0</td>\n",
       "      <td>0.5</td>\n",
       "      <td>9.283333</td>\n",
       "      <td>4.0</td>\n",
       "      <td>0.27</td>\n",
       "      <td>1.0</td>\n",
       "      <td>0.27</td>\n",
       "      <td>1.0</td>\n",
       "      <td>9.2725</td>\n",
       "      <td>0.656369</td>\n",
       "    </tr>\n",
       "    <tr>\n",
       "      <th>6159</th>\n",
       "      <td>2009</td>\n",
       "      <td>2</td>\n",
       "      <td>2009</td>\n",
       "      <td>Unemployment</td>\n",
       "      <td>553</td>\n",
       "      <td>2.0</td>\n",
       "      <td>2009-553-2009-2</td>\n",
       "      <td>Unemployment-2009-553-2009-2</td>\n",
       "      <td>0.0</td>\n",
       "      <td>10.0</td>\n",
       "      <td>...</td>\n",
       "      <td>100.0</td>\n",
       "      <td>0.5</td>\n",
       "      <td>9.283333</td>\n",
       "      <td>4.0</td>\n",
       "      <td>0.45</td>\n",
       "      <td>1.0</td>\n",
       "      <td>0.40</td>\n",
       "      <td>0.0</td>\n",
       "      <td>9.5750</td>\n",
       "      <td>0.175625</td>\n",
       "    </tr>\n",
       "  </tbody>\n",
       "</table>\n",
       "<p>5 rows × 64 columns</p>\n",
       "</div>"
      ],
      "text/plain": [
       "      YEAR FORECAST MADE  QUARTER  YEAR BEING FORECAST     INDICATOR  \\\n",
       "6155                2009        2                 2009  Unemployment   \n",
       "6156                2009        2                 2009  Unemployment   \n",
       "6157                2009        2                 2009  Unemployment   \n",
       "6158                2009        2                 2009  Unemployment   \n",
       "6159                2009        2                 2009  Unemployment   \n",
       "\n",
       "      FORECASTER ID  INDUSTRY Year.ID.ForecastYear.Quarter  \\\n",
       "6155            527       2.0              2009-527-2009-2   \n",
       "6156            540       2.0              2009-540-2009-2   \n",
       "6157            549       1.0              2009-549-2009-2   \n",
       "6158            484       2.0              2009-484-2009-2   \n",
       "6159            553       2.0              2009-553-2009-2   \n",
       "\n",
       "     Indicator.Year.ID.ForecastYear.Quarter  BIN 1  BIN 2  ...  bin_value_sum  \\\n",
       "6155           Unemployment-2009-527-2009-2    0.0    0.0  ...          100.0   \n",
       "6156           Unemployment-2009-540-2009-2    0.0    0.0  ...          100.0   \n",
       "6157           Unemployment-2009-549-2009-2    0.0    0.0  ...          100.0   \n",
       "6158           Unemployment-2009-484-2009-2    3.0   12.0  ...          100.0   \n",
       "6159           Unemployment-2009-553-2009-2    0.0   10.0  ...          100.0   \n",
       "\n",
       "      TDIST    actual  ACTUAL_BIN   MAX  NUM_OF_MAX  ACTUAL_CONF  HIT  \\\n",
       "6155    0.5  9.283333         4.0  0.60         1.0         0.60  1.0   \n",
       "6156    0.5  9.283333         4.0  0.40         2.0         0.40  0.5   \n",
       "6157    0.5  9.283333         4.0  0.55         1.0         0.55  1.0   \n",
       "6158    0.5  9.283333         4.0  0.27         1.0         0.27  1.0   \n",
       "6159    0.5  9.283333         4.0  0.45         1.0         0.40  0.0   \n",
       "\n",
       "      pred_average  pred_var  \n",
       "6155        9.4500  0.060000  \n",
       "6156        8.8500  0.140000  \n",
       "6157        9.4750  0.061875  \n",
       "6158        9.2725  0.656369  \n",
       "6159        9.5750  0.175625  \n",
       "\n",
       "[5 rows x 64 columns]"
      ]
     },
     "execution_count": 60,
     "metadata": {},
     "output_type": "execute_result"
    }
   ],
   "source": [
    "same_unemp.head()"
   ]
  },
  {
   "cell_type": "code",
   "execution_count": 109,
   "metadata": {},
   "outputs": [],
   "source": [
    "unemp_rmse_pred, unemp_rmse_actual, unemp_r2_pred, unemp_r2_actual = run_model(\n",
    "    unemp, \"Unemployment\", \"LM\", plot=False, ensemble=True)"
   ]
  },
  {
   "cell_type": "code",
   "execution_count": 110,
   "metadata": {},
   "outputs": [
    {
     "data": {
      "text/plain": [
       "1.0491184759479257"
      ]
     },
     "execution_count": 110,
     "metadata": {},
     "output_type": "execute_result"
    }
   ],
   "source": [
    "unemp_rmse_actual - unemp_rmse_pred"
   ]
  },
  {
   "cell_type": "code",
   "execution_count": 111,
   "metadata": {},
   "outputs": [
    {
     "data": {
      "text/plain": [
       "0.25611343804269215"
      ]
     },
     "execution_count": 111,
     "metadata": {},
     "output_type": "execute_result"
    }
   ],
   "source": [
    "unemp_r2_pred - unemp_r2_actual"
   ]
  },
  {
   "cell_type": "code",
   "execution_count": 124,
   "metadata": {},
   "outputs": [
    {
     "name": "stdout",
     "output_type": "stream",
     "text": [
      "We decrease RMSE by 0.5338325372386963\n",
      "We increase R-squared by 0.4304053407119052\n"
     ]
    },
    {
     "data": {
      "text/plain": [
       "([2.3416080943603585,\n",
       "  1.6627716104937262,\n",
       "  1.3240745882805094,\n",
       "  1.305346609249318],\n",
       " [1.382992528364267,\n",
       "  1.0771175569603986,\n",
       "  1.0259959919392208,\n",
       "  1.012364676165241],\n",
       " [0.8786517138306273,\n",
       "  0.8323446252280846,\n",
       "  0.6425793192352016,\n",
       "  0.5740928158322827],\n",
       " [0.6246272023144769,\n",
       "  0.5080912118052938,\n",
       "  0.016969952331613452,\n",
       "  0.056358744827191144])"
      ]
     },
     "execution_count": 124,
     "metadata": {},
     "output_type": "execute_result"
    }
   ],
   "source": [
    "evaluate_ensemble()"
   ]
  },
  {
   "cell_type": "code",
   "execution_count": 125,
   "metadata": {},
   "outputs": [
    {
     "name": "stdout",
     "output_type": "stream",
     "text": [
      "We decrease RMSE by 0.15873567060346927\n",
      "We increase R-squared by 0.04726369341573762\n"
     ]
    },
    {
     "data": {
      "text/plain": [
       "([2.3113442019647414,\n",
       "  1.705306140338677,\n",
       "  1.2355382206690564,\n",
       "  1.3563743939599835],\n",
       " [2.056148476796986,\n",
       "  1.5586697822154143,\n",
       "  1.1608161600555118,\n",
       "  1.1979858554506688],\n",
       " [0.6826577096587956,\n",
       "  0.5422737130999501,\n",
       "  0.0458557847512643,\n",
       "  0.08986243257026803],\n",
       " [0.6605729119468742,\n",
       "  0.4687038952560699,\n",
       "  0.010476476102130016,\n",
       "  0.031841583112253394])"
      ]
     },
     "execution_count": 125,
     "metadata": {},
     "output_type": "execute_result"
    }
   ],
   "source": [
    "evaluate(\"LM\")"
   ]
  },
  {
   "cell_type": "code",
   "execution_count": 126,
   "metadata": {},
   "outputs": [
    {
     "name": "stdout",
     "output_type": "stream",
     "text": [
      "We decrease RMSE by 0.7458386692413521\n",
      "We increase R-squared by 0.50247724612209\n"
     ]
    },
    {
     "data": {
      "text/plain": [
       "([2.3524102149564654,\n",
       "  1.7094437523866137,\n",
       "  1.2014412487830393,\n",
       "  1.3802225042086604],\n",
       " [1.0148626630897644,\n",
       "  0.9230582900617738,\n",
       "  0.7986159878844615,\n",
       "  0.923626102333371],\n",
       " [0.931122022868016,\n",
       "  0.8683358893502803,\n",
       "  0.6983604405268484,\n",
       "  0.7066816589319511],\n",
       " [0.62579464949432,\n",
       "  0.4800946410292857,\n",
       "  0.002585950765469872,\n",
       "  0.08611578589966028])"
      ]
     },
     "execution_count": 126,
     "metadata": {},
     "output_type": "execute_result"
    }
   ],
   "source": [
    "evaluate(\"RF\")"
   ]
  },
  {
   "cell_type": "code",
   "execution_count": 144,
   "metadata": {},
   "outputs": [
    {
     "name": "stdout",
     "output_type": "stream",
     "text": [
      "Unemployment\n",
      "1.8668689758207033 2.3748434316998623 0.7495820497607695 0.6296739939988717\n",
      "\n",
      "Real GDP\n",
      "1.228441318743601 1.6752599365216008 0.7495971573263694 0.500716675772565\n",
      "\n",
      "Core PCE\n",
      "1.055243454553904 1.1698846296499692 0.2374051768414037 -0.018527530804493895\n",
      "\n",
      "Core CPI\n",
      "1.2542210436250216 1.3605638202730288 0.34070905685681746 0.17596549843128428\n",
      "\n",
      "We decrease RMSE by 0.2939442563503078\n",
      "We increase R-squared by 0.19736620084678325\n"
     ]
    }
   ],
   "source": [
    "evaluate(\"LM\")"
   ]
  },
  {
   "cell_type": "code",
   "execution_count": 145,
   "metadata": {},
   "outputs": [
    {
     "name": "stdout",
     "output_type": "stream",
     "text": [
      "Unemployment\n",
      "0.5484955958561268 2.3320533298192307 0.9806810425416564 0.650035617762591\n",
      "\n",
      "Real GDP\n",
      "0.39897759550694295 1.6771332899274278 0.9766701052433822 0.499339689280467\n",
      "\n",
      "Core PCE\n",
      "0.34155293107005597 1.3662775646996523 0.9646439839220473 -0.002690306475078272\n",
      "\n",
      "Core CPI\n",
      "0.4103789225040169 1.4717790153760109 0.9542985495334922 0.032586812893465385\n",
      "\n",
      "We decrease RMSE by 1.2869595387212946\n",
      "We increase R-squared by 0.6742554669447832\n"
     ]
    }
   ],
   "source": [
    "evaluate(\"RF\")"
   ]
  },
  {
   "cell_type": "code",
   "execution_count": 159,
   "metadata": {},
   "outputs": [
    {
     "name": "stdout",
     "output_type": "stream",
     "text": [
      "Unemployment\n",
      "0.6950908260135282 2.3758819257627484 0.9692063450905944 0.6232218425283859\n",
      "\n",
      "Real GDP\n",
      "0.4001125279709533 1.6881626872535254 0.9762844252525346 0.4795307851777331\n",
      "\n",
      "Core PCE\n",
      "0.3245479955421632 1.2203739462941754 0.9584886265965664 -0.01718404901616951\n",
      "\n",
      "Core CPI\n",
      "0.4799464063986424 1.358176450735756 0.92719512928312 0.032331200840695185\n",
      "\n",
      "We decrease RMSE by 1.1857243135302296\n",
      "We increase R-squared by 0.6783186866730426\n"
     ]
    }
   ],
   "source": [
    "evaluate(\"XG\")"
   ]
  },
  {
   "cell_type": "code",
   "execution_count": 148,
   "metadata": {},
   "outputs": [
    {
     "name": "stdout",
     "output_type": "stream",
     "text": [
      "Unemployment\n",
      "1.1331673710691266 2.5077216301010092 0.9282698363534396 0.6035467657870857\n",
      "\n",
      "Real GDP\n",
      "0.7192356042867811 1.7014777466201554 0.9349994090620644 0.5117223452042425\n",
      "\n",
      "Core PCE\n",
      "0.7603190218042571 1.4166699887089746 0.9006887491578545 -0.0015825588906905551\n",
      "\n",
      "Core CPI\n",
      "0.66357161794116 1.3036490575518254 0.8732127218272376 0.03225630346877038\n",
      "\n",
      "We decrease RMSE by 0.9133062019701599\n",
      "We increase R-squared by 0.622806965207797\n"
     ]
    }
   ],
   "source": [
    "evaluate_ensemble()"
   ]
  },
  {
   "cell_type": "code",
   "execution_count": 161,
   "metadata": {},
   "outputs": [
    {
     "name": "stdout",
     "output_type": "stream",
     "text": [
      "Unemployment\n",
      "0.8570142174409868 2.348598710656992 0.9555990292380939 0.6314976054578582\n",
      "\n",
      "Real GDP\n",
      "0.5307059697421277 1.6358429414995002 0.9623223392734153 0.5109202818456954\n",
      "\n",
      "Core PCE\n",
      "0.5093842787229268 1.1997658363109074 0.9241407133248366 0.013448498215915315\n",
      "\n",
      "Core CPI\n",
      "0.5242649532255195 1.2650990301000051 0.9342790582423316 0.09162254607615927\n",
      "\n",
      "We decrease RMSE by 1.006984274858961\n",
      "We increase R-squared by 0.6322130521207623\n"
     ]
    }
   ],
   "source": [
    "evaluate_ensemble()"
   ]
  },
  {
   "cell_type": "code",
   "execution_count": null,
   "metadata": {},
   "outputs": [],
   "source": []
  }
 ],
 "metadata": {
  "kernelspec": {
   "display_name": "Python 3",
   "language": "python",
   "name": "python3"
  },
  "language_info": {
   "codemirror_mode": {
    "name": "ipython",
    "version": 3
   },
   "file_extension": ".py",
   "mimetype": "text/x-python",
   "name": "python",
   "nbconvert_exporter": "python",
   "pygments_lexer": "ipython3",
   "version": "3.9.1"
  }
 },
 "nbformat": 4,
 "nbformat_minor": 4
}
