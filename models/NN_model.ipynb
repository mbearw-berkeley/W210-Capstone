{
 "cells": [
  {
   "cell_type": "code",
   "execution_count": 63,
   "metadata": {},
   "outputs": [],
   "source": [
    "import pandas as pd\n",
    "from sklearn.neural_network import MLPRegressor\n",
    "from sklearn.metrics import mean_squared_error\n",
    "import numpy as np\n",
    "import matplotlib.pyplot as plt\n",
    "from math import sqrt"
   ]
  },
  {
   "cell_type": "code",
   "execution_count": 64,
   "metadata": {},
   "outputs": [],
   "source": [
    "train = pd.read_csv('./data/training.csv')"
   ]
  },
  {
   "cell_type": "code",
   "execution_count": 65,
   "metadata": {},
   "outputs": [
    {
     "data": {
      "text/html": [
       "<div>\n",
       "<style scoped>\n",
       "    .dataframe tbody tr th:only-of-type {\n",
       "        vertical-align: middle;\n",
       "    }\n",
       "\n",
       "    .dataframe tbody tr th {\n",
       "        vertical-align: top;\n",
       "    }\n",
       "\n",
       "    .dataframe thead th {\n",
       "        text-align: right;\n",
       "    }\n",
       "</style>\n",
       "<table border=\"1\" class=\"dataframe\">\n",
       "  <thead>\n",
       "    <tr style=\"text-align: right;\">\n",
       "      <th></th>\n",
       "      <th>YEAR FORECAST MADE</th>\n",
       "      <th>QUARTER</th>\n",
       "      <th>YEAR BEING FORECAST</th>\n",
       "      <th>INDICATOR</th>\n",
       "      <th>FORECASTER ID</th>\n",
       "      <th>INDUSTRY</th>\n",
       "      <th>Year.ID.ForecastYear.Quarter</th>\n",
       "      <th>Indicator.Year.ID.ForecastYear.Quarter</th>\n",
       "      <th>BIN 1</th>\n",
       "      <th>BIN 2</th>\n",
       "      <th>...</th>\n",
       "      <th>bin_value_sum</th>\n",
       "      <th>TDIST</th>\n",
       "      <th>actual</th>\n",
       "      <th>ACTUAL_BIN</th>\n",
       "      <th>MAX</th>\n",
       "      <th>NUM_OF_MAX</th>\n",
       "      <th>ACTUAL_CONF</th>\n",
       "      <th>HIT</th>\n",
       "      <th>pred_average</th>\n",
       "      <th>pred_var</th>\n",
       "    </tr>\n",
       "  </thead>\n",
       "  <tbody>\n",
       "    <tr>\n",
       "      <th>0</th>\n",
       "      <td>1968</td>\n",
       "      <td>4</td>\n",
       "      <td>1968</td>\n",
       "      <td>NominalGNP</td>\n",
       "      <td>32</td>\n",
       "      <td>NaN</td>\n",
       "      <td>1968-32-1968-4</td>\n",
       "      <td>NominalGNP-1968-32-1968-4</td>\n",
       "      <td>0.0</td>\n",
       "      <td>0.0</td>\n",
       "      <td>...</td>\n",
       "      <td>100.0</td>\n",
       "      <td>0.0</td>\n",
       "      <td>9.40449</td>\n",
       "      <td>2.0</td>\n",
       "      <td>0.50</td>\n",
       "      <td>1.0</td>\n",
       "      <td>0.00</td>\n",
       "      <td>0.0</td>\n",
       "      <td>6.65</td>\n",
       "      <td>0.6275</td>\n",
       "    </tr>\n",
       "    <tr>\n",
       "      <th>1</th>\n",
       "      <td>1968</td>\n",
       "      <td>4</td>\n",
       "      <td>1968</td>\n",
       "      <td>NominalGNP</td>\n",
       "      <td>77</td>\n",
       "      <td>NaN</td>\n",
       "      <td>1968-77-1968-4</td>\n",
       "      <td>NominalGNP-1968-77-1968-4</td>\n",
       "      <td>15.0</td>\n",
       "      <td>6.0</td>\n",
       "      <td>...</td>\n",
       "      <td>100.0</td>\n",
       "      <td>0.0</td>\n",
       "      <td>9.40449</td>\n",
       "      <td>2.0</td>\n",
       "      <td>0.15</td>\n",
       "      <td>1.0</td>\n",
       "      <td>0.06</td>\n",
       "      <td>0.0</td>\n",
       "      <td>5.41</td>\n",
       "      <td>13.2419</td>\n",
       "    </tr>\n",
       "    <tr>\n",
       "      <th>2</th>\n",
       "      <td>1968</td>\n",
       "      <td>4</td>\n",
       "      <td>1968</td>\n",
       "      <td>NominalGNP</td>\n",
       "      <td>37</td>\n",
       "      <td>NaN</td>\n",
       "      <td>1968-37-1968-4</td>\n",
       "      <td>NominalGNP-1968-37-1968-4</td>\n",
       "      <td>0.0</td>\n",
       "      <td>1.0</td>\n",
       "      <td>...</td>\n",
       "      <td>100.0</td>\n",
       "      <td>0.0</td>\n",
       "      <td>9.40449</td>\n",
       "      <td>2.0</td>\n",
       "      <td>0.25</td>\n",
       "      <td>1.0</td>\n",
       "      <td>0.01</td>\n",
       "      <td>0.0</td>\n",
       "      <td>2.89</td>\n",
       "      <td>4.3579</td>\n",
       "    </tr>\n",
       "    <tr>\n",
       "      <th>3</th>\n",
       "      <td>1968</td>\n",
       "      <td>4</td>\n",
       "      <td>1968</td>\n",
       "      <td>NominalGNP</td>\n",
       "      <td>53</td>\n",
       "      <td>NaN</td>\n",
       "      <td>1968-53-1968-4</td>\n",
       "      <td>NominalGNP-1968-53-1968-4</td>\n",
       "      <td>5.0</td>\n",
       "      <td>10.0</td>\n",
       "      <td>...</td>\n",
       "      <td>100.0</td>\n",
       "      <td>0.0</td>\n",
       "      <td>9.40449</td>\n",
       "      <td>2.0</td>\n",
       "      <td>0.40</td>\n",
       "      <td>1.0</td>\n",
       "      <td>0.10</td>\n",
       "      <td>0.0</td>\n",
       "      <td>7.50</td>\n",
       "      <td>2.0000</td>\n",
       "    </tr>\n",
       "    <tr>\n",
       "      <th>4</th>\n",
       "      <td>1968</td>\n",
       "      <td>4</td>\n",
       "      <td>1968</td>\n",
       "      <td>NominalGNP</td>\n",
       "      <td>66</td>\n",
       "      <td>NaN</td>\n",
       "      <td>1968-66-1968-4</td>\n",
       "      <td>NominalGNP-1968-66-1968-4</td>\n",
       "      <td>0.0</td>\n",
       "      <td>0.0</td>\n",
       "      <td>...</td>\n",
       "      <td>100.0</td>\n",
       "      <td>0.0</td>\n",
       "      <td>9.40449</td>\n",
       "      <td>2.0</td>\n",
       "      <td>0.95</td>\n",
       "      <td>1.0</td>\n",
       "      <td>0.00</td>\n",
       "      <td>0.0</td>\n",
       "      <td>7.51</td>\n",
       "      <td>0.0499</td>\n",
       "    </tr>\n",
       "  </tbody>\n",
       "</table>\n",
       "<p>5 rows × 64 columns</p>\n",
       "</div>"
      ],
      "text/plain": [
       "   YEAR FORECAST MADE  QUARTER  YEAR BEING FORECAST   INDICATOR  \\\n",
       "0                1968        4                 1968  NominalGNP   \n",
       "1                1968        4                 1968  NominalGNP   \n",
       "2                1968        4                 1968  NominalGNP   \n",
       "3                1968        4                 1968  NominalGNP   \n",
       "4                1968        4                 1968  NominalGNP   \n",
       "\n",
       "   FORECASTER ID  INDUSTRY Year.ID.ForecastYear.Quarter  \\\n",
       "0             32       NaN               1968-32-1968-4   \n",
       "1             77       NaN               1968-77-1968-4   \n",
       "2             37       NaN               1968-37-1968-4   \n",
       "3             53       NaN               1968-53-1968-4   \n",
       "4             66       NaN               1968-66-1968-4   \n",
       "\n",
       "  Indicator.Year.ID.ForecastYear.Quarter  BIN 1  BIN 2  ...  bin_value_sum  \\\n",
       "0              NominalGNP-1968-32-1968-4    0.0    0.0  ...          100.0   \n",
       "1              NominalGNP-1968-77-1968-4   15.0    6.0  ...          100.0   \n",
       "2              NominalGNP-1968-37-1968-4    0.0    1.0  ...          100.0   \n",
       "3              NominalGNP-1968-53-1968-4    5.0   10.0  ...          100.0   \n",
       "4              NominalGNP-1968-66-1968-4    0.0    0.0  ...          100.0   \n",
       "\n",
       "   TDIST   actual  ACTUAL_BIN   MAX  NUM_OF_MAX  ACTUAL_CONF  HIT  \\\n",
       "0    0.0  9.40449         2.0  0.50         1.0         0.00  0.0   \n",
       "1    0.0  9.40449         2.0  0.15         1.0         0.06  0.0   \n",
       "2    0.0  9.40449         2.0  0.25         1.0         0.01  0.0   \n",
       "3    0.0  9.40449         2.0  0.40         1.0         0.10  0.0   \n",
       "4    0.0  9.40449         2.0  0.95         1.0         0.00  0.0   \n",
       "\n",
       "   pred_average  pred_var  \n",
       "0          6.65    0.6275  \n",
       "1          5.41   13.2419  \n",
       "2          2.89    4.3579  \n",
       "3          7.50    2.0000  \n",
       "4          7.51    0.0499  \n",
       "\n",
       "[5 rows x 64 columns]"
      ]
     },
     "execution_count": 65,
     "metadata": {},
     "output_type": "execute_result"
    }
   ],
   "source": [
    "train.head()"
   ]
  },
  {
   "cell_type": "code",
   "execution_count": 66,
   "metadata": {},
   "outputs": [
    {
     "data": {
      "text/plain": [
       "Index(['YEAR FORECAST MADE', 'QUARTER', 'YEAR BEING FORECAST', 'INDICATOR',\n",
       "       'FORECASTER ID', 'INDUSTRY', 'Year.ID.ForecastYear.Quarter',\n",
       "       'Indicator.Year.ID.ForecastYear.Quarter', 'BIN 1', 'BIN 2', 'BIN 3',\n",
       "       'BIN 4', 'BIN 5', 'BIN 6', 'BIN 7', 'BIN 8', 'BIN 9', 'BIN 10',\n",
       "       'BIN 11', 'BIN 12', 'BIN 13', 'BIN 14', 'BIN 15', 'BIN 1 prob',\n",
       "       'BIN 2 prob', 'BIN 3 prob', 'BIN 4 prob', 'BIN 5 prob', 'BIN 6 prob',\n",
       "       'BIN 7 prob', 'BIN 8 prob', 'BIN 9 prob', 'BIN 10 prob', 'BIN 11 prob',\n",
       "       'BIN 12 prob', 'BIN 13 prob', 'BIN 14 prob', 'BIN 15 prob',\n",
       "       'BIN 1 midpoint', 'BIN 2 midpoint', 'BIN 3 midpoint', 'BIN 4 midpoint',\n",
       "       'BIN 5 midpoint', 'BIN 6 midpoint', 'BIN 7 midpoint', 'BIN 8 midpoint',\n",
       "       'BIN 9 midpoint', 'BIN 10 midpoint', 'BIN 11 midpoint',\n",
       "       'BIN 12 midpoint', 'BIN 13 midpoint', 'BIN 14 midpoint',\n",
       "       'BIN 15 midpoint', 'nbin', 'bin_value_sum', 'TDIST', 'actual',\n",
       "       'ACTUAL_BIN', 'MAX', 'NUM_OF_MAX', 'ACTUAL_CONF', 'HIT', 'pred_average',\n",
       "       'pred_var'],\n",
       "      dtype='object')"
      ]
     },
     "execution_count": 66,
     "metadata": {},
     "output_type": "execute_result"
    }
   ],
   "source": [
    "train.columns"
   ]
  },
  {
   "cell_type": "code",
   "execution_count": 67,
   "metadata": {},
   "outputs": [
    {
     "data": {
      "text/plain": [
       "RealGDP         6066\n",
       "Unemployment    3380\n",
       "Core PCE        2130\n",
       "Core CPI        2130\n",
       "NominalGNP      1343\n",
       "RealGNP         1168\n",
       "Name: INDICATOR, dtype: int64"
      ]
     },
     "execution_count": 67,
     "metadata": {},
     "output_type": "execute_result"
    }
   ],
   "source": [
    "train['INDICATOR'].value_counts()"
   ]
  },
  {
   "cell_type": "code",
   "execution_count": 68,
   "metadata": {},
   "outputs": [],
   "source": [
    "unemp = train[train['INDICATOR'] == \"Unemployment\"]\n",
    "rgdp = train[train['INDICATOR'] == \"RealGDP\"]\n",
    "cpce = train[train['INDICATOR'] == \"Core PCE\"]\n",
    "ccpi = train[train['INDICATOR'] == \"Core CPI\"]\n",
    "ngnp = train[train['INDICATOR'] == \"NominalGNP\"]\n",
    "rgnp = train[train['INDICATOR'] == \"RealGNP\"]"
   ]
  },
  {
   "cell_type": "code",
   "execution_count": 69,
   "metadata": {},
   "outputs": [],
   "source": [
    "np.random.seed(0)\n",
    "def model_setup(df):\n",
    "    \n",
    "    rand = df.sample(frac = 1)\n",
    "    #80/20 split\n",
    "    nrow = len(rand)\n",
    "    train_prop = int(np.round(nrow*0.8))\n",
    "    train = rand[:train_prop]\n",
    "    val = rand[train_prop:]\n",
    "\n",
    "    #filling na with 0 bc they replaced 0s with na in the original R code but we should definitely look into this more\n",
    "    train = train.fillna(0)\n",
    "    val = val.fillna(0)\n",
    "\n",
    "    X_train, Y_train = train[[\"FORECASTER ID\", \"INDUSTRY\", \"MAX\", \"pred_average\", \"pred_var\", \"HIT\", \"ACTUAL_BIN\", \"ACTUAL_CONF\"]], train[[\"actual\"]]\n",
    "    X_val, Y_val = val[[\"FORECASTER ID\", \"INDUSTRY\", \"MAX\", \"pred_average\", \"pred_var\", \"HIT\", \"ACTUAL_BIN\", \"ACTUAL_CONF\"]], val[[\"actual\"]]\n",
    "    \n",
    "    return X_train, Y_train, X_val, Y_val"
   ]
  },
  {
   "cell_type": "code",
   "execution_count": 70,
   "metadata": {},
   "outputs": [],
   "source": [
    "def run_model(df, variable_name):\n",
    "    np.random.seed(0)\n",
    "    X_train, Y_train, X_val, Y_val = model_setup(df)\n",
    "\n",
    "    regr = MLPRegressor(random_state=1, max_iter=5000).fit(X_train, Y_train)\n",
    "\n",
    "    pred = regr.predict(X_val)\n",
    "    pred = pred.flatten()\n",
    "    \n",
    "    print('MSE: ' + str(mean_squared_error(pred, np.array(Y_val['actual']))))\n",
    "    diffs = np.subtract(np.array(Y_val['actual'].tolist()), pred)\n",
    "    print(\"Differences in actual vs. model prediction (\" + variable_name + \")\")\n",
    "    print(\"Mean: \" + str(np.mean(diffs)))\n",
    "    print(\"Median: \" + str(np.median(diffs)))\n",
    "    print(\"Max: \" + str(max(diffs)))\n",
    "    print(\"Min: \" + str(min(diffs)))\n",
    "    \n",
    "    plt.hist(diffs)\n",
    "    plt.title(\"Actual minus Model Prediction (\" + variable_name + \")\")\n",
    "    plt.show()\n",
    "    \n",
    "    print('MSE: ' + str(mean_squared_error(np.array(Y_val['actual'].tolist()), np.array(X_val['pred_average'].tolist()))))\n",
    "    actual_diffs = np.subtract(np.array(Y_val['actual'].tolist()), np.array(X_val['pred_average'].tolist()))\n",
    "    print(\"Differences in actual vs. forecaster average prediction (\" + variable_name + \")\")\n",
    "    print(\"Mean: \" + str(np.mean(actual_diffs)))\n",
    "    print(\"Median: \" + str(np.median(actual_diffs)))\n",
    "    print(\"Max: \" + str(max(actual_diffs)))\n",
    "    print(\"Min: \" + str(min(actual_diffs)))\n",
    "    \n",
    "    plt.hist(actual_diffs)\n",
    "    plt.title(\"Actual Rate minus Forecaster Average Prediction (\" + variable_name + \")\")\n",
    "    plt.show()"
   ]
  },
  {
   "cell_type": "code",
   "execution_count": 71,
   "metadata": {},
   "outputs": [
    {
     "name": "stderr",
     "output_type": "stream",
     "text": [
      "/Users/renjun/opt/anaconda3/lib/python3.8/site-packages/sklearn/utils/validation.py:73: DataConversionWarning: A column-vector y was passed when a 1d array was expected. Please change the shape of y to (n_samples, ), for example using ravel().\n",
      "  return f(**kwargs)\n"
     ]
    },
    {
     "name": "stdout",
     "output_type": "stream",
     "text": [
      "MSE: 1.874932426165445\n",
      "Differences in actual vs. model prediction (Unemployment)\n",
      "Mean: 0.1456402499705166\n",
      "Median: -0.0015462687113474288\n",
      "Max: 7.036115780152269\n",
      "Min: -2.9448603861654643\n"
     ]
    },
    {
     "data": {
      "image/png": "[encoded data removed]",
      "text/plain": [
       "<Figure size 432x288 with 1 Axes>"
      ]
     },
     "metadata": {
      "needs_background": "light"
     },
     "output_type": "display_data"
    },
    {
     "name": "stdout",
     "output_type": "stream",
     "text": [
      "MSE: 9.48429059942239\n",
      "Differences in actual vs. forecaster average prediction (Unemployment)\n",
      "Mean: 0.14222593528106428\n",
      "Median: -0.31666666666667\n",
      "Max: 9.60833333333333\n",
      "Min: -6.0753\n"
     ]
    },
    {
     "data": {
      "image/png": "[encoded data removed]",
      "text/plain": [
       "<Figure size 432x288 with 1 Axes>"
      ]
     },
     "metadata": {
      "needs_background": "light"
     },
     "output_type": "display_data"
    }
   ],
   "source": [
    "run_model(unemp, \"Unemployment\")"
   ]
  },
  {
   "cell_type": "code",
   "execution_count": 72,
   "metadata": {},
   "outputs": [
    {
     "name": "stderr",
     "output_type": "stream",
     "text": [
      "/Users/renjun/opt/anaconda3/lib/python3.8/site-packages/sklearn/utils/validation.py:73: DataConversionWarning: A column-vector y was passed when a 1d array was expected. Please change the shape of y to (n_samples, ), for example using ravel().\n",
      "  return f(**kwargs)\n"
     ]
    },
    {
     "name": "stdout",
     "output_type": "stream",
     "text": [
      "MSE: 1.7044144781319701\n",
      "Differences in actual vs. model prediction (Real GDP)\n",
      "Mean: -0.3142199536074982\n",
      "Median: -0.339349932772937\n",
      "Max: 3.027227242249224\n",
      "Min: -4.529678224906677\n"
     ]
    },
    {
     "data": {
      "image/png": "[encoded data removed]",
      "text/plain": [
       "<Figure size 432x288 with 1 Axes>"
      ]
     },
     "metadata": {
      "needs_background": "light"
     },
     "output_type": "display_data"
    },
    {
     "name": "stdout",
     "output_type": "stream",
     "text": [
      "MSE: 2.3505053905747024\n",
      "Differences in actual vs. forecaster average prediction (Real GDP)\n",
      "Mean: 0.08728694012348996\n",
      "Median: 0.0\n",
      "Max: 4.75324\n",
      "Min: -5.286759999999999\n"
     ]
    },
    {
     "data": {
      "image/png": "[encoded data removed]",
      "text/plain": [
       "<Figure size 432x288 with 1 Axes>"
      ]
     },
     "metadata": {
      "needs_background": "light"
     },
     "output_type": "display_data"
    }
   ],
   "source": [
    "run_model(rgdp, \"Real GDP\")"
   ]
  },
  {
   "cell_type": "code",
   "execution_count": 73,
   "metadata": {},
   "outputs": [
    {
     "name": "stderr",
     "output_type": "stream",
     "text": [
      "/Users/renjun/opt/anaconda3/lib/python3.8/site-packages/sklearn/utils/validation.py:73: DataConversionWarning: A column-vector y was passed when a 1d array was expected. Please change the shape of y to (n_samples, ), for example using ravel().\n",
      "  return f(**kwargs)\n"
     ]
    },
    {
     "name": "stdout",
     "output_type": "stream",
     "text": [
      "MSE: 0.15977892670039903\n",
      "Differences in actual vs. model prediction (Core CPE)\n",
      "Mean: 0.01047366641463594\n",
      "Median: 0.07390462618900906\n",
      "Max: 1.101475289806302\n",
      "Min: -1.151909966625016\n"
     ]
    },
    {
     "data": {
      "image/png": "[encoded data removed]",
      "text/plain": [
       "<Figure size 432x288 with 1 Axes>"
      ]
     },
     "metadata": {
      "needs_background": "light"
     },
     "output_type": "display_data"
    },
    {
     "name": "stdout",
     "output_type": "stream",
     "text": [
      "MSE: 0.9061324475832923\n",
      "Differences in actual vs. forecaster average prediction (Core CPE)\n",
      "Mean: 0.08694700919089784\n",
      "Median: -0.057917850311764996\n",
      "Max: 2.2531737289531297\n",
      "Min: -2.3\n"
     ]
    },
    {
     "data": {
      "image/png": "[encoded data removed]",
      "text/plain": [
       "<Figure size 432x288 with 1 Axes>"
      ]
     },
     "metadata": {
      "needs_background": "light"
     },
     "output_type": "display_data"
    }
   ],
   "source": [
    "run_model(cpce, \"Core CPE\")"
   ]
  },
  {
   "cell_type": "code",
   "execution_count": 74,
   "metadata": {},
   "outputs": [
    {
     "name": "stderr",
     "output_type": "stream",
     "text": [
      "/Users/renjun/opt/anaconda3/lib/python3.8/site-packages/sklearn/utils/validation.py:73: DataConversionWarning: A column-vector y was passed when a 1d array was expected. Please change the shape of y to (n_samples, ), for example using ravel().\n",
      "  return f(**kwargs)\n"
     ]
    },
    {
     "name": "stdout",
     "output_type": "stream",
     "text": [
      "MSE: 0.29301007074997143\n",
      "Differences in actual vs. model prediction (Core CPI)\n",
      "Mean: 0.041597477258717604\n",
      "Median: 0.15006322265046668\n",
      "Max: 0.96309054718805\n",
      "Min: -1.6400165084915606\n"
     ]
    },
    {
     "data": {
      "image/png": "[encoded data removed]",
      "text/plain": [
       "<Figure size 432x288 with 1 Axes>"
      ]
     },
     "metadata": {
      "needs_background": "light"
     },
     "output_type": "display_data"
    },
    {
     "name": "stdout",
     "output_type": "stream",
     "text": [
      "MSE: 0.9428025077246286\n",
      "Differences in actual vs. forecaster average prediction (Core CPI)\n",
      "Mean: 0.07603754849554556\n",
      "Median: -0.023838544155614927\n",
      "Max: 2.31034482758621\n",
      "Min: -2.7868\n"
     ]
    },
    {
     "data": {
      "image/png": "[encoded data removed]",
      "text/plain": [
       "<Figure size 432x288 with 1 Axes>"
      ]
     },
     "metadata": {
      "needs_background": "light"
     },
     "output_type": "display_data"
    }
   ],
   "source": [
    "run_model(ccpi, \"Core CPI\")"
   ]
  },
  {
   "cell_type": "code",
   "execution_count": 75,
   "metadata": {},
   "outputs": [
    {
     "name": "stderr",
     "output_type": "stream",
     "text": [
      "/Users/renjun/opt/anaconda3/lib/python3.8/site-packages/sklearn/utils/validation.py:73: DataConversionWarning: A column-vector y was passed when a 1d array was expected. Please change the shape of y to (n_samples, ), for example using ravel().\n",
      "  return f(**kwargs)\n"
     ]
    },
    {
     "name": "stdout",
     "output_type": "stream",
     "text": [
      "MSE: 1.9676002242567519\n",
      "Differences in actual vs. model prediction (Nominal GNP)\n",
      "Mean: 0.2894204005322143\n",
      "Median: 0.15696616775685168\n",
      "Max: 4.42621422910029\n",
      "Min: -4.182644821060959\n"
     ]
    },
    {
     "data": {
      "image/png": "[encoded data removed]",
      "text/plain": [
       "<Figure size 432x288 with 1 Axes>"
      ]
     },
     "metadata": {
      "needs_background": "light"
     },
     "output_type": "display_data"
    },
    {
     "name": "stdout",
     "output_type": "stream",
     "text": [
      "MSE: 13.5740157305374\n",
      "Differences in actual vs. forecaster average prediction (Nominal GNP)\n",
      "Mean: 2.145945628105561\n",
      "Median: 1.1278699999999997\n",
      "Max: 12.05461\n",
      "Min: -3.7128499999999995\n"
     ]
    },
    {
     "data": {
      "image/png": "[encoded data removed]",
      "text/plain": [
       "<Figure size 432x288 with 1 Axes>"
      ]
     },
     "metadata": {
      "needs_background": "light"
     },
     "output_type": "display_data"
    }
   ],
   "source": [
    "run_model(ngnp, \"Nominal GNP\")"
   ]
  },
  {
   "cell_type": "code",
   "execution_count": 76,
   "metadata": {},
   "outputs": [
    {
     "name": "stderr",
     "output_type": "stream",
     "text": [
      "/Users/renjun/opt/anaconda3/lib/python3.8/site-packages/sklearn/utils/validation.py:73: DataConversionWarning: A column-vector y was passed when a 1d array was expected. Please change the shape of y to (n_samples, ), for example using ravel().\n",
      "  return f(**kwargs)\n"
     ]
    },
    {
     "name": "stdout",
     "output_type": "stream",
     "text": [
      "MSE: 0.2510496819288398\n",
      "Differences in actual vs. model prediction (Real GNP)\n",
      "Mean: -0.06817744136459407\n",
      "Median: -0.08084379676745845\n",
      "Max: 1.3901119492060543\n",
      "Min: -1.4393519341791419\n"
     ]
    },
    {
     "data": {
      "image/png": "[encoded data removed]",
      "text/plain": [
       "<Figure size 432x288 with 1 Axes>"
      ]
     },
     "metadata": {
      "needs_background": "light"
     },
     "output_type": "display_data"
    },
    {
     "name": "stdout",
     "output_type": "stream",
     "text": [
      "MSE: 3.7725019927767383\n",
      "Differences in actual vs. forecaster average prediction (Real GNP)\n",
      "Mean: 0.9254330499136909\n",
      "Median: 0.8776549999999999\n",
      "Max: 7.10641\n",
      "Min: -5.73796\n"
     ]
    },
    {
     "data": {
      "image/png": "[encoded data removed]",
      "text/plain": [
       "<Figure size 432x288 with 1 Axes>"
      ]
     },
     "metadata": {
      "needs_background": "light"
     },
     "output_type": "display_data"
    }
   ],
   "source": [
    "run_model(rgnp, \"Real GNP\")"
   ]
  },
  {
   "cell_type": "code",
   "execution_count": null,
   "metadata": {},
   "outputs": [],
   "source": []
  },
  {
   "cell_type": "code",
   "execution_count": null,
   "metadata": {},
   "outputs": [],
   "source": []
  }
 ],
 "metadata": {
  "kernelspec": {
   "display_name": "Python 3",
   "language": "python",
   "name": "python3"
  },
  "language_info": {
   "codemirror_mode": {
    "name": "ipython",
    "version": 3
   },
   "file_extension": ".py",
   "mimetype": "text/x-python",
   "name": "python",
   "nbconvert_exporter": "python",
   "pygments_lexer": "ipython3",
   "version": "3.8.3"
  }
 },
 "nbformat": 4,
 "nbformat_minor": 4
}
