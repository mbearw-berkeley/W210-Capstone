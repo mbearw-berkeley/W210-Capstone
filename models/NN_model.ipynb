{
 "cells": [
  {
   "cell_type": "code",
   "execution_count": 17,
   "metadata": {},
   "outputs": [],
   "source": [
    "import pandas as pd\n",
    "from sklearn.linear_model import LinearRegression\n",
    "from sklearn.neural_network import MLPRegressor\n",
    "from sklearn.metrics import mean_squared_error\n",
    "import numpy as np\n",
    "import matplotlib.pyplot as plt\n",
    "from math import sqrt"
   ]
  },
  {
   "cell_type": "code",
   "execution_count": 18,
   "metadata": {},
   "outputs": [],
   "source": [
    "train = pd.read_csv('./data/trainingWithItems.csv')"
   ]
  },
  {
   "cell_type": "code",
   "execution_count": 19,
   "metadata": {},
   "outputs": [
    {
     "data": {
      "text/html": [
       "<div>\n",
       "<style scoped>\n",
       "    .dataframe tbody tr th:only-of-type {\n",
       "        vertical-align: middle;\n",
       "    }\n",
       "\n",
       "    .dataframe tbody tr th {\n",
       "        vertical-align: top;\n",
       "    }\n",
       "\n",
       "    .dataframe thead th {\n",
       "        text-align: right;\n",
       "    }\n",
       "</style>\n",
       "<table border=\"1\" class=\"dataframe\">\n",
       "  <thead>\n",
       "    <tr style=\"text-align: right;\">\n",
       "      <th></th>\n",
       "      <th>Unnamed: 0</th>\n",
       "      <th>YEAR FORECAST MADE</th>\n",
       "      <th>QUARTER</th>\n",
       "      <th>YEAR BEING FORECAST</th>\n",
       "      <th>INDICATOR</th>\n",
       "      <th>FORECASTER ID</th>\n",
       "      <th>INDUSTRY</th>\n",
       "      <th>Year.ID.ForecastYear.Quarter</th>\n",
       "      <th>Indicator.Year.ID.ForecastYear.Quarter</th>\n",
       "      <th>BIN 1</th>\n",
       "      <th>...</th>\n",
       "      <th>ACTUAL_CONF</th>\n",
       "      <th>HIT</th>\n",
       "      <th>pred_average</th>\n",
       "      <th>pred_var</th>\n",
       "      <th>chicken</th>\n",
       "      <th>coffee</th>\n",
       "      <th>eggs</th>\n",
       "      <th>electricity</th>\n",
       "      <th>rice</th>\n",
       "      <th>unleadedGasoline</th>\n",
       "    </tr>\n",
       "  </thead>\n",
       "  <tbody>\n",
       "    <tr>\n",
       "      <th>0</th>\n",
       "      <td>0</td>\n",
       "      <td>1968</td>\n",
       "      <td>4</td>\n",
       "      <td>1968</td>\n",
       "      <td>NominalGNP</td>\n",
       "      <td>1</td>\n",
       "      <td>NaN</td>\n",
       "      <td>1968-1-1968-4</td>\n",
       "      <td>NominalGNP-1968-1-1968-4</td>\n",
       "      <td>0.0</td>\n",
       "      <td>...</td>\n",
       "      <td>0.00</td>\n",
       "      <td>0.0</td>\n",
       "      <td>6.00</td>\n",
       "      <td>0.4500</td>\n",
       "      <td>NaN</td>\n",
       "      <td>NaN</td>\n",
       "      <td>NaN</td>\n",
       "      <td>NaN</td>\n",
       "      <td>NaN</td>\n",
       "      <td>NaN</td>\n",
       "    </tr>\n",
       "    <tr>\n",
       "      <th>1</th>\n",
       "      <td>1</td>\n",
       "      <td>1968</td>\n",
       "      <td>4</td>\n",
       "      <td>1968</td>\n",
       "      <td>NominalGNP</td>\n",
       "      <td>2</td>\n",
       "      <td>NaN</td>\n",
       "      <td>1968-2-1968-4</td>\n",
       "      <td>NominalGNP-1968-2-1968-4</td>\n",
       "      <td>0.0</td>\n",
       "      <td>...</td>\n",
       "      <td>0.00</td>\n",
       "      <td>0.0</td>\n",
       "      <td>6.10</td>\n",
       "      <td>1.0400</td>\n",
       "      <td>NaN</td>\n",
       "      <td>NaN</td>\n",
       "      <td>NaN</td>\n",
       "      <td>NaN</td>\n",
       "      <td>NaN</td>\n",
       "      <td>NaN</td>\n",
       "    </tr>\n",
       "    <tr>\n",
       "      <th>2</th>\n",
       "      <td>2</td>\n",
       "      <td>1968</td>\n",
       "      <td>4</td>\n",
       "      <td>1968</td>\n",
       "      <td>NominalGNP</td>\n",
       "      <td>3</td>\n",
       "      <td>NaN</td>\n",
       "      <td>1968-3-1968-4</td>\n",
       "      <td>NominalGNP-1968-3-1968-4</td>\n",
       "      <td>0.0</td>\n",
       "      <td>...</td>\n",
       "      <td>0.00</td>\n",
       "      <td>0.0</td>\n",
       "      <td>6.80</td>\n",
       "      <td>0.4100</td>\n",
       "      <td>NaN</td>\n",
       "      <td>NaN</td>\n",
       "      <td>NaN</td>\n",
       "      <td>NaN</td>\n",
       "      <td>NaN</td>\n",
       "      <td>NaN</td>\n",
       "    </tr>\n",
       "    <tr>\n",
       "      <th>3</th>\n",
       "      <td>3</td>\n",
       "      <td>1968</td>\n",
       "      <td>4</td>\n",
       "      <td>1968</td>\n",
       "      <td>NominalGNP</td>\n",
       "      <td>4</td>\n",
       "      <td>NaN</td>\n",
       "      <td>1968-4-1968-4</td>\n",
       "      <td>NominalGNP-1968-4-1968-4</td>\n",
       "      <td>0.0</td>\n",
       "      <td>...</td>\n",
       "      <td>0.00</td>\n",
       "      <td>0.0</td>\n",
       "      <td>6.15</td>\n",
       "      <td>1.3275</td>\n",
       "      <td>NaN</td>\n",
       "      <td>NaN</td>\n",
       "      <td>NaN</td>\n",
       "      <td>NaN</td>\n",
       "      <td>NaN</td>\n",
       "      <td>NaN</td>\n",
       "    </tr>\n",
       "    <tr>\n",
       "      <th>4</th>\n",
       "      <td>4</td>\n",
       "      <td>1968</td>\n",
       "      <td>4</td>\n",
       "      <td>1968</td>\n",
       "      <td>NominalGNP</td>\n",
       "      <td>5</td>\n",
       "      <td>NaN</td>\n",
       "      <td>1968-5-1968-4</td>\n",
       "      <td>NominalGNP-1968-5-1968-4</td>\n",
       "      <td>3.0</td>\n",
       "      <td>...</td>\n",
       "      <td>0.04</td>\n",
       "      <td>0.0</td>\n",
       "      <td>4.65</td>\n",
       "      <td>7.2275</td>\n",
       "      <td>NaN</td>\n",
       "      <td>NaN</td>\n",
       "      <td>NaN</td>\n",
       "      <td>NaN</td>\n",
       "      <td>NaN</td>\n",
       "      <td>NaN</td>\n",
       "    </tr>\n",
       "  </tbody>\n",
       "</table>\n",
       "<p>5 rows × 71 columns</p>\n",
       "</div>"
      ],
      "text/plain": [
       "   Unnamed: 0  YEAR FORECAST MADE  QUARTER  YEAR BEING FORECAST   INDICATOR  \\\n",
       "0           0                1968        4                 1968  NominalGNP   \n",
       "1           1                1968        4                 1968  NominalGNP   \n",
       "2           2                1968        4                 1968  NominalGNP   \n",
       "3           3                1968        4                 1968  NominalGNP   \n",
       "4           4                1968        4                 1968  NominalGNP   \n",
       "\n",
       "   FORECASTER ID  INDUSTRY Year.ID.ForecastYear.Quarter  \\\n",
       "0              1       NaN                1968-1-1968-4   \n",
       "1              2       NaN                1968-2-1968-4   \n",
       "2              3       NaN                1968-3-1968-4   \n",
       "3              4       NaN                1968-4-1968-4   \n",
       "4              5       NaN                1968-5-1968-4   \n",
       "\n",
       "  Indicator.Year.ID.ForecastYear.Quarter  BIN 1  ...  ACTUAL_CONF  HIT  \\\n",
       "0               NominalGNP-1968-1-1968-4    0.0  ...         0.00  0.0   \n",
       "1               NominalGNP-1968-2-1968-4    0.0  ...         0.00  0.0   \n",
       "2               NominalGNP-1968-3-1968-4    0.0  ...         0.00  0.0   \n",
       "3               NominalGNP-1968-4-1968-4    0.0  ...         0.00  0.0   \n",
       "4               NominalGNP-1968-5-1968-4    3.0  ...         0.04  0.0   \n",
       "\n",
       "   pred_average  pred_var  chicken  coffee  eggs  electricity  rice  \\\n",
       "0          6.00    0.4500      NaN     NaN   NaN          NaN   NaN   \n",
       "1          6.10    1.0400      NaN     NaN   NaN          NaN   NaN   \n",
       "2          6.80    0.4100      NaN     NaN   NaN          NaN   NaN   \n",
       "3          6.15    1.3275      NaN     NaN   NaN          NaN   NaN   \n",
       "4          4.65    7.2275      NaN     NaN   NaN          NaN   NaN   \n",
       "\n",
       "   unleadedGasoline  \n",
       "0               NaN  \n",
       "1               NaN  \n",
       "2               NaN  \n",
       "3               NaN  \n",
       "4               NaN  \n",
       "\n",
       "[5 rows x 71 columns]"
      ]
     },
     "execution_count": 19,
     "metadata": {},
     "output_type": "execute_result"
    }
   ],
   "source": [
    "train.head()"
   ]
  },
  {
   "cell_type": "code",
   "execution_count": 20,
   "metadata": {},
   "outputs": [
    {
     "data": {
      "text/plain": [
       "Index(['Unnamed: 0', 'YEAR FORECAST MADE', 'QUARTER', 'YEAR BEING FORECAST',\n",
       "       'INDICATOR', 'FORECASTER ID', 'INDUSTRY',\n",
       "       'Year.ID.ForecastYear.Quarter',\n",
       "       'Indicator.Year.ID.ForecastYear.Quarter', 'BIN 1', 'BIN 2', 'BIN 3',\n",
       "       'BIN 4', 'BIN 5', 'BIN 6', 'BIN 7', 'BIN 8', 'BIN 9', 'BIN 10',\n",
       "       'BIN 11', 'BIN 12', 'BIN 13', 'BIN 14', 'BIN 15', 'BIN 1 prob',\n",
       "       'BIN 2 prob', 'BIN 3 prob', 'BIN 4 prob', 'BIN 5 prob', 'BIN 6 prob',\n",
       "       'BIN 7 prob', 'BIN 8 prob', 'BIN 9 prob', 'BIN 10 prob', 'BIN 11 prob',\n",
       "       'BIN 12 prob', 'BIN 13 prob', 'BIN 14 prob', 'BIN 15 prob',\n",
       "       'BIN 1 midpoint', 'BIN 2 midpoint', 'BIN 3 midpoint', 'BIN 4 midpoint',\n",
       "       'BIN 5 midpoint', 'BIN 6 midpoint', 'BIN 7 midpoint', 'BIN 8 midpoint',\n",
       "       'BIN 9 midpoint', 'BIN 10 midpoint', 'BIN 11 midpoint',\n",
       "       'BIN 12 midpoint', 'BIN 13 midpoint', 'BIN 14 midpoint',\n",
       "       'BIN 15 midpoint', 'nbin', 'bin_value_sum', 'TDIST', 'actual',\n",
       "       'ACTUAL_BIN', 'MAX', 'NUM_OF_MAX', 'ACTUAL_CONF', 'HIT', 'pred_average',\n",
       "       'pred_var', 'chicken', 'coffee', 'eggs', 'electricity', 'rice',\n",
       "       'unleadedGasoline'],\n",
       "      dtype='object')"
      ]
     },
     "execution_count": 20,
     "metadata": {},
     "output_type": "execute_result"
    }
   ],
   "source": [
    "train.columns"
   ]
  },
  {
   "cell_type": "code",
   "execution_count": 21,
   "metadata": {},
   "outputs": [
    {
     "data": {
      "text/plain": [
       "RealGDP         13350\n",
       "Unemployment     7968\n",
       "Core CPI         4864\n",
       "Core PCE         4864\n",
       "NominalGNP       2686\n",
       "RealGNP          2330\n",
       "Name: INDICATOR, dtype: int64"
      ]
     },
     "execution_count": 21,
     "metadata": {},
     "output_type": "execute_result"
    }
   ],
   "source": [
    "train['INDICATOR'].value_counts()"
   ]
  },
  {
   "cell_type": "code",
   "execution_count": 22,
   "metadata": {},
   "outputs": [],
   "source": [
    "unemp = train[train['INDICATOR'] == \"Unemployment\"]\n",
    "rgdp = train[train['INDICATOR'] == \"RealGDP\"]\n",
    "cpce = train[train['INDICATOR'] == \"Core PCE\"]\n",
    "ccpi = train[train['INDICATOR'] == \"Core CPI\"]\n",
    "ngnp = train[train['INDICATOR'] == \"NominalGNP\"]\n",
    "rgnp = train[train['INDICATOR'] == \"RealGNP\"]"
   ]
  },
  {
   "cell_type": "code",
   "execution_count": 23,
   "metadata": {},
   "outputs": [],
   "source": [
    "np.random.seed(0)\n",
    "def model_setup(df):\n",
    "    \n",
    "    rand = df.sample(frac = 1)\n",
    "    #80/20 split\n",
    "    nrow = len(rand)\n",
    "    train_prop = int(np.round(nrow*0.8))\n",
    "    train = rand[:train_prop]\n",
    "    val = rand[train_prop:]\n",
    "    \n",
    "    train = train[[\"FORECASTER ID\", \"MAX\", \"pred_average\", \"pred_var\", \"HIT\", \"ACTUAL_CONF\", \"actual\",\n",
    "                  \"chicken\", \"coffee\", \"eggs\", \"electricity\", \"rice\", \"unleadedGasoline\"]]\n",
    "    val = val[[\"FORECASTER ID\", \"MAX\", \"pred_average\", \"pred_var\", \"HIT\", \"ACTUAL_CONF\", \"actual\",\n",
    "                  \"chicken\", \"coffee\", \"eggs\", \"electricity\", \"rice\", \"unleadedGasoline\"]]\n",
    "    \n",
    "    return train.dropna(), val.dropna()"
   ]
  },
  {
   "cell_type": "code",
   "execution_count": 24,
   "metadata": {},
   "outputs": [],
   "source": [
    "def run_model(df, variable_name, plot=True):\n",
    "    np.random.seed(0)\n",
    "\n",
    "    train, val = model_setup(df)\n",
    "    X_train, Y_train = train[[\"FORECASTER ID\", \"MAX\", \"pred_average\", \"pred_var\", \"HIT\", \"ACTUAL_CONF\",\n",
    "                  \"chicken\", \"coffee\", \"eggs\", \"electricity\", \"rice\", \"unleadedGasoline\"]], train[[\"actual\"]]\n",
    "    val_X, val_Y = val[[\"FORECASTER ID\", \"MAX\", \"pred_average\", \"pred_var\", \"HIT\", \"ACTUAL_CONF\",\n",
    "                  \"chicken\", \"coffee\", \"eggs\", \"electricity\", \"rice\", \"unleadedGasoline\"]], val[\"actual\"].tolist()\n",
    "\n",
    "    fitted = MLPRegressor(hidden_layer_sizes=500, \n",
    "                          activation='relu',\n",
    "                          solver='lbfgs', alpha=0.0001, batch_size='auto',\n",
    "                          learning_rate='constant', learning_rate_init=0.0001, \n",
    "                          power_t=0.5, \n",
    "                          max_iter=5000\n",
    "                          , shuffle=True, random_state=None, \n",
    "                          tol=0.0001, verbose=False, warm_start=False, momentum=0.9, \n",
    "                          nesterovs_momentum=True, early_stopping=False, validation_fraction=0.1, \n",
    "                          epsilon=1e-08, n_iter_no_change=10, max_fun=15000\n",
    "                         ).fit(X_train, Y_train)\n",
    "    \n",
    "    preds = fitted.predict(val_X)\n",
    "    \n",
    "    preds = preds.flatten()\n",
    "    \n",
    "\n",
    "    pred = fitted.predict(val_X)\n",
    "    pred = pred.flatten()\n",
    "    \n",
    "    diffs = np.subtract(val_Y, preds)\n",
    "\n",
    "    r21 = np.corrcoef(val_Y, preds)[0][1]\n",
    "    r22 = np.corrcoef(val_Y, np.array(val_X['pred_average'].tolist()))[0][1]\n",
    "    \n",
    "    mse1 = mean_squared_error(val_Y, preds)\n",
    "    mse2 = mean_squared_error(val_Y, np.array(val_X['pred_average'].tolist()))\n",
    "    \n",
    "    if plot == True:\n",
    "        print(\"Differences in actual vs. model prediction (\" + variable_name + \")\")\n",
    "        print(\"Mean: \" + str(np.mean(diffs)))\n",
    "        print(\"Median: \" + str(np.median(diffs)))\n",
    "        print(\"Max: \" + str(max(diffs)))\n",
    "        print(\"Min: \" + str(min(diffs)))\n",
    "        print(\"Correlation Coef: \" + str(r21))\n",
    "        print(\"MSE: \" + str(mse1))\n",
    "\n",
    "        plt.hist(diffs)\n",
    "        plt.title(\"Actual minus Model Prediction (\" + variable_name + \")\")\n",
    "        plt.show()\n",
    "\n",
    "        actual_diffs = np.subtract(val_Y, np.array(val_X['pred_average'].tolist()))\n",
    "        print(\"Differences in actual vs. forecaster average prediction (\" + variable_name + \")\")\n",
    "        print(\"Mean: \" + str(np.mean(actual_diffs)))\n",
    "        print(\"Median: \" + str(np.median(actual_diffs)))\n",
    "        print(\"Max: \" + str(max(actual_diffs)))\n",
    "        print(\"Min: \" + str(min(actual_diffs)))\n",
    "        print(\"Correlation Coef: \" + str(r22))\n",
    "        print(\"MSE: \" + str(mse2))\n",
    "\n",
    "        plt.hist(actual_diffs)\n",
    "        plt.title(\"Actual Rate minus Forecaster Average Prediction (\" + variable_name + \")\")\n",
    "        plt.show()\n",
    "        \n",
    "    else:\n",
    "        return mse1, mse2, r21, r22"
   ]
  },
  {
   "cell_type": "code",
   "execution_count": 25,
   "metadata": {},
   "outputs": [
    {
     "name": "stderr",
     "output_type": "stream",
     "text": [
      "/Users/renjun/opt/anaconda3/lib/python3.8/site-packages/sklearn/utils/validation.py:73: DataConversionWarning: A column-vector y was passed when a 1d array was expected. Please change the shape of y to (n_samples, ), for example using ravel().\n",
      "  return f(**kwargs)\n"
     ]
    },
    {
     "name": "stdout",
     "output_type": "stream",
     "text": [
      "Differences in actual vs. model prediction (Unemployment)\n",
      "Mean: 0.044737852350451156\n",
      "Median: 0.17825104299576244\n",
      "Max: 5.7952168947758995\n",
      "Min: -8.373827111006161\n",
      "Correlation Coef: 0.7757645622822273\n",
      "MSE: 3.0841627590239233\n"
     ]
    },
    {
     "data": {
      "image/png": "[encoded data removed]",
      "text/plain": [
       "<Figure size 432x288 with 1 Axes>"
      ]
     },
     "metadata": {
      "needs_background": "light"
     },
     "output_type": "display_data"
    },
    {
     "name": "stdout",
     "output_type": "stream",
     "text": [
      "Differences in actual vs. forecaster average prediction (Unemployment)\n",
      "Mean: -0.9148486938035417\n",
      "Median: -0.6062500000000002\n",
      "Max: 9.058333\n",
      "Min: -8.475\n",
      "Correlation Coef: 0.6334274949969275\n",
      "MSE: 5.4746766338827\n"
     ]
    },
    {
     "data": {
      "image/png": "[encoded data removed]",
      "text/plain": [
       "<Figure size 432x288 with 1 Axes>"
      ]
     },
     "metadata": {
      "needs_background": "light"
     },
     "output_type": "display_data"
    }
   ],
   "source": [
    "run_model(unemp, \"Unemployment\")"
   ]
  },
  {
   "cell_type": "code",
   "execution_count": 26,
   "metadata": {},
   "outputs": [
    {
     "name": "stderr",
     "output_type": "stream",
     "text": [
      "/Users/renjun/opt/anaconda3/lib/python3.8/site-packages/sklearn/utils/validation.py:73: DataConversionWarning: A column-vector y was passed when a 1d array was expected. Please change the shape of y to (n_samples, ), for example using ravel().\n",
      "  return f(**kwargs)\n",
      "/Users/renjun/opt/anaconda3/lib/python3.8/site-packages/sklearn/neural_network/_multilayer_perceptron.py:471: ConvergenceWarning: lbfgs failed to converge (status=1):\n",
      "STOP: TOTAL NO. of ITERATIONS REACHED LIMIT.\n",
      "\n",
      "Increase the number of iterations (max_iter) or scale the data as shown in:\n",
      "    https://scikit-learn.org/stable/modules/preprocessing.html\n",
      "  self.n_iter_ = _check_optimize_result(\"lbfgs\", opt_res, self.max_iter)\n"
     ]
    },
    {
     "name": "stdout",
     "output_type": "stream",
     "text": [
      "Differences in actual vs. model prediction (Real GDP)\n",
      "Mean: 0.010982502762330022\n",
      "Median: 0.11179548769405612\n",
      "Max: 3.790648920763884\n",
      "Min: -6.666471937082525\n",
      "Correlation Coef: 0.8623593560031039\n",
      "MSE: 0.8582315771398117\n"
     ]
    },
    {
     "data": {
      "image/png": "[encoded data removed]",
      "text/plain": [
       "<Figure size 432x288 with 1 Axes>"
      ]
     },
     "metadata": {
      "needs_background": "light"
     },
     "output_type": "display_data"
    },
    {
     "name": "stdout",
     "output_type": "stream",
     "text": [
      "Differences in actual vs. forecaster average prediction (Real GDP)\n",
      "Mean: -0.4350808469014078\n",
      "Median: -0.22382000000000013\n",
      "Max: 3.921817361570293\n",
      "Min: -8.33626\n",
      "Correlation Coef: 0.5074985032649435\n",
      "MSE: 2.67996089663907\n"
     ]
    },
    {
     "data": {
      "image/png": "[encoded data removed]",
      "text/plain": [
       "<Figure size 432x288 with 1 Axes>"
      ]
     },
     "metadata": {
      "needs_background": "light"
     },
     "output_type": "display_data"
    }
   ],
   "source": [
    "run_model(rgdp, \"Real GDP\")"
   ]
  },
  {
   "cell_type": "code",
   "execution_count": 27,
   "metadata": {},
   "outputs": [
    {
     "name": "stderr",
     "output_type": "stream",
     "text": [
      "/Users/renjun/opt/anaconda3/lib/python3.8/site-packages/sklearn/utils/validation.py:73: DataConversionWarning: A column-vector y was passed when a 1d array was expected. Please change the shape of y to (n_samples, ), for example using ravel().\n",
      "  return f(**kwargs)\n"
     ]
    },
    {
     "name": "stdout",
     "output_type": "stream",
     "text": [
      "Differences in actual vs. model prediction (Core CPE)\n",
      "Mean: -0.036619405539487386\n",
      "Median: 0.02108000259773979\n",
      "Max: 6.472835247615197\n",
      "Min: -7.640039391718242\n",
      "Correlation Coef: 0.6571844512239989\n",
      "MSE: 0.7944151953203267\n"
     ]
    },
    {
     "data": {
      "image/png": "[encoded data removed]",
      "text/plain": [
       "<Figure size 432x288 with 1 Axes>"
      ]
     },
     "metadata": {
      "needs_background": "light"
     },
     "output_type": "display_data"
    },
    {
     "name": "stdout",
     "output_type": "stream",
     "text": [
      "Differences in actual vs. forecaster average prediction (Core CPE)\n",
      "Mean: -0.13042343653869268\n",
      "Median: -0.24247432281050996\n",
      "Max: 7.358333\n",
      "Min: -3.025\n",
      "Correlation Coef: -0.03825494620637904\n",
      "MSE: 1.5887023418091215\n"
     ]
    },
    {
     "data": {
      "image/png": "[encoded data removed]",
      "text/plain": [
       "<Figure size 432x288 with 1 Axes>"
      ]
     },
     "metadata": {
      "needs_background": "light"
     },
     "output_type": "display_data"
    }
   ],
   "source": [
    "run_model(cpce, \"Core CPE\")"
   ]
  },
  {
   "cell_type": "code",
   "execution_count": 28,
   "metadata": {},
   "outputs": [
    {
     "name": "stderr",
     "output_type": "stream",
     "text": [
      "/Users/renjun/opt/anaconda3/lib/python3.8/site-packages/sklearn/utils/validation.py:73: DataConversionWarning: A column-vector y was passed when a 1d array was expected. Please change the shape of y to (n_samples, ), for example using ravel().\n",
      "  return f(**kwargs)\n"
     ]
    },
    {
     "name": "stdout",
     "output_type": "stream",
     "text": [
      "Differences in actual vs. model prediction (Core CPI)\n",
      "Mean: -0.026635736413157505\n",
      "Median: -0.005951483374429634\n",
      "Max: 6.5065937926662425\n",
      "Min: -4.406077988078479\n",
      "Correlation Coef: 0.6183744659413816\n",
      "MSE: 0.8428110904800601\n"
     ]
    },
    {
     "data": {
      "image/png": "[encoded data removed]",
      "text/plain": [
       "<Figure size 432x288 with 1 Axes>"
      ]
     },
     "metadata": {
      "needs_background": "light"
     },
     "output_type": "display_data"
    },
    {
     "name": "stdout",
     "output_type": "stream",
     "text": [
      "Differences in actual vs. forecaster average prediction (Core CPI)\n",
      "Mean: -0.08500913498683056\n",
      "Median: -0.14789993895520004\n",
      "Max: 7.059333\n",
      "Min: -4.25580034612723\n",
      "Correlation Coef: 0.07473335298292898\n",
      "MSE: 1.5989834454961678\n"
     ]
    },
    {
     "data": {
      "image/png": "[encoded data removed]",
      "text/plain": [
       "<Figure size 432x288 with 1 Axes>"
      ]
     },
     "metadata": {
      "needs_background": "light"
     },
     "output_type": "display_data"
    }
   ],
   "source": [
    "run_model(ccpi, \"Core CPI\")"
   ]
  },
  {
   "cell_type": "code",
   "execution_count": 29,
   "metadata": {},
   "outputs": [
    {
     "name": "stderr",
     "output_type": "stream",
     "text": [
      "/Users/renjun/opt/anaconda3/lib/python3.8/site-packages/sklearn/utils/validation.py:73: DataConversionWarning: A column-vector y was passed when a 1d array was expected. Please change the shape of y to (n_samples, ), for example using ravel().\n",
      "  return f(**kwargs)\n"
     ]
    },
    {
     "name": "stdout",
     "output_type": "stream",
     "text": [
      "Differences in actual vs. model prediction (Nominal GNP)\n",
      "Mean: -0.11160400972507556\n",
      "Median: -0.14111216082613431\n",
      "Max: 1.2891702994735486\n",
      "Min: -1.0407779523639906\n",
      "Correlation Coef: 0.9561187262962371\n",
      "MSE: 0.244942367326203\n"
     ]
    },
    {
     "data": {
      "image/png": "[encoded data removed]",
      "text/plain": [
       "<Figure size 432x288 with 1 Axes>"
      ]
     },
     "metadata": {
      "needs_background": "light"
     },
     "output_type": "display_data"
    },
    {
     "name": "stdout",
     "output_type": "stream",
     "text": [
      "Differences in actual vs. forecaster average prediction (Nominal GNP)\n",
      "Mean: 0.21877606060606117\n",
      "Median: 0.23313000000000095\n",
      "Max: 3.1331300000000013\n",
      "Min: -1.44801\n",
      "Correlation Coef: 0.9180921645943418\n",
      "MSE: 0.7521179713969702\n"
     ]
    },
    {
     "data": {
      "image/png": "[encoded data removed]",
      "text/plain": [
       "<Figure size 432x288 with 1 Axes>"
      ]
     },
     "metadata": {
      "needs_background": "light"
     },
     "output_type": "display_data"
    }
   ],
   "source": [
    "run_model(ngnp, \"Nominal GNP\")"
   ]
  },
  {
   "cell_type": "code",
   "execution_count": 30,
   "metadata": {},
   "outputs": [
    {
     "name": "stderr",
     "output_type": "stream",
     "text": [
      "/Users/renjun/opt/anaconda3/lib/python3.8/site-packages/sklearn/utils/validation.py:73: DataConversionWarning: A column-vector y was passed when a 1d array was expected. Please change the shape of y to (n_samples, ), for example using ravel().\n",
      "  return f(**kwargs)\n"
     ]
    },
    {
     "name": "stdout",
     "output_type": "stream",
     "text": [
      "Differences in actual vs. model prediction (Real GNP)\n",
      "Mean: 0.11335829772830636\n",
      "Median: 0.18977299575687923\n",
      "Max: 5.359848033564293\n",
      "Min: -4.3970855133027555\n",
      "Correlation Coef: 0.8482060263775703\n",
      "MSE: 1.5731459680914965\n"
     ]
    },
    {
     "name": "stderr",
     "output_type": "stream",
     "text": [
      "/Users/renjun/opt/anaconda3/lib/python3.8/site-packages/sklearn/neural_network/_multilayer_perceptron.py:471: ConvergenceWarning: lbfgs failed to converge (status=1):\n",
      "STOP: TOTAL NO. of ITERATIONS REACHED LIMIT.\n",
      "\n",
      "Increase the number of iterations (max_iter) or scale the data as shown in:\n",
      "    https://scikit-learn.org/stable/modules/preprocessing.html\n",
      "  self.n_iter_ = _check_optimize_result(\"lbfgs\", opt_res, self.max_iter)\n"
     ]
    },
    {
     "data": {
      "image/png": "[encoded data removed]",
      "text/plain": [
       "<Figure size 432x288 with 1 Axes>"
      ]
     },
     "metadata": {
      "needs_background": "light"
     },
     "output_type": "display_data"
    },
    {
     "name": "stdout",
     "output_type": "stream",
     "text": [
      "Differences in actual vs. forecaster average prediction (Real GNP)\n",
      "Mean: 0.880710956351935\n",
      "Median: 0.9083349999999999\n",
      "Max: 7.90641\n",
      "Min: -4.73796\n",
      "Correlation Coef: 0.7455494390877575\n",
      "MSE: 3.246295661443907\n"
     ]
    },
    {
     "data": {
      "image/png": "[encoded data removed]",
      "text/plain": [
       "<Figure size 432x288 with 1 Axes>"
      ]
     },
     "metadata": {
      "needs_background": "light"
     },
     "output_type": "display_data"
    }
   ],
   "source": [
    "run_model(rgnp, \"Real GNP\")"
   ]
  },
  {
   "cell_type": "code",
   "execution_count": null,
   "metadata": {},
   "outputs": [],
   "source": []
  }
 ],
 "metadata": {
  "kernelspec": {
   "display_name": "Python 3",
   "language": "python",
   "name": "python3"
  },
  "language_info": {
   "codemirror_mode": {
    "name": "ipython",
    "version": 3
   },
   "file_extension": ".py",
   "mimetype": "text/x-python",
   "name": "python",
   "nbconvert_exporter": "python",
   "pygments_lexer": "ipython3",
   "version": "3.8.3"
  }
 },
 "nbformat": 4,
 "nbformat_minor": 4
}
