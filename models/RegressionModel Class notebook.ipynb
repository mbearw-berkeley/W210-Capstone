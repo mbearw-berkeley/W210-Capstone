{
 "cells": [
  {
   "cell_type": "code",
   "execution_count": 71,
   "id": "danish-hospital",
   "metadata": {},
   "outputs": [],
   "source": [
    "import pandas as pd\n",
    "from sklearn.linear_model import LinearRegression\n",
    "from sklearn.metrics import r2_score\n",
    "import numpy as np\n",
    "import matplotlib.pyplot as plt\n",
    "import os\n",
    "import seaborn as sns\n",
    "from sklearn.model_selection import train_test_split\n",
    "from sklearn.ensemble import VotingRegressor\n",
    "from sklearn.linear_model import LinearRegression\n",
    "\n",
    "from sklearn.model_selection import cross_val_score\n",
    "from sklearn.model_selection import RepeatedKFold\n",
    "from sklearn.ensemble import RandomForestRegressor\n",
    "import xgboost as xgb\n",
    "from sklearn.neighbors import KNeighborsRegressor\n",
    "from sklearn.svm import SVR\n",
    "\n",
    "np.random.seed(0)"
   ]
  },
  {
   "cell_type": "markdown",
   "id": "rotary-cedar",
   "metadata": {},
   "source": [
    "# RUN MODELS\n",
    "\n",
    "### This notebook serves as a one stop shop for our models. Get all evaluation metrics in one place. "
   ]
  },
  {
   "cell_type": "markdown",
   "id": "english-mention",
   "metadata": {},
   "source": [
    "# Import Data\n",
    "\n",
    "Current Training Data includes SPF survey responses and price for specific items\n"
   ]
  },
  {
   "cell_type": "code",
   "execution_count": 5,
   "id": "involved-pollution",
   "metadata": {
    "scrolled": true
   },
   "outputs": [
    {
     "data": {
      "text/plain": [
       "Index(['YEAR FORECAST MADE', 'QUARTER', 'YEAR BEING FORECAST', 'INDICATOR',\n",
       "       'FORECASTER ID', 'INDUSTRY', 'Year.ID.ForecastYear.Quarter',\n",
       "       'Indicator.Year.ID.ForecastYear.Quarter', 'BIN 1', 'BIN 2', 'BIN 3',\n",
       "       'BIN 4', 'BIN 5', 'BIN 6', 'BIN 7', 'BIN 8', 'BIN 9', 'BIN 10',\n",
       "       'BIN 11', 'BIN 12', 'BIN 13', 'BIN 14', 'BIN 15', 'BIN 1 prob',\n",
       "       'BIN 2 prob', 'BIN 3 prob', 'BIN 4 prob', 'BIN 5 prob', 'BIN 6 prob',\n",
       "       'BIN 7 prob', 'BIN 8 prob', 'BIN 9 prob', 'BIN 10 prob', 'BIN 11 prob',\n",
       "       'BIN 12 prob', 'BIN 13 prob', 'BIN 14 prob', 'BIN 15 prob',\n",
       "       'BIN 1 midpoint', 'BIN 2 midpoint', 'BIN 3 midpoint', 'BIN 4 midpoint',\n",
       "       'BIN 5 midpoint', 'BIN 6 midpoint', 'BIN 7 midpoint', 'BIN 8 midpoint',\n",
       "       'BIN 9 midpoint', 'BIN 10 midpoint', 'BIN 11 midpoint',\n",
       "       'BIN 12 midpoint', 'BIN 13 midpoint', 'BIN 14 midpoint',\n",
       "       'BIN 15 midpoint', 'nbin', 'bin_value_sum', 'TDIST', 'actual',\n",
       "       'ACTUAL_BIN', 'MAX', 'NUM_OF_MAX', 'ACTUAL_CONF', 'HIT', 'pred_average',\n",
       "       'pred_var', 'banana', 'beef', 'bread', 'chicken', 'coffee', 'eggs',\n",
       "       'electricity', 'flour', 'iceCream', 'rice', 'unleadedGasoline'],\n",
       "      dtype='object')"
      ]
     },
     "execution_count": 5,
     "metadata": {},
     "output_type": "execute_result"
    }
   ],
   "source": [
    "data = pd.read_csv(\"../data/TrainingData/trainingWithItems.csv\")#,index_col=0) \n",
    "data.head()\n",
    "data.columns"
   ]
  },
  {
   "cell_type": "markdown",
   "id": "incident-reception",
   "metadata": {},
   "source": [
    "\n",
    "# Train Val Test Split (0.6,0.2,0.2)\n",
    "\n",
    "## And save as csv (actually do we really need to)"
   ]
  },
  {
   "cell_type": "code",
   "execution_count": 59,
   "id": "statutory-payday",
   "metadata": {
    "scrolled": false
   },
   "outputs": [],
   "source": [
    "relevant=data[data[\"YEAR FORECAST MADE\"]>=1984].drop(columns = ['YEAR FORECAST MADE', 'QUARTER', 'YEAR BEING FORECAST',  'INDUSTRY', 'Year.ID.ForecastYear.Quarter',\n",
    "       'Indicator.Year.ID.ForecastYear.Quarter', 'BIN 1', 'BIN 2', 'BIN 3',\n",
    "       'BIN 4', 'BIN 5', 'BIN 6', 'BIN 7', 'BIN 8', 'BIN 9', 'BIN 10',\n",
    "       'BIN 11', 'BIN 12', 'BIN 13', 'BIN 14', 'BIN 15', 'BIN 1 prob',\n",
    "       'BIN 2 prob', 'BIN 3 prob', 'BIN 4 prob', 'BIN 5 prob', 'BIN 6 prob',\n",
    "       'BIN 7 prob', 'BIN 8 prob', 'BIN 9 prob', 'BIN 10 prob', 'BIN 11 prob',\n",
    "       'BIN 12 prob', 'BIN 13 prob', 'BIN 14 prob', 'BIN 15 prob',\n",
    "       'BIN 1 midpoint', 'BIN 2 midpoint', 'BIN 3 midpoint', 'BIN 4 midpoint',\n",
    "       'BIN 5 midpoint', 'BIN 6 midpoint', 'BIN 7 midpoint', 'BIN 8 midpoint',\n",
    "       'BIN 9 midpoint', 'BIN 10 midpoint', 'BIN 11 midpoint',\n",
    "       'BIN 12 midpoint', 'BIN 13 midpoint', 'BIN 14 midpoint',\n",
    "       'BIN 15 midpoint', 'nbin', 'bin_value_sum', 'TDIST',\n",
    "       'ACTUAL_BIN', 'NUM_OF_MAX',\"FORECASTER ID\"])\n",
    "relevant.dropna(inplace=True)"
   ]
  },
  {
   "cell_type": "code",
   "execution_count": 60,
   "id": "three-phase",
   "metadata": {},
   "outputs": [],
   "source": [
    "train,test = train_test_split(relevant,test_size=.2,random_state=42,stratify=relevant[\"INDICATOR\"])"
   ]
  },
  {
   "cell_type": "code",
   "execution_count": 61,
   "id": "similar-transmission",
   "metadata": {},
   "outputs": [],
   "source": [
    "train,val = train_test_split(train,test_size=0.25, random_state=42,stratify = train[\"INDICATOR\"])"
   ]
  },
  {
   "cell_type": "code",
   "execution_count": 62,
   "id": "sought-supplier",
   "metadata": {
    "scrolled": true
   },
   "outputs": [],
   "source": [
    "# train.to_csv(\"../data/TrainingData/shuffled_train.csv\",index=False)\n",
    "# test.to_csv(\"../data/TestData/shuffled_test.csv\",index=False)\n",
    "# val.to_csv(\"../data/ValidationData/val.csv\",index=False)"
   ]
  },
  {
   "cell_type": "markdown",
   "id": "empty-slovakia",
   "metadata": {},
   "source": [
    "# Model Creation\n",
    "\n",
    "Current Regression Models: XGBoost and RandomForestRegressor\n",
    "Past Regression Models: LinearRegression, KNN,"
   ]
  },
  {
   "cell_type": "code",
   "execution_count": 66,
   "id": "distant-tolerance",
   "metadata": {},
   "outputs": [],
   "source": [
    "lm = LinearRegression()\n",
    "#add previous models here"
   ]
  },
  {
   "cell_type": "code",
   "execution_count": 154,
   "id": "otherwise-tractor",
   "metadata": {},
   "outputs": [],
   "source": [
    "xgboost = xgb.XGBRegressor(verbosity=0)\n",
    "randomForest = RandomForestRegressor()"
   ]
  },
  {
   "cell_type": "code",
   "execution_count": 155,
   "id": "willing-seattle",
   "metadata": {},
   "outputs": [],
   "source": [
    "def MeasureSplit(df,measure):\n",
    "    return df[df[\"INDICATOR\"]==measure].drop(columns = [\"actual\",\"INDICATOR\"]),df[df[\"INDICATOR\"]==measure][\"actual\"]"
   ]
  },
  {
   "cell_type": "code",
   "execution_count": 156,
   "id": "dietary-beijing",
   "metadata": {},
   "outputs": [],
   "source": [
    "def run_model(model,variable_name,plot=True,validation = True):\n",
    "    \n",
    "    X_train,y_train = MeasureSplit(train,variable_name)\n",
    "    X_val,y_val = MeasureSplit(val,variable_name)\n",
    "    if validation:\n",
    "        X_test,y_test = MeasureSplit(val,variable_name)\n",
    "    else: \n",
    "        X_test,y_test = MeasureSplit(test,variable_name)\n",
    "    model.fit(X_train,y_train)\n",
    "    predictions = model.predict(X_test)\n",
    "\n",
    "    rmse = np.sqrt(np.mean((y_test-predictions)**2))\n",
    "    r_squared = r2_score(y_test,predictions)\n",
    "    return [rmse,r_squared]"
   ]
  },
  {
   "cell_type": "code",
   "execution_count": 159,
   "id": "amended-vegetarian",
   "metadata": {},
   "outputs": [
    {
     "data": {
      "text/plain": [
       "[1.2200985243216396, 0.59887098062772]"
      ]
     },
     "execution_count": 159,
     "metadata": {},
     "output_type": "execute_result"
    }
   ],
   "source": [
    "run_model(LinearRegression(),\"RealGDP\")"
   ]
  },
  {
   "cell_type": "code",
   "execution_count": 160,
   "id": "enabling-vaccine",
   "metadata": {},
   "outputs": [
    {
     "data": {
      "text/plain": [
       "[0.6871500325214561, 0.9414440952099403]"
      ]
     },
     "execution_count": 160,
     "metadata": {},
     "output_type": "execute_result"
    }
   ],
   "source": [
    "run_model(xgboost,\"Unemployment\")"
   ]
  },
  {
   "cell_type": "code",
   "execution_count": 89,
   "id": "accessory-syria",
   "metadata": {},
   "outputs": [
    {
     "data": {
      "text/plain": [
       "[0.7029518154349778, 0.9387200126550224]"
      ]
     },
     "execution_count": 89,
     "metadata": {},
     "output_type": "execute_result"
    }
   ],
   "source": [
    "run_model(randomForest,\"Unemployment\")"
   ]
  },
  {
   "cell_type": "code",
   "execution_count": 251,
   "id": "compatible-saturday",
   "metadata": {},
   "outputs": [
    {
     "data": {
      "text/html": [
       "<div>\n",
       "<style scoped>\n",
       "    .dataframe tbody tr th:only-of-type {\n",
       "        vertical-align: middle;\n",
       "    }\n",
       "\n",
       "    .dataframe tbody tr th {\n",
       "        vertical-align: top;\n",
       "    }\n",
       "\n",
       "    .dataframe thead th {\n",
       "        text-align: right;\n",
       "    }\n",
       "</style>\n",
       "<table border=\"1\" class=\"dataframe\">\n",
       "  <thead>\n",
       "    <tr style=\"text-align: right;\">\n",
       "      <th></th>\n",
       "      <th>INDICATOR</th>\n",
       "      <th>actual</th>\n",
       "      <th>MAX</th>\n",
       "      <th>ACTUAL_CONF</th>\n",
       "      <th>HIT</th>\n",
       "      <th>pred_average</th>\n",
       "      <th>pred_var</th>\n",
       "      <th>banana</th>\n",
       "      <th>beef</th>\n",
       "      <th>bread</th>\n",
       "      <th>chicken</th>\n",
       "      <th>coffee</th>\n",
       "      <th>eggs</th>\n",
       "      <th>electricity</th>\n",
       "      <th>flour</th>\n",
       "      <th>iceCream</th>\n",
       "      <th>rice</th>\n",
       "      <th>unleadedGasoline</th>\n",
       "    </tr>\n",
       "  </thead>\n",
       "  <tbody>\n",
       "    <tr>\n",
       "      <th>33234</th>\n",
       "      <td>Unemployment</td>\n",
       "      <td>0.000000</td>\n",
       "      <td>0.50</td>\n",
       "      <td>0.10</td>\n",
       "      <td>0.0</td>\n",
       "      <td>4.7250</td>\n",
       "      <td>0.324375</td>\n",
       "      <td>0.573000</td>\n",
       "      <td>3.838333</td>\n",
       "      <td>1.349667</td>\n",
       "      <td>1.472667</td>\n",
       "      <td>4.141333</td>\n",
       "      <td>1.407333</td>\n",
       "      <td>0.134000</td>\n",
       "      <td>0.426000</td>\n",
       "      <td>4.871667</td>\n",
       "      <td>0.736000</td>\n",
       "      <td>2.626667</td>\n",
       "    </tr>\n",
       "    <tr>\n",
       "      <th>4897</th>\n",
       "      <td>RealGNP</td>\n",
       "      <td>-0.195040</td>\n",
       "      <td>0.60</td>\n",
       "      <td>0.60</td>\n",
       "      <td>1.0</td>\n",
       "      <td>-0.3600</td>\n",
       "      <td>1.430400</td>\n",
       "      <td>0.454667</td>\n",
       "      <td>1.572333</td>\n",
       "      <td>0.710333</td>\n",
       "      <td>0.877000</td>\n",
       "      <td>2.740333</td>\n",
       "      <td>0.992333</td>\n",
       "      <td>0.090667</td>\n",
       "      <td>0.236333</td>\n",
       "      <td>2.606000</td>\n",
       "      <td>0.501000</td>\n",
       "      <td>1.136667</td>\n",
       "    </tr>\n",
       "    <tr>\n",
       "      <th>28120</th>\n",
       "      <td>RealGDP</td>\n",
       "      <td>2.996460</td>\n",
       "      <td>0.40</td>\n",
       "      <td>0.40</td>\n",
       "      <td>0.5</td>\n",
       "      <td>2.1500</td>\n",
       "      <td>0.627500</td>\n",
       "      <td>0.572333</td>\n",
       "      <td>3.568000</td>\n",
       "      <td>1.346000</td>\n",
       "      <td>1.451000</td>\n",
       "      <td>4.567000</td>\n",
       "      <td>1.489000</td>\n",
       "      <td>0.134333</td>\n",
       "      <td>0.529000</td>\n",
       "      <td>4.818333</td>\n",
       "      <td>0.695667</td>\n",
       "      <td>2.324333</td>\n",
       "    </tr>\n",
       "    <tr>\n",
       "      <th>6344</th>\n",
       "      <td>RealGDP</td>\n",
       "      <td>4.447220</td>\n",
       "      <td>0.60</td>\n",
       "      <td>0.00</td>\n",
       "      <td>0.0</td>\n",
       "      <td>1.7000</td>\n",
       "      <td>0.360000</td>\n",
       "      <td>0.505000</td>\n",
       "      <td>1.332333</td>\n",
       "      <td>0.873333</td>\n",
       "      <td>0.954667</td>\n",
       "      <td>3.469667</td>\n",
       "      <td>1.017333</td>\n",
       "      <td>0.093333</td>\n",
       "      <td>0.281333</td>\n",
       "      <td>2.793333</td>\n",
       "      <td>0.541000</td>\n",
       "      <td>1.291000</td>\n",
       "    </tr>\n",
       "    <tr>\n",
       "      <th>29588</th>\n",
       "      <td>Unemployment</td>\n",
       "      <td>3.891667</td>\n",
       "      <td>0.70</td>\n",
       "      <td>0.15</td>\n",
       "      <td>0.0</td>\n",
       "      <td>4.4625</td>\n",
       "      <td>0.232969</td>\n",
       "      <td>0.552333</td>\n",
       "      <td>3.678000</td>\n",
       "      <td>1.313000</td>\n",
       "      <td>1.468333</td>\n",
       "      <td>4.312000</td>\n",
       "      <td>1.620333</td>\n",
       "      <td>0.136333</td>\n",
       "      <td>0.477000</td>\n",
       "      <td>4.669333</td>\n",
       "      <td>0.715333</td>\n",
       "      <td>2.497000</td>\n",
       "    </tr>\n",
       "    <tr>\n",
       "      <th>...</th>\n",
       "      <td>...</td>\n",
       "      <td>...</td>\n",
       "      <td>...</td>\n",
       "      <td>...</td>\n",
       "      <td>...</td>\n",
       "      <td>...</td>\n",
       "      <td>...</td>\n",
       "      <td>...</td>\n",
       "      <td>...</td>\n",
       "      <td>...</td>\n",
       "      <td>...</td>\n",
       "      <td>...</td>\n",
       "      <td>...</td>\n",
       "      <td>...</td>\n",
       "      <td>...</td>\n",
       "      <td>...</td>\n",
       "      <td>...</td>\n",
       "      <td>...</td>\n",
       "    </tr>\n",
       "    <tr>\n",
       "      <th>32185</th>\n",
       "      <td>Core PCE</td>\n",
       "      <td>1.382284</td>\n",
       "      <td>0.35</td>\n",
       "      <td>0.15</td>\n",
       "      <td>0.0</td>\n",
       "      <td>2.0000</td>\n",
       "      <td>0.212500</td>\n",
       "      <td>0.573333</td>\n",
       "      <td>3.803000</td>\n",
       "      <td>1.284667</td>\n",
       "      <td>1.510667</td>\n",
       "      <td>4.306000</td>\n",
       "      <td>1.342667</td>\n",
       "      <td>0.136667</td>\n",
       "      <td>0.445333</td>\n",
       "      <td>4.768000</td>\n",
       "      <td>0.776333</td>\n",
       "      <td>2.829333</td>\n",
       "    </tr>\n",
       "    <tr>\n",
       "      <th>12462</th>\n",
       "      <td>Core PCE</td>\n",
       "      <td>0.923599</td>\n",
       "      <td>0.42</td>\n",
       "      <td>0.27</td>\n",
       "      <td>0.0</td>\n",
       "      <td>1.2200</td>\n",
       "      <td>0.189100</td>\n",
       "      <td>0.622667</td>\n",
       "      <td>2.247333</td>\n",
       "      <td>1.397667</td>\n",
       "      <td>1.294000</td>\n",
       "      <td>3.646000</td>\n",
       "      <td>1.601333</td>\n",
       "      <td>0.127667</td>\n",
       "      <td>0.505333</td>\n",
       "      <td>4.300000</td>\n",
       "      <td>0.765333</td>\n",
       "      <td>2.317333</td>\n",
       "    </tr>\n",
       "    <tr>\n",
       "      <th>35367</th>\n",
       "      <td>Core PCE</td>\n",
       "      <td>0.000000</td>\n",
       "      <td>0.42</td>\n",
       "      <td>0.00</td>\n",
       "      <td>0.0</td>\n",
       "      <td>1.7250</td>\n",
       "      <td>0.396875</td>\n",
       "      <td>0.593667</td>\n",
       "      <td>3.998000</td>\n",
       "      <td>1.536333</td>\n",
       "      <td>1.573667</td>\n",
       "      <td>4.645000</td>\n",
       "      <td>1.562667</td>\n",
       "      <td>0.137000</td>\n",
       "      <td>0.440667</td>\n",
       "      <td>4.966667</td>\n",
       "      <td>0.781667</td>\n",
       "      <td>2.537667</td>\n",
       "    </tr>\n",
       "    <tr>\n",
       "      <th>16664</th>\n",
       "      <td>Unemployment</td>\n",
       "      <td>6.158333</td>\n",
       "      <td>0.45</td>\n",
       "      <td>0.00</td>\n",
       "      <td>0.0</td>\n",
       "      <td>8.0750</td>\n",
       "      <td>0.206875</td>\n",
       "      <td>0.617333</td>\n",
       "      <td>2.730000</td>\n",
       "      <td>1.460667</td>\n",
       "      <td>1.289333</td>\n",
       "      <td>5.154667</td>\n",
       "      <td>1.700667</td>\n",
       "      <td>0.130000</td>\n",
       "      <td>0.516333</td>\n",
       "      <td>4.781667</td>\n",
       "      <td>0.752000</td>\n",
       "      <td>3.817000</td>\n",
       "    </tr>\n",
       "    <tr>\n",
       "      <th>6495</th>\n",
       "      <td>RealGDP</td>\n",
       "      <td>4.447220</td>\n",
       "      <td>0.75</td>\n",
       "      <td>0.00</td>\n",
       "      <td>0.0</td>\n",
       "      <td>1.4500</td>\n",
       "      <td>0.247500</td>\n",
       "      <td>0.474333</td>\n",
       "      <td>1.399333</td>\n",
       "      <td>0.876000</td>\n",
       "      <td>1.008667</td>\n",
       "      <td>3.311333</td>\n",
       "      <td>1.192000</td>\n",
       "      <td>0.093000</td>\n",
       "      <td>0.293333</td>\n",
       "      <td>2.998333</td>\n",
       "      <td>0.551000</td>\n",
       "      <td>1.245667</td>\n",
       "    </tr>\n",
       "  </tbody>\n",
       "</table>\n",
       "<p>6521 rows × 18 columns</p>\n",
       "</div>"
      ],
      "text/plain": [
       "          INDICATOR    actual   MAX  ACTUAL_CONF  HIT  pred_average  pred_var  \\\n",
       "33234  Unemployment  0.000000  0.50         0.10  0.0        4.7250  0.324375   \n",
       "4897        RealGNP -0.195040  0.60         0.60  1.0       -0.3600  1.430400   \n",
       "28120       RealGDP  2.996460  0.40         0.40  0.5        2.1500  0.627500   \n",
       "6344        RealGDP  4.447220  0.60         0.00  0.0        1.7000  0.360000   \n",
       "29588  Unemployment  3.891667  0.70         0.15  0.0        4.4625  0.232969   \n",
       "...             ...       ...   ...          ...  ...           ...       ...   \n",
       "32185      Core PCE  1.382284  0.35         0.15  0.0        2.0000  0.212500   \n",
       "12462      Core PCE  0.923599  0.42         0.27  0.0        1.2200  0.189100   \n",
       "35367      Core PCE  0.000000  0.42         0.00  0.0        1.7250  0.396875   \n",
       "16664  Unemployment  6.158333  0.45         0.00  0.0        8.0750  0.206875   \n",
       "6495        RealGDP  4.447220  0.75         0.00  0.0        1.4500  0.247500   \n",
       "\n",
       "         banana      beef     bread   chicken    coffee      eggs  \\\n",
       "33234  0.573000  3.838333  1.349667  1.472667  4.141333  1.407333   \n",
       "4897   0.454667  1.572333  0.710333  0.877000  2.740333  0.992333   \n",
       "28120  0.572333  3.568000  1.346000  1.451000  4.567000  1.489000   \n",
       "6344   0.505000  1.332333  0.873333  0.954667  3.469667  1.017333   \n",
       "29588  0.552333  3.678000  1.313000  1.468333  4.312000  1.620333   \n",
       "...         ...       ...       ...       ...       ...       ...   \n",
       "32185  0.573333  3.803000  1.284667  1.510667  4.306000  1.342667   \n",
       "12462  0.622667  2.247333  1.397667  1.294000  3.646000  1.601333   \n",
       "35367  0.593667  3.998000  1.536333  1.573667  4.645000  1.562667   \n",
       "16664  0.617333  2.730000  1.460667  1.289333  5.154667  1.700667   \n",
       "6495   0.474333  1.399333  0.876000  1.008667  3.311333  1.192000   \n",
       "\n",
       "       electricity     flour  iceCream      rice  unleadedGasoline  \n",
       "33234     0.134000  0.426000  4.871667  0.736000          2.626667  \n",
       "4897      0.090667  0.236333  2.606000  0.501000          1.136667  \n",
       "28120     0.134333  0.529000  4.818333  0.695667          2.324333  \n",
       "6344      0.093333  0.281333  2.793333  0.541000          1.291000  \n",
       "29588     0.136333  0.477000  4.669333  0.715333          2.497000  \n",
       "...            ...       ...       ...       ...               ...  \n",
       "32185     0.136667  0.445333  4.768000  0.776333          2.829333  \n",
       "12462     0.127667  0.505333  4.300000  0.765333          2.317333  \n",
       "35367     0.137000  0.440667  4.966667  0.781667          2.537667  \n",
       "16664     0.130000  0.516333  4.781667  0.752000          3.817000  \n",
       "6495      0.093000  0.293333  2.998333  0.551000          1.245667  \n",
       "\n",
       "[6521 rows x 18 columns]"
      ]
     },
     "execution_count": 251,
     "metadata": {},
     "output_type": "execute_result"
    }
   ],
   "source": [
    "val"
   ]
  },
  {
   "cell_type": "code",
   "execution_count": 221,
   "id": "flying-gauge",
   "metadata": {},
   "outputs": [],
   "source": [
    "class RegressionModel:\n",
    "    measures = [\"Unemployment\",\"RealGDP\",\"Core CPI\",\"Core PCE\"]\n",
    "    def __init__(self,name,model):\n",
    "        self.name = name\n",
    "        self.model = model\n",
    "        self.rmse_scores = []\n",
    "        self.r2_scores = []\n",
    "        self.validation = True\n",
    "        self.store_scores()\n",
    "        \n",
    "    \n",
    "    def set_validation(setting):\n",
    "        self.validation=setting\n",
    "        \n",
    "        \n",
    "        \n",
    "    def store_scores(self):\n",
    "        for measure in self.measures:\n",
    "            if self.validation:\n",
    "                X_test,y_test = MeasureSplit(val,measure)\n",
    "            else: \n",
    "                X_test,y_test = MeasureSplit(test,measure)\n",
    "            predictions = self.get_predictions(measure)\n",
    "            self.rmse_scores.append(np.sqrt(np.mean((y_test-predictions)**2)))\n",
    "            self.r2_scores.append(r2_score(y_test,predictions))\n",
    "            \n",
    "    def plot_scores(self):\n",
    "        fig,axes = plt.subplots(2,1,figsize=(10,20))\n",
    "        for i,score,s in zip([0,1],['RMSE Scores','R^2 Scores'],[self.rmse_scores,self.r2_scores]):\n",
    "            sns.barplot(x=self.measures,y=s,ax=axes[i])\n",
    "            axes[i].set_title(score)\n",
    "            axes[i].set_xlabel(\"Economic Measures\")\n",
    "            axes[i].set_ylabel(\"Score\")\n",
    "        return plt.show()\n",
    "    \n",
    "    \n",
    "    \n",
    "    def get_predictions(self,variable_name):\n",
    "        #calculates and stores scores\n",
    "        #returns predictions for specified measure\n",
    "        X_train,y_train = MeasureSplit(train,variable_name)\n",
    "        if self.validation:\n",
    "            X_test,y_test = MeasureSplit(val,variable_name)\n",
    "        else: \n",
    "            X_test,y_test = MeasureSplit(test,variable_name)\n",
    "        self.model.fit(X_train,y_train)\n",
    "        return self.model.predict(X_test)\n",
    "    \n",
    "    \n",
    "    \n",
    "    def create_results(self):\n",
    "        data = {}\n",
    "        for measure in self.measures:\n",
    "            data[measure] = self.get_predictions(measure)\n",
    "        return pd.DataFrame(dict([ (self.name+\" \"+k,pd.Series(v)) for k,v in data.items()]))"
   ]
  },
  {
   "cell_type": "code",
   "execution_count": 222,
   "id": "incorrect-financing",
   "metadata": {},
   "outputs": [],
   "source": [
    "xgboost = RegressionModel(\"XGBoost\", xgb.XGBRegressor(verbosity=0))"
   ]
  },
  {
   "cell_type": "code",
   "execution_count": 177,
   "id": "latter-express",
   "metadata": {
    "scrolled": true
   },
   "outputs": [
    {
     "data": {
      "text/plain": [
       "array([2.5001261, 4.1237764, 4.178174 , ..., 4.376538 , 2.5061462,\n",
       "       4.2140946], dtype=float32)"
      ]
     },
     "execution_count": 177,
     "metadata": {},
     "output_type": "execute_result"
    }
   ],
   "source": [
    "xgboost.get_predictions(\"RealGDP\")"
   ]
  },
  {
   "cell_type": "code",
   "execution_count": 178,
   "id": "adjusted-mitchell",
   "metadata": {
    "scrolled": false
   },
   "outputs": [
    {
     "data": {
      "image/png": "[encoded data removed]",
      "text/plain": [
       "<Figure size 720x1440 with 2 Axes>"
      ]
     },
     "metadata": {
      "needs_background": "light"
     },
     "output_type": "display_data"
    }
   ],
   "source": [
    "xgboost.plot_scores()"
   ]
  },
  {
   "cell_type": "code",
   "execution_count": 232,
   "id": "sapphire-helen",
   "metadata": {
    "scrolled": true
   },
   "outputs": [],
   "source": [
    "xg_scores = xgboost.create_results()"
   ]
  },
  {
   "cell_type": "code",
   "execution_count": 225,
   "id": "inclusive-number",
   "metadata": {},
   "outputs": [],
   "source": [
    "RF = RegressionModel(\"Random Forest\" ,RandomForestRegressor())"
   ]
  },
  {
   "cell_type": "code",
   "execution_count": 167,
   "id": "medieval-retrieval",
   "metadata": {},
   "outputs": [
    {
     "data": {
      "image/png": "[encoded data removed]",
      "text/plain": [
       "<Figure size 720x1440 with 2 Axes>"
      ]
     },
     "metadata": {
      "needs_background": "light"
     },
     "output_type": "display_data"
    }
   ],
   "source": [
    "RF.plot_scores()"
   ]
  },
  {
   "cell_type": "code",
   "execution_count": 168,
   "id": "verbal-glucose",
   "metadata": {},
   "outputs": [
    {
     "data": {
      "text/plain": [
       "array([0.16216666, 3.87708362, 3.74769417, ..., 6.49433333, 3.79305557,\n",
       "       6.30041667])"
      ]
     },
     "execution_count": 168,
     "metadata": {},
     "output_type": "execute_result"
    }
   ],
   "source": [
    "RF.get_predictions(\"Unemployment\")"
   ]
  },
  {
   "cell_type": "code",
   "execution_count": 233,
   "id": "great-officer",
   "metadata": {},
   "outputs": [],
   "source": [
    "rf_scores = RF.create_results()"
   ]
  },
  {
   "cell_type": "code",
   "execution_count": 227,
   "id": "distinct-officer",
   "metadata": {},
   "outputs": [],
   "source": [
    "lm  = RegressionModel(\"Linear Regression\", LinearRegression())"
   ]
  },
  {
   "cell_type": "code",
   "execution_count": 234,
   "id": "attended-limit",
   "metadata": {},
   "outputs": [],
   "source": [
    "lm_scores = lm.create_results()"
   ]
  },
  {
   "cell_type": "code",
   "execution_count": 231,
   "id": "determined-services",
   "metadata": {
    "scrolled": true
   },
   "outputs": [
    {
     "data": {
      "image/png": "[encoded data removed]",
      "text/plain": [
       "<Figure size 720x1440 with 2 Axes>"
      ]
     },
     "metadata": {
      "needs_background": "light"
     },
     "output_type": "display_data"
    }
   ],
   "source": [
    "lm.plot_scores()"
   ]
  },
  {
   "cell_type": "code",
   "execution_count": 235,
   "id": "stuck-better",
   "metadata": {},
   "outputs": [],
   "source": [
    "neighbors = RegressionModel(\"KNeigborsRegressor\",KNeighborsRegressor())"
   ]
  },
  {
   "cell_type": "code",
   "execution_count": 237,
   "id": "aggregate-juice",
   "metadata": {},
   "outputs": [
    {
     "data": {
      "image/png": "[encoded data removed]",
      "text/plain": [
       "<Figure size 720x1440 with 2 Axes>"
      ]
     },
     "metadata": {
      "needs_background": "light"
     },
     "output_type": "display_data"
    }
   ],
   "source": [
    "neighbors.plot_scores()"
   ]
  },
  {
   "cell_type": "code",
   "execution_count": 238,
   "id": "satellite-virus",
   "metadata": {},
   "outputs": [],
   "source": [
    "neighbor_scores = neighbors.create_results()"
   ]
  },
  {
   "cell_type": "code",
   "execution_count": 242,
   "id": "proprietary-orange",
   "metadata": {},
   "outputs": [],
   "source": [
    "model_predictions = pd.concat([xg_scores,rf_scores,lm_scores,neighbor_scores],axis=1)"
   ]
  },
  {
   "cell_type": "code",
   "execution_count": 243,
   "id": "fresh-viking",
   "metadata": {
    "scrolled": true
   },
   "outputs": [
    {
     "data": {
      "text/html": [
       "<div>\n",
       "<style scoped>\n",
       "    .dataframe tbody tr th:only-of-type {\n",
       "        vertical-align: middle;\n",
       "    }\n",
       "\n",
       "    .dataframe tbody tr th {\n",
       "        vertical-align: top;\n",
       "    }\n",
       "\n",
       "    .dataframe thead th {\n",
       "        text-align: right;\n",
       "    }\n",
       "</style>\n",
       "<table border=\"1\" class=\"dataframe\">\n",
       "  <thead>\n",
       "    <tr style=\"text-align: right;\">\n",
       "      <th></th>\n",
       "      <th>XGBoost Unemployment</th>\n",
       "      <th>XGBoost RealGDP</th>\n",
       "      <th>XGBoost Core CPI</th>\n",
       "      <th>XGBoost Core PCE</th>\n",
       "      <th>Random Forest Unemployment</th>\n",
       "      <th>Random Forest RealGDP</th>\n",
       "      <th>Random Forest Core CPI</th>\n",
       "      <th>Random Forest Core PCE</th>\n",
       "      <th>Linear Regression Unemployment</th>\n",
       "      <th>Linear Regression RealGDP</th>\n",
       "      <th>Linear Regression Core CPI</th>\n",
       "      <th>Linear Regression Core PCE</th>\n",
       "      <th>KNeigborsRegressor Unemployment</th>\n",
       "      <th>KNeigborsRegressor RealGDP</th>\n",
       "      <th>KNeigborsRegressor Core CPI</th>\n",
       "      <th>KNeigborsRegressor Core PCE</th>\n",
       "    </tr>\n",
       "  </thead>\n",
       "  <tbody>\n",
       "    <tr>\n",
       "      <th>0</th>\n",
       "      <td>0.081926</td>\n",
       "      <td>2.500126</td>\n",
       "      <td>2.291859</td>\n",
       "      <td>1.232153</td>\n",
       "      <td>0.081083</td>\n",
       "      <td>2.609857</td>\n",
       "      <td>2.279672</td>\n",
       "      <td>1.250697</td>\n",
       "      <td>2.763758</td>\n",
       "      <td>1.913119</td>\n",
       "      <td>2.037117</td>\n",
       "      <td>2.153685</td>\n",
       "      <td>1.621667</td>\n",
       "      <td>2.563892</td>\n",
       "      <td>2.270754</td>\n",
       "      <td>1.237391</td>\n",
       "    </tr>\n",
       "    <tr>\n",
       "      <th>1</th>\n",
       "      <td>3.820591</td>\n",
       "      <td>4.123776</td>\n",
       "      <td>2.132030</td>\n",
       "      <td>1.245136</td>\n",
       "      <td>3.866667</td>\n",
       "      <td>4.211068</td>\n",
       "      <td>2.174324</td>\n",
       "      <td>1.404765</td>\n",
       "      <td>4.956422</td>\n",
       "      <td>2.258982</td>\n",
       "      <td>1.673650</td>\n",
       "      <td>1.083818</td>\n",
       "      <td>3.850000</td>\n",
       "      <td>4.319114</td>\n",
       "      <td>2.174324</td>\n",
       "      <td>1.439257</td>\n",
       "    </tr>\n",
       "    <tr>\n",
       "      <th>2</th>\n",
       "      <td>3.852198</td>\n",
       "      <td>4.178174</td>\n",
       "      <td>2.079864</td>\n",
       "      <td>1.627884</td>\n",
       "      <td>3.716916</td>\n",
       "      <td>4.146253</td>\n",
       "      <td>1.940770</td>\n",
       "      <td>1.644099</td>\n",
       "      <td>3.938026</td>\n",
       "      <td>2.474587</td>\n",
       "      <td>1.802591</td>\n",
       "      <td>1.909056</td>\n",
       "      <td>3.808333</td>\n",
       "      <td>4.387366</td>\n",
       "      <td>1.562823</td>\n",
       "      <td>1.647664</td>\n",
       "    </tr>\n",
       "    <tr>\n",
       "      <th>3</th>\n",
       "      <td>8.142979</td>\n",
       "      <td>1.312183</td>\n",
       "      <td>2.193956</td>\n",
       "      <td>1.751450</td>\n",
       "      <td>8.108333</td>\n",
       "      <td>0.570160</td>\n",
       "      <td>2.223187</td>\n",
       "      <td>1.726642</td>\n",
       "      <td>4.816343</td>\n",
       "      <td>0.651697</td>\n",
       "      <td>2.003969</td>\n",
       "      <td>2.245712</td>\n",
       "      <td>6.338333</td>\n",
       "      <td>-1.492464</td>\n",
       "      <td>2.231115</td>\n",
       "      <td>1.727602</td>\n",
       "    </tr>\n",
       "    <tr>\n",
       "      <th>4</th>\n",
       "      <td>4.346418</td>\n",
       "      <td>4.914411</td>\n",
       "      <td>2.220703</td>\n",
       "      <td>1.585213</td>\n",
       "      <td>4.350000</td>\n",
       "      <td>4.559254</td>\n",
       "      <td>2.222196</td>\n",
       "      <td>1.718909</td>\n",
       "      <td>4.817755</td>\n",
       "      <td>4.013551</td>\n",
       "      <td>2.108200</td>\n",
       "      <td>2.264820</td>\n",
       "      <td>4.350000</td>\n",
       "      <td>4.377784</td>\n",
       "      <td>2.249111</td>\n",
       "      <td>1.975634</td>\n",
       "    </tr>\n",
       "    <tr>\n",
       "      <th>...</th>\n",
       "      <td>...</td>\n",
       "      <td>...</td>\n",
       "      <td>...</td>\n",
       "      <td>...</td>\n",
       "      <td>...</td>\n",
       "      <td>...</td>\n",
       "      <td>...</td>\n",
       "      <td>...</td>\n",
       "      <td>...</td>\n",
       "      <td>...</td>\n",
       "      <td>...</td>\n",
       "      <td>...</td>\n",
       "      <td>...</td>\n",
       "      <td>...</td>\n",
       "      <td>...</td>\n",
       "      <td>...</td>\n",
       "    </tr>\n",
       "    <tr>\n",
       "      <th>2665</th>\n",
       "      <td>NaN</td>\n",
       "      <td>2.994133</td>\n",
       "      <td>NaN</td>\n",
       "      <td>NaN</td>\n",
       "      <td>NaN</td>\n",
       "      <td>2.939068</td>\n",
       "      <td>NaN</td>\n",
       "      <td>NaN</td>\n",
       "      <td>NaN</td>\n",
       "      <td>4.166291</td>\n",
       "      <td>NaN</td>\n",
       "      <td>NaN</td>\n",
       "      <td>NaN</td>\n",
       "      <td>3.759920</td>\n",
       "      <td>NaN</td>\n",
       "      <td>NaN</td>\n",
       "    </tr>\n",
       "    <tr>\n",
       "      <th>2666</th>\n",
       "      <td>NaN</td>\n",
       "      <td>2.578147</td>\n",
       "      <td>NaN</td>\n",
       "      <td>NaN</td>\n",
       "      <td>NaN</td>\n",
       "      <td>2.686900</td>\n",
       "      <td>NaN</td>\n",
       "      <td>NaN</td>\n",
       "      <td>NaN</td>\n",
       "      <td>1.719996</td>\n",
       "      <td>NaN</td>\n",
       "      <td>NaN</td>\n",
       "      <td>NaN</td>\n",
       "      <td>2.108490</td>\n",
       "      <td>NaN</td>\n",
       "      <td>NaN</td>\n",
       "    </tr>\n",
       "    <tr>\n",
       "      <th>2667</th>\n",
       "      <td>NaN</td>\n",
       "      <td>4.376538</td>\n",
       "      <td>NaN</td>\n",
       "      <td>NaN</td>\n",
       "      <td>NaN</td>\n",
       "      <td>4.127480</td>\n",
       "      <td>NaN</td>\n",
       "      <td>NaN</td>\n",
       "      <td>NaN</td>\n",
       "      <td>3.387583</td>\n",
       "      <td>NaN</td>\n",
       "      <td>NaN</td>\n",
       "      <td>NaN</td>\n",
       "      <td>4.252632</td>\n",
       "      <td>NaN</td>\n",
       "      <td>NaN</td>\n",
       "    </tr>\n",
       "    <tr>\n",
       "      <th>2668</th>\n",
       "      <td>NaN</td>\n",
       "      <td>2.506146</td>\n",
       "      <td>NaN</td>\n",
       "      <td>NaN</td>\n",
       "      <td>NaN</td>\n",
       "      <td>2.401250</td>\n",
       "      <td>NaN</td>\n",
       "      <td>NaN</td>\n",
       "      <td>NaN</td>\n",
       "      <td>2.320658</td>\n",
       "      <td>NaN</td>\n",
       "      <td>NaN</td>\n",
       "      <td>NaN</td>\n",
       "      <td>2.375238</td>\n",
       "      <td>NaN</td>\n",
       "      <td>NaN</td>\n",
       "    </tr>\n",
       "    <tr>\n",
       "      <th>2669</th>\n",
       "      <td>NaN</td>\n",
       "      <td>4.214095</td>\n",
       "      <td>NaN</td>\n",
       "      <td>NaN</td>\n",
       "      <td>NaN</td>\n",
       "      <td>4.251551</td>\n",
       "      <td>NaN</td>\n",
       "      <td>NaN</td>\n",
       "      <td>NaN</td>\n",
       "      <td>2.467689</td>\n",
       "      <td>NaN</td>\n",
       "      <td>NaN</td>\n",
       "      <td>NaN</td>\n",
       "      <td>4.312276</td>\n",
       "      <td>NaN</td>\n",
       "      <td>NaN</td>\n",
       "    </tr>\n",
       "  </tbody>\n",
       "</table>\n",
       "<p>2670 rows × 16 columns</p>\n",
       "</div>"
      ],
      "text/plain": [
       "      XGBoost Unemployment  XGBoost RealGDP  XGBoost Core CPI  \\\n",
       "0                 0.081926         2.500126          2.291859   \n",
       "1                 3.820591         4.123776          2.132030   \n",
       "2                 3.852198         4.178174          2.079864   \n",
       "3                 8.142979         1.312183          2.193956   \n",
       "4                 4.346418         4.914411          2.220703   \n",
       "...                    ...              ...               ...   \n",
       "2665                   NaN         2.994133               NaN   \n",
       "2666                   NaN         2.578147               NaN   \n",
       "2667                   NaN         4.376538               NaN   \n",
       "2668                   NaN         2.506146               NaN   \n",
       "2669                   NaN         4.214095               NaN   \n",
       "\n",
       "      XGBoost Core PCE  Random Forest Unemployment  Random Forest RealGDP  \\\n",
       "0             1.232153                    0.081083               2.609857   \n",
       "1             1.245136                    3.866667               4.211068   \n",
       "2             1.627884                    3.716916               4.146253   \n",
       "3             1.751450                    8.108333               0.570160   \n",
       "4             1.585213                    4.350000               4.559254   \n",
       "...                ...                         ...                    ...   \n",
       "2665               NaN                         NaN               2.939068   \n",
       "2666               NaN                         NaN               2.686900   \n",
       "2667               NaN                         NaN               4.127480   \n",
       "2668               NaN                         NaN               2.401250   \n",
       "2669               NaN                         NaN               4.251551   \n",
       "\n",
       "      Random Forest Core CPI  Random Forest Core PCE  \\\n",
       "0                   2.279672                1.250697   \n",
       "1                   2.174324                1.404765   \n",
       "2                   1.940770                1.644099   \n",
       "3                   2.223187                1.726642   \n",
       "4                   2.222196                1.718909   \n",
       "...                      ...                     ...   \n",
       "2665                     NaN                     NaN   \n",
       "2666                     NaN                     NaN   \n",
       "2667                     NaN                     NaN   \n",
       "2668                     NaN                     NaN   \n",
       "2669                     NaN                     NaN   \n",
       "\n",
       "      Linear Regression Unemployment  Linear Regression RealGDP  \\\n",
       "0                           2.763758                   1.913119   \n",
       "1                           4.956422                   2.258982   \n",
       "2                           3.938026                   2.474587   \n",
       "3                           4.816343                   0.651697   \n",
       "4                           4.817755                   4.013551   \n",
       "...                              ...                        ...   \n",
       "2665                             NaN                   4.166291   \n",
       "2666                             NaN                   1.719996   \n",
       "2667                             NaN                   3.387583   \n",
       "2668                             NaN                   2.320658   \n",
       "2669                             NaN                   2.467689   \n",
       "\n",
       "      Linear Regression Core CPI  Linear Regression Core PCE  \\\n",
       "0                       2.037117                    2.153685   \n",
       "1                       1.673650                    1.083818   \n",
       "2                       1.802591                    1.909056   \n",
       "3                       2.003969                    2.245712   \n",
       "4                       2.108200                    2.264820   \n",
       "...                          ...                         ...   \n",
       "2665                         NaN                         NaN   \n",
       "2666                         NaN                         NaN   \n",
       "2667                         NaN                         NaN   \n",
       "2668                         NaN                         NaN   \n",
       "2669                         NaN                         NaN   \n",
       "\n",
       "      KNeigborsRegressor Unemployment  KNeigborsRegressor RealGDP  \\\n",
       "0                            1.621667                    2.563892   \n",
       "1                            3.850000                    4.319114   \n",
       "2                            3.808333                    4.387366   \n",
       "3                            6.338333                   -1.492464   \n",
       "4                            4.350000                    4.377784   \n",
       "...                               ...                         ...   \n",
       "2665                              NaN                    3.759920   \n",
       "2666                              NaN                    2.108490   \n",
       "2667                              NaN                    4.252632   \n",
       "2668                              NaN                    2.375238   \n",
       "2669                              NaN                    4.312276   \n",
       "\n",
       "      KNeigborsRegressor Core CPI  KNeigborsRegressor Core PCE  \n",
       "0                        2.270754                     1.237391  \n",
       "1                        2.174324                     1.439257  \n",
       "2                        1.562823                     1.647664  \n",
       "3                        2.231115                     1.727602  \n",
       "4                        2.249111                     1.975634  \n",
       "...                           ...                          ...  \n",
       "2665                          NaN                          NaN  \n",
       "2666                          NaN                          NaN  \n",
       "2667                          NaN                          NaN  \n",
       "2668                          NaN                          NaN  \n",
       "2669                          NaN                          NaN  \n",
       "\n",
       "[2670 rows x 16 columns]"
      ]
     },
     "execution_count": 243,
     "metadata": {},
     "output_type": "execute_result"
    }
   ],
   "source": [
    "model_predictions"
   ]
  },
  {
   "cell_type": "code",
   "execution_count": 261,
   "id": "innovative-plenty",
   "metadata": {},
   "outputs": [],
   "source": []
  },
  {
   "cell_type": "code",
   "execution_count": 292,
   "id": "oriental-litigation",
   "metadata": {},
   "outputs": [
    {
     "name": "stderr",
     "output_type": "stream",
     "text": [
      "C:\\Users\\Bear\\anaconda3\\lib\\site-packages\\pandas\\core\\frame.py:4438: SettingWithCopyWarning: \n",
      "A value is trying to be set on a copy of a slice from a DataFrame\n",
      "\n",
      "See the caveats in the documentation: https://pandas.pydata.org/pandas-docs/stable/user_guide/indexing.html#returning-a-view-versus-a-copy\n",
      "  return super().rename(\n"
     ]
    }
   ],
   "source": [
    "t = val.loc[:,[\"INDICATOR\",\"actual\"]]\n",
    "initial = pd.DataFrame([])\n",
    "for measure in xgboost.measures:\n",
    "    temp = t[t[\"INDICATOR\"]==measure]\n",
    "    temp.rename(columns={\"actual\":measure + \" actual\"},inplace=True)\n",
    "    temp.reset_index(inplace=True)\n",
    "    initial = pd.concat([initial,temp],axis=1)\n",
    "initial.drop(columns = ['index'],inplace=True)\n"
   ]
  },
  {
   "cell_type": "code",
   "execution_count": 298,
   "id": "dietary-metabolism",
   "metadata": {},
   "outputs": [
    {
     "ename": "MergeError",
     "evalue": "No common columns to perform merge on. Merge options: left_on=None, right_on=None, left_index=False, right_index=False",
     "output_type": "error",
     "traceback": [
      "\u001b[1;31m---------------------------------------------------------------------------\u001b[0m",
      "\u001b[1;31mMergeError\u001b[0m                                Traceback (most recent call last)",
      "\u001b[1;32m<ipython-input-298-3437ae86f0c2>\u001b[0m in \u001b[0;36m<module>\u001b[1;34m\u001b[0m\n\u001b[1;32m----> 1\u001b[1;33m \u001b[0minitial\u001b[0m\u001b[1;33m.\u001b[0m\u001b[0mmerge\u001b[0m\u001b[1;33m(\u001b[0m\u001b[0mmodel_predictions\u001b[0m\u001b[1;33m,\u001b[0m\u001b[0mleft_on\u001b[0m\u001b[1;33m=\u001b[0m\u001b[1;32mNone\u001b[0m\u001b[1;33m,\u001b[0m\u001b[0mright_index\u001b[0m\u001b[1;33m=\u001b[0m\u001b[1;32mFalse\u001b[0m\u001b[1;33m)\u001b[0m\u001b[1;33m\u001b[0m\u001b[1;33m\u001b[0m\u001b[0m\n\u001b[0m",
      "\u001b[1;32m~\\anaconda3\\lib\\site-packages\\pandas\\core\\frame.py\u001b[0m in \u001b[0;36mmerge\u001b[1;34m(self, right, how, on, left_on, right_on, left_index, right_index, sort, suffixes, copy, indicator, validate)\u001b[0m\n\u001b[0;32m   8190\u001b[0m         \u001b[1;32mfrom\u001b[0m \u001b[0mpandas\u001b[0m\u001b[1;33m.\u001b[0m\u001b[0mcore\u001b[0m\u001b[1;33m.\u001b[0m\u001b[0mreshape\u001b[0m\u001b[1;33m.\u001b[0m\u001b[0mmerge\u001b[0m \u001b[1;32mimport\u001b[0m \u001b[0mmerge\u001b[0m\u001b[1;33m\u001b[0m\u001b[1;33m\u001b[0m\u001b[0m\n\u001b[0;32m   8191\u001b[0m \u001b[1;33m\u001b[0m\u001b[0m\n\u001b[1;32m-> 8192\u001b[1;33m         return merge(\n\u001b[0m\u001b[0;32m   8193\u001b[0m             \u001b[0mself\u001b[0m\u001b[1;33m,\u001b[0m\u001b[1;33m\u001b[0m\u001b[1;33m\u001b[0m\u001b[0m\n\u001b[0;32m   8194\u001b[0m             \u001b[0mright\u001b[0m\u001b[1;33m,\u001b[0m\u001b[1;33m\u001b[0m\u001b[1;33m\u001b[0m\u001b[0m\n",
      "\u001b[1;32m~\\anaconda3\\lib\\site-packages\\pandas\\core\\reshape\\merge.py\u001b[0m in \u001b[0;36mmerge\u001b[1;34m(left, right, how, on, left_on, right_on, left_index, right_index, sort, suffixes, copy, indicator, validate)\u001b[0m\n\u001b[0;32m     72\u001b[0m     \u001b[0mvalidate\u001b[0m\u001b[1;33m=\u001b[0m\u001b[1;32mNone\u001b[0m\u001b[1;33m,\u001b[0m\u001b[1;33m\u001b[0m\u001b[1;33m\u001b[0m\u001b[0m\n\u001b[0;32m     73\u001b[0m ) -> \"DataFrame\":\n\u001b[1;32m---> 74\u001b[1;33m     op = _MergeOperation(\n\u001b[0m\u001b[0;32m     75\u001b[0m         \u001b[0mleft\u001b[0m\u001b[1;33m,\u001b[0m\u001b[1;33m\u001b[0m\u001b[1;33m\u001b[0m\u001b[0m\n\u001b[0;32m     76\u001b[0m         \u001b[0mright\u001b[0m\u001b[1;33m,\u001b[0m\u001b[1;33m\u001b[0m\u001b[1;33m\u001b[0m\u001b[0m\n",
      "\u001b[1;32m~\\anaconda3\\lib\\site-packages\\pandas\\core\\reshape\\merge.py\u001b[0m in \u001b[0;36m__init__\u001b[1;34m(self, left, right, how, on, left_on, right_on, axis, left_index, right_index, sort, suffixes, copy, indicator, validate)\u001b[0m\n\u001b[0;32m    648\u001b[0m             \u001b[0mwarnings\u001b[0m\u001b[1;33m.\u001b[0m\u001b[0mwarn\u001b[0m\u001b[1;33m(\u001b[0m\u001b[0mmsg\u001b[0m\u001b[1;33m,\u001b[0m \u001b[0mUserWarning\u001b[0m\u001b[1;33m)\u001b[0m\u001b[1;33m\u001b[0m\u001b[1;33m\u001b[0m\u001b[0m\n\u001b[0;32m    649\u001b[0m \u001b[1;33m\u001b[0m\u001b[0m\n\u001b[1;32m--> 650\u001b[1;33m         \u001b[0mself\u001b[0m\u001b[1;33m.\u001b[0m\u001b[0m_validate_specification\u001b[0m\u001b[1;33m(\u001b[0m\u001b[1;33m)\u001b[0m\u001b[1;33m\u001b[0m\u001b[1;33m\u001b[0m\u001b[0m\n\u001b[0m\u001b[0;32m    651\u001b[0m \u001b[1;33m\u001b[0m\u001b[0m\n\u001b[0;32m    652\u001b[0m         \u001b[0mcross_col\u001b[0m \u001b[1;33m=\u001b[0m \u001b[1;32mNone\u001b[0m\u001b[1;33m\u001b[0m\u001b[1;33m\u001b[0m\u001b[0m\n",
      "\u001b[1;32m~\\anaconda3\\lib\\site-packages\\pandas\\core\\reshape\\merge.py\u001b[0m in \u001b[0;36m_validate_specification\u001b[1;34m(self)\u001b[0m\n\u001b[0;32m   1281\u001b[0m                 \u001b[0mcommon_cols\u001b[0m \u001b[1;33m=\u001b[0m \u001b[0mleft_cols\u001b[0m\u001b[1;33m.\u001b[0m\u001b[0mintersection\u001b[0m\u001b[1;33m(\u001b[0m\u001b[0mright_cols\u001b[0m\u001b[1;33m)\u001b[0m\u001b[1;33m\u001b[0m\u001b[1;33m\u001b[0m\u001b[0m\n\u001b[0;32m   1282\u001b[0m                 \u001b[1;32mif\u001b[0m \u001b[0mlen\u001b[0m\u001b[1;33m(\u001b[0m\u001b[0mcommon_cols\u001b[0m\u001b[1;33m)\u001b[0m \u001b[1;33m==\u001b[0m \u001b[1;36m0\u001b[0m\u001b[1;33m:\u001b[0m\u001b[1;33m\u001b[0m\u001b[1;33m\u001b[0m\u001b[0m\n\u001b[1;32m-> 1283\u001b[1;33m                     raise MergeError(\n\u001b[0m\u001b[0;32m   1284\u001b[0m                         \u001b[1;34m\"No common columns to perform merge on. \"\u001b[0m\u001b[1;33m\u001b[0m\u001b[1;33m\u001b[0m\u001b[0m\n\u001b[0;32m   1285\u001b[0m                         \u001b[1;34mf\"Merge options: left_on={self.left_on}, \"\u001b[0m\u001b[1;33m\u001b[0m\u001b[1;33m\u001b[0m\u001b[0m\n",
      "\u001b[1;31mMergeError\u001b[0m: No common columns to perform merge on. Merge options: left_on=None, right_on=None, left_index=False, right_index=False"
     ]
    }
   ],
   "source": []
  },
  {
   "cell_type": "code",
   "execution_count": 300,
   "id": "constant-frost",
   "metadata": {
    "scrolled": true
   },
   "outputs": [],
   "source": [
    "final = pd.concat([initial,model_predictions],axis=1)"
   ]
  },
  {
   "cell_type": "code",
   "execution_count": 301,
   "id": "pleasant-comment",
   "metadata": {},
   "outputs": [],
   "source": [
    "final.to_csv(\"../models/results.csv\",index=False)"
   ]
  },
  {
   "cell_type": "code",
   "execution_count": null,
   "id": "danish-jumping",
   "metadata": {},
   "outputs": [],
   "source": []
  }
 ],
 "metadata": {
  "kernelspec": {
   "display_name": "Python 3",
   "language": "python",
   "name": "python3"
  },
  "language_info": {
   "codemirror_mode": {
    "name": "ipython",
    "version": 3
   },
   "file_extension": ".py",
   "mimetype": "text/x-python",
   "name": "python",
   "nbconvert_exporter": "python",
   "pygments_lexer": "ipython3",
   "version": "3.8.6"
  }
 },
 "nbformat": 4,
 "nbformat_minor": 5
}
