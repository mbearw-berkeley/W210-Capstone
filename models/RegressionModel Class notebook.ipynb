{
 "cells": [
  {
   "cell_type": "code",
   "execution_count": 19,
   "id": "danish-hospital",
   "metadata": {},
   "outputs": [],
   "source": [
    "import pandas as pd\n",
    "from sklearn.metrics import r2_score\n",
    "import numpy as np\n",
    "import matplotlib.pyplot as plt\n",
    "import os\n",
    "import seaborn as sns\n",
    "from sklearn.model_selection import train_test_split,GridSearchCV\n",
    "from sklearn.linear_model import LinearRegression\n",
    "from sklearn.ensemble import RandomForestRegressor\n",
    "from xgboost import XGBRegressor\n",
    "from sklearn.neighbors import KNeighborsRegressor"
   ]
  },
  {
   "cell_type": "markdown",
   "id": "rotary-cedar",
   "metadata": {},
   "source": [
    "# RUN MODELS\n",
    "\n",
    "### This notebook serves as a one stop shop for our models. Get all evaluation metrics in one place. "
   ]
  },
  {
   "cell_type": "markdown",
   "id": "english-mention",
   "metadata": {},
   "source": [
    "# Import Data\n",
    "\n",
    "Current Training Data includes SPF survey responses and price for specific items\n"
   ]
  },
  {
   "cell_type": "code",
   "execution_count": 2,
   "id": "involved-pollution",
   "metadata": {
    "scrolled": true
   },
   "outputs": [
    {
     "data": {
      "text/plain": [
       "Index(['YEAR FORECAST MADE', 'QUARTER', 'YEAR BEING FORECAST', 'INDICATOR',\n",
       "       'FORECASTER ID', 'INDUSTRY', 'Year.ID.ForecastYear.Quarter',\n",
       "       'Indicator.Year.ID.ForecastYear.Quarter', 'BIN 1', 'BIN 2', 'BIN 3',\n",
       "       'BIN 4', 'BIN 5', 'BIN 6', 'BIN 7', 'BIN 8', 'BIN 9', 'BIN 10',\n",
       "       'BIN 11', 'BIN 12', 'BIN 13', 'BIN 14', 'BIN 15', 'BIN 1 prob',\n",
       "       'BIN 2 prob', 'BIN 3 prob', 'BIN 4 prob', 'BIN 5 prob', 'BIN 6 prob',\n",
       "       'BIN 7 prob', 'BIN 8 prob', 'BIN 9 prob', 'BIN 10 prob', 'BIN 11 prob',\n",
       "       'BIN 12 prob', 'BIN 13 prob', 'BIN 14 prob', 'BIN 15 prob',\n",
       "       'BIN 1 midpoint', 'BIN 2 midpoint', 'BIN 3 midpoint', 'BIN 4 midpoint',\n",
       "       'BIN 5 midpoint', 'BIN 6 midpoint', 'BIN 7 midpoint', 'BIN 8 midpoint',\n",
       "       'BIN 9 midpoint', 'BIN 10 midpoint', 'BIN 11 midpoint',\n",
       "       'BIN 12 midpoint', 'BIN 13 midpoint', 'BIN 14 midpoint',\n",
       "       'BIN 15 midpoint', 'nbin', 'bin_value_sum', 'TDIST', 'actual',\n",
       "       'ACTUAL_BIN', 'MAX', 'NUM_OF_MAX', 'ACTUAL_CONF', 'HIT', 'pred_average',\n",
       "       'pred_var', 'banana', 'beef', 'bread', 'chicken', 'coffee', 'eggs',\n",
       "       'electricity', 'flour', 'iceCream', 'rice', 'unleadedGasoline'],\n",
       "      dtype='object')"
      ]
     },
     "execution_count": 2,
     "metadata": {},
     "output_type": "execute_result"
    }
   ],
   "source": [
    "data = pd.read_csv(\"../data/TrainingData/trainingWithItems.csv\")#,index_col=0) \n",
    "data.head()\n",
    "data.columns"
   ]
  },
  {
   "cell_type": "markdown",
   "id": "emerging-paraguay",
   "metadata": {},
   "source": [
    "\n",
    "# Train Val Test Split (0.6,0.2,0.2)\n",
    "\n",
    "## And save as csv (actually do we really need to)"
   ]
  },
  {
   "cell_type": "code",
   "execution_count": 3,
   "id": "southeast-operator",
   "metadata": {
    "scrolled": false
   },
   "outputs": [],
   "source": [
    "relevant=data[data[\"YEAR FORECAST MADE\"]>=1984].drop(columns = ['YEAR FORECAST MADE', 'QUARTER', 'YEAR BEING FORECAST',  'INDUSTRY', 'Year.ID.ForecastYear.Quarter',\n",
    "       'Indicator.Year.ID.ForecastYear.Quarter', 'BIN 1', 'BIN 2', 'BIN 3',\n",
    "       'BIN 4', 'BIN 5', 'BIN 6', 'BIN 7', 'BIN 8', 'BIN 9', 'BIN 10',\n",
    "       'BIN 11', 'BIN 12', 'BIN 13', 'BIN 14', 'BIN 15', 'BIN 1 prob',\n",
    "       'BIN 2 prob', 'BIN 3 prob', 'BIN 4 prob', 'BIN 5 prob', 'BIN 6 prob',\n",
    "       'BIN 7 prob', 'BIN 8 prob', 'BIN 9 prob', 'BIN 10 prob', 'BIN 11 prob',\n",
    "       'BIN 12 prob', 'BIN 13 prob', 'BIN 14 prob', 'BIN 15 prob',\n",
    "       'BIN 1 midpoint', 'BIN 2 midpoint', 'BIN 3 midpoint', 'BIN 4 midpoint',\n",
    "       'BIN 5 midpoint', 'BIN 6 midpoint', 'BIN 7 midpoint', 'BIN 8 midpoint',\n",
    "       'BIN 9 midpoint', 'BIN 10 midpoint', 'BIN 11 midpoint',\n",
    "       'BIN 12 midpoint', 'BIN 13 midpoint', 'BIN 14 midpoint',\n",
    "       'BIN 15 midpoint', 'nbin', 'bin_value_sum', 'TDIST',\n",
    "       'ACTUAL_BIN', 'NUM_OF_MAX',\"FORECASTER ID\"])\n",
    "relevant.dropna(inplace=True)"
   ]
  },
  {
   "cell_type": "code",
   "execution_count": 4,
   "id": "curious-trade",
   "metadata": {},
   "outputs": [],
   "source": [
    "train,test = train_test_split(relevant,test_size=.2,random_state=42,stratify=relevant[\"INDICATOR\"])"
   ]
  },
  {
   "cell_type": "code",
   "execution_count": 5,
   "id": "unusual-istanbul",
   "metadata": {},
   "outputs": [],
   "source": [
    "train,val = train_test_split(train,test_size=0.25, random_state=42,stratify = train[\"INDICATOR\"])"
   ]
  },
  {
   "cell_type": "code",
   "execution_count": 6,
   "id": "ideal-stewart",
   "metadata": {
    "scrolled": true
   },
   "outputs": [],
   "source": [
    "# train.to_csv(\"../data/TrainingData/shuffled_train.csv\",index=False)\n",
    "# test.to_csv(\"../data/TestData/shuffled_test.csv\",index=False)\n",
    "# val.to_csv(\"../data/ValidationData/val.csv\",index=False)"
   ]
  },
  {
   "cell_type": "markdown",
   "id": "checked-reaction",
   "metadata": {},
   "source": [
    "# Model Creation\n",
    "\n",
    "Current Regression Models: XGBoost and RandomForestRegressor\n",
    "Past Regression Models: LinearRegression, KNN,"
   ]
  },
  {
   "cell_type": "code",
   "execution_count": 7,
   "id": "isolated-parts",
   "metadata": {},
   "outputs": [],
   "source": [
    "def MeasureSplit(df,measure):\n",
    "    return df[df[\"INDICATOR\"]==measure].drop(columns = [\"actual\",\"INDICATOR\"]),df[df[\"INDICATOR\"]==measure][\"actual\"]"
   ]
  },
  {
   "cell_type": "code",
   "execution_count": 8,
   "id": "sunrise-baptist",
   "metadata": {},
   "outputs": [],
   "source": [
    "# def run_model(model,variable_name,plot=True,validation = True):\n",
    "    \n",
    "#     X_train,y_train = MeasureSplit(train,variable_name)\n",
    "#     X_val,y_val = MeasureSplit(val,variable_name)\n",
    "#     if validation:\n",
    "#         X_test,y_test = MeasureSplit(val,variable_name)\n",
    "#     else: \n",
    "#         X_test,y_test = MeasureSplit(test,variable_name)\n",
    "#     model.fit(X_train,y_train)\n",
    "#     predictions = model.predict(X_test)\n",
    "\n",
    "#     rmse = np.sqrt(np.mean((y_test-predictions)**2))\n",
    "#     r_squared = r2_score(y_test,predictions)\n",
    "#     return [rmse,r_squared]"
   ]
  },
  {
   "cell_type": "code",
   "execution_count": 52,
   "id": "noted-shelter",
   "metadata": {},
   "outputs": [],
   "source": [
    "class RegressionModel:\n",
    "    measures = [\"Unemployment\",\"RealGDP\",\"Core CPI\",\"Core PCE\"]\n",
    "    \n",
    "    def __init__(self,name,model):\n",
    "        self.name = name\n",
    "        self.model = model\n",
    "        self.rmse_scores = []\n",
    "        self.optimized_rmse_scores = []\n",
    "        self.optimized_r2_scores = []\n",
    "        self.r2_scores = []\n",
    "        self.validation = True\n",
    "        self.best_models = dict.fromkeys(self.measures,None)\n",
    "        self.optimized=False\n",
    "        self.store_scores()  \n",
    "    \n",
    "    def set_validation(setting):\n",
    "        self.validation=setting\n",
    "        \n",
    "    def clear_scores(self):\n",
    "        self.rmse_scores = []\n",
    "        self.r2_scores = []\n",
    "        \n",
    "    def store_scores(self):\n",
    "        if self.optimized==True:\n",
    "            rmse = self.optimized_rmse_scores\n",
    "            r2 = self.optimized_r2_scores\n",
    "        else:\n",
    "            rmse = self.rmse_scores\n",
    "            r2 = self.r2_scores\n",
    "        for measure in self.measures:\n",
    "            if self.validation:\n",
    "                X_test,y_test = MeasureSplit(val,measure)\n",
    "            else: \n",
    "                X_test,y_test = MeasureSplit(test,measure)\n",
    "            predictions = self.get_predictions(measure)\n",
    "            rmse.append(np.sqrt(np.mean((y_test-predictions)**2)))\n",
    "            r2.append(r2_score(y_test,predictions))\n",
    "        return \n",
    "    \n",
    "    def plot_scores(self):\n",
    "        fig,axes = plt.subplots(2,1,figsize=(10,20))\n",
    "        for i,score,s in zip([0,1],['RMSE Scores','R^2 Scores'],[self.rmse_scores,self.r2_scores]):\n",
    "            sns.barplot(x=self.measures,y=s,ax=axes[i])\n",
    "            axes[i].set_title(score)\n",
    "            axes[i].set_xlabel(\"Economic Measures\")\n",
    "            axes[i].set_ylabel(\"Score\")\n",
    "        return plt.show()\n",
    "    \n",
    "    def get_predictions(self,variable_name):\n",
    "        #calculates and stores scores\n",
    "        #returns predictions for specified measure\n",
    "        if self.optimized==True:\n",
    "            model = self.best_models[variable_name]\n",
    "        else:\n",
    "            model = self.model\n",
    "        X_train,y_train = MeasureSplit(train,variable_name)\n",
    "        if self.validation:\n",
    "            X_test,y_test = MeasureSplit(val,variable_name)\n",
    "        else: \n",
    "            X_test,y_test = MeasureSplit(test,variable_name)\n",
    "        model.fit(X_train,y_train)\n",
    "        return model.predict(X_test)\n",
    "    \n",
    "    def create_results(self):\n",
    "        data = {}\n",
    "        for measure in self.measures:\n",
    "            data[measure] = self.get_predictions(measure)\n",
    "        return pd.DataFrame(dict([ (self.name+\" \"+k,pd.Series(v)) for k,v in data.items()]))\n",
    "    \n",
    "    def perform_gridsearch(self,parameters):\n",
    "        \n",
    "        def find_optimal_model(variable_name):\n",
    "            X_train,y_train = MeasureSplit(train,variable_name)\n",
    "            gridsearch = GridSearchCV(estimator=self.model,param_grid = parameters,scoring='neg_root_mean_squared_error',n_jobs=5,cv=5,verbose=True)\n",
    "            gridsearch.fit(X_train,y_train)\n",
    "            return gridsearch.best_estimator_\n",
    "        \n",
    "        for measure in self.measures:    \n",
    "            self.best_models[measure]=find_optimal_model(measure)\n",
    "        self.optimized=True\n",
    "        return"
   ]
  },
  {
   "cell_type": "code",
   "execution_count": 53,
   "id": "metallic-marshall",
   "metadata": {},
   "outputs": [],
   "source": [
    "xgboost = RegressionModel(\"XGBoost\", XGBRegressor(verbosity=0))"
   ]
  },
  {
   "cell_type": "code",
   "execution_count": 54,
   "id": "unsigned-rhythm",
   "metadata": {},
   "outputs": [],
   "source": [
    "xgboost.best_models = {'Unemployment': XGBRegressor(base_score=0.5, booster='gbtree', colsample_bylevel=1,\n",
    "              colsample_bynode=1, colsample_bytree=1, gamma=0, gpu_id=-1,\n",
    "              importance_type='gain', interaction_constraints='',\n",
    "              learning_rate=0.1, max_delta_step=0, max_depth=6,\n",
    "              min_child_weight=1, missing=np.nan, monotone_constraints='()',\n",
    "              n_estimators=180, n_jobs=4, num_parallel_tree=1, random_state=0,\n",
    "              reg_alpha=0, reg_lambda=1, scale_pos_weight=1, subsample=1,\n",
    "              tree_method='exact', validate_parameters=1, verbosity=0),\n",
    " 'RealGDP': XGBRegressor(base_score=0.5, booster='gbtree', colsample_bylevel=1,\n",
    "              colsample_bynode=1, colsample_bytree=1, gamma=0, gpu_id=-1,\n",
    "              importance_type='gain', interaction_constraints='',\n",
    "              learning_rate=0.1, max_delta_step=0, max_depth=7,\n",
    "              min_child_weight=1, missing=np.nan, monotone_constraints='()',\n",
    "              n_estimators=180, n_jobs=4, num_parallel_tree=1, random_state=0,\n",
    "              reg_alpha=0, reg_lambda=1, scale_pos_weight=1, subsample=1,\n",
    "              tree_method='exact', validate_parameters=1, verbosity=0),\n",
    " 'Core CPI': XGBRegressor(base_score=0.5, booster='gbtree', colsample_bylevel=1,\n",
    "              colsample_bynode=1, colsample_bytree=1, gamma=0, gpu_id=-1,\n",
    "              importance_type='gain', interaction_constraints='',\n",
    "              learning_rate=0.1, max_delta_step=0, max_depth=7,\n",
    "              min_child_weight=1, missing=np.nan, monotone_constraints='()',\n",
    "              n_estimators=140, n_jobs=4, num_parallel_tree=1, random_state=0,\n",
    "              reg_alpha=0, reg_lambda=1, scale_pos_weight=1, subsample=1,\n",
    "              tree_method='exact', validate_parameters=1, verbosity=0),\n",
    " 'Core PCE': XGBRegressor(base_score=0.5, booster='gbtree', colsample_bylevel=1,\n",
    "              colsample_bynode=1, colsample_bytree=1, gamma=0, gpu_id=-1,\n",
    "              importance_type='gain', interaction_constraints='',\n",
    "              learning_rate=0.1, max_delta_step=0, max_depth=3,\n",
    "              min_child_weight=1, missing=np.nan, monotone_constraints='()',\n",
    "              n_estimators=180, n_jobs=4, num_parallel_tree=1, random_state=0,\n",
    "              reg_alpha=0, reg_lambda=1, scale_pos_weight=1, subsample=1,\n",
    "              tree_method='exact', validate_parameters=1, verbosity=0)}"
   ]
  },
  {
   "cell_type": "code",
   "execution_count": 12,
   "id": "graphic-fossil",
   "metadata": {},
   "outputs": [],
   "source": [
    "xgboost_parameters = {'max_depth':np.arange(2,10),'n_estimators': np.arange(60,200,40),\"learning_rate\":[0.01,0.05,0.1]}"
   ]
  },
  {
   "cell_type": "code",
   "execution_count": 13,
   "id": "located-vessel",
   "metadata": {},
   "outputs": [
    {
     "name": "stdout",
     "output_type": "stream",
     "text": [
      "Fitting 5 folds for each of 96 candidates, totalling 480 fits\n",
      "Fitting 5 folds for each of 96 candidates, totalling 480 fits\n",
      "Fitting 5 folds for each of 96 candidates, totalling 480 fits\n",
      "Fitting 5 folds for each of 96 candidates, totalling 480 fits\n"
     ]
    }
   ],
   "source": [
    "xgboost.perform_gridsearch(xgboost_parameters)"
   ]
  },
  {
   "cell_type": "code",
   "execution_count": 56,
   "id": "ready-karma",
   "metadata": {},
   "outputs": [],
   "source": [
    "xgboost.optimized=True\n",
    "xgboost.store_scores()"
   ]
  },
  {
   "cell_type": "code",
   "execution_count": 57,
   "id": "bridal-lewis",
   "metadata": {
    "scrolled": false
   },
   "outputs": [
    {
     "data": {
      "text/plain": [
       "[0.6871500325214561,\n",
       " 0.43316816574009354,\n",
       " 0.39824419749116546,\n",
       " 0.3210065767781438]"
      ]
     },
     "execution_count": 57,
     "metadata": {},
     "output_type": "execute_result"
    }
   ],
   "source": [
    "xgboost.rmse_scores"
   ]
  },
  {
   "cell_type": "code",
   "execution_count": 58,
   "id": "universal-campaign",
   "metadata": {},
   "outputs": [
    {
     "data": {
      "text/plain": [
       "[0.6742677863500751,\n",
       " 0.42378448833869503,\n",
       " 0.39885080082601687,\n",
       " 0.40314091915689343]"
      ]
     },
     "execution_count": 58,
     "metadata": {},
     "output_type": "execute_result"
    }
   ],
   "source": [
    "xgboost.optimized_rmse_scores"
   ]
  },
  {
   "cell_type": "code",
   "execution_count": 37,
   "id": "honey-animal",
   "metadata": {
    "scrolled": true
   },
   "outputs": [
    {
     "data": {
      "image/png": "[encoded data removed]",
      "text/plain": [
       "<Figure size 720x1440 with 2 Axes>"
      ]
     },
     "metadata": {
      "needs_background": "light"
     },
     "output_type": "display_data"
    }
   ],
   "source": [
    "xgboost.plot_scores()"
   ]
  },
  {
   "cell_type": "code",
   "execution_count": 65,
   "id": "protective-virtue",
   "metadata": {},
   "outputs": [
    {
     "data": {
      "text/plain": [
       "True"
      ]
     },
     "execution_count": 65,
     "metadata": {},
     "output_type": "execute_result"
    }
   ],
   "source": [
    "xgboost.optimized"
   ]
  },
  {
   "cell_type": "code",
   "execution_count": 66,
   "id": "israeli-material",
   "metadata": {
    "scrolled": true
   },
   "outputs": [],
   "source": [
    "xg_scores = xgboost.create_results()"
   ]
  },
  {
   "cell_type": "code",
   "execution_count": 59,
   "id": "intense-fancy",
   "metadata": {},
   "outputs": [],
   "source": [
    "RF = RegressionModel(\"Random Forest\" ,RandomForestRegressor())"
   ]
  },
  {
   "cell_type": "code",
   "execution_count": 45,
   "id": "consolidated-skill",
   "metadata": {},
   "outputs": [],
   "source": [
    "RF_params = {\"n_estimators\":np.arange(100,300,20)}"
   ]
  },
  {
   "cell_type": "code",
   "execution_count": 46,
   "id": "incorporated-office",
   "metadata": {
    "scrolled": true
   },
   "outputs": [
    {
     "name": "stdout",
     "output_type": "stream",
     "text": [
      "Fitting 5 folds for each of 10 candidates, totalling 50 fits\n",
      "Fitting 5 folds for each of 10 candidates, totalling 50 fits\n",
      "Fitting 5 folds for each of 10 candidates, totalling 50 fits\n",
      "Fitting 5 folds for each of 10 candidates, totalling 50 fits\n"
     ]
    }
   ],
   "source": [
    "RF.perform_gridsearch(RF_params)"
   ]
  },
  {
   "cell_type": "code",
   "execution_count": 60,
   "id": "allied-rider",
   "metadata": {},
   "outputs": [],
   "source": [
    "RF.best_models = {'Unemployment': RandomForestRegressor(n_estimators=180),\n",
    " 'RealGDP': RandomForestRegressor(n_estimators=160),\n",
    " 'Core CPI': RandomForestRegressor(),\n",
    " 'Core PCE': RandomForestRegressor(n_estimators=120)}"
   ]
  },
  {
   "cell_type": "code",
   "execution_count": 61,
   "id": "robust-helicopter",
   "metadata": {
    "scrolled": false
   },
   "outputs": [
    {
     "data": {
      "text/plain": [
       "{'Unemployment': RandomForestRegressor(n_estimators=180),\n",
       " 'RealGDP': RandomForestRegressor(n_estimators=160),\n",
       " 'Core CPI': RandomForestRegressor(),\n",
       " 'Core PCE': RandomForestRegressor(n_estimators=120)}"
      ]
     },
     "execution_count": 61,
     "metadata": {},
     "output_type": "execute_result"
    }
   ],
   "source": [
    "RF.best_models"
   ]
  },
  {
   "cell_type": "code",
   "execution_count": 62,
   "id": "greek-evening",
   "metadata": {},
   "outputs": [],
   "source": [
    "RF.optimized=True\n",
    "RF.store_scores()"
   ]
  },
  {
   "cell_type": "code",
   "execution_count": 63,
   "id": "nominated-american",
   "metadata": {},
   "outputs": [
    {
     "data": {
      "text/plain": [
       "[0.7065132210519138,\n",
       " 0.4157836682672575,\n",
       " 0.34028788176224795,\n",
       " 0.40485490317099837]"
      ]
     },
     "execution_count": 63,
     "metadata": {},
     "output_type": "execute_result"
    }
   ],
   "source": [
    "RF.rmse_scores"
   ]
  },
  {
   "cell_type": "code",
   "execution_count": 64,
   "id": "respective-survivor",
   "metadata": {},
   "outputs": [
    {
     "data": {
      "text/plain": [
       "[0.7094118600284802,\n",
       " 0.41713586057771124,\n",
       " 0.34741118690012224,\n",
       " 0.3952660596084598]"
      ]
     },
     "execution_count": 64,
     "metadata": {},
     "output_type": "execute_result"
    }
   ],
   "source": [
    "RF.optimized_rmse_scores"
   ]
  },
  {
   "cell_type": "code",
   "execution_count": 43,
   "id": "lonely-cemetery",
   "metadata": {
    "scrolled": true
   },
   "outputs": [
    {
     "data": {
      "image/png": "[encoded data removed]",
      "text/plain": [
       "<Figure size 720x1440 with 2 Axes>"
      ]
     },
     "metadata": {
      "needs_background": "light"
     },
     "output_type": "display_data"
    }
   ],
   "source": [
    "RF.plot_scores()"
   ]
  },
  {
   "cell_type": "code",
   "execution_count": null,
   "id": "hourly-charity",
   "metadata": {},
   "outputs": [],
   "source": [
    "RF.get_predictions(\"Unemployment\")"
   ]
  },
  {
   "cell_type": "code",
   "execution_count": 67,
   "id": "anticipated-calibration",
   "metadata": {},
   "outputs": [
    {
     "data": {
      "text/plain": [
       "True"
      ]
     },
     "execution_count": 67,
     "metadata": {},
     "output_type": "execute_result"
    }
   ],
   "source": [
    "RF.optimized"
   ]
  },
  {
   "cell_type": "code",
   "execution_count": 68,
   "id": "religious-vintage",
   "metadata": {},
   "outputs": [],
   "source": [
    "rf_scores = RF.create_results()"
   ]
  },
  {
   "cell_type": "code",
   "execution_count": null,
   "id": "automotive-poker",
   "metadata": {},
   "outputs": [],
   "source": [
    "lm  = RegressionModel(\"Linear Regression\", LinearRegression())"
   ]
  },
  {
   "cell_type": "code",
   "execution_count": null,
   "id": "sized-dispatch",
   "metadata": {},
   "outputs": [],
   "source": [
    "lm_scores = lm.create_results()"
   ]
  },
  {
   "cell_type": "code",
   "execution_count": null,
   "id": "coordinate-lighting",
   "metadata": {
    "scrolled": true
   },
   "outputs": [],
   "source": [
    "lm.plot_scores()"
   ]
  },
  {
   "cell_type": "code",
   "execution_count": null,
   "id": "hybrid-cookbook",
   "metadata": {},
   "outputs": [],
   "source": [
    "neighbors = RegressionModel(\"KNeigborsRegressor\",KNeighborsRegressor())"
   ]
  },
  {
   "cell_type": "code",
   "execution_count": null,
   "id": "swiss-scotland",
   "metadata": {},
   "outputs": [],
   "source": [
    "neighbors.plot_scores()"
   ]
  },
  {
   "cell_type": "code",
   "execution_count": null,
   "id": "arabic-motorcycle",
   "metadata": {},
   "outputs": [],
   "source": [
    "neighbor_scores = neighbors.create_results()"
   ]
  },
  {
   "cell_type": "code",
   "execution_count": 69,
   "id": "radio-renaissance",
   "metadata": {},
   "outputs": [],
   "source": [
    "model_predictions = pd.concat([xg_scores,rf_scores],axis=1)#,lm_scores,neighbor_scores],axis=1)"
   ]
  },
  {
   "cell_type": "code",
   "execution_count": 70,
   "id": "contained-arthritis",
   "metadata": {
    "scrolled": true
   },
   "outputs": [
    {
     "data": {
      "text/html": [
       "<div>\n",
       "<style scoped>\n",
       "    .dataframe tbody tr th:only-of-type {\n",
       "        vertical-align: middle;\n",
       "    }\n",
       "\n",
       "    .dataframe tbody tr th {\n",
       "        vertical-align: top;\n",
       "    }\n",
       "\n",
       "    .dataframe thead th {\n",
       "        text-align: right;\n",
       "    }\n",
       "</style>\n",
       "<table border=\"1\" class=\"dataframe\">\n",
       "  <thead>\n",
       "    <tr style=\"text-align: right;\">\n",
       "      <th></th>\n",
       "      <th>XGBoost Unemployment</th>\n",
       "      <th>XGBoost RealGDP</th>\n",
       "      <th>XGBoost Core CPI</th>\n",
       "      <th>XGBoost Core PCE</th>\n",
       "      <th>Random Forest Unemployment</th>\n",
       "      <th>Random Forest RealGDP</th>\n",
       "      <th>Random Forest Core CPI</th>\n",
       "      <th>Random Forest Core PCE</th>\n",
       "    </tr>\n",
       "  </thead>\n",
       "  <tbody>\n",
       "    <tr>\n",
       "      <th>0</th>\n",
       "      <td>0.024529</td>\n",
       "      <td>2.525367</td>\n",
       "      <td>2.284678</td>\n",
       "      <td>1.277267</td>\n",
       "      <td>0.000000</td>\n",
       "      <td>2.690666</td>\n",
       "      <td>2.275708</td>\n",
       "      <td>1.246261</td>\n",
       "    </tr>\n",
       "    <tr>\n",
       "      <th>1</th>\n",
       "      <td>3.809880</td>\n",
       "      <td>4.161139</td>\n",
       "      <td>2.084491</td>\n",
       "      <td>1.495712</td>\n",
       "      <td>3.874306</td>\n",
       "      <td>4.249021</td>\n",
       "      <td>2.174324</td>\n",
       "      <td>1.351786</td>\n",
       "    </tr>\n",
       "    <tr>\n",
       "      <th>2</th>\n",
       "      <td>3.915925</td>\n",
       "      <td>4.266360</td>\n",
       "      <td>2.059632</td>\n",
       "      <td>1.563071</td>\n",
       "      <td>3.712870</td>\n",
       "      <td>4.158768</td>\n",
       "      <td>1.961115</td>\n",
       "      <td>1.640270</td>\n",
       "    </tr>\n",
       "    <tr>\n",
       "      <th>3</th>\n",
       "      <td>8.112351</td>\n",
       "      <td>0.977842</td>\n",
       "      <td>2.211206</td>\n",
       "      <td>1.715864</td>\n",
       "      <td>8.108333</td>\n",
       "      <td>0.355206</td>\n",
       "      <td>2.221205</td>\n",
       "      <td>1.722364</td>\n",
       "    </tr>\n",
       "    <tr>\n",
       "      <th>4</th>\n",
       "      <td>4.358871</td>\n",
       "      <td>4.604209</td>\n",
       "      <td>2.228309</td>\n",
       "      <td>1.908844</td>\n",
       "      <td>4.350000</td>\n",
       "      <td>4.530313</td>\n",
       "      <td>2.218232</td>\n",
       "      <td>1.703876</td>\n",
       "    </tr>\n",
       "    <tr>\n",
       "      <th>...</th>\n",
       "      <td>...</td>\n",
       "      <td>...</td>\n",
       "      <td>...</td>\n",
       "      <td>...</td>\n",
       "      <td>...</td>\n",
       "      <td>...</td>\n",
       "      <td>...</td>\n",
       "      <td>...</td>\n",
       "    </tr>\n",
       "    <tr>\n",
       "      <th>2665</th>\n",
       "      <td>NaN</td>\n",
       "      <td>2.695229</td>\n",
       "      <td>NaN</td>\n",
       "      <td>NaN</td>\n",
       "      <td>NaN</td>\n",
       "      <td>2.913138</td>\n",
       "      <td>NaN</td>\n",
       "      <td>NaN</td>\n",
       "    </tr>\n",
       "    <tr>\n",
       "      <th>2666</th>\n",
       "      <td>NaN</td>\n",
       "      <td>2.509414</td>\n",
       "      <td>NaN</td>\n",
       "      <td>NaN</td>\n",
       "      <td>NaN</td>\n",
       "      <td>2.639555</td>\n",
       "      <td>NaN</td>\n",
       "      <td>NaN</td>\n",
       "    </tr>\n",
       "    <tr>\n",
       "      <th>2667</th>\n",
       "      <td>NaN</td>\n",
       "      <td>4.217857</td>\n",
       "      <td>NaN</td>\n",
       "      <td>NaN</td>\n",
       "      <td>NaN</td>\n",
       "      <td>4.127480</td>\n",
       "      <td>NaN</td>\n",
       "      <td>NaN</td>\n",
       "    </tr>\n",
       "    <tr>\n",
       "      <th>2668</th>\n",
       "      <td>NaN</td>\n",
       "      <td>2.411485</td>\n",
       "      <td>NaN</td>\n",
       "      <td>NaN</td>\n",
       "      <td>NaN</td>\n",
       "      <td>2.402891</td>\n",
       "      <td>NaN</td>\n",
       "      <td>NaN</td>\n",
       "    </tr>\n",
       "    <tr>\n",
       "      <th>2669</th>\n",
       "      <td>NaN</td>\n",
       "      <td>4.221494</td>\n",
       "      <td>NaN</td>\n",
       "      <td>NaN</td>\n",
       "      <td>NaN</td>\n",
       "      <td>4.211068</td>\n",
       "      <td>NaN</td>\n",
       "      <td>NaN</td>\n",
       "    </tr>\n",
       "  </tbody>\n",
       "</table>\n",
       "<p>2670 rows × 8 columns</p>\n",
       "</div>"
      ],
      "text/plain": [
       "      XGBoost Unemployment  XGBoost RealGDP  XGBoost Core CPI  \\\n",
       "0                 0.024529         2.525367          2.284678   \n",
       "1                 3.809880         4.161139          2.084491   \n",
       "2                 3.915925         4.266360          2.059632   \n",
       "3                 8.112351         0.977842          2.211206   \n",
       "4                 4.358871         4.604209          2.228309   \n",
       "...                    ...              ...               ...   \n",
       "2665                   NaN         2.695229               NaN   \n",
       "2666                   NaN         2.509414               NaN   \n",
       "2667                   NaN         4.217857               NaN   \n",
       "2668                   NaN         2.411485               NaN   \n",
       "2669                   NaN         4.221494               NaN   \n",
       "\n",
       "      XGBoost Core PCE  Random Forest Unemployment  Random Forest RealGDP  \\\n",
       "0             1.277267                    0.000000               2.690666   \n",
       "1             1.495712                    3.874306               4.249021   \n",
       "2             1.563071                    3.712870               4.158768   \n",
       "3             1.715864                    8.108333               0.355206   \n",
       "4             1.908844                    4.350000               4.530313   \n",
       "...                ...                         ...                    ...   \n",
       "2665               NaN                         NaN               2.913138   \n",
       "2666               NaN                         NaN               2.639555   \n",
       "2667               NaN                         NaN               4.127480   \n",
       "2668               NaN                         NaN               2.402891   \n",
       "2669               NaN                         NaN               4.211068   \n",
       "\n",
       "      Random Forest Core CPI  Random Forest Core PCE  \n",
       "0                   2.275708                1.246261  \n",
       "1                   2.174324                1.351786  \n",
       "2                   1.961115                1.640270  \n",
       "3                   2.221205                1.722364  \n",
       "4                   2.218232                1.703876  \n",
       "...                      ...                     ...  \n",
       "2665                     NaN                     NaN  \n",
       "2666                     NaN                     NaN  \n",
       "2667                     NaN                     NaN  \n",
       "2668                     NaN                     NaN  \n",
       "2669                     NaN                     NaN  \n",
       "\n",
       "[2670 rows x 8 columns]"
      ]
     },
     "execution_count": 70,
     "metadata": {},
     "output_type": "execute_result"
    }
   ],
   "source": [
    "model_predictions"
   ]
  },
  {
   "cell_type": "code",
   "execution_count": 71,
   "id": "surface-senator",
   "metadata": {},
   "outputs": [
    {
     "name": "stderr",
     "output_type": "stream",
     "text": [
      "C:\\Users\\Bear\\anaconda3\\lib\\site-packages\\pandas\\core\\frame.py:4438: SettingWithCopyWarning: \n",
      "A value is trying to be set on a copy of a slice from a DataFrame\n",
      "\n",
      "See the caveats in the documentation: https://pandas.pydata.org/pandas-docs/stable/user_guide/indexing.html#returning-a-view-versus-a-copy\n",
      "  return super().rename(\n"
     ]
    }
   ],
   "source": [
    "t = val.loc[:,[\"INDICATOR\",\"actual\"]]\n",
    "initial = pd.DataFrame([])\n",
    "for measure in xgboost.measures:\n",
    "    temp = t[t[\"INDICATOR\"]==measure]\n",
    "    temp.rename(columns={\"actual\":measure + \" actual\",\"INDICATOR\":measure},inplace=True)\n",
    "    temp.reset_index(inplace=True)\n",
    "    initial = pd.concat([initial,temp],axis=1)\n",
    "initial.drop(columns = ['index'],inplace=True)\n"
   ]
  },
  {
   "cell_type": "code",
   "execution_count": 72,
   "id": "under-airfare",
   "metadata": {
    "scrolled": true
   },
   "outputs": [],
   "source": [
    "final = pd.concat([initial,model_predictions],axis=1)"
   ]
  },
  {
   "cell_type": "code",
   "execution_count": 73,
   "id": "classified-pricing",
   "metadata": {},
   "outputs": [
    {
     "data": {
      "text/html": [
       "<div>\n",
       "<style scoped>\n",
       "    .dataframe tbody tr th:only-of-type {\n",
       "        vertical-align: middle;\n",
       "    }\n",
       "\n",
       "    .dataframe tbody tr th {\n",
       "        vertical-align: top;\n",
       "    }\n",
       "\n",
       "    .dataframe thead th {\n",
       "        text-align: right;\n",
       "    }\n",
       "</style>\n",
       "<table border=\"1\" class=\"dataframe\">\n",
       "  <thead>\n",
       "    <tr style=\"text-align: right;\">\n",
       "      <th></th>\n",
       "      <th>Unemployment</th>\n",
       "      <th>Unemployment actual</th>\n",
       "      <th>RealGDP</th>\n",
       "      <th>RealGDP actual</th>\n",
       "      <th>Core CPI</th>\n",
       "      <th>Core CPI actual</th>\n",
       "      <th>Core PCE</th>\n",
       "      <th>Core PCE actual</th>\n",
       "      <th>XGBoost Unemployment</th>\n",
       "      <th>XGBoost RealGDP</th>\n",
       "      <th>XGBoost Core CPI</th>\n",
       "      <th>XGBoost Core PCE</th>\n",
       "      <th>Random Forest Unemployment</th>\n",
       "      <th>Random Forest RealGDP</th>\n",
       "      <th>Random Forest Core CPI</th>\n",
       "      <th>Random Forest Core PCE</th>\n",
       "    </tr>\n",
       "  </thead>\n",
       "  <tbody>\n",
       "    <tr>\n",
       "      <th>0</th>\n",
       "      <td>Unemployment</td>\n",
       "      <td>0.000000</td>\n",
       "      <td>RealGDP</td>\n",
       "      <td>2.99646</td>\n",
       "      <td>Core CPI</td>\n",
       "      <td>2.290573</td>\n",
       "      <td>Core PCE</td>\n",
       "      <td>1.184167</td>\n",
       "      <td>0.024529</td>\n",
       "      <td>2.525367</td>\n",
       "      <td>2.284678</td>\n",
       "      <td>1.277267</td>\n",
       "      <td>0.000000</td>\n",
       "      <td>2.690666</td>\n",
       "      <td>2.275708</td>\n",
       "      <td>1.246261</td>\n",
       "    </tr>\n",
       "    <tr>\n",
       "      <th>1</th>\n",
       "      <td>Unemployment</td>\n",
       "      <td>3.891667</td>\n",
       "      <td>RealGDP</td>\n",
       "      <td>4.44722</td>\n",
       "      <td>Core CPI</td>\n",
       "      <td>2.174324</td>\n",
       "      <td>Core PCE</td>\n",
       "      <td>1.184167</td>\n",
       "      <td>3.809880</td>\n",
       "      <td>4.161139</td>\n",
       "      <td>2.084491</td>\n",
       "      <td>1.495712</td>\n",
       "      <td>3.874306</td>\n",
       "      <td>4.249021</td>\n",
       "      <td>2.174324</td>\n",
       "      <td>1.351786</td>\n",
       "    </tr>\n",
       "    <tr>\n",
       "      <th>2</th>\n",
       "      <td>Unemployment</td>\n",
       "      <td>3.683333</td>\n",
       "      <td>RealGDP</td>\n",
       "      <td>4.75324</td>\n",
       "      <td>Core CPI</td>\n",
       "      <td>2.174324</td>\n",
       "      <td>Core PCE</td>\n",
       "      <td>1.647664</td>\n",
       "      <td>3.915925</td>\n",
       "      <td>4.266360</td>\n",
       "      <td>2.059632</td>\n",
       "      <td>1.563071</td>\n",
       "      <td>3.712870</td>\n",
       "      <td>4.158768</td>\n",
       "      <td>1.961115</td>\n",
       "      <td>1.640270</td>\n",
       "    </tr>\n",
       "    <tr>\n",
       "      <th>3</th>\n",
       "      <td>Unemployment</td>\n",
       "      <td>8.108333</td>\n",
       "      <td>RealGDP</td>\n",
       "      <td>2.99646</td>\n",
       "      <td>Core CPI</td>\n",
       "      <td>2.290573</td>\n",
       "      <td>Core PCE</td>\n",
       "      <td>1.664742</td>\n",
       "      <td>8.112351</td>\n",
       "      <td>0.977842</td>\n",
       "      <td>2.211206</td>\n",
       "      <td>1.715864</td>\n",
       "      <td>8.108333</td>\n",
       "      <td>0.355206</td>\n",
       "      <td>2.221205</td>\n",
       "      <td>1.722364</td>\n",
       "    </tr>\n",
       "    <tr>\n",
       "      <th>4</th>\n",
       "      <td>Unemployment</td>\n",
       "      <td>4.350000</td>\n",
       "      <td>RealGDP</td>\n",
       "      <td>4.75324</td>\n",
       "      <td>Core CPI</td>\n",
       "      <td>2.290573</td>\n",
       "      <td>Core PCE</td>\n",
       "      <td>1.559324</td>\n",
       "      <td>4.358871</td>\n",
       "      <td>4.604209</td>\n",
       "      <td>2.228309</td>\n",
       "      <td>1.908844</td>\n",
       "      <td>4.350000</td>\n",
       "      <td>4.530313</td>\n",
       "      <td>2.218232</td>\n",
       "      <td>1.703876</td>\n",
       "    </tr>\n",
       "    <tr>\n",
       "      <th>...</th>\n",
       "      <td>...</td>\n",
       "      <td>...</td>\n",
       "      <td>...</td>\n",
       "      <td>...</td>\n",
       "      <td>...</td>\n",
       "      <td>...</td>\n",
       "      <td>...</td>\n",
       "      <td>...</td>\n",
       "      <td>...</td>\n",
       "      <td>...</td>\n",
       "      <td>...</td>\n",
       "      <td>...</td>\n",
       "      <td>...</td>\n",
       "      <td>...</td>\n",
       "      <td>...</td>\n",
       "      <td>...</td>\n",
       "    </tr>\n",
       "    <tr>\n",
       "      <th>2665</th>\n",
       "      <td>NaN</td>\n",
       "      <td>NaN</td>\n",
       "      <td>RealGDP</td>\n",
       "      <td>2.68428</td>\n",
       "      <td>NaN</td>\n",
       "      <td>NaN</td>\n",
       "      <td>NaN</td>\n",
       "      <td>NaN</td>\n",
       "      <td>NaN</td>\n",
       "      <td>2.695229</td>\n",
       "      <td>NaN</td>\n",
       "      <td>NaN</td>\n",
       "      <td>NaN</td>\n",
       "      <td>2.913138</td>\n",
       "      <td>NaN</td>\n",
       "      <td>NaN</td>\n",
       "    </tr>\n",
       "    <tr>\n",
       "      <th>2666</th>\n",
       "      <td>NaN</td>\n",
       "      <td>NaN</td>\n",
       "      <td>RealGDP</td>\n",
       "      <td>3.07551</td>\n",
       "      <td>NaN</td>\n",
       "      <td>NaN</td>\n",
       "      <td>NaN</td>\n",
       "      <td>NaN</td>\n",
       "      <td>NaN</td>\n",
       "      <td>2.509414</td>\n",
       "      <td>NaN</td>\n",
       "      <td>NaN</td>\n",
       "      <td>NaN</td>\n",
       "      <td>2.639555</td>\n",
       "      <td>NaN</td>\n",
       "      <td>NaN</td>\n",
       "    </tr>\n",
       "    <tr>\n",
       "      <th>2667</th>\n",
       "      <td>NaN</td>\n",
       "      <td>NaN</td>\n",
       "      <td>RealGDP</td>\n",
       "      <td>4.12748</td>\n",
       "      <td>NaN</td>\n",
       "      <td>NaN</td>\n",
       "      <td>NaN</td>\n",
       "      <td>NaN</td>\n",
       "      <td>NaN</td>\n",
       "      <td>4.217857</td>\n",
       "      <td>NaN</td>\n",
       "      <td>NaN</td>\n",
       "      <td>NaN</td>\n",
       "      <td>4.127480</td>\n",
       "      <td>NaN</td>\n",
       "      <td>NaN</td>\n",
       "    </tr>\n",
       "    <tr>\n",
       "      <th>2668</th>\n",
       "      <td>NaN</td>\n",
       "      <td>NaN</td>\n",
       "      <td>RealGDP</td>\n",
       "      <td>2.56377</td>\n",
       "      <td>NaN</td>\n",
       "      <td>NaN</td>\n",
       "      <td>NaN</td>\n",
       "      <td>NaN</td>\n",
       "      <td>NaN</td>\n",
       "      <td>2.411485</td>\n",
       "      <td>NaN</td>\n",
       "      <td>NaN</td>\n",
       "      <td>NaN</td>\n",
       "      <td>2.402891</td>\n",
       "      <td>NaN</td>\n",
       "      <td>NaN</td>\n",
       "    </tr>\n",
       "    <tr>\n",
       "      <th>2669</th>\n",
       "      <td>NaN</td>\n",
       "      <td>NaN</td>\n",
       "      <td>RealGDP</td>\n",
       "      <td>4.44722</td>\n",
       "      <td>NaN</td>\n",
       "      <td>NaN</td>\n",
       "      <td>NaN</td>\n",
       "      <td>NaN</td>\n",
       "      <td>NaN</td>\n",
       "      <td>4.221494</td>\n",
       "      <td>NaN</td>\n",
       "      <td>NaN</td>\n",
       "      <td>NaN</td>\n",
       "      <td>4.211068</td>\n",
       "      <td>NaN</td>\n",
       "      <td>NaN</td>\n",
       "    </tr>\n",
       "  </tbody>\n",
       "</table>\n",
       "<p>2670 rows × 16 columns</p>\n",
       "</div>"
      ],
      "text/plain": [
       "      Unemployment  Unemployment actual  RealGDP  RealGDP actual  Core CPI  \\\n",
       "0     Unemployment             0.000000  RealGDP         2.99646  Core CPI   \n",
       "1     Unemployment             3.891667  RealGDP         4.44722  Core CPI   \n",
       "2     Unemployment             3.683333  RealGDP         4.75324  Core CPI   \n",
       "3     Unemployment             8.108333  RealGDP         2.99646  Core CPI   \n",
       "4     Unemployment             4.350000  RealGDP         4.75324  Core CPI   \n",
       "...            ...                  ...      ...             ...       ...   \n",
       "2665           NaN                  NaN  RealGDP         2.68428       NaN   \n",
       "2666           NaN                  NaN  RealGDP         3.07551       NaN   \n",
       "2667           NaN                  NaN  RealGDP         4.12748       NaN   \n",
       "2668           NaN                  NaN  RealGDP         2.56377       NaN   \n",
       "2669           NaN                  NaN  RealGDP         4.44722       NaN   \n",
       "\n",
       "      Core CPI actual  Core PCE  Core PCE actual  XGBoost Unemployment  \\\n",
       "0            2.290573  Core PCE         1.184167              0.024529   \n",
       "1            2.174324  Core PCE         1.184167              3.809880   \n",
       "2            2.174324  Core PCE         1.647664              3.915925   \n",
       "3            2.290573  Core PCE         1.664742              8.112351   \n",
       "4            2.290573  Core PCE         1.559324              4.358871   \n",
       "...               ...       ...              ...                   ...   \n",
       "2665              NaN       NaN              NaN                   NaN   \n",
       "2666              NaN       NaN              NaN                   NaN   \n",
       "2667              NaN       NaN              NaN                   NaN   \n",
       "2668              NaN       NaN              NaN                   NaN   \n",
       "2669              NaN       NaN              NaN                   NaN   \n",
       "\n",
       "      XGBoost RealGDP  XGBoost Core CPI  XGBoost Core PCE  \\\n",
       "0            2.525367          2.284678          1.277267   \n",
       "1            4.161139          2.084491          1.495712   \n",
       "2            4.266360          2.059632          1.563071   \n",
       "3            0.977842          2.211206          1.715864   \n",
       "4            4.604209          2.228309          1.908844   \n",
       "...               ...               ...               ...   \n",
       "2665         2.695229               NaN               NaN   \n",
       "2666         2.509414               NaN               NaN   \n",
       "2667         4.217857               NaN               NaN   \n",
       "2668         2.411485               NaN               NaN   \n",
       "2669         4.221494               NaN               NaN   \n",
       "\n",
       "      Random Forest Unemployment  Random Forest RealGDP  \\\n",
       "0                       0.000000               2.690666   \n",
       "1                       3.874306               4.249021   \n",
       "2                       3.712870               4.158768   \n",
       "3                       8.108333               0.355206   \n",
       "4                       4.350000               4.530313   \n",
       "...                          ...                    ...   \n",
       "2665                         NaN               2.913138   \n",
       "2666                         NaN               2.639555   \n",
       "2667                         NaN               4.127480   \n",
       "2668                         NaN               2.402891   \n",
       "2669                         NaN               4.211068   \n",
       "\n",
       "      Random Forest Core CPI  Random Forest Core PCE  \n",
       "0                   2.275708                1.246261  \n",
       "1                   2.174324                1.351786  \n",
       "2                   1.961115                1.640270  \n",
       "3                   2.221205                1.722364  \n",
       "4                   2.218232                1.703876  \n",
       "...                      ...                     ...  \n",
       "2665                     NaN                     NaN  \n",
       "2666                     NaN                     NaN  \n",
       "2667                     NaN                     NaN  \n",
       "2668                     NaN                     NaN  \n",
       "2669                     NaN                     NaN  \n",
       "\n",
       "[2670 rows x 16 columns]"
      ]
     },
     "execution_count": 73,
     "metadata": {},
     "output_type": "execute_result"
    }
   ],
   "source": [
    "final"
   ]
  },
  {
   "cell_type": "code",
   "execution_count": 74,
   "id": "passive-lebanon",
   "metadata": {},
   "outputs": [],
   "source": [
    "final.to_csv(\"../models/results_post_gridsearch.csv\",index=False)"
   ]
  },
  {
   "cell_type": "code",
   "execution_count": null,
   "id": "signed-excellence",
   "metadata": {},
   "outputs": [],
   "source": []
  }
 ],
 "metadata": {
  "kernelspec": {
   "display_name": "Python 3",
   "language": "python",
   "name": "python3"
  },
  "language_info": {
   "codemirror_mode": {
    "name": "ipython",
    "version": 3
   },
   "file_extension": ".py",
   "mimetype": "text/x-python",
   "name": "python",
   "nbconvert_exporter": "python",
   "pygments_lexer": "ipython3",
   "version": "3.8.6"
  }
 },
 "nbformat": 4,
 "nbformat_minor": 5
}
