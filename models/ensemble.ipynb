{
 "cells": [
  {
   "cell_type": "code",
   "execution_count": 32,
   "metadata": {
    "id": "odkz6q4ACC0p"
   },
   "outputs": [],
   "source": [
    "import pandas as pd\n",
    "import numpy as np\n",
    "from sklearn.linear_model import LinearRegression\n",
    "from sklearn.metrics import mean_squared_error\n",
    "from sklearn.model_selection import cross_val_score\n",
    "from sklearn.model_selection import KFold\n",
    "from sklearn.preprocessing import StandardScaler\n",
    "from sklearn.pipeline import Pipeline\n",
    "from pandas.core.common import flatten"
   ]
  },
  {
   "cell_type": "code",
   "execution_count": 4,
   "metadata": {
    "id": "hHjAp6xpCJBJ"
   },
   "outputs": [],
   "source": [
    "df = pd.read_csv(\"../data/CleanData/Ensemble_inputs.csv\")"
   ]
  },
  {
   "cell_type": "code",
   "execution_count": 158,
   "metadata": {
    "id": "_DiR9UjrhSTn"
   },
   "outputs": [],
   "source": [
    "dft = pd.read_csv(\"../data/TestData/Ensemble_inputs_test.csv\")"
   ]
  },
  {
   "cell_type": "code",
   "execution_count": 159,
   "metadata": {
    "colab": {
     "base_uri": "https://localhost:8080/",
     "height": 582
    },
    "id": "6zZ2hoDAikOZ",
    "outputId": "62551779-15ef-4705-f9d2-774efb76d813"
   },
   "outputs": [],
   "source": [
    "dfp = pd.read_csv(\"../data/PredictionData/Ensemble_inputs_predict.csv\")"
   ]
  },
  {
   "cell_type": "code",
   "execution_count": 160,
   "metadata": {
    "colab": {
     "base_uri": "https://localhost:8080/",
     "height": 582
    },
    "id": "WCrp3-5oCs9i",
    "outputId": "089fca54-35e5-42ff-e6c8-f98f7cec97a0"
   },
   "outputs": [
    {
     "data": {
      "text/html": [
       "<div>\n",
       "<style scoped>\n",
       "    .dataframe tbody tr th:only-of-type {\n",
       "        vertical-align: middle;\n",
       "    }\n",
       "\n",
       "    .dataframe tbody tr th {\n",
       "        vertical-align: top;\n",
       "    }\n",
       "\n",
       "    .dataframe thead th {\n",
       "        text-align: right;\n",
       "    }\n",
       "</style>\n",
       "<table border=\"1\" class=\"dataframe\">\n",
       "  <thead>\n",
       "    <tr style=\"text-align: right;\">\n",
       "      <th></th>\n",
       "      <th>Unemployment</th>\n",
       "      <th>Unemployment actual</th>\n",
       "      <th>RealGDP</th>\n",
       "      <th>RealGDP actual</th>\n",
       "      <th>Core CPI</th>\n",
       "      <th>Core CPI actual</th>\n",
       "      <th>Core PCE</th>\n",
       "      <th>Core PCE actual</th>\n",
       "      <th>XGBoost Unemployment</th>\n",
       "      <th>XGBoost RealGDP</th>\n",
       "      <th>XGBoost Core CPI</th>\n",
       "      <th>XGBoost Core PCE</th>\n",
       "      <th>RandomForest Unemployment</th>\n",
       "      <th>RandomForest RealGDP</th>\n",
       "      <th>RandomForest Core CPI</th>\n",
       "      <th>RandomForest Core PCE</th>\n",
       "    </tr>\n",
       "  </thead>\n",
       "  <tbody>\n",
       "    <tr>\n",
       "      <th>0</th>\n",
       "      <td>Unemployment</td>\n",
       "      <td>8.108333</td>\n",
       "      <td>RealGDP</td>\n",
       "      <td>1.84187</td>\n",
       "      <td>Core CPI</td>\n",
       "      <td>2.182359</td>\n",
       "      <td>Core PCE</td>\n",
       "      <td>1.807526</td>\n",
       "      <td>6.441676</td>\n",
       "      <td>1.900410</td>\n",
       "      <td>2.035018</td>\n",
       "      <td>1.860834</td>\n",
       "      <td>6.987024</td>\n",
       "      <td>1.866981</td>\n",
       "      <td>2.129060</td>\n",
       "      <td>1.888836</td>\n",
       "    </tr>\n",
       "    <tr>\n",
       "      <th>1</th>\n",
       "      <td>Unemployment</td>\n",
       "      <td>3.891667</td>\n",
       "      <td>RealGDP</td>\n",
       "      <td>2.25568</td>\n",
       "      <td>Core CPI</td>\n",
       "      <td>1.750223</td>\n",
       "      <td>Core PCE</td>\n",
       "      <td>1.925557</td>\n",
       "      <td>4.550749</td>\n",
       "      <td>2.282169</td>\n",
       "      <td>1.843338</td>\n",
       "      <td>1.765594</td>\n",
       "      <td>4.419464</td>\n",
       "      <td>2.234235</td>\n",
       "      <td>1.908327</td>\n",
       "      <td>1.858181</td>\n",
       "    </tr>\n",
       "    <tr>\n",
       "      <th>2</th>\n",
       "      <td>Unemployment</td>\n",
       "      <td>6.158333</td>\n",
       "      <td>RealGDP</td>\n",
       "      <td>2.28887</td>\n",
       "      <td>Core CPI</td>\n",
       "      <td>1.727100</td>\n",
       "      <td>Core PCE</td>\n",
       "      <td>1.529039</td>\n",
       "      <td>5.555898</td>\n",
       "      <td>0.044246</td>\n",
       "      <td>1.798239</td>\n",
       "      <td>1.284611</td>\n",
       "      <td>5.617917</td>\n",
       "      <td>0.150907</td>\n",
       "      <td>1.723542</td>\n",
       "      <td>1.402793</td>\n",
       "    </tr>\n",
       "    <tr>\n",
       "      <th>3</th>\n",
       "      <td>Unemployment</td>\n",
       "      <td>3.683333</td>\n",
       "      <td>RealGDP</td>\n",
       "      <td>3.77257</td>\n",
       "      <td>Core CPI</td>\n",
       "      <td>1.723147</td>\n",
       "      <td>Core PCE</td>\n",
       "      <td>1.382284</td>\n",
       "      <td>4.832536</td>\n",
       "      <td>4.163749</td>\n",
       "      <td>1.851205</td>\n",
       "      <td>1.433132</td>\n",
       "      <td>5.542827</td>\n",
       "      <td>3.938920</td>\n",
       "      <td>1.789840</td>\n",
       "      <td>1.366142</td>\n",
       "    </tr>\n",
       "    <tr>\n",
       "      <th>4</th>\n",
       "      <td>Unemployment</td>\n",
       "      <td>8.108333</td>\n",
       "      <td>RealGDP</td>\n",
       "      <td>2.70637</td>\n",
       "      <td>Core CPI</td>\n",
       "      <td>2.191476</td>\n",
       "      <td>Core PCE</td>\n",
       "      <td>1.664742</td>\n",
       "      <td>4.796389</td>\n",
       "      <td>2.204120</td>\n",
       "      <td>2.175217</td>\n",
       "      <td>1.728797</td>\n",
       "      <td>4.699725</td>\n",
       "      <td>2.290540</td>\n",
       "      <td>2.219719</td>\n",
       "      <td>1.685786</td>\n",
       "    </tr>\n",
       "  </tbody>\n",
       "</table>\n",
       "</div>"
      ],
      "text/plain": [
       "   Unemployment  Unemployment actual  RealGDP  RealGDP actual  Core CPI  \\\n",
       "0  Unemployment             8.108333  RealGDP         1.84187  Core CPI   \n",
       "1  Unemployment             3.891667  RealGDP         2.25568  Core CPI   \n",
       "2  Unemployment             6.158333  RealGDP         2.28887  Core CPI   \n",
       "3  Unemployment             3.683333  RealGDP         3.77257  Core CPI   \n",
       "4  Unemployment             8.108333  RealGDP         2.70637  Core CPI   \n",
       "\n",
       "   Core CPI actual  Core PCE  Core PCE actual  XGBoost Unemployment  \\\n",
       "0         2.182359  Core PCE         1.807526              6.441676   \n",
       "1         1.750223  Core PCE         1.925557              4.550749   \n",
       "2         1.727100  Core PCE         1.529039              5.555898   \n",
       "3         1.723147  Core PCE         1.382284              4.832536   \n",
       "4         2.191476  Core PCE         1.664742              4.796389   \n",
       "\n",
       "   XGBoost RealGDP  XGBoost Core CPI  XGBoost Core PCE  \\\n",
       "0         1.900410          2.035018          1.860834   \n",
       "1         2.282169          1.843338          1.765594   \n",
       "2         0.044246          1.798239          1.284611   \n",
       "3         4.163749          1.851205          1.433132   \n",
       "4         2.204120          2.175217          1.728797   \n",
       "\n",
       "   RandomForest Unemployment  RandomForest RealGDP  RandomForest Core CPI  \\\n",
       "0                   6.987024              1.866981               2.129060   \n",
       "1                   4.419464              2.234235               1.908327   \n",
       "2                   5.617917              0.150907               1.723542   \n",
       "3                   5.542827              3.938920               1.789840   \n",
       "4                   4.699725              2.290540               2.219719   \n",
       "\n",
       "   RandomForest Core PCE  \n",
       "0               1.888836  \n",
       "1               1.858181  \n",
       "2               1.402793  \n",
       "3               1.366142  \n",
       "4               1.685786  "
      ]
     },
     "execution_count": 160,
     "metadata": {},
     "output_type": "execute_result"
    }
   ],
   "source": [
    "dft.head()"
   ]
  },
  {
   "cell_type": "code",
   "execution_count": 161,
   "metadata": {},
   "outputs": [
    {
     "data": {
      "text/html": [
       "<div>\n",
       "<style scoped>\n",
       "    .dataframe tbody tr th:only-of-type {\n",
       "        vertical-align: middle;\n",
       "    }\n",
       "\n",
       "    .dataframe tbody tr th {\n",
       "        vertical-align: top;\n",
       "    }\n",
       "\n",
       "    .dataframe thead th {\n",
       "        text-align: right;\n",
       "    }\n",
       "</style>\n",
       "<table border=\"1\" class=\"dataframe\">\n",
       "  <thead>\n",
       "    <tr style=\"text-align: right;\">\n",
       "      <th></th>\n",
       "      <th>Unemployment</th>\n",
       "      <th>Unemployment actual</th>\n",
       "      <th>RealGDP</th>\n",
       "      <th>RealGDP actual</th>\n",
       "      <th>Core CPI</th>\n",
       "      <th>Core CPI actual</th>\n",
       "      <th>Core PCE</th>\n",
       "      <th>Core PCE actual</th>\n",
       "      <th>XGBoost Unemployment</th>\n",
       "      <th>XGBoost RealGDP</th>\n",
       "      <th>XGBoost Core CPI</th>\n",
       "      <th>XGBoost Core PCE</th>\n",
       "      <th>RandomForest Unemployment</th>\n",
       "      <th>RandomForest RealGDP</th>\n",
       "      <th>RandomForest Core CPI</th>\n",
       "      <th>RandomForest Core PCE</th>\n",
       "    </tr>\n",
       "  </thead>\n",
       "  <tbody>\n",
       "    <tr>\n",
       "      <th>0</th>\n",
       "      <td>Unemployment</td>\n",
       "      <td>Unknown</td>\n",
       "      <td>RealGDP</td>\n",
       "      <td>Unknown</td>\n",
       "      <td>Core CPI</td>\n",
       "      <td>Unknown</td>\n",
       "      <td>Core PCE</td>\n",
       "      <td>Unknown</td>\n",
       "      <td>7.393668</td>\n",
       "      <td>-0.705191</td>\n",
       "      <td>1.713325</td>\n",
       "      <td>1.378743</td>\n",
       "      <td>7.335446</td>\n",
       "      <td>-0.109095</td>\n",
       "      <td>1.766475</td>\n",
       "      <td>1.376086</td>\n",
       "    </tr>\n",
       "    <tr>\n",
       "      <th>1</th>\n",
       "      <td>Unemployment</td>\n",
       "      <td>Unknown</td>\n",
       "      <td>RealGDP</td>\n",
       "      <td>Unknown</td>\n",
       "      <td>Core CPI</td>\n",
       "      <td>Unknown</td>\n",
       "      <td>Core PCE</td>\n",
       "      <td>Unknown</td>\n",
       "      <td>7.910341</td>\n",
       "      <td>-1.261568</td>\n",
       "      <td>1.739907</td>\n",
       "      <td>1.388766</td>\n",
       "      <td>7.871280</td>\n",
       "      <td>-2.209049</td>\n",
       "      <td>1.800801</td>\n",
       "      <td>1.403231</td>\n",
       "    </tr>\n",
       "    <tr>\n",
       "      <th>2</th>\n",
       "      <td>Unemployment</td>\n",
       "      <td>Unknown</td>\n",
       "      <td>RealGDP</td>\n",
       "      <td>Unknown</td>\n",
       "      <td>Core CPI</td>\n",
       "      <td>Unknown</td>\n",
       "      <td>Core PCE</td>\n",
       "      <td>Unknown</td>\n",
       "      <td>7.739791</td>\n",
       "      <td>-0.793215</td>\n",
       "      <td>1.737717</td>\n",
       "      <td>1.378743</td>\n",
       "      <td>7.665833</td>\n",
       "      <td>0.196510</td>\n",
       "      <td>1.769844</td>\n",
       "      <td>1.395988</td>\n",
       "    </tr>\n",
       "    <tr>\n",
       "      <th>3</th>\n",
       "      <td>Unemployment</td>\n",
       "      <td>Unknown</td>\n",
       "      <td>RealGDP</td>\n",
       "      <td>Unknown</td>\n",
       "      <td>Core CPI</td>\n",
       "      <td>Unknown</td>\n",
       "      <td>Core PCE</td>\n",
       "      <td>Unknown</td>\n",
       "      <td>6.362326</td>\n",
       "      <td>-0.388852</td>\n",
       "      <td>1.740747</td>\n",
       "      <td>1.373877</td>\n",
       "      <td>7.729048</td>\n",
       "      <td>-0.044055</td>\n",
       "      <td>1.796687</td>\n",
       "      <td>1.357659</td>\n",
       "    </tr>\n",
       "    <tr>\n",
       "      <th>4</th>\n",
       "      <td>Unemployment</td>\n",
       "      <td>Unknown</td>\n",
       "      <td>RealGDP</td>\n",
       "      <td>Unknown</td>\n",
       "      <td>Core CPI</td>\n",
       "      <td>Unknown</td>\n",
       "      <td>Core PCE</td>\n",
       "      <td>Unknown</td>\n",
       "      <td>7.531527</td>\n",
       "      <td>-0.857580</td>\n",
       "      <td>1.720671</td>\n",
       "      <td>1.378743</td>\n",
       "      <td>6.600268</td>\n",
       "      <td>-0.286090</td>\n",
       "      <td>1.730217</td>\n",
       "      <td>1.415595</td>\n",
       "    </tr>\n",
       "  </tbody>\n",
       "</table>\n",
       "</div>"
      ],
      "text/plain": [
       "   Unemployment Unemployment actual  RealGDP RealGDP actual  Core CPI  \\\n",
       "0  Unemployment             Unknown  RealGDP        Unknown  Core CPI   \n",
       "1  Unemployment             Unknown  RealGDP        Unknown  Core CPI   \n",
       "2  Unemployment             Unknown  RealGDP        Unknown  Core CPI   \n",
       "3  Unemployment             Unknown  RealGDP        Unknown  Core CPI   \n",
       "4  Unemployment             Unknown  RealGDP        Unknown  Core CPI   \n",
       "\n",
       "  Core CPI actual  Core PCE Core PCE actual  XGBoost Unemployment  \\\n",
       "0         Unknown  Core PCE         Unknown              7.393668   \n",
       "1         Unknown  Core PCE         Unknown              7.910341   \n",
       "2         Unknown  Core PCE         Unknown              7.739791   \n",
       "3         Unknown  Core PCE         Unknown              6.362326   \n",
       "4         Unknown  Core PCE         Unknown              7.531527   \n",
       "\n",
       "   XGBoost RealGDP  XGBoost Core CPI  XGBoost Core PCE  \\\n",
       "0        -0.705191          1.713325          1.378743   \n",
       "1        -1.261568          1.739907          1.388766   \n",
       "2        -0.793215          1.737717          1.378743   \n",
       "3        -0.388852          1.740747          1.373877   \n",
       "4        -0.857580          1.720671          1.378743   \n",
       "\n",
       "   RandomForest Unemployment  RandomForest RealGDP  RandomForest Core CPI  \\\n",
       "0                   7.335446             -0.109095               1.766475   \n",
       "1                   7.871280             -2.209049               1.800801   \n",
       "2                   7.665833              0.196510               1.769844   \n",
       "3                   7.729048             -0.044055               1.796687   \n",
       "4                   6.600268             -0.286090               1.730217   \n",
       "\n",
       "   RandomForest Core PCE  \n",
       "0               1.376086  \n",
       "1               1.403231  \n",
       "2               1.395988  \n",
       "3               1.357659  \n",
       "4               1.415595  "
      ]
     },
     "execution_count": 161,
     "metadata": {},
     "output_type": "execute_result"
    }
   ],
   "source": [
    "dfp.head()"
   ]
  },
  {
   "cell_type": "markdown",
   "metadata": {},
   "source": [
    "# Data Prep Work"
   ]
  },
  {
   "cell_type": "code",
   "execution_count": 162,
   "metadata": {
    "id": "JrynsjqXC_mG"
   },
   "outputs": [],
   "source": [
    "uX = df[[\"XGBoost Unemployment\", \"RandomForest Unemployment\"]]#, \"Linear Regression Unemployment\", \"KNeigborsRegressor Unemployment\"]]\n",
    "uY = df[[\"Unemployment actual\"]]\n",
    "\n",
    "uX = uX.dropna()\n",
    "uY = uY.dropna()"
   ]
  },
  {
   "cell_type": "code",
   "execution_count": 163,
   "metadata": {
    "id": "h01F04ryDXO6"
   },
   "outputs": [],
   "source": [
    "gX = df[[\"XGBoost RealGDP\", \"RandomForest RealGDP\"]]#, \"Linear Regression RealGDP\", \"KNeigborsRegressor RealGDP\"]]\n",
    "gY = df[[\"RealGDP actual\"]]"
   ]
  },
  {
   "cell_type": "code",
   "execution_count": 164,
   "metadata": {
    "id": "r9aE-DSaEEG0"
   },
   "outputs": [],
   "source": [
    "cX = df[[\"XGBoost Core CPI\", \"RandomForest Core CPI\"]]#, \"Linear Regression Core CPI\", \"KNeigborsRegressor Core CPI\"]]\n",
    "cY = df[[\"Core CPI actual\"]]\n",
    "\n",
    "cX = cX.dropna()\n",
    "cY = cY.dropna()"
   ]
  },
  {
   "cell_type": "code",
   "execution_count": 165,
   "metadata": {
    "id": "_yslW5RuEPCA"
   },
   "outputs": [],
   "source": [
    "pX = df[[\"XGBoost Core PCE\", \"RandomForest Core PCE\"]]#, \"Linear Regression Core PCE\", \"KNeigborsRegressor Core PCE\"]]\n",
    "pY = df[[\"Core PCE actual\"]]\n",
    "\n",
    "pX = pX.dropna()\n",
    "pY = pY.dropna()"
   ]
  },
  {
   "cell_type": "markdown",
   "metadata": {
    "colab": {
     "base_uri": "https://localhost:8080/"
    },
    "id": "mDNW9dmMIajt",
    "outputId": "a7198e8c-f1fe-40eb-f66f-df9a7bdcf043"
   },
   "source": [
    "# Train the Ensemble Weights"
   ]
  },
  {
   "cell_type": "code",
   "execution_count": 166,
   "metadata": {
    "colab": {
     "base_uri": "https://localhost:8080/"
    },
    "id": "DLQToPGyOH__",
    "outputId": "019e16ba-a2dd-4c25-fafb-eda6b1d2f7ea"
   },
   "outputs": [
    {
     "name": "stdout",
     "output_type": "stream",
     "text": [
      "0.7255517468974357\n"
     ]
    },
    {
     "data": {
      "text/plain": [
       "0.9605828153882446"
      ]
     },
     "execution_count": 166,
     "metadata": {},
     "output_type": "execute_result"
    }
   ],
   "source": [
    "reg = LinearRegression().fit(gX, gY)\n",
    "print(reg.score(gX, gY))\n",
    "\n",
    "pred = reg.predict(gX)\n",
    "actual = gY\n",
    "\n",
    "np.sqrt(mean_squared_error(pred, actual))"
   ]
  },
  {
   "cell_type": "code",
   "execution_count": 167,
   "metadata": {
    "colab": {
     "base_uri": "https://localhost:8080/"
    },
    "id": "Xs1pYPmPomqN",
    "outputId": "00a067f0-d1c3-45f9-c46f-52d0b7f22e6f"
   },
   "outputs": [
    {
     "data": {
      "text/plain": [
       "array([[0.7513008 , 0.23820811]])"
      ]
     },
     "execution_count": 167,
     "metadata": {},
     "output_type": "execute_result"
    }
   ],
   "source": [
    "reg.coef_"
   ]
  },
  {
   "cell_type": "code",
   "execution_count": 168,
   "metadata": {},
   "outputs": [
    {
     "name": "stdout",
     "output_type": "stream",
     "text": [
      "0.7166459190386019\n"
     ]
    },
    {
     "data": {
      "text/plain": [
       "0.9463284892883185"
      ]
     },
     "execution_count": 168,
     "metadata": {},
     "output_type": "execute_result"
    }
   ],
   "source": [
    "gX = dft[[\"XGBoost RealGDP\", \"RandomForest RealGDP\"]]#, \"Linear Regression Unemployment\", \"KNeigborsRegressor Unemployment\"]]\n",
    "gY = dft[[\"RealGDP actual\"]]\n",
    "\n",
    "gX = gX.dropna()\n",
    "gY = gY.dropna()\n",
    "\n",
    "print(reg.score(gX, gY))\n",
    "\n",
    "testpred = reg.predict(gX)\n",
    "actual = gY\n",
    "\n",
    "np.sqrt(mean_squared_error(testpred, actual))"
   ]
  },
  {
   "cell_type": "code",
   "execution_count": 169,
   "metadata": {},
   "outputs": [],
   "source": [
    "gX = dfp[[\"XGBoost RealGDP\", \"RandomForest RealGDP\"]]#, \"Linear Regression Unemployment\", \"KNeigborsRegressor Unemployment\"]]\n",
    "\n",
    "gX = gX.dropna()\n",
    "\n",
    "testpredg = reg.predict(gX)"
   ]
  },
  {
   "cell_type": "code",
   "execution_count": 170,
   "metadata": {
    "colab": {
     "base_uri": "https://localhost:8080/"
    },
    "id": "Xm5bee0vNFIg",
    "outputId": "c302e755-8804-4c76-afb2-a7fee85df242"
   },
   "outputs": [
    {
     "name": "stdout",
     "output_type": "stream",
     "text": [
      "0.7925541511778704\n"
     ]
    },
    {
     "data": {
      "text/plain": [
       "0.8812050404877251"
      ]
     },
     "execution_count": 170,
     "metadata": {},
     "output_type": "execute_result"
    }
   ],
   "source": [
    "reg = LinearRegression().fit(uX, uY)\n",
    "print(reg.score(uX, uY))\n",
    "\n",
    "pred = reg.predict(uX)\n",
    "actual = uY\n",
    "\n",
    "np.sqrt(mean_squared_error(pred, actual))"
   ]
  },
  {
   "cell_type": "code",
   "execution_count": 171,
   "metadata": {
    "colab": {
     "base_uri": "https://localhost:8080/"
    },
    "id": "AoP0UCs0ok8d",
    "outputId": "76e12ddd-93a4-44ec-bd5b-204fa4824495"
   },
   "outputs": [
    {
     "data": {
      "text/plain": [
       "array([[0.89907881, 0.1030051 ]])"
      ]
     },
     "execution_count": 171,
     "metadata": {},
     "output_type": "execute_result"
    }
   ],
   "source": [
    "reg.coef_"
   ]
  },
  {
   "cell_type": "code",
   "execution_count": 172,
   "metadata": {},
   "outputs": [
    {
     "name": "stdout",
     "output_type": "stream",
     "text": [
      "0.7724688587635861\n"
     ]
    },
    {
     "data": {
      "text/plain": [
       "0.9139474764257247"
      ]
     },
     "execution_count": 172,
     "metadata": {},
     "output_type": "execute_result"
    }
   ],
   "source": [
    "uX = dft[[\"XGBoost Unemployment\", \"RandomForest Unemployment\"]]#, \"Linear Regression Unemployment\", \"KNeigborsRegressor Unemployment\"]]\n",
    "uY = dft[[\"Unemployment actual\"]]\n",
    "\n",
    "uX = uX.dropna()\n",
    "uY = uY.dropna()\n",
    "\n",
    "print(reg.score(uX, uY))\n",
    "\n",
    "testpred = reg.predict(uX)\n",
    "actual = uY\n",
    "\n",
    "np.sqrt(mean_squared_error(testpred, actual))"
   ]
  },
  {
   "cell_type": "code",
   "execution_count": 173,
   "metadata": {},
   "outputs": [],
   "source": [
    "uX = dfp[[\"XGBoost Unemployment\", \"RandomForest Unemployment\"]]#, \"Linear Regression Unemployment\", \"KNeigborsRegressor Unemployment\"]]\n",
    "\n",
    "uX = uX.dropna()\n",
    "\n",
    "testpredu = reg.predict(uX)"
   ]
  },
  {
   "cell_type": "code",
   "execution_count": 174,
   "metadata": {
    "colab": {
     "base_uri": "https://localhost:8080/"
    },
    "id": "nUoIvhdhJCpv",
    "outputId": "bee4cb95-8809-4eb2-bd49-f46804352c06"
   },
   "outputs": [
    {
     "name": "stdout",
     "output_type": "stream",
     "text": [
      "0.47296388930613054\n"
     ]
    },
    {
     "data": {
      "text/plain": [
       "0.2943635989333608"
      ]
     },
     "execution_count": 174,
     "metadata": {},
     "output_type": "execute_result"
    }
   ],
   "source": [
    "reg = LinearRegression().fit(cX, cY)\n",
    "print(reg.score(cX, cY))\n",
    "\n",
    "pred = reg.predict(cX)\n",
    "actual = cY\n",
    "\n",
    "np.sqrt(mean_squared_error(pred, actual))"
   ]
  },
  {
   "cell_type": "code",
   "execution_count": 175,
   "metadata": {
    "colab": {
     "base_uri": "https://localhost:8080/"
    },
    "id": "Vy2ZEpqsojkA",
    "outputId": "1203b8f4-a6bb-4735-dd49-4152e2103ef1"
   },
   "outputs": [
    {
     "data": {
      "text/plain": [
       "array([[0.93280043, 0.14751195]])"
      ]
     },
     "execution_count": 175,
     "metadata": {},
     "output_type": "execute_result"
    }
   ],
   "source": [
    "reg.coef_"
   ]
  },
  {
   "cell_type": "code",
   "execution_count": 176,
   "metadata": {},
   "outputs": [
    {
     "name": "stdout",
     "output_type": "stream",
     "text": [
      "0.45839613833950144\n"
     ]
    },
    {
     "data": {
      "text/plain": [
       "0.30252214686701157"
      ]
     },
     "execution_count": 176,
     "metadata": {},
     "output_type": "execute_result"
    }
   ],
   "source": [
    "cX = dft[[\"XGBoost Core CPI\", \"RandomForest Core CPI\"]]#, \"Linear Regression Unemployment\", \"KNeigborsRegressor Unemployment\"]]\n",
    "cY = dft[[\"Core CPI actual\"]]\n",
    "\n",
    "cX = cX.dropna()\n",
    "cY = cY.dropna()\n",
    "\n",
    "print(reg.score(cX, cY))\n",
    "\n",
    "testpred = reg.predict(cX)\n",
    "actual = cY\n",
    "\n",
    "np.sqrt(mean_squared_error(testpred, actual))"
   ]
  },
  {
   "cell_type": "code",
   "execution_count": 177,
   "metadata": {},
   "outputs": [],
   "source": [
    "cX = dfp[[\"XGBoost Core CPI\", \"RandomForest Core CPI\"]]#, \"Linear Regression Unemployment\", \"KNeigborsRegressor Unemployment\"]]\n",
    "\n",
    "cX = cX.dropna()\n",
    "\n",
    "testpredc = reg.predict(cX)"
   ]
  },
  {
   "cell_type": "code",
   "execution_count": 178,
   "metadata": {
    "colab": {
     "base_uri": "https://localhost:8080/"
    },
    "id": "rPjmaFawNJWE",
    "outputId": "f3a6adf8-0b3e-48fb-90c9-30956e8c1af9"
   },
   "outputs": [
    {
     "name": "stdout",
     "output_type": "stream",
     "text": [
      "0.5146228020778377\n"
     ]
    },
    {
     "data": {
      "text/plain": [
       "0.21094134019330718"
      ]
     },
     "execution_count": 178,
     "metadata": {},
     "output_type": "execute_result"
    }
   ],
   "source": [
    "reg = LinearRegression().fit(pX, pY)\n",
    "print(reg.score(pX, pY))\n",
    "\n",
    "pred = reg.predict(pX)\n",
    "actual = pY\n",
    "\n",
    "np.sqrt(mean_squared_error(pred, actual))"
   ]
  },
  {
   "cell_type": "code",
   "execution_count": 179,
   "metadata": {
    "colab": {
     "base_uri": "https://localhost:8080/"
    },
    "id": "6YqvHpJRNN0o",
    "outputId": "653ebef9-3871-47d2-98da-38fa9d33d59f"
   },
   "outputs": [
    {
     "data": {
      "text/plain": [
       "array([[1.05239414, 0.01996658]])"
      ]
     },
     "execution_count": 179,
     "metadata": {},
     "output_type": "execute_result"
    }
   ],
   "source": [
    "reg.coef_"
   ]
  },
  {
   "cell_type": "code",
   "execution_count": 180,
   "metadata": {},
   "outputs": [
    {
     "name": "stdout",
     "output_type": "stream",
     "text": [
      "0.4645981357349809\n"
     ]
    },
    {
     "data": {
      "text/plain": [
       "0.22088178791279664"
      ]
     },
     "execution_count": 180,
     "metadata": {},
     "output_type": "execute_result"
    }
   ],
   "source": [
    "pX = dft[[\"XGBoost Core PCE\", \"RandomForest Core PCE\"]]#, \"Linear Regression Unemployment\", \"KNeigborsRegressor Unemployment\"]]\n",
    "pY = dft[[\"Core PCE actual\"]]\n",
    "\n",
    "pX = pX.dropna()\n",
    "pY = pY.dropna()\n",
    "\n",
    "print(reg.score(pX, pY))\n",
    "\n",
    "testpred = reg.predict(pX)\n",
    "actual = pY\n",
    "\n",
    "np.sqrt(mean_squared_error(testpred, actual))"
   ]
  },
  {
   "cell_type": "code",
   "execution_count": 181,
   "metadata": {},
   "outputs": [],
   "source": [
    "pX = dfp[[\"XGBoost Core PCE\", \"RandomForest Core PCE\"]]#, \"Linear Regression Unemployment\", \"KNeigborsRegressor Unemployment\"]]\n",
    "\n",
    "pX = pX.dropna()\n",
    "\n",
    "testpredp = reg.predict(pX)"
   ]
  },
  {
   "cell_type": "markdown",
   "metadata": {},
   "source": [
    "# Do the Aggregate Predictions"
   ]
  },
  {
   "cell_type": "code",
   "execution_count": 183,
   "metadata": {
    "id": "F3aO_OmMoiI8"
   },
   "outputs": [],
   "source": [
    "# Get predictions set\n",
    "dftt = pd.read_csv(\"../data/PredictionData/predict_set.csv\")\n",
    "dftt = dftt.drop(\"actual\", axis=1)\n",
    "#dftt.groupby(\"FORECASTER ID\")\n",
    "#len(dftt[dftt[\"INDICATOR\"] == \"RealGDP\"].drop(\"actual\", axis=1).dropna())\n",
    "#dftt[\"INDICATOR\"].unique()\n",
    "dgdp = dftt[dftt[\"INDICATOR\"] == \"RealGDP\"]\n",
    "dgdp = dgdp.dropna()\n",
    "\n",
    "dune = dftt[dftt[\"INDICATOR\"] == \"Unemployment\"]\n",
    "dune = dune.dropna()\n",
    "\n",
    "dpce = dftt[dftt[\"INDICATOR\"] == \"Core PCE\"]\n",
    "dpce = dpce.dropna()\n",
    "\n",
    "dcpi = dftt[dftt[\"INDICATOR\"] == \"Core CPI\"]\n",
    "dcpi = dcpi.dropna()"
   ]
  },
  {
   "cell_type": "code",
   "execution_count": 184,
   "metadata": {},
   "outputs": [
    {
     "data": {
      "text/html": [
       "<div>\n",
       "<style scoped>\n",
       "    .dataframe tbody tr th:only-of-type {\n",
       "        vertical-align: middle;\n",
       "    }\n",
       "\n",
       "    .dataframe tbody tr th {\n",
       "        vertical-align: top;\n",
       "    }\n",
       "\n",
       "    .dataframe thead th {\n",
       "        text-align: right;\n",
       "    }\n",
       "</style>\n",
       "<table border=\"1\" class=\"dataframe\">\n",
       "  <thead>\n",
       "    <tr style=\"text-align: right;\">\n",
       "      <th></th>\n",
       "      <th>YEAR FORECAST MADE</th>\n",
       "      <th>YEAR BEING FORECAST</th>\n",
       "      <th>FORECASTER_CONF</th>\n",
       "      <th>INDICATOR</th>\n",
       "      <th>pred_average</th>\n",
       "      <th>pred_var</th>\n",
       "      <th>banana</th>\n",
       "      <th>beef</th>\n",
       "      <th>bread</th>\n",
       "      <th>chicken</th>\n",
       "      <th>eggs</th>\n",
       "      <th>electricity</th>\n",
       "      <th>flour</th>\n",
       "      <th>iceCream</th>\n",
       "      <th>unleadedGasoline</th>\n",
       "      <th>Preds</th>\n",
       "    </tr>\n",
       "  </thead>\n",
       "  <tbody>\n",
       "    <tr>\n",
       "      <th>1</th>\n",
       "      <td>2019</td>\n",
       "      <td>2022</td>\n",
       "      <td>0.288582</td>\n",
       "      <td>RealGDP</td>\n",
       "      <td>1.80</td>\n",
       "      <td>1.0100</td>\n",
       "      <td>0.576</td>\n",
       "      <td>3.761333</td>\n",
       "      <td>1.272333</td>\n",
       "      <td>1.475667</td>\n",
       "      <td>1.551667</td>\n",
       "      <td>0.135333</td>\n",
       "      <td>0.442333</td>\n",
       "      <td>4.894667</td>\n",
       "      <td>2.402</td>\n",
       "      <td>-0.546182</td>\n",
       "    </tr>\n",
       "    <tr>\n",
       "      <th>6</th>\n",
       "      <td>2019</td>\n",
       "      <td>2022</td>\n",
       "      <td>0.335406</td>\n",
       "      <td>RealGDP</td>\n",
       "      <td>1.19</td>\n",
       "      <td>0.9139</td>\n",
       "      <td>0.576</td>\n",
       "      <td>3.761333</td>\n",
       "      <td>1.272333</td>\n",
       "      <td>1.475667</td>\n",
       "      <td>1.551667</td>\n",
       "      <td>0.135333</td>\n",
       "      <td>0.442333</td>\n",
       "      <td>4.894667</td>\n",
       "      <td>2.402</td>\n",
       "      <td>-1.464415</td>\n",
       "    </tr>\n",
       "    <tr>\n",
       "      <th>7</th>\n",
       "      <td>2019</td>\n",
       "      <td>2022</td>\n",
       "      <td>0.306127</td>\n",
       "      <td>RealGDP</td>\n",
       "      <td>1.84</td>\n",
       "      <td>0.9044</td>\n",
       "      <td>0.576</td>\n",
       "      <td>3.761333</td>\n",
       "      <td>1.272333</td>\n",
       "      <td>1.475667</td>\n",
       "      <td>1.551667</td>\n",
       "      <td>0.135333</td>\n",
       "      <td>0.442333</td>\n",
       "      <td>4.894667</td>\n",
       "      <td>2.402</td>\n",
       "      <td>-0.539517</td>\n",
       "    </tr>\n",
       "    <tr>\n",
       "      <th>9</th>\n",
       "      <td>2019</td>\n",
       "      <td>2022</td>\n",
       "      <td>0.256955</td>\n",
       "      <td>RealGDP</td>\n",
       "      <td>2.24</td>\n",
       "      <td>1.6524</td>\n",
       "      <td>0.576</td>\n",
       "      <td>3.761333</td>\n",
       "      <td>1.272333</td>\n",
       "      <td>1.475667</td>\n",
       "      <td>1.551667</td>\n",
       "      <td>0.135333</td>\n",
       "      <td>0.442333</td>\n",
       "      <td>4.894667</td>\n",
       "      <td>2.402</td>\n",
       "      <td>-0.293024</td>\n",
       "    </tr>\n",
       "    <tr>\n",
       "      <th>10</th>\n",
       "      <td>2019</td>\n",
       "      <td>2022</td>\n",
       "      <td>0.256112</td>\n",
       "      <td>RealGDP</td>\n",
       "      <td>2.32</td>\n",
       "      <td>1.7476</td>\n",
       "      <td>0.576</td>\n",
       "      <td>3.761333</td>\n",
       "      <td>1.272333</td>\n",
       "      <td>1.475667</td>\n",
       "      <td>1.551667</td>\n",
       "      <td>0.135333</td>\n",
       "      <td>0.442333</td>\n",
       "      <td>4.894667</td>\n",
       "      <td>2.402</td>\n",
       "      <td>-0.702834</td>\n",
       "    </tr>\n",
       "  </tbody>\n",
       "</table>\n",
       "</div>"
      ],
      "text/plain": [
       "    YEAR FORECAST MADE  YEAR BEING FORECAST  FORECASTER_CONF INDICATOR  \\\n",
       "1                 2019                 2022         0.288582   RealGDP   \n",
       "6                 2019                 2022         0.335406   RealGDP   \n",
       "7                 2019                 2022         0.306127   RealGDP   \n",
       "9                 2019                 2022         0.256955   RealGDP   \n",
       "10                2019                 2022         0.256112   RealGDP   \n",
       "\n",
       "    pred_average  pred_var  banana      beef     bread   chicken      eggs  \\\n",
       "1           1.80    1.0100   0.576  3.761333  1.272333  1.475667  1.551667   \n",
       "6           1.19    0.9139   0.576  3.761333  1.272333  1.475667  1.551667   \n",
       "7           1.84    0.9044   0.576  3.761333  1.272333  1.475667  1.551667   \n",
       "9           2.24    1.6524   0.576  3.761333  1.272333  1.475667  1.551667   \n",
       "10          2.32    1.7476   0.576  3.761333  1.272333  1.475667  1.551667   \n",
       "\n",
       "    electricity     flour  iceCream  unleadedGasoline     Preds  \n",
       "1      0.135333  0.442333  4.894667             2.402 -0.546182  \n",
       "6      0.135333  0.442333  4.894667             2.402 -1.464415  \n",
       "7      0.135333  0.442333  4.894667             2.402 -0.539517  \n",
       "9      0.135333  0.442333  4.894667             2.402 -0.293024  \n",
       "10     0.135333  0.442333  4.894667             2.402 -0.702834  "
      ]
     },
     "execution_count": 184,
     "metadata": {},
     "output_type": "execute_result"
    }
   ],
   "source": [
    "# Create Prediction Columns\n",
    "dgdp[\"Preds\"] = list(flatten(testpredg))\n",
    "dune[\"Preds\"] = list(flatten(testpredu))\n",
    "dpce[\"Preds\"] = list(flatten(testpredp))\n",
    "dcpi[\"Preds\"] = list(flatten(testpredc))\n",
    "\n",
    "# Merge into prediction dataframe\n",
    "dat = pd.concat([dgdp, dune, dpce, dcpi])\n",
    "dat.head()"
   ]
  },
  {
   "cell_type": "code",
   "execution_count": 185,
   "metadata": {},
   "outputs": [
    {
     "data": {
      "text/html": [
       "<div>\n",
       "<style scoped>\n",
       "    .dataframe tbody tr th:only-of-type {\n",
       "        vertical-align: middle;\n",
       "    }\n",
       "\n",
       "    .dataframe tbody tr th {\n",
       "        vertical-align: top;\n",
       "    }\n",
       "\n",
       "    .dataframe thead th {\n",
       "        text-align: right;\n",
       "    }\n",
       "</style>\n",
       "<table border=\"1\" class=\"dataframe\">\n",
       "  <thead>\n",
       "    <tr style=\"text-align: right;\">\n",
       "      <th></th>\n",
       "      <th>RealGDP Prediction</th>\n",
       "    </tr>\n",
       "    <tr>\n",
       "      <th>Year</th>\n",
       "      <th></th>\n",
       "    </tr>\n",
       "  </thead>\n",
       "  <tbody>\n",
       "    <tr>\n",
       "      <th>2022</th>\n",
       "      <td>-0.579815</td>\n",
       "    </tr>\n",
       "    <tr>\n",
       "      <th>2023</th>\n",
       "      <td>-0.654251</td>\n",
       "    </tr>\n",
       "    <tr>\n",
       "      <th>2024</th>\n",
       "      <td>-0.761541</td>\n",
       "    </tr>\n",
       "  </tbody>\n",
       "</table>\n",
       "</div>"
      ],
      "text/plain": [
       "      RealGDP Prediction\n",
       "Year                    \n",
       "2022           -0.579815\n",
       "2023           -0.654251\n",
       "2024           -0.761541"
      ]
     },
     "execution_count": 185,
     "metadata": {},
     "output_type": "execute_result"
    }
   ],
   "source": [
    "frame = pd.DataFrame({ \"RealGDP Prediction\": dat[dat[\"INDICATOR\"]==\"RealGDP\"][\"Preds\"], \"Year\": dat[dat[\"INDICATOR\"]==\"RealGDP\"][\"YEAR BEING FORECAST\"]})\n",
    "groupedgdp = frame.groupby(\"Year\").mean()\n",
    "groupedgdp"
   ]
  },
  {
   "cell_type": "code",
   "execution_count": 186,
   "metadata": {},
   "outputs": [
    {
     "data": {
      "text/html": [
       "<div>\n",
       "<style scoped>\n",
       "    .dataframe tbody tr th:only-of-type {\n",
       "        vertical-align: middle;\n",
       "    }\n",
       "\n",
       "    .dataframe tbody tr th {\n",
       "        vertical-align: top;\n",
       "    }\n",
       "\n",
       "    .dataframe thead th {\n",
       "        text-align: right;\n",
       "    }\n",
       "</style>\n",
       "<table border=\"1\" class=\"dataframe\">\n",
       "  <thead>\n",
       "    <tr style=\"text-align: right;\">\n",
       "      <th></th>\n",
       "      <th>Unemployment Prediction</th>\n",
       "    </tr>\n",
       "    <tr>\n",
       "      <th>Year</th>\n",
       "      <th></th>\n",
       "    </tr>\n",
       "  </thead>\n",
       "  <tbody>\n",
       "    <tr>\n",
       "      <th>2022</th>\n",
       "      <td>7.129896</td>\n",
       "    </tr>\n",
       "    <tr>\n",
       "      <th>2023</th>\n",
       "      <td>6.973807</td>\n",
       "    </tr>\n",
       "    <tr>\n",
       "      <th>2024</th>\n",
       "      <td>7.014714</td>\n",
       "    </tr>\n",
       "  </tbody>\n",
       "</table>\n",
       "</div>"
      ],
      "text/plain": [
       "      Unemployment Prediction\n",
       "Year                         \n",
       "2022                 7.129896\n",
       "2023                 6.973807\n",
       "2024                 7.014714"
      ]
     },
     "execution_count": 186,
     "metadata": {},
     "output_type": "execute_result"
    }
   ],
   "source": [
    "frame = pd.DataFrame({ \"Unemployment Prediction\": dat[dat[\"INDICATOR\"]==\"Unemployment\"][\"Preds\"], \"Year\": dat[dat[\"INDICATOR\"]==\"Unemployment\"][\"YEAR BEING FORECAST\"]})\n",
    "groupedune = frame.groupby(\"Year\").mean()\n",
    "groupedune"
   ]
  },
  {
   "cell_type": "code",
   "execution_count": 187,
   "metadata": {},
   "outputs": [
    {
     "data": {
      "text/html": [
       "<div>\n",
       "<style scoped>\n",
       "    .dataframe tbody tr th:only-of-type {\n",
       "        vertical-align: middle;\n",
       "    }\n",
       "\n",
       "    .dataframe tbody tr th {\n",
       "        vertical-align: top;\n",
       "    }\n",
       "\n",
       "    .dataframe thead th {\n",
       "        text-align: right;\n",
       "    }\n",
       "</style>\n",
       "<table border=\"1\" class=\"dataframe\">\n",
       "  <thead>\n",
       "    <tr style=\"text-align: right;\">\n",
       "      <th></th>\n",
       "      <th>Core PCE Prediction</th>\n",
       "    </tr>\n",
       "    <tr>\n",
       "      <th>Year</th>\n",
       "      <th></th>\n",
       "    </tr>\n",
       "  </thead>\n",
       "  <tbody>\n",
       "    <tr>\n",
       "      <th>2022</th>\n",
       "      <td>1.452295</td>\n",
       "    </tr>\n",
       "  </tbody>\n",
       "</table>\n",
       "</div>"
      ],
      "text/plain": [
       "      Core PCE Prediction\n",
       "Year                     \n",
       "2022             1.452295"
      ]
     },
     "execution_count": 187,
     "metadata": {},
     "output_type": "execute_result"
    }
   ],
   "source": [
    "frame = pd.DataFrame({ \"Core PCE Prediction\": dat[dat[\"INDICATOR\"]==\"Core PCE\"][\"Preds\"], \"Year\": dat[dat[\"INDICATOR\"]==\"Core PCE\"][\"YEAR BEING FORECAST\"]})\n",
    "groupedpce = frame.groupby(\"Year\").mean()\n",
    "groupedpce"
   ]
  },
  {
   "cell_type": "code",
   "execution_count": 188,
   "metadata": {},
   "outputs": [
    {
     "data": {
      "text/html": [
       "<div>\n",
       "<style scoped>\n",
       "    .dataframe tbody tr th:only-of-type {\n",
       "        vertical-align: middle;\n",
       "    }\n",
       "\n",
       "    .dataframe tbody tr th {\n",
       "        vertical-align: top;\n",
       "    }\n",
       "\n",
       "    .dataframe thead th {\n",
       "        text-align: right;\n",
       "    }\n",
       "</style>\n",
       "<table border=\"1\" class=\"dataframe\">\n",
       "  <thead>\n",
       "    <tr style=\"text-align: right;\">\n",
       "      <th></th>\n",
       "      <th>Core CPI Prediction</th>\n",
       "    </tr>\n",
       "    <tr>\n",
       "      <th>Year</th>\n",
       "      <th></th>\n",
       "    </tr>\n",
       "  </thead>\n",
       "  <tbody>\n",
       "    <tr>\n",
       "      <th>2022</th>\n",
       "      <td>1.782852</td>\n",
       "    </tr>\n",
       "  </tbody>\n",
       "</table>\n",
       "</div>"
      ],
      "text/plain": [
       "      Core CPI Prediction\n",
       "Year                     \n",
       "2022             1.782852"
      ]
     },
     "execution_count": 188,
     "metadata": {},
     "output_type": "execute_result"
    }
   ],
   "source": [
    "frame = pd.DataFrame({ \"Core CPI Prediction\": dat[dat[\"INDICATOR\"]==\"Core CPI\"][\"Preds\"], \"Year\": dat[dat[\"INDICATOR\"]==\"Core CPI\"][\"YEAR BEING FORECAST\"]})\n",
    "groupedcpi = frame.groupby(\"Year\").mean()\n",
    "groupedcpi"
   ]
  },
  {
   "cell_type": "markdown",
   "metadata": {
    "id": "XKhBQ8Iwi8P2"
   },
   "source": [
    "# Use Gridsearch Results"
   ]
  },
  {
   "cell_type": "code",
   "execution_count": 72,
   "metadata": {
    "id": "3dMqKC4pi-yL"
   },
   "outputs": [],
   "source": [
    "uX = dfs[[\"XGBoost Unemployment\", \"Random Forest Unemployment\"]]\n",
    "uY = dfs[[\"Unemployment actual\"]]\n",
    "\n",
    "uX = uX.dropna()\n",
    "uY = uY.dropna()"
   ]
  },
  {
   "cell_type": "code",
   "execution_count": null,
   "metadata": {},
   "outputs": [],
   "source": []
  },
  {
   "cell_type": "code",
   "execution_count": 73,
   "metadata": {
    "id": "L8-mLDGJjC60"
   },
   "outputs": [],
   "source": [
    "gX = dfs[[\"XGBoost RealGDP\", \"Random Forest RealGDP\"]]\n",
    "gY = dfs[[\"RealGDP actual\"]]"
   ]
  },
  {
   "cell_type": "code",
   "execution_count": 74,
   "metadata": {
    "id": "qSIqHV_ejEvm"
   },
   "outputs": [],
   "source": [
    "cX = dfs[[\"XGBoost Core CPI\", \"Random Forest Core CPI\"]]\n",
    "cY = dfs[[\"Core CPI actual\"]]\n",
    "\n",
    "cX = cX.dropna()\n",
    "cY = cY.dropna()"
   ]
  },
  {
   "cell_type": "code",
   "execution_count": 75,
   "metadata": {
    "id": "ygeSWBA7jHIH"
   },
   "outputs": [],
   "source": [
    "pX = dfs[[\"XGBoost Core PCE\", \"Random Forest Core PCE\"]]\n",
    "pY = dfs[[\"Core PCE actual\"]]\n",
    "\n",
    "pX = pX.dropna()\n",
    "pY = pY.dropna()"
   ]
  },
  {
   "cell_type": "code",
   "execution_count": 76,
   "metadata": {
    "colab": {
     "base_uri": "https://localhost:8080/"
    },
    "id": "dIbbmEx8jNzw",
    "outputId": "deffbc9a-a56f-42e2-de17-933ad500a44f"
   },
   "outputs": [
    {
     "name": "stdout",
     "output_type": "stream",
     "text": [
      "0.9546869021295435\n"
     ]
    },
    {
     "data": {
      "text/plain": [
       "0.4100763638910511"
      ]
     },
     "execution_count": 76,
     "metadata": {
      "tags": []
     },
     "output_type": "execute_result"
    }
   ],
   "source": [
    "reg = LinearRegression().fit(gX, gY)\n",
    "print(reg.score(gX, gY))\n",
    "\n",
    "pred = reg.predict(gX)\n",
    "actual = gY\n",
    "\n",
    "np.sqrt(mean_squared_error(pred, actual))"
   ]
  },
  {
   "cell_type": "code",
   "execution_count": 77,
   "metadata": {
    "colab": {
     "base_uri": "https://localhost:8080/"
    },
    "id": "h_E5TUxXjRPd",
    "outputId": "7c359dbe-5191-45fa-8fc9-d977f559fdc7"
   },
   "outputs": [
    {
     "data": {
      "text/plain": [
       "array([[0.42815693, 0.57616913]])"
      ]
     },
     "execution_count": 77,
     "metadata": {
      "tags": []
     },
     "output_type": "execute_result"
    }
   ],
   "source": [
    "reg.coef_"
   ]
  },
  {
   "cell_type": "code",
   "execution_count": 78,
   "metadata": {
    "colab": {
     "base_uri": "https://localhost:8080/"
    },
    "id": "Mv06rZsSjUH7",
    "outputId": "aa71aec4-df7a-44dd-bbe3-2a366a9daf8b"
   },
   "outputs": [
    {
     "name": "stdout",
     "output_type": "stream",
     "text": [
      "0.9442919819963325\n"
     ]
    },
    {
     "data": {
      "text/plain": [
       "0.6702318731501157"
      ]
     },
     "execution_count": 78,
     "metadata": {
      "tags": []
     },
     "output_type": "execute_result"
    }
   ],
   "source": [
    "reg = LinearRegression().fit(uX, uY)\n",
    "print(reg.score(uX, uY))\n",
    "\n",
    "pred = reg.predict(uX)\n",
    "actual = uY\n",
    "\n",
    "np.sqrt(mean_squared_error(pred, actual))"
   ]
  },
  {
   "cell_type": "code",
   "execution_count": 79,
   "metadata": {
    "colab": {
     "base_uri": "https://localhost:8080/"
    },
    "id": "4ciadom6jU80",
    "outputId": "de584b4e-ae5c-411a-9390-337f170225ca"
   },
   "outputs": [
    {
     "data": {
      "text/plain": [
       "array([[0.74354694, 0.26637404]])"
      ]
     },
     "execution_count": 79,
     "metadata": {
      "tags": []
     },
     "output_type": "execute_result"
    }
   ],
   "source": [
    "reg.coef_"
   ]
  },
  {
   "cell_type": "code",
   "execution_count": 80,
   "metadata": {
    "colab": {
     "base_uri": "https://localhost:8080/"
    },
    "id": "gAPqjCFljYhX",
    "outputId": "0f51803b-2b98-4558-95fa-25e60ade0cc5"
   },
   "outputs": [
    {
     "name": "stdout",
     "output_type": "stream",
     "text": [
      "0.922610484523368\n"
     ]
    },
    {
     "data": {
      "text/plain": [
       "0.337232509244397"
      ]
     },
     "execution_count": 80,
     "metadata": {
      "tags": []
     },
     "output_type": "execute_result"
    }
   ],
   "source": [
    "reg = LinearRegression().fit(cX, cY)\n",
    "print(reg.score(cX, cY))\n",
    "\n",
    "pred = reg.predict(cX)\n",
    "actual = cY\n",
    "\n",
    "np.sqrt(mean_squared_error(pred, actual))"
   ]
  },
  {
   "cell_type": "code",
   "execution_count": 81,
   "metadata": {
    "colab": {
     "base_uri": "https://localhost:8080/"
    },
    "id": "lfqVoY-ijZQy",
    "outputId": "84a8de23-39ec-4b12-d610-917dc3abf6e9"
   },
   "outputs": [
    {
     "data": {
      "text/plain": [
       "array([[-0.45484695,  1.50678078]])"
      ]
     },
     "execution_count": 81,
     "metadata": {
      "tags": []
     },
     "output_type": "execute_result"
    }
   ],
   "source": [
    "reg.coef_"
   ]
  },
  {
   "cell_type": "code",
   "execution_count": 82,
   "metadata": {
    "colab": {
     "base_uri": "https://localhost:8080/"
    },
    "id": "57Ch4uJdjbHW",
    "outputId": "d457c0d0-d14e-4c9a-8351-f33715127fbe"
   },
   "outputs": [
    {
     "name": "stdout",
     "output_type": "stream",
     "text": [
      "0.9039947016794517\n"
     ]
    },
    {
     "data": {
      "text/plain": [
       "0.37225918993422225"
      ]
     },
     "execution_count": 82,
     "metadata": {
      "tags": []
     },
     "output_type": "execute_result"
    }
   ],
   "source": [
    "reg = LinearRegression().fit(pX, pY)\n",
    "print(reg.score(pX, pY))\n",
    "\n",
    "pred = reg.predict(pX)\n",
    "actual = pY\n",
    "\n",
    "np.sqrt(mean_squared_error(pred, actual))"
   ]
  },
  {
   "cell_type": "code",
   "execution_count": 83,
   "metadata": {
    "colab": {
     "base_uri": "https://localhost:8080/"
    },
    "id": "hV5QYj-Cjb6d",
    "outputId": "dada75eb-39db-4dfc-f335-0fa1d0a66a85"
   },
   "outputs": [
    {
     "data": {
      "text/plain": [
       "array([[0.41344445, 0.59470852]])"
      ]
     },
     "execution_count": 83,
     "metadata": {
      "tags": []
     },
     "output_type": "execute_result"
    }
   ],
   "source": [
    "reg.coef_"
   ]
  }
 ],
 "metadata": {
  "colab": {
   "name": "ensemble",
   "provenance": []
  },
  "kernelspec": {
   "display_name": "Python 3",
   "language": "python",
   "name": "python3"
  },
  "language_info": {
   "codemirror_mode": {
    "name": "ipython",
    "version": 3
   },
   "file_extension": ".py",
   "mimetype": "text/x-python",
   "name": "python",
   "nbconvert_exporter": "python",
   "pygments_lexer": "ipython3",
   "version": "3.7.1"
  }
 },
 "nbformat": 4,
 "nbformat_minor": 1
}
