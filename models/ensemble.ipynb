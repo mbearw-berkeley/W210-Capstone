{
 "cells": [
  {
   "cell_type": "code",
   "execution_count": 45,
   "metadata": {
    "id": "odkz6q4ACC0p"
   },
   "outputs": [],
   "source": [
    "import pandas as pd\n",
    "import numpy as np\n",
    "import tensorflow as tf\n",
    "from keras.models import Sequential\n",
    "from keras.layers import Dense"
   ]
  },
  {
   "cell_type": "code",
   "execution_count": 46,
   "metadata": {
    "id": "hHjAp6xpCJBJ"
   },
   "outputs": [],
   "source": [
    "df = pd.read_csv(\"results.csv\")"
   ]
  },
  {
   "cell_type": "code",
   "execution_count": 47,
   "metadata": {
    "id": "_DiR9UjrhSTn"
   },
   "outputs": [],
   "source": [
    "dfs = pd.read_csv(\"results_post_gridsearch.csv\")"
   ]
  },
  {
   "cell_type": "code",
   "execution_count": 48,
   "metadata": {
    "colab": {
     "base_uri": "https://localhost:8080/",
     "height": 582
    },
    "id": "6zZ2hoDAikOZ",
    "outputId": "62551779-15ef-4705-f9d2-774efb76d813"
   },
   "outputs": [
    {
     "data": {
      "text/html": [
       "<div>\n",
       "<style scoped>\n",
       "    .dataframe tbody tr th:only-of-type {\n",
       "        vertical-align: middle;\n",
       "    }\n",
       "\n",
       "    .dataframe tbody tr th {\n",
       "        vertical-align: top;\n",
       "    }\n",
       "\n",
       "    .dataframe thead th {\n",
       "        text-align: right;\n",
       "    }\n",
       "</style>\n",
       "<table border=\"1\" class=\"dataframe\">\n",
       "  <thead>\n",
       "    <tr style=\"text-align: right;\">\n",
       "      <th></th>\n",
       "      <th>Unemployment</th>\n",
       "      <th>Unemployment actual</th>\n",
       "      <th>RealGDP</th>\n",
       "      <th>RealGDP actual</th>\n",
       "      <th>Core CPI</th>\n",
       "      <th>Core CPI actual</th>\n",
       "      <th>Core PCE</th>\n",
       "      <th>Core PCE actual</th>\n",
       "      <th>XGBoost Unemployment</th>\n",
       "      <th>XGBoost RealGDP</th>\n",
       "      <th>XGBoost Core CPI</th>\n",
       "      <th>XGBoost Core PCE</th>\n",
       "      <th>Random Forest Unemployment</th>\n",
       "      <th>Random Forest RealGDP</th>\n",
       "      <th>Random Forest Core CPI</th>\n",
       "      <th>Random Forest Core PCE</th>\n",
       "    </tr>\n",
       "  </thead>\n",
       "  <tbody>\n",
       "    <tr>\n",
       "      <th>0</th>\n",
       "      <td>Unemployment</td>\n",
       "      <td>0.000000</td>\n",
       "      <td>RealGDP</td>\n",
       "      <td>2.99646</td>\n",
       "      <td>Core CPI</td>\n",
       "      <td>2.290573</td>\n",
       "      <td>Core PCE</td>\n",
       "      <td>1.184167</td>\n",
       "      <td>0.024529</td>\n",
       "      <td>2.525367</td>\n",
       "      <td>2.284678</td>\n",
       "      <td>1.277267</td>\n",
       "      <td>0.000000</td>\n",
       "      <td>2.690666</td>\n",
       "      <td>2.275708</td>\n",
       "      <td>1.246261</td>\n",
       "    </tr>\n",
       "    <tr>\n",
       "      <th>1</th>\n",
       "      <td>Unemployment</td>\n",
       "      <td>3.891667</td>\n",
       "      <td>RealGDP</td>\n",
       "      <td>4.44722</td>\n",
       "      <td>Core CPI</td>\n",
       "      <td>2.174324</td>\n",
       "      <td>Core PCE</td>\n",
       "      <td>1.184167</td>\n",
       "      <td>3.809880</td>\n",
       "      <td>4.161139</td>\n",
       "      <td>2.084491</td>\n",
       "      <td>1.495712</td>\n",
       "      <td>3.874306</td>\n",
       "      <td>4.249021</td>\n",
       "      <td>2.174324</td>\n",
       "      <td>1.351786</td>\n",
       "    </tr>\n",
       "    <tr>\n",
       "      <th>2</th>\n",
       "      <td>Unemployment</td>\n",
       "      <td>3.683333</td>\n",
       "      <td>RealGDP</td>\n",
       "      <td>4.75324</td>\n",
       "      <td>Core CPI</td>\n",
       "      <td>2.174324</td>\n",
       "      <td>Core PCE</td>\n",
       "      <td>1.647664</td>\n",
       "      <td>3.915925</td>\n",
       "      <td>4.266360</td>\n",
       "      <td>2.059632</td>\n",
       "      <td>1.563071</td>\n",
       "      <td>3.712870</td>\n",
       "      <td>4.158768</td>\n",
       "      <td>1.961115</td>\n",
       "      <td>1.640270</td>\n",
       "    </tr>\n",
       "    <tr>\n",
       "      <th>3</th>\n",
       "      <td>Unemployment</td>\n",
       "      <td>8.108333</td>\n",
       "      <td>RealGDP</td>\n",
       "      <td>2.99646</td>\n",
       "      <td>Core CPI</td>\n",
       "      <td>2.290573</td>\n",
       "      <td>Core PCE</td>\n",
       "      <td>1.664742</td>\n",
       "      <td>8.112351</td>\n",
       "      <td>0.977842</td>\n",
       "      <td>2.211206</td>\n",
       "      <td>1.715864</td>\n",
       "      <td>8.108333</td>\n",
       "      <td>0.355206</td>\n",
       "      <td>2.221205</td>\n",
       "      <td>1.722364</td>\n",
       "    </tr>\n",
       "    <tr>\n",
       "      <th>4</th>\n",
       "      <td>Unemployment</td>\n",
       "      <td>4.350000</td>\n",
       "      <td>RealGDP</td>\n",
       "      <td>4.75324</td>\n",
       "      <td>Core CPI</td>\n",
       "      <td>2.290573</td>\n",
       "      <td>Core PCE</td>\n",
       "      <td>1.559324</td>\n",
       "      <td>4.358871</td>\n",
       "      <td>4.604209</td>\n",
       "      <td>2.228309</td>\n",
       "      <td>1.908844</td>\n",
       "      <td>4.350000</td>\n",
       "      <td>4.530313</td>\n",
       "      <td>2.218232</td>\n",
       "      <td>1.703876</td>\n",
       "    </tr>\n",
       "    <tr>\n",
       "      <th>...</th>\n",
       "      <td>...</td>\n",
       "      <td>...</td>\n",
       "      <td>...</td>\n",
       "      <td>...</td>\n",
       "      <td>...</td>\n",
       "      <td>...</td>\n",
       "      <td>...</td>\n",
       "      <td>...</td>\n",
       "      <td>...</td>\n",
       "      <td>...</td>\n",
       "      <td>...</td>\n",
       "      <td>...</td>\n",
       "      <td>...</td>\n",
       "      <td>...</td>\n",
       "      <td>...</td>\n",
       "      <td>...</td>\n",
       "    </tr>\n",
       "    <tr>\n",
       "      <th>2665</th>\n",
       "      <td>NaN</td>\n",
       "      <td>NaN</td>\n",
       "      <td>RealGDP</td>\n",
       "      <td>2.68428</td>\n",
       "      <td>NaN</td>\n",
       "      <td>NaN</td>\n",
       "      <td>NaN</td>\n",
       "      <td>NaN</td>\n",
       "      <td>NaN</td>\n",
       "      <td>2.695229</td>\n",
       "      <td>NaN</td>\n",
       "      <td>NaN</td>\n",
       "      <td>NaN</td>\n",
       "      <td>2.913138</td>\n",
       "      <td>NaN</td>\n",
       "      <td>NaN</td>\n",
       "    </tr>\n",
       "    <tr>\n",
       "      <th>2666</th>\n",
       "      <td>NaN</td>\n",
       "      <td>NaN</td>\n",
       "      <td>RealGDP</td>\n",
       "      <td>3.07551</td>\n",
       "      <td>NaN</td>\n",
       "      <td>NaN</td>\n",
       "      <td>NaN</td>\n",
       "      <td>NaN</td>\n",
       "      <td>NaN</td>\n",
       "      <td>2.509414</td>\n",
       "      <td>NaN</td>\n",
       "      <td>NaN</td>\n",
       "      <td>NaN</td>\n",
       "      <td>2.639555</td>\n",
       "      <td>NaN</td>\n",
       "      <td>NaN</td>\n",
       "    </tr>\n",
       "    <tr>\n",
       "      <th>2667</th>\n",
       "      <td>NaN</td>\n",
       "      <td>NaN</td>\n",
       "      <td>RealGDP</td>\n",
       "      <td>4.12748</td>\n",
       "      <td>NaN</td>\n",
       "      <td>NaN</td>\n",
       "      <td>NaN</td>\n",
       "      <td>NaN</td>\n",
       "      <td>NaN</td>\n",
       "      <td>4.217857</td>\n",
       "      <td>NaN</td>\n",
       "      <td>NaN</td>\n",
       "      <td>NaN</td>\n",
       "      <td>4.127480</td>\n",
       "      <td>NaN</td>\n",
       "      <td>NaN</td>\n",
       "    </tr>\n",
       "    <tr>\n",
       "      <th>2668</th>\n",
       "      <td>NaN</td>\n",
       "      <td>NaN</td>\n",
       "      <td>RealGDP</td>\n",
       "      <td>2.56377</td>\n",
       "      <td>NaN</td>\n",
       "      <td>NaN</td>\n",
       "      <td>NaN</td>\n",
       "      <td>NaN</td>\n",
       "      <td>NaN</td>\n",
       "      <td>2.411485</td>\n",
       "      <td>NaN</td>\n",
       "      <td>NaN</td>\n",
       "      <td>NaN</td>\n",
       "      <td>2.402891</td>\n",
       "      <td>NaN</td>\n",
       "      <td>NaN</td>\n",
       "    </tr>\n",
       "    <tr>\n",
       "      <th>2669</th>\n",
       "      <td>NaN</td>\n",
       "      <td>NaN</td>\n",
       "      <td>RealGDP</td>\n",
       "      <td>4.44722</td>\n",
       "      <td>NaN</td>\n",
       "      <td>NaN</td>\n",
       "      <td>NaN</td>\n",
       "      <td>NaN</td>\n",
       "      <td>NaN</td>\n",
       "      <td>4.221494</td>\n",
       "      <td>NaN</td>\n",
       "      <td>NaN</td>\n",
       "      <td>NaN</td>\n",
       "      <td>4.211068</td>\n",
       "      <td>NaN</td>\n",
       "      <td>NaN</td>\n",
       "    </tr>\n",
       "  </tbody>\n",
       "</table>\n",
       "<p>2670 rows × 16 columns</p>\n",
       "</div>"
      ],
      "text/plain": [
       "      Unemployment  ...  Random Forest Core PCE\n",
       "0     Unemployment  ...                1.246261\n",
       "1     Unemployment  ...                1.351786\n",
       "2     Unemployment  ...                1.640270\n",
       "3     Unemployment  ...                1.722364\n",
       "4     Unemployment  ...                1.703876\n",
       "...            ...  ...                     ...\n",
       "2665           NaN  ...                     NaN\n",
       "2666           NaN  ...                     NaN\n",
       "2667           NaN  ...                     NaN\n",
       "2668           NaN  ...                     NaN\n",
       "2669           NaN  ...                     NaN\n",
       "\n",
       "[2670 rows x 16 columns]"
      ]
     },
     "execution_count": 48,
     "metadata": {
      "tags": []
     },
     "output_type": "execute_result"
    }
   ],
   "source": [
    "dfs"
   ]
  },
  {
   "cell_type": "code",
   "execution_count": 49,
   "metadata": {
    "colab": {
     "base_uri": "https://localhost:8080/",
     "height": 582
    },
    "id": "WCrp3-5oCs9i",
    "outputId": "089fca54-35e5-42ff-e6c8-f98f7cec97a0"
   },
   "outputs": [
    {
     "data": {
      "text/html": [
       "<div>\n",
       "<style scoped>\n",
       "    .dataframe tbody tr th:only-of-type {\n",
       "        vertical-align: middle;\n",
       "    }\n",
       "\n",
       "    .dataframe tbody tr th {\n",
       "        vertical-align: top;\n",
       "    }\n",
       "\n",
       "    .dataframe thead th {\n",
       "        text-align: right;\n",
       "    }\n",
       "</style>\n",
       "<table border=\"1\" class=\"dataframe\">\n",
       "  <thead>\n",
       "    <tr style=\"text-align: right;\">\n",
       "      <th></th>\n",
       "      <th>Unemployment</th>\n",
       "      <th>Unemployment actual</th>\n",
       "      <th>RealGDP</th>\n",
       "      <th>RealGDP actual</th>\n",
       "      <th>Core CPI</th>\n",
       "      <th>Core CPI actual</th>\n",
       "      <th>Core PCE</th>\n",
       "      <th>Core PCE actual</th>\n",
       "      <th>XGBoost Unemployment</th>\n",
       "      <th>XGBoost RealGDP</th>\n",
       "      <th>XGBoost Core CPI</th>\n",
       "      <th>XGBoost Core PCE</th>\n",
       "      <th>Random Forest Unemployment</th>\n",
       "      <th>Random Forest RealGDP</th>\n",
       "      <th>Random Forest Core CPI</th>\n",
       "      <th>Random Forest Core PCE</th>\n",
       "      <th>Linear Regression Unemployment</th>\n",
       "      <th>Linear Regression RealGDP</th>\n",
       "      <th>Linear Regression Core CPI</th>\n",
       "      <th>Linear Regression Core PCE</th>\n",
       "      <th>KNeigborsRegressor Unemployment</th>\n",
       "      <th>KNeigborsRegressor RealGDP</th>\n",
       "      <th>KNeigborsRegressor Core CPI</th>\n",
       "      <th>KNeigborsRegressor Core PCE</th>\n",
       "    </tr>\n",
       "  </thead>\n",
       "  <tbody>\n",
       "    <tr>\n",
       "      <th>0</th>\n",
       "      <td>Unemployment</td>\n",
       "      <td>0.000000</td>\n",
       "      <td>RealGDP</td>\n",
       "      <td>2.99646</td>\n",
       "      <td>Core CPI</td>\n",
       "      <td>2.290573</td>\n",
       "      <td>Core PCE</td>\n",
       "      <td>1.184167</td>\n",
       "      <td>0.081926</td>\n",
       "      <td>2.500126</td>\n",
       "      <td>2.291859</td>\n",
       "      <td>1.232153</td>\n",
       "      <td>0.081083</td>\n",
       "      <td>2.609857</td>\n",
       "      <td>2.279672</td>\n",
       "      <td>1.250697</td>\n",
       "      <td>2.763758</td>\n",
       "      <td>1.913119</td>\n",
       "      <td>2.037117</td>\n",
       "      <td>2.153685</td>\n",
       "      <td>1.621667</td>\n",
       "      <td>2.563892</td>\n",
       "      <td>2.270754</td>\n",
       "      <td>1.237391</td>\n",
       "    </tr>\n",
       "    <tr>\n",
       "      <th>1</th>\n",
       "      <td>Unemployment</td>\n",
       "      <td>3.891667</td>\n",
       "      <td>RealGDP</td>\n",
       "      <td>4.44722</td>\n",
       "      <td>Core CPI</td>\n",
       "      <td>2.174324</td>\n",
       "      <td>Core PCE</td>\n",
       "      <td>1.184167</td>\n",
       "      <td>3.820591</td>\n",
       "      <td>4.123776</td>\n",
       "      <td>2.132030</td>\n",
       "      <td>1.245136</td>\n",
       "      <td>3.866667</td>\n",
       "      <td>4.211068</td>\n",
       "      <td>2.174324</td>\n",
       "      <td>1.404765</td>\n",
       "      <td>4.956422</td>\n",
       "      <td>2.258982</td>\n",
       "      <td>1.673650</td>\n",
       "      <td>1.083818</td>\n",
       "      <td>3.850000</td>\n",
       "      <td>4.319114</td>\n",
       "      <td>2.174324</td>\n",
       "      <td>1.439257</td>\n",
       "    </tr>\n",
       "    <tr>\n",
       "      <th>2</th>\n",
       "      <td>Unemployment</td>\n",
       "      <td>3.683333</td>\n",
       "      <td>RealGDP</td>\n",
       "      <td>4.75324</td>\n",
       "      <td>Core CPI</td>\n",
       "      <td>2.174324</td>\n",
       "      <td>Core PCE</td>\n",
       "      <td>1.647664</td>\n",
       "      <td>3.852198</td>\n",
       "      <td>4.178174</td>\n",
       "      <td>2.079864</td>\n",
       "      <td>1.627884</td>\n",
       "      <td>3.716916</td>\n",
       "      <td>4.146253</td>\n",
       "      <td>1.940770</td>\n",
       "      <td>1.644099</td>\n",
       "      <td>3.938026</td>\n",
       "      <td>2.474587</td>\n",
       "      <td>1.802591</td>\n",
       "      <td>1.909056</td>\n",
       "      <td>3.808333</td>\n",
       "      <td>4.387366</td>\n",
       "      <td>1.562823</td>\n",
       "      <td>1.647664</td>\n",
       "    </tr>\n",
       "    <tr>\n",
       "      <th>3</th>\n",
       "      <td>Unemployment</td>\n",
       "      <td>8.108333</td>\n",
       "      <td>RealGDP</td>\n",
       "      <td>2.99646</td>\n",
       "      <td>Core CPI</td>\n",
       "      <td>2.290573</td>\n",
       "      <td>Core PCE</td>\n",
       "      <td>1.664742</td>\n",
       "      <td>8.142979</td>\n",
       "      <td>1.312183</td>\n",
       "      <td>2.193956</td>\n",
       "      <td>1.751450</td>\n",
       "      <td>8.108333</td>\n",
       "      <td>0.570160</td>\n",
       "      <td>2.223187</td>\n",
       "      <td>1.726642</td>\n",
       "      <td>4.816343</td>\n",
       "      <td>0.651697</td>\n",
       "      <td>2.003969</td>\n",
       "      <td>2.245712</td>\n",
       "      <td>6.338333</td>\n",
       "      <td>-1.492464</td>\n",
       "      <td>2.231115</td>\n",
       "      <td>1.727602</td>\n",
       "    </tr>\n",
       "    <tr>\n",
       "      <th>4</th>\n",
       "      <td>Unemployment</td>\n",
       "      <td>4.350000</td>\n",
       "      <td>RealGDP</td>\n",
       "      <td>4.75324</td>\n",
       "      <td>Core CPI</td>\n",
       "      <td>2.290573</td>\n",
       "      <td>Core PCE</td>\n",
       "      <td>1.559324</td>\n",
       "      <td>4.346418</td>\n",
       "      <td>4.914411</td>\n",
       "      <td>2.220703</td>\n",
       "      <td>1.585213</td>\n",
       "      <td>4.350000</td>\n",
       "      <td>4.559254</td>\n",
       "      <td>2.222196</td>\n",
       "      <td>1.718909</td>\n",
       "      <td>4.817755</td>\n",
       "      <td>4.013551</td>\n",
       "      <td>2.108200</td>\n",
       "      <td>2.264820</td>\n",
       "      <td>4.350000</td>\n",
       "      <td>4.377784</td>\n",
       "      <td>2.249111</td>\n",
       "      <td>1.975634</td>\n",
       "    </tr>\n",
       "    <tr>\n",
       "      <th>...</th>\n",
       "      <td>...</td>\n",
       "      <td>...</td>\n",
       "      <td>...</td>\n",
       "      <td>...</td>\n",
       "      <td>...</td>\n",
       "      <td>...</td>\n",
       "      <td>...</td>\n",
       "      <td>...</td>\n",
       "      <td>...</td>\n",
       "      <td>...</td>\n",
       "      <td>...</td>\n",
       "      <td>...</td>\n",
       "      <td>...</td>\n",
       "      <td>...</td>\n",
       "      <td>...</td>\n",
       "      <td>...</td>\n",
       "      <td>...</td>\n",
       "      <td>...</td>\n",
       "      <td>...</td>\n",
       "      <td>...</td>\n",
       "      <td>...</td>\n",
       "      <td>...</td>\n",
       "      <td>...</td>\n",
       "      <td>...</td>\n",
       "    </tr>\n",
       "    <tr>\n",
       "      <th>2665</th>\n",
       "      <td>NaN</td>\n",
       "      <td>NaN</td>\n",
       "      <td>RealGDP</td>\n",
       "      <td>2.68428</td>\n",
       "      <td>NaN</td>\n",
       "      <td>NaN</td>\n",
       "      <td>NaN</td>\n",
       "      <td>NaN</td>\n",
       "      <td>NaN</td>\n",
       "      <td>2.994133</td>\n",
       "      <td>NaN</td>\n",
       "      <td>NaN</td>\n",
       "      <td>NaN</td>\n",
       "      <td>2.939068</td>\n",
       "      <td>NaN</td>\n",
       "      <td>NaN</td>\n",
       "      <td>NaN</td>\n",
       "      <td>4.166291</td>\n",
       "      <td>NaN</td>\n",
       "      <td>NaN</td>\n",
       "      <td>NaN</td>\n",
       "      <td>3.759920</td>\n",
       "      <td>NaN</td>\n",
       "      <td>NaN</td>\n",
       "    </tr>\n",
       "    <tr>\n",
       "      <th>2666</th>\n",
       "      <td>NaN</td>\n",
       "      <td>NaN</td>\n",
       "      <td>RealGDP</td>\n",
       "      <td>3.07551</td>\n",
       "      <td>NaN</td>\n",
       "      <td>NaN</td>\n",
       "      <td>NaN</td>\n",
       "      <td>NaN</td>\n",
       "      <td>NaN</td>\n",
       "      <td>2.578147</td>\n",
       "      <td>NaN</td>\n",
       "      <td>NaN</td>\n",
       "      <td>NaN</td>\n",
       "      <td>2.686900</td>\n",
       "      <td>NaN</td>\n",
       "      <td>NaN</td>\n",
       "      <td>NaN</td>\n",
       "      <td>1.719996</td>\n",
       "      <td>NaN</td>\n",
       "      <td>NaN</td>\n",
       "      <td>NaN</td>\n",
       "      <td>2.108490</td>\n",
       "      <td>NaN</td>\n",
       "      <td>NaN</td>\n",
       "    </tr>\n",
       "    <tr>\n",
       "      <th>2667</th>\n",
       "      <td>NaN</td>\n",
       "      <td>NaN</td>\n",
       "      <td>RealGDP</td>\n",
       "      <td>4.12748</td>\n",
       "      <td>NaN</td>\n",
       "      <td>NaN</td>\n",
       "      <td>NaN</td>\n",
       "      <td>NaN</td>\n",
       "      <td>NaN</td>\n",
       "      <td>4.376538</td>\n",
       "      <td>NaN</td>\n",
       "      <td>NaN</td>\n",
       "      <td>NaN</td>\n",
       "      <td>4.127480</td>\n",
       "      <td>NaN</td>\n",
       "      <td>NaN</td>\n",
       "      <td>NaN</td>\n",
       "      <td>3.387583</td>\n",
       "      <td>NaN</td>\n",
       "      <td>NaN</td>\n",
       "      <td>NaN</td>\n",
       "      <td>4.252632</td>\n",
       "      <td>NaN</td>\n",
       "      <td>NaN</td>\n",
       "    </tr>\n",
       "    <tr>\n",
       "      <th>2668</th>\n",
       "      <td>NaN</td>\n",
       "      <td>NaN</td>\n",
       "      <td>RealGDP</td>\n",
       "      <td>2.56377</td>\n",
       "      <td>NaN</td>\n",
       "      <td>NaN</td>\n",
       "      <td>NaN</td>\n",
       "      <td>NaN</td>\n",
       "      <td>NaN</td>\n",
       "      <td>2.506146</td>\n",
       "      <td>NaN</td>\n",
       "      <td>NaN</td>\n",
       "      <td>NaN</td>\n",
       "      <td>2.401250</td>\n",
       "      <td>NaN</td>\n",
       "      <td>NaN</td>\n",
       "      <td>NaN</td>\n",
       "      <td>2.320658</td>\n",
       "      <td>NaN</td>\n",
       "      <td>NaN</td>\n",
       "      <td>NaN</td>\n",
       "      <td>2.375238</td>\n",
       "      <td>NaN</td>\n",
       "      <td>NaN</td>\n",
       "    </tr>\n",
       "    <tr>\n",
       "      <th>2669</th>\n",
       "      <td>NaN</td>\n",
       "      <td>NaN</td>\n",
       "      <td>RealGDP</td>\n",
       "      <td>4.44722</td>\n",
       "      <td>NaN</td>\n",
       "      <td>NaN</td>\n",
       "      <td>NaN</td>\n",
       "      <td>NaN</td>\n",
       "      <td>NaN</td>\n",
       "      <td>4.214095</td>\n",
       "      <td>NaN</td>\n",
       "      <td>NaN</td>\n",
       "      <td>NaN</td>\n",
       "      <td>4.251551</td>\n",
       "      <td>NaN</td>\n",
       "      <td>NaN</td>\n",
       "      <td>NaN</td>\n",
       "      <td>2.467689</td>\n",
       "      <td>NaN</td>\n",
       "      <td>NaN</td>\n",
       "      <td>NaN</td>\n",
       "      <td>4.312276</td>\n",
       "      <td>NaN</td>\n",
       "      <td>NaN</td>\n",
       "    </tr>\n",
       "  </tbody>\n",
       "</table>\n",
       "<p>2670 rows × 24 columns</p>\n",
       "</div>"
      ],
      "text/plain": [
       "      Unemployment  ...  KNeigborsRegressor Core PCE\n",
       "0     Unemployment  ...                     1.237391\n",
       "1     Unemployment  ...                     1.439257\n",
       "2     Unemployment  ...                     1.647664\n",
       "3     Unemployment  ...                     1.727602\n",
       "4     Unemployment  ...                     1.975634\n",
       "...            ...  ...                          ...\n",
       "2665           NaN  ...                          NaN\n",
       "2666           NaN  ...                          NaN\n",
       "2667           NaN  ...                          NaN\n",
       "2668           NaN  ...                          NaN\n",
       "2669           NaN  ...                          NaN\n",
       "\n",
       "[2670 rows x 24 columns]"
      ]
     },
     "execution_count": 49,
     "metadata": {
      "tags": []
     },
     "output_type": "execute_result"
    }
   ],
   "source": [
    "df"
   ]
  },
  {
   "cell_type": "code",
   "execution_count": 50,
   "metadata": {
    "id": "JrynsjqXC_mG"
   },
   "outputs": [],
   "source": [
    "uX = df[[\"XGBoost Unemployment\", \"Random Forest Unemployment\", \"Linear Regression Unemployment\", \"KNeigborsRegressor Unemployment\"]]\n",
    "uY = df[[\"Unemployment actual\"]]\n",
    "\n",
    "uX = uX.dropna()\n",
    "uY = uY.dropna()"
   ]
  },
  {
   "cell_type": "code",
   "execution_count": 51,
   "metadata": {
    "id": "h01F04ryDXO6"
   },
   "outputs": [],
   "source": [
    "gX = df[[\"XGBoost RealGDP\", \"Random Forest RealGDP\", \"Linear Regression RealGDP\", \"KNeigborsRegressor RealGDP\"]]\n",
    "gY = df[[\"RealGDP actual\"]]"
   ]
  },
  {
   "cell_type": "code",
   "execution_count": 52,
   "metadata": {
    "id": "r9aE-DSaEEG0"
   },
   "outputs": [],
   "source": [
    "cX = df[[\"XGBoost Core CPI\", \"Random Forest Core CPI\", \"Linear Regression Core CPI\", \"KNeigborsRegressor Core CPI\"]]\n",
    "cY = df[[\"Core CPI actual\"]]\n",
    "\n",
    "cX = cX.dropna()\n",
    "cY = cY.dropna()"
   ]
  },
  {
   "cell_type": "code",
   "execution_count": 53,
   "metadata": {
    "id": "_yslW5RuEPCA"
   },
   "outputs": [],
   "source": [
    "pX = df[[\"XGBoost Core PCE\", \"Random Forest Core PCE\", \"Linear Regression Core PCE\", \"KNeigborsRegressor Core PCE\"]]\n",
    "pY = df[[\"Core PCE actual\"]]\n",
    "\n",
    "pX = pX.dropna()\n",
    "pY = pY.dropna()"
   ]
  },
  {
   "cell_type": "code",
   "execution_count": 54,
   "metadata": {
    "id": "D9vL3QVyEVrB"
   },
   "outputs": [],
   "source": [
    "from keras.models import Sequential\n",
    "from keras.layers import Dense\n",
    "from keras.wrappers.scikit_learn import KerasRegressor\n",
    "from sklearn.model_selection import cross_val_score\n",
    "from sklearn.model_selection import KFold\n",
    "from sklearn.preprocessing import StandardScaler\n",
    "from sklearn.pipeline import Pipeline"
   ]
  },
  {
   "cell_type": "code",
   "execution_count": 55,
   "metadata": {
    "id": "WlD7pMfJEpMH"
   },
   "outputs": [],
   "source": [
    "def create_mlp(dim, regress=False):\n",
    "\t# define our MLP network\n",
    "\tmodel = Sequential()\n",
    "\tmodel.add(Dense(8, input_dim=dim, activation=\"relu\"))\n",
    "\tmodel.add(Dense(4, activation=\"relu\"))\n",
    "\t# check to see if the regression node should be added\n",
    "\tif regress:\n",
    "\t\tmodel.add(Dense(1, activation=\"linear\"))\n",
    "\t# return our model\n",
    "\treturn model"
   ]
  },
  {
   "cell_type": "code",
   "execution_count": 56,
   "metadata": {
    "id": "aqpfJfMHEpqz"
   },
   "outputs": [],
   "source": [
    "#from tensorflow.keras.optimizers import Adam\n",
    "#from sklearn.model_selection import train_test_split\n",
    "#import numpy as np\n",
    "#import argparse\n",
    "#import locale\n",
    "#import os\n",
    "\n",
    "#model = create_mlp(uX.shape[1], regress=True)\n",
    "#opt = Adam(lr=1e-3, decay=1e-3 / 200)\n",
    "#model.compile(loss=\"mean_absolute_percentage_error\", optimizer=opt)\n",
    "## train the model\n",
    "#print(\"[INFO] training model...\")\n",
    "#model.fit(x=uX, y=uY, #\n",
    "#\tvalidation_data=(uX, uY),#\n",
    "#\tepochs=200, batch_size=8)"
   ]
  },
  {
   "cell_type": "code",
   "execution_count": 57,
   "metadata": {
    "id": "FpcD-NQ0Ezau"
   },
   "outputs": [],
   "source": [
    "#preds = model.predict(uX)"
   ]
  },
  {
   "cell_type": "code",
   "execution_count": 58,
   "metadata": {
    "id": "tCEjZ-uCGErJ"
   },
   "outputs": [],
   "source": [
    "#preds"
   ]
  },
  {
   "cell_type": "code",
   "execution_count": 59,
   "metadata": {
    "id": "RVy0cEDfHzvH"
   },
   "outputs": [],
   "source": [
    "from sklearn.linear_model import LinearRegression"
   ]
  },
  {
   "cell_type": "code",
   "execution_count": 60,
   "metadata": {
    "colab": {
     "base_uri": "https://localhost:8080/"
    },
    "id": "zQYpRBIkH9aq",
    "outputId": "8d4713d1-a52b-42e9-ab05-7c7a250e85a0"
   },
   "outputs": [
    {
     "data": {
      "text/plain": [
       "0.9549310708629474"
      ]
     },
     "execution_count": 60,
     "metadata": {
      "tags": []
     },
     "output_type": "execute_result"
    }
   ],
   "source": [
    "reg = LinearRegression().fit(gX, gY)\n",
    "reg.score(gX, gY)"
   ]
  },
  {
   "cell_type": "code",
   "execution_count": 61,
   "metadata": {
    "colab": {
     "base_uri": "https://localhost:8080/"
    },
    "id": "kK21dADxIFfu",
    "outputId": "304f585e-56dc-4c86-916f-24ccb580c7d0"
   },
   "outputs": [
    {
     "data": {
      "text/plain": [
       "array([[2.56188736],\n",
       "       [4.1774761 ],\n",
       "       [4.15642966],\n",
       "       ...,\n",
       "       [4.21928957],\n",
       "       [2.43410261],\n",
       "       [4.23721564]])"
      ]
     },
     "execution_count": 61,
     "metadata": {
      "tags": []
     },
     "output_type": "execute_result"
    }
   ],
   "source": [
    "reg.predict(gX)"
   ]
  },
  {
   "cell_type": "code",
   "execution_count": 62,
   "metadata": {
    "colab": {
     "base_uri": "https://localhost:8080/"
    },
    "id": "d4aVBJSyITOM",
    "outputId": "d804607a-f2cd-470c-b2a7-44c91da37c23"
   },
   "outputs": [
    {
     "data": {
      "text/plain": [
       "array([[ 0.39451943,  0.62355299, -0.00584316, -0.0121875 ]])"
      ]
     },
     "execution_count": 62,
     "metadata": {
      "tags": []
     },
     "output_type": "execute_result"
    }
   ],
   "source": [
    "reg.coef_"
   ]
  },
  {
   "cell_type": "code",
   "execution_count": 63,
   "metadata": {
    "colab": {
     "base_uri": "https://localhost:8080/"
    },
    "id": "mDNW9dmMIajt",
    "outputId": "a7198e8c-f1fe-40eb-f66f-df9a7bdcf043"
   },
   "outputs": [
    {
     "data": {
      "text/plain": [
       "0.4089700273137137"
      ]
     },
     "execution_count": 63,
     "metadata": {
      "tags": []
     },
     "output_type": "execute_result"
    }
   ],
   "source": [
    "from sklearn.metrics import mean_squared_error\n",
    "\n",
    "pred = reg.predict(gX)\n",
    "actual = gY\n",
    "\n",
    "np.sqrt(mean_squared_error(pred, actual))"
   ]
  },
  {
   "cell_type": "code",
   "execution_count": 64,
   "metadata": {
    "colab": {
     "base_uri": "https://localhost:8080/"
    },
    "id": "DLQToPGyOH__",
    "outputId": "019e16ba-a2dd-4c25-fafb-eda6b1d2f7ea"
   },
   "outputs": [
    {
     "name": "stdout",
     "output_type": "stream",
     "text": [
      "0.9549310708629474\n"
     ]
    },
    {
     "data": {
      "text/plain": [
       "0.4089700273137137"
      ]
     },
     "execution_count": 64,
     "metadata": {
      "tags": []
     },
     "output_type": "execute_result"
    }
   ],
   "source": [
    "reg = LinearRegression().fit(gX, gY)\n",
    "print(reg.score(gX, gY))\n",
    "\n",
    "pred = reg.predict(gX)\n",
    "actual = gY\n",
    "\n",
    "np.sqrt(mean_squared_error(pred, actual))"
   ]
  },
  {
   "cell_type": "code",
   "execution_count": 65,
   "metadata": {
    "colab": {
     "base_uri": "https://localhost:8080/"
    },
    "id": "Xs1pYPmPomqN",
    "outputId": "00a067f0-d1c3-45f9-c46f-52d0b7f22e6f"
   },
   "outputs": [
    {
     "data": {
      "text/plain": [
       "array([[ 0.39451943,  0.62355299, -0.00584316, -0.0121875 ]])"
      ]
     },
     "execution_count": 65,
     "metadata": {
      "tags": []
     },
     "output_type": "execute_result"
    }
   ],
   "source": [
    "reg.coef_"
   ]
  },
  {
   "cell_type": "code",
   "execution_count": 66,
   "metadata": {
    "colab": {
     "base_uri": "https://localhost:8080/"
    },
    "id": "Xm5bee0vNFIg",
    "outputId": "c302e755-8804-4c76-afb2-a7fee85df242"
   },
   "outputs": [
    {
     "name": "stdout",
     "output_type": "stream",
     "text": [
      "0.9437394066880166\n"
     ]
    },
    {
     "data": {
      "text/plain": [
       "0.6735477307884534"
      ]
     },
     "execution_count": 66,
     "metadata": {
      "tags": []
     },
     "output_type": "execute_result"
    }
   ],
   "source": [
    "reg = LinearRegression().fit(uX, uY)\n",
    "print(reg.score(uX, uY))\n",
    "\n",
    "pred = reg.predict(uX)\n",
    "actual = uY\n",
    "\n",
    "np.sqrt(mean_squared_error(pred, actual))"
   ]
  },
  {
   "cell_type": "code",
   "execution_count": 67,
   "metadata": {
    "colab": {
     "base_uri": "https://localhost:8080/"
    },
    "id": "AoP0UCs0ok8d",
    "outputId": "76e12ddd-93a4-44ec-bd5b-204fa4824495"
   },
   "outputs": [
    {
     "data": {
      "text/plain": [
       "array([[0.56704491, 0.40050452, 0.01584245, 0.03268518]])"
      ]
     },
     "execution_count": 67,
     "metadata": {
      "tags": []
     },
     "output_type": "execute_result"
    }
   ],
   "source": [
    "reg.coef_"
   ]
  },
  {
   "cell_type": "code",
   "execution_count": 68,
   "metadata": {
    "colab": {
     "base_uri": "https://localhost:8080/"
    },
    "id": "nUoIvhdhJCpv",
    "outputId": "bee4cb95-8809-4eb2-bd49-f46804352c06"
   },
   "outputs": [
    {
     "name": "stdout",
     "output_type": "stream",
     "text": [
      "0.9251698478091955\n"
     ]
    },
    {
     "data": {
      "text/plain": [
       "0.33160928669688405"
      ]
     },
     "execution_count": 68,
     "metadata": {
      "tags": []
     },
     "output_type": "execute_result"
    }
   ],
   "source": [
    "reg = LinearRegression().fit(cX, cY)\n",
    "print(reg.score(cX, cY))\n",
    "\n",
    "pred = reg.predict(cX)\n",
    "actual = cY\n",
    "\n",
    "np.sqrt(mean_squared_error(pred, actual))"
   ]
  },
  {
   "cell_type": "code",
   "execution_count": 69,
   "metadata": {
    "colab": {
     "base_uri": "https://localhost:8080/"
    },
    "id": "Vy2ZEpqsojkA",
    "outputId": "1203b8f4-a6bb-4735-dd49-4152e2103ef1"
   },
   "outputs": [
    {
     "data": {
      "text/plain": [
       "array([[-0.09791807,  1.20435237,  0.06206949, -0.06951675]])"
      ]
     },
     "execution_count": 69,
     "metadata": {
      "tags": []
     },
     "output_type": "execute_result"
    }
   ],
   "source": [
    "reg.coef_"
   ]
  },
  {
   "cell_type": "code",
   "execution_count": 70,
   "metadata": {
    "colab": {
     "base_uri": "https://localhost:8080/"
    },
    "id": "rPjmaFawNJWE",
    "outputId": "f3a6adf8-0b3e-48fb-90c9-30956e8c1af9"
   },
   "outputs": [
    {
     "name": "stdout",
     "output_type": "stream",
     "text": [
      "0.9311808648943892\n"
     ]
    },
    {
     "data": {
      "text/plain": [
       "0.31517548684660446"
      ]
     },
     "execution_count": 70,
     "metadata": {
      "tags": []
     },
     "output_type": "execute_result"
    }
   ],
   "source": [
    "reg = LinearRegression().fit(pX, pY)\n",
    "print(reg.score(pX, pY))\n",
    "\n",
    "pred = reg.predict(pX)\n",
    "actual = pY\n",
    "\n",
    "np.sqrt(mean_squared_error(pred, actual))"
   ]
  },
  {
   "cell_type": "code",
   "execution_count": 71,
   "metadata": {
    "colab": {
     "base_uri": "https://localhost:8080/"
    },
    "id": "6YqvHpJRNN0o",
    "outputId": "653ebef9-3871-47d2-98da-38fa9d33d59f"
   },
   "outputs": [
    {
     "data": {
      "text/plain": [
       "array([[ 1.23070382, -0.22976726, -0.00268178, -0.04048661]])"
      ]
     },
     "execution_count": 71,
     "metadata": {
      "tags": []
     },
     "output_type": "execute_result"
    }
   ],
   "source": [
    "reg.coef_"
   ]
  },
  {
   "cell_type": "markdown",
   "metadata": {
    "id": "XKhBQ8Iwi8P2"
   },
   "source": [
    "Use Gridsearch Results"
   ]
  },
  {
   "cell_type": "code",
   "execution_count": 71,
   "metadata": {
    "id": "F3aO_OmMoiI8"
   },
   "outputs": [],
   "source": []
  },
  {
   "cell_type": "code",
   "execution_count": 72,
   "metadata": {
    "id": "3dMqKC4pi-yL"
   },
   "outputs": [],
   "source": [
    "uX = dfs[[\"XGBoost Unemployment\", \"Random Forest Unemployment\"]]\n",
    "uY = dfs[[\"Unemployment actual\"]]\n",
    "\n",
    "uX = uX.dropna()\n",
    "uY = uY.dropna()"
   ]
  },
  {
   "cell_type": "code",
   "execution_count": 73,
   "metadata": {
    "id": "L8-mLDGJjC60"
   },
   "outputs": [],
   "source": [
    "gX = dfs[[\"XGBoost RealGDP\", \"Random Forest RealGDP\"]]\n",
    "gY = dfs[[\"RealGDP actual\"]]"
   ]
  },
  {
   "cell_type": "code",
   "execution_count": 74,
   "metadata": {
    "id": "qSIqHV_ejEvm"
   },
   "outputs": [],
   "source": [
    "cX = dfs[[\"XGBoost Core CPI\", \"Random Forest Core CPI\"]]\n",
    "cY = dfs[[\"Core CPI actual\"]]\n",
    "\n",
    "cX = cX.dropna()\n",
    "cY = cY.dropna()"
   ]
  },
  {
   "cell_type": "code",
   "execution_count": 75,
   "metadata": {
    "id": "ygeSWBA7jHIH"
   },
   "outputs": [],
   "source": [
    "pX = dfs[[\"XGBoost Core PCE\", \"Random Forest Core PCE\"]]\n",
    "pY = dfs[[\"Core PCE actual\"]]\n",
    "\n",
    "pX = pX.dropna()\n",
    "pY = pY.dropna()"
   ]
  },
  {
   "cell_type": "code",
   "execution_count": 76,
   "metadata": {
    "colab": {
     "base_uri": "https://localhost:8080/"
    },
    "id": "dIbbmEx8jNzw",
    "outputId": "deffbc9a-a56f-42e2-de17-933ad500a44f"
   },
   "outputs": [
    {
     "name": "stdout",
     "output_type": "stream",
     "text": [
      "0.9546869021295435\n"
     ]
    },
    {
     "data": {
      "text/plain": [
       "0.4100763638910511"
      ]
     },
     "execution_count": 76,
     "metadata": {
      "tags": []
     },
     "output_type": "execute_result"
    }
   ],
   "source": [
    "reg = LinearRegression().fit(gX, gY)\n",
    "print(reg.score(gX, gY))\n",
    "\n",
    "pred = reg.predict(gX)\n",
    "actual = gY\n",
    "\n",
    "np.sqrt(mean_squared_error(pred, actual))"
   ]
  },
  {
   "cell_type": "code",
   "execution_count": 77,
   "metadata": {
    "colab": {
     "base_uri": "https://localhost:8080/"
    },
    "id": "h_E5TUxXjRPd",
    "outputId": "7c359dbe-5191-45fa-8fc9-d977f559fdc7"
   },
   "outputs": [
    {
     "data": {
      "text/plain": [
       "array([[0.42815693, 0.57616913]])"
      ]
     },
     "execution_count": 77,
     "metadata": {
      "tags": []
     },
     "output_type": "execute_result"
    }
   ],
   "source": [
    "reg.coef_"
   ]
  },
  {
   "cell_type": "code",
   "execution_count": 78,
   "metadata": {
    "colab": {
     "base_uri": "https://localhost:8080/"
    },
    "id": "Mv06rZsSjUH7",
    "outputId": "aa71aec4-df7a-44dd-bbe3-2a366a9daf8b"
   },
   "outputs": [
    {
     "name": "stdout",
     "output_type": "stream",
     "text": [
      "0.9442919819963325\n"
     ]
    },
    {
     "data": {
      "text/plain": [
       "0.6702318731501157"
      ]
     },
     "execution_count": 78,
     "metadata": {
      "tags": []
     },
     "output_type": "execute_result"
    }
   ],
   "source": [
    "reg = LinearRegression().fit(uX, uY)\n",
    "print(reg.score(uX, uY))\n",
    "\n",
    "pred = reg.predict(uX)\n",
    "actual = uY\n",
    "\n",
    "np.sqrt(mean_squared_error(pred, actual))"
   ]
  },
  {
   "cell_type": "code",
   "execution_count": 79,
   "metadata": {
    "colab": {
     "base_uri": "https://localhost:8080/"
    },
    "id": "4ciadom6jU80",
    "outputId": "de584b4e-ae5c-411a-9390-337f170225ca"
   },
   "outputs": [
    {
     "data": {
      "text/plain": [
       "array([[0.74354694, 0.26637404]])"
      ]
     },
     "execution_count": 79,
     "metadata": {
      "tags": []
     },
     "output_type": "execute_result"
    }
   ],
   "source": [
    "reg.coef_"
   ]
  },
  {
   "cell_type": "code",
   "execution_count": 80,
   "metadata": {
    "colab": {
     "base_uri": "https://localhost:8080/"
    },
    "id": "gAPqjCFljYhX",
    "outputId": "0f51803b-2b98-4558-95fa-25e60ade0cc5"
   },
   "outputs": [
    {
     "name": "stdout",
     "output_type": "stream",
     "text": [
      "0.922610484523368\n"
     ]
    },
    {
     "data": {
      "text/plain": [
       "0.337232509244397"
      ]
     },
     "execution_count": 80,
     "metadata": {
      "tags": []
     },
     "output_type": "execute_result"
    }
   ],
   "source": [
    "reg = LinearRegression().fit(cX, cY)\n",
    "print(reg.score(cX, cY))\n",
    "\n",
    "pred = reg.predict(cX)\n",
    "actual = cY\n",
    "\n",
    "np.sqrt(mean_squared_error(pred, actual))"
   ]
  },
  {
   "cell_type": "code",
   "execution_count": 81,
   "metadata": {
    "colab": {
     "base_uri": "https://localhost:8080/"
    },
    "id": "lfqVoY-ijZQy",
    "outputId": "84a8de23-39ec-4b12-d610-917dc3abf6e9"
   },
   "outputs": [
    {
     "data": {
      "text/plain": [
       "array([[-0.45484695,  1.50678078]])"
      ]
     },
     "execution_count": 81,
     "metadata": {
      "tags": []
     },
     "output_type": "execute_result"
    }
   ],
   "source": [
    "reg.coef_"
   ]
  },
  {
   "cell_type": "code",
   "execution_count": 82,
   "metadata": {
    "colab": {
     "base_uri": "https://localhost:8080/"
    },
    "id": "57Ch4uJdjbHW",
    "outputId": "d457c0d0-d14e-4c9a-8351-f33715127fbe"
   },
   "outputs": [
    {
     "name": "stdout",
     "output_type": "stream",
     "text": [
      "0.9039947016794517\n"
     ]
    },
    {
     "data": {
      "text/plain": [
       "0.37225918993422225"
      ]
     },
     "execution_count": 82,
     "metadata": {
      "tags": []
     },
     "output_type": "execute_result"
    }
   ],
   "source": [
    "reg = LinearRegression().fit(pX, pY)\n",
    "print(reg.score(pX, pY))\n",
    "\n",
    "pred = reg.predict(pX)\n",
    "actual = pY\n",
    "\n",
    "np.sqrt(mean_squared_error(pred, actual))"
   ]
  },
  {
   "cell_type": "code",
   "execution_count": 83,
   "metadata": {
    "colab": {
     "base_uri": "https://localhost:8080/"
    },
    "id": "hV5QYj-Cjb6d",
    "outputId": "dada75eb-39db-4dfc-f335-0fa1d0a66a85"
   },
   "outputs": [
    {
     "data": {
      "text/plain": [
       "array([[0.41344445, 0.59470852]])"
      ]
     },
     "execution_count": 83,
     "metadata": {
      "tags": []
     },
     "output_type": "execute_result"
    }
   ],
   "source": [
    "reg.coef_"
   ]
  }
 ],
 "metadata": {
  "colab": {
   "name": "ensemble",
   "provenance": []
  },
  "kernelspec": {
   "display_name": "Python 3 (ipykernel)",
   "language": "python",
   "name": "python3"
  },
  "language_info": {
   "codemirror_mode": {
    "name": "ipython",
    "version": 3
   },
   "file_extension": ".py",
   "mimetype": "text/x-python",
   "name": "python",
   "nbconvert_exporter": "python",
   "pygments_lexer": "ipython3",
   "version": "3.8.6"
  }
 },
 "nbformat": 4,
 "nbformat_minor": 1
}
