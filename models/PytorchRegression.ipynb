{
 "cells": [
  {
   "cell_type": "code",
   "execution_count": 211,
   "metadata": {},
   "outputs": [],
   "source": [
    "import torch\n",
    "import pandas as pd\n",
    "import numpy as np\n",
    "import os\n",
    "import matplotlib.pyplot as plt\n",
    "from sklearn.metrics import mean_squared_error\n",
    "from sklearn.model_selection import cross_val_score"
   ]
  },
  {
   "cell_type": "code",
   "execution_count": 2,
   "metadata": {},
   "outputs": [
    {
     "data": {
      "text/plain": [
       "'C:\\\\Users\\\\chris\\\\Desktop\\\\210\\\\W210-Capstone\\\\models'"
      ]
     },
     "execution_count": 2,
     "metadata": {},
     "output_type": "execute_result"
    }
   ],
   "source": [
    "os.getcwd()"
   ]
  },
  {
   "cell_type": "code",
   "execution_count": 3,
   "metadata": {},
   "outputs": [],
   "source": [
    "train = pd.read_csv(\"C:\\\\Users\\\\chris\\\\Desktop\\\\210\\\\W210-Capstone\\\\data\\\\TrainingData\\\\trainingWithItems.csv\")"
   ]
  },
  {
   "cell_type": "code",
   "execution_count": 4,
   "metadata": {},
   "outputs": [],
   "source": [
    "unemp = train[train['INDICATOR'] == \"Unemployment\"]\n",
    "rgdp = train[train['INDICATOR'] == \"RealGDP\"]\n",
    "cpce = train[train['INDICATOR'] == \"Core PCE\"]\n",
    "ccpi = train[train['INDICATOR'] == \"Core CPI\"]\n",
    "ngnp = train[train['INDICATOR'] == \"NominalGNP\"]\n",
    "rgnp = train[train['INDICATOR'] == \"RealGNP\"]"
   ]
  },
  {
   "cell_type": "code",
   "execution_count": 165,
   "metadata": {},
   "outputs": [],
   "source": [
    "unemp = unemp[unemp['YEAR BEING FORECAST'] != \"2020\"]"
   ]
  },
  {
   "cell_type": "code",
   "execution_count": 166,
   "metadata": {},
   "outputs": [],
   "source": [
    "np.random.seed(0)\n",
    "def model_setup(df):\n",
    "    \n",
    "    rand = df.sample(frac = 1)\n",
    "    #80/20 split\n",
    "    nrow = len(rand)\n",
    "    train_prop = int(np.round(nrow*0.8))\n",
    "    train = rand[:train_prop]\n",
    "    val = rand[train_prop:]\n",
    "    \n",
    "    train = train[[\"FORECASTER ID\", \"MAX\", \"pred_average\", \"pred_var\", \"HIT\", \"ACTUAL_CONF\", \"actual\",\n",
    "                  \"chicken\", \"coffee\", \"eggs\", \"electricity\", \"rice\", \"unleadedGasoline\"]]\n",
    "    val = val[[\"FORECASTER ID\", \"MAX\", \"pred_average\", \"pred_var\", \"HIT\", \"ACTUAL_CONF\", \"actual\",\n",
    "              \"chicken\", \"coffee\", \"eggs\", \"electricity\", \"rice\", \"unleadedGasoline\"]]\n",
    "    \n",
    "    return train.dropna(), val.dropna()"
   ]
  },
  {
   "cell_type": "code",
   "execution_count": 167,
   "metadata": {},
   "outputs": [],
   "source": [
    "def model(x):\n",
    "    return x @ w.t() + b"
   ]
  },
  {
   "cell_type": "code",
   "execution_count": 168,
   "metadata": {},
   "outputs": [],
   "source": [
    "def mse(t1, t2):\n",
    "    diff = t1 - t2\n",
    "    return torch.sum(diff * diff) / diff.numel()"
   ]
  },
  {
   "cell_type": "code",
   "execution_count": 169,
   "metadata": {},
   "outputs": [],
   "source": [
    "# train, val = model_setup(unemp)\n",
    "# X_train, Y_train = train[[\"MAX\", \"pred_average\", \"pred_var\", \"HIT\", \"ACTUAL_CONF\",\n",
    "#                          \"chicken\", \"coffee\", \"eggs\", \"electricity\", \"rice\", \"unleadedGasoline\"]], train[\"actual\"]\n",
    "# X_val, Y_val = val[[\"MAX\", \"pred_average\", \"pred_var\", \"HIT\", \"ACTUAL_CONF\",\n",
    "#                    \"chicken\", \"coffee\", \"eggs\", \"electricity\", \"rice\", \"unleadedGasoline\"]], val[\"actual\"]\n",
    "\n",
    "data = unemp[[\"MAX\", \"pred_average\", \"pred_var\", \"HIT\", \"ACTUAL_CONF\", \"actual\",\n",
    "                  \"chicken\", \"coffee\", \"eggs\", \"electricity\", \"rice\", \"unleadedGasoline\"]].dropna()\n",
    "X, Y = data[[\"MAX\", \"pred_average\", \"pred_var\", \"HIT\", \"ACTUAL_CONF\",\n",
    "                  \"chicken\", \"coffee\", \"eggs\", \"electricity\", \"rice\", \"unleadedGasoline\"]], data[['actual']]"
   ]
  },
  {
   "cell_type": "code",
   "execution_count": 170,
   "metadata": {},
   "outputs": [],
   "source": [
    "inputs = X.values\n",
    "inputs = torch.from_numpy(inputs).float()"
   ]
  },
  {
   "cell_type": "code",
   "execution_count": 171,
   "metadata": {},
   "outputs": [],
   "source": [
    "targets = Y.values\n",
    "targets = torch.from_numpy(targets).float()"
   ]
  },
  {
   "cell_type": "code",
   "execution_count": 172,
   "metadata": {},
   "outputs": [],
   "source": [
    "w = torch.randn(1, 11, requires_grad=True)\n",
    "b = torch.randn(1, requires_grad=True)"
   ]
  },
  {
   "cell_type": "code",
   "execution_count": 173,
   "metadata": {},
   "outputs": [],
   "source": [
    "losses = []\n",
    "for i in range(10000):\n",
    "    preds = model(inputs)\n",
    "    loss = mse(preds, targets)\n",
    "    losses.append(loss)\n",
    "    loss.backward()\n",
    "    with torch.no_grad():\n",
    "        w -= w.grad * 1e-5\n",
    "        b -= b.grad * 1e-5\n",
    "        w.grad.zero_()\n",
    "        b.grad.zero_()"
   ]
  },
  {
   "cell_type": "code",
   "execution_count": 174,
   "metadata": {},
   "outputs": [
    {
     "data": {
      "text/plain": [
       "tensor(5.0086, grad_fn=<DivBackward0>)"
      ]
     },
     "execution_count": 174,
     "metadata": {},
     "output_type": "execute_result"
    }
   ],
   "source": [
    "loss"
   ]
  },
  {
   "cell_type": "code",
   "execution_count": 175,
   "metadata": {},
   "outputs": [
    {
     "data": {
      "text/plain": [
       "[<matplotlib.lines.Line2D at 0x1c189259400>]"
      ]
     },
     "execution_count": 175,
     "metadata": {},
     "output_type": "execute_result"
    },
    {
     "data": {
      "image/png": "[encoded data removed]",
      "text/plain": [
       "<Figure size 432x288 with 1 Axes>"
      ]
     },
     "metadata": {
      "needs_background": "light"
     },
     "output_type": "display_data"
    }
   ],
   "source": [
    "plt.plot(losses)"
   ]
  },
  {
   "cell_type": "code",
   "execution_count": 176,
   "metadata": {},
   "outputs": [],
   "source": [
    "preds_array = preds.detach().numpy()"
   ]
  },
  {
   "cell_type": "code",
   "execution_count": 177,
   "metadata": {},
   "outputs": [],
   "source": [
    "preds_array = preds_array.flatten()"
   ]
  },
  {
   "cell_type": "code",
   "execution_count": 236,
   "metadata": {},
   "outputs": [
    {
     "data": {
      "text/plain": [
       "5.008577454257108"
      ]
     },
     "execution_count": 236,
     "metadata": {},
     "output_type": "execute_result"
    }
   ],
   "source": [
    "mean_squared_error(preds_array, np.array(Y['actual'].tolist()))"
   ]
  },
  {
   "cell_type": "code",
   "execution_count": 238,
   "metadata": {},
   "outputs": [
    {
     "data": {
      "text/plain": [
       "5.743489403605204"
      ]
     },
     "execution_count": 238,
     "metadata": {},
     "output_type": "execute_result"
    }
   ],
   "source": [
    "mean_squared_error(X['pred_average'].tolist(), np.array(Y['actual'].tolist()))"
   ]
  },
  {
   "cell_type": "code",
   "execution_count": 237,
   "metadata": {},
   "outputs": [
    {
     "data": {
      "text/plain": [
       "0.6134892909916111"
      ]
     },
     "execution_count": 237,
     "metadata": {},
     "output_type": "execute_result"
    }
   ],
   "source": [
    "np.corrcoef(preds_array, np.array(Y['actual'].tolist()))[0][1]"
   ]
  },
  {
   "cell_type": "code",
   "execution_count": 239,
   "metadata": {},
   "outputs": [
    {
     "data": {
      "text/plain": [
       "0.630839249879817"
      ]
     },
     "execution_count": 239,
     "metadata": {},
     "output_type": "execute_result"
    }
   ],
   "source": [
    "np.corrcoef(X['pred_average'].tolist(), Y['actual'].tolist())[0][1]"
   ]
  },
  {
   "cell_type": "code",
   "execution_count": 178,
   "metadata": {},
   "outputs": [],
   "source": [
    "diffs = np.subtract(preds_array, np.array(Y['actual'].tolist()))"
   ]
  },
  {
   "cell_type": "code",
   "execution_count": 179,
   "metadata": {},
   "outputs": [],
   "source": [
    "actual_diffs = np.subtract(X['pred_average'].tolist(), np.array(Y['actual'].tolist()))"
   ]
  },
  {
   "cell_type": "code",
   "execution_count": 180,
   "metadata": {},
   "outputs": [
    {
     "data": {
      "image/png": "[encoded data removed]",
      "text/plain": [
       "<Figure size 432x288 with 1 Axes>"
      ]
     },
     "metadata": {
      "needs_background": "light"
     },
     "output_type": "display_data"
    }
   ],
   "source": [
    "plt.hist(diffs)\n",
    "plt.show()"
   ]
  },
  {
   "cell_type": "code",
   "execution_count": 181,
   "metadata": {},
   "outputs": [
    {
     "data": {
      "image/png": "[encoded data removed]",
      "text/plain": [
       "<Figure size 432x288 with 1 Axes>"
      ]
     },
     "metadata": {
      "needs_background": "light"
     },
     "output_type": "display_data"
    }
   ],
   "source": [
    "plt.hist(actual_diffs)\n",
    "plt.show()"
   ]
  },
  {
   "cell_type": "code",
   "execution_count": 223,
   "metadata": {},
   "outputs": [],
   "source": [
    "import torch\n",
    "from torch.autograd import Variable\n",
    "class linearRegression(torch.nn.Module):\n",
    "    def __init__(self, inputSize, outputSize):\n",
    "        super(linearRegression, self).__init__()\n",
    "        self.linear = torch.nn.Linear(inputSize, outputSize)\n",
    "\n",
    "    def forward(self, x):\n",
    "        out = self.linear(x)\n",
    "        return out"
   ]
  },
  {
   "cell_type": "code",
   "execution_count": 224,
   "metadata": {},
   "outputs": [],
   "source": [
    "inputDim = 11        # takes variable 'x' \n",
    "outputDim = 1       # takes variable 'y'\n",
    "learningRate = 0.01 \n",
    "epochs = 100\n",
    "\n",
    "model = linearRegression(inputDim, outputDim)\n",
    "##### For GPU #######\n",
    "if torch.cuda.is_available():\n",
    "    model.cuda()"
   ]
  },
  {
   "cell_type": "code",
   "execution_count": 225,
   "metadata": {},
   "outputs": [],
   "source": [
    "criterion = torch.nn.MSELoss() \n",
    "optimizer = torch.optim.SGD(model.parameters(), lr=learningRate)"
   ]
  },
  {
   "cell_type": "code",
   "execution_count": 226,
   "metadata": {},
   "outputs": [
    {
     "name": "stdout",
     "output_type": "stream",
     "text": [
      "tensor(70.0723, grad_fn=<MseLossBackward>)\n",
      "epoch 0, loss 70.072265625\n",
      "tensor(25.6599, grad_fn=<MseLossBackward>)\n",
      "epoch 1, loss 25.659873962402344\n",
      "tensor(11.7899, grad_fn=<MseLossBackward>)\n",
      "epoch 2, loss 11.789939880371094\n",
      "tensor(7.4371, grad_fn=<MseLossBackward>)\n",
      "epoch 3, loss 7.437109470367432\n",
      "tensor(6.0512, grad_fn=<MseLossBackward>)\n",
      "epoch 4, loss 6.051153659820557\n",
      "tensor(5.5913, grad_fn=<MseLossBackward>)\n",
      "epoch 5, loss 5.591345310211182\n",
      "tensor(5.4218, grad_fn=<MseLossBackward>)\n",
      "epoch 6, loss 5.42180871963501\n",
      "tensor(5.3443, grad_fn=<MseLossBackward>)\n",
      "epoch 7, loss 5.344334602355957\n",
      "tensor(5.2971, grad_fn=<MseLossBackward>)\n",
      "epoch 8, loss 5.297067165374756\n",
      "tensor(5.2606, grad_fn=<MseLossBackward>)\n",
      "epoch 9, loss 5.260637283325195\n",
      "tensor(5.2289, grad_fn=<MseLossBackward>)\n",
      "epoch 10, loss 5.228918075561523\n",
      "tensor(5.1999, grad_fn=<MseLossBackward>)\n",
      "epoch 11, loss 5.199912071228027\n",
      "tensor(5.1729, grad_fn=<MseLossBackward>)\n",
      "epoch 12, loss 5.172917366027832\n",
      "tensor(5.1476, grad_fn=<MseLossBackward>)\n",
      "epoch 13, loss 5.147639274597168\n",
      "tensor(5.1239, grad_fn=<MseLossBackward>)\n",
      "epoch 14, loss 5.12391471862793\n",
      "tensor(5.1016, grad_fn=<MseLossBackward>)\n",
      "epoch 15, loss 5.101626396179199\n",
      "tensor(5.0807, grad_fn=<MseLossBackward>)\n",
      "epoch 16, loss 5.080676078796387\n",
      "tensor(5.0610, grad_fn=<MseLossBackward>)\n",
      "epoch 17, loss 5.060975551605225\n",
      "tensor(5.0424, grad_fn=<MseLossBackward>)\n",
      "epoch 18, loss 5.0424418449401855\n",
      "tensor(5.0250, grad_fn=<MseLossBackward>)\n",
      "epoch 19, loss 5.025000095367432\n",
      "tensor(5.0086, grad_fn=<MseLossBackward>)\n",
      "epoch 20, loss 5.008578777313232\n",
      "tensor(4.9931, grad_fn=<MseLossBackward>)\n",
      "epoch 21, loss 4.993111610412598\n",
      "tensor(4.9785, grad_fn=<MseLossBackward>)\n",
      "epoch 22, loss 4.978536605834961\n",
      "tensor(4.9648, grad_fn=<MseLossBackward>)\n",
      "epoch 23, loss 4.96479606628418\n",
      "tensor(4.9518, grad_fn=<MseLossBackward>)\n",
      "epoch 24, loss 4.951836585998535\n",
      "tensor(4.9396, grad_fn=<MseLossBackward>)\n",
      "epoch 25, loss 4.9396071434021\n",
      "tensor(4.9281, grad_fn=<MseLossBackward>)\n",
      "epoch 26, loss 4.9280595779418945\n",
      "tensor(4.9172, grad_fn=<MseLossBackward>)\n",
      "epoch 27, loss 4.917150497436523\n",
      "tensor(4.9068, grad_fn=<MseLossBackward>)\n",
      "epoch 28, loss 4.906839370727539\n",
      "tensor(4.8971, grad_fn=<MseLossBackward>)\n",
      "epoch 29, loss 4.897085666656494\n",
      "tensor(4.8879, grad_fn=<MseLossBackward>)\n",
      "epoch 30, loss 4.887855052947998\n",
      "tensor(4.8791, grad_fn=<MseLossBackward>)\n",
      "epoch 31, loss 4.879114627838135\n",
      "tensor(4.8708, grad_fn=<MseLossBackward>)\n",
      "epoch 32, loss 4.870830535888672\n",
      "tensor(4.8630, grad_fn=<MseLossBackward>)\n",
      "epoch 33, loss 4.862974643707275\n",
      "tensor(4.8555, grad_fn=<MseLossBackward>)\n",
      "epoch 34, loss 4.855519771575928\n",
      "tensor(4.8484, grad_fn=<MseLossBackward>)\n",
      "epoch 35, loss 4.848439693450928\n",
      "tensor(4.8417, grad_fn=<MseLossBackward>)\n",
      "epoch 36, loss 4.841710567474365\n",
      "tensor(4.8353, grad_fn=<MseLossBackward>)\n",
      "epoch 37, loss 4.8353095054626465\n",
      "tensor(4.8292, grad_fn=<MseLossBackward>)\n",
      "epoch 38, loss 4.829216003417969\n",
      "tensor(4.8234, grad_fn=<MseLossBackward>)\n",
      "epoch 39, loss 4.8234100341796875\n",
      "tensor(4.8179, grad_fn=<MseLossBackward>)\n",
      "epoch 40, loss 4.817874908447266\n",
      "tensor(4.8126, grad_fn=<MseLossBackward>)\n",
      "epoch 41, loss 4.812591075897217\n",
      "tensor(4.8075, grad_fn=<MseLossBackward>)\n",
      "epoch 42, loss 4.807543754577637\n",
      "tensor(4.8027, grad_fn=<MseLossBackward>)\n",
      "epoch 43, loss 4.802718639373779\n",
      "tensor(4.7981, grad_fn=<MseLossBackward>)\n",
      "epoch 44, loss 4.798099994659424\n",
      "tensor(4.7937, grad_fn=<MseLossBackward>)\n",
      "epoch 45, loss 4.793676376342773\n",
      "tensor(4.7894, grad_fn=<MseLossBackward>)\n",
      "epoch 46, loss 4.789434909820557\n",
      "tensor(4.7854, grad_fn=<MseLossBackward>)\n",
      "epoch 47, loss 4.785364151000977\n",
      "tensor(4.7815, grad_fn=<MseLossBackward>)\n",
      "epoch 48, loss 4.7814531326293945\n",
      "tensor(4.7777, grad_fn=<MseLossBackward>)\n",
      "epoch 49, loss 4.777692794799805\n",
      "tensor(4.7741, grad_fn=<MseLossBackward>)\n",
      "epoch 50, loss 4.774073123931885\n",
      "tensor(4.7706, grad_fn=<MseLossBackward>)\n",
      "epoch 51, loss 4.770585060119629\n",
      "tensor(4.7672, grad_fn=<MseLossBackward>)\n",
      "epoch 52, loss 4.767221450805664\n",
      "tensor(4.7640, grad_fn=<MseLossBackward>)\n",
      "epoch 53, loss 4.763973712921143\n",
      "tensor(4.7608, grad_fn=<MseLossBackward>)\n",
      "epoch 54, loss 4.760835647583008\n",
      "tensor(4.7578, grad_fn=<MseLossBackward>)\n",
      "epoch 55, loss 4.75779914855957\n",
      "tensor(4.7549, grad_fn=<MseLossBackward>)\n",
      "epoch 56, loss 4.7548604011535645\n",
      "tensor(4.7520, grad_fn=<MseLossBackward>)\n",
      "epoch 57, loss 4.752010822296143\n",
      "tensor(4.7492, grad_fn=<MseLossBackward>)\n",
      "epoch 58, loss 4.749247074127197\n",
      "tensor(4.7466, grad_fn=<MseLossBackward>)\n",
      "epoch 59, loss 4.746562957763672\n",
      "tensor(4.7440, grad_fn=<MseLossBackward>)\n",
      "epoch 60, loss 4.743953704833984\n",
      "tensor(4.7414, grad_fn=<MseLossBackward>)\n",
      "epoch 61, loss 4.741415500640869\n",
      "tensor(4.7389, grad_fn=<MseLossBackward>)\n",
      "epoch 62, loss 4.738943576812744\n",
      "tensor(4.7365, grad_fn=<MseLossBackward>)\n",
      "epoch 63, loss 4.736534118652344\n",
      "tensor(4.7342, grad_fn=<MseLossBackward>)\n",
      "epoch 64, loss 4.7341837882995605\n",
      "tensor(4.7319, grad_fn=<MseLossBackward>)\n",
      "epoch 65, loss 4.731888294219971\n",
      "tensor(4.7296, grad_fn=<MseLossBackward>)\n",
      "epoch 66, loss 4.7296462059021\n",
      "tensor(4.7275, grad_fn=<MseLossBackward>)\n",
      "epoch 67, loss 4.727452754974365\n",
      "tensor(4.7253, grad_fn=<MseLossBackward>)\n",
      "epoch 68, loss 4.725306510925293\n",
      "tensor(4.7232, grad_fn=<MseLossBackward>)\n",
      "epoch 69, loss 4.723203659057617\n",
      "tensor(4.7211, grad_fn=<MseLossBackward>)\n",
      "epoch 70, loss 4.7211432456970215\n",
      "tensor(4.7191, grad_fn=<MseLossBackward>)\n",
      "epoch 71, loss 4.71912145614624\n",
      "tensor(4.7171, grad_fn=<MseLossBackward>)\n",
      "epoch 72, loss 4.717136383056641\n",
      "tensor(4.7152, grad_fn=<MseLossBackward>)\n",
      "epoch 73, loss 4.715188026428223\n",
      "tensor(4.7133, grad_fn=<MseLossBackward>)\n",
      "epoch 74, loss 4.713271617889404\n",
      "tensor(4.7114, grad_fn=<MseLossBackward>)\n",
      "epoch 75, loss 4.711386680603027\n",
      "tensor(4.7095, grad_fn=<MseLossBackward>)\n",
      "epoch 76, loss 4.709531784057617\n",
      "tensor(4.7077, grad_fn=<MseLossBackward>)\n",
      "epoch 77, loss 4.707705497741699\n",
      "tensor(4.7059, grad_fn=<MseLossBackward>)\n",
      "epoch 78, loss 4.705905437469482\n",
      "tensor(4.7041, grad_fn=<MseLossBackward>)\n",
      "epoch 79, loss 4.704131126403809\n",
      "tensor(4.7024, grad_fn=<MseLossBackward>)\n",
      "epoch 80, loss 4.702381610870361\n",
      "tensor(4.7007, grad_fn=<MseLossBackward>)\n",
      "epoch 81, loss 4.70065450668335\n",
      "tensor(4.6989, grad_fn=<MseLossBackward>)\n",
      "epoch 82, loss 4.698949813842773\n",
      "tensor(4.6973, grad_fn=<MseLossBackward>)\n",
      "epoch 83, loss 4.697265625\n",
      "tensor(4.6956, grad_fn=<MseLossBackward>)\n",
      "epoch 84, loss 4.6956024169921875\n",
      "tensor(4.6940, grad_fn=<MseLossBackward>)\n",
      "epoch 85, loss 4.6939568519592285\n",
      "tensor(4.6923, grad_fn=<MseLossBackward>)\n",
      "epoch 86, loss 4.692330360412598\n",
      "tensor(4.6907, grad_fn=<MseLossBackward>)\n",
      "epoch 87, loss 4.69072151184082\n",
      "tensor(4.6891, grad_fn=<MseLossBackward>)\n",
      "epoch 88, loss 4.689128398895264\n",
      "tensor(4.6876, grad_fn=<MseLossBackward>)\n",
      "epoch 89, loss 4.687551975250244\n",
      "tensor(4.6860, grad_fn=<MseLossBackward>)\n",
      "epoch 90, loss 4.685990333557129\n",
      "tensor(4.6844, grad_fn=<MseLossBackward>)\n",
      "epoch 91, loss 4.684443473815918\n",
      "tensor(4.6829, grad_fn=<MseLossBackward>)\n",
      "epoch 92, loss 4.682910919189453\n",
      "tensor(4.6814, grad_fn=<MseLossBackward>)\n",
      "epoch 93, loss 4.681391716003418\n",
      "tensor(4.6799, grad_fn=<MseLossBackward>)\n",
      "epoch 94, loss 4.679885387420654\n",
      "tensor(4.6784, grad_fn=<MseLossBackward>)\n",
      "epoch 95, loss 4.678391456604004\n",
      "tensor(4.6769, grad_fn=<MseLossBackward>)\n",
      "epoch 96, loss 4.676910400390625\n",
      "tensor(4.6754, grad_fn=<MseLossBackward>)\n",
      "epoch 97, loss 4.675439834594727\n",
      "tensor(4.6740, grad_fn=<MseLossBackward>)\n",
      "epoch 98, loss 4.673981189727783\n",
      "tensor(4.6725, grad_fn=<MseLossBackward>)\n",
      "epoch 99, loss 4.672533988952637\n"
     ]
    }
   ],
   "source": [
    "for epoch in range(epochs):\n",
    "    # Converting inputs and labels to Variable\n",
    "    if torch.cuda.is_available():\n",
    "        inputs = Variable(inputs.cuda())\n",
    "        labels = Variable(targets.cuda())\n",
    "    else:\n",
    "        inputs = Variable(inputs)\n",
    "        labels = Variable(targets)\n",
    "\n",
    "    # Clear gradient buffers because we don't want any gradient from previous epoch to carry forward, dont want to cummulate gradients\n",
    "    optimizer.zero_grad()\n",
    "\n",
    "    # get output from the model, given the inputs\n",
    "    outputs = model(inputs)\n",
    "\n",
    "    # get loss for the predicted output\n",
    "    loss = criterion(outputs, labels)\n",
    "    print(loss)\n",
    "    # get gradients w.r.t to parameters\n",
    "    loss.backward()\n",
    "\n",
    "    # update parameters\n",
    "    optimizer.step()\n",
    "\n",
    "    print('epoch {}, loss {}'.format(epoch, loss.item()))"
   ]
  },
  {
   "cell_type": "code",
   "execution_count": 227,
   "metadata": {},
   "outputs": [],
   "source": [
    "with torch.no_grad(): # we don't need gradients in the testing phase\n",
    "    if torch.cuda.is_available():\n",
    "        predicted = model(Variable(inputs.cuda())).cpu().data.numpy()\n",
    "    else:\n",
    "        predicted = model(Variable(inputs)).data.numpy()"
   ]
  },
  {
   "cell_type": "code",
   "execution_count": 228,
   "metadata": {},
   "outputs": [],
   "source": [
    "predicted = predicted.flatten()"
   ]
  },
  {
   "cell_type": "code",
   "execution_count": 229,
   "metadata": {},
   "outputs": [],
   "source": [
    "diffs = np.subtract(predicted, Y['actual'].tolist())"
   ]
  },
  {
   "cell_type": "code",
   "execution_count": 230,
   "metadata": {},
   "outputs": [
    {
     "data": {
      "text/plain": [
       "(array([3.000e+00, 2.000e+00, 2.100e+01, 4.790e+02, 2.180e+02, 4.788e+03,\n",
       "        1.277e+03, 4.690e+02, 6.640e+02, 4.700e+01]),\n",
       " array([-10.93089951,  -9.08603434,  -7.24116917,  -5.39630401,\n",
       "         -3.55143884,  -1.70657367,   0.1382915 ,   1.98315667,\n",
       "          3.82802183,   5.672887  ,   7.51775217]),\n",
       " <BarContainer object of 10 artists>)"
      ]
     },
     "execution_count": 230,
     "metadata": {},
     "output_type": "execute_result"
    },
    {
     "data": {
      "image/png": "[encoded data removed]",
      "text/plain": [
       "<Figure size 432x288 with 1 Axes>"
      ]
     },
     "metadata": {
      "needs_background": "light"
     },
     "output_type": "display_data"
    }
   ],
   "source": [
    "plt.hist(diffs)"
   ]
  },
  {
   "cell_type": "code",
   "execution_count": 231,
   "metadata": {},
   "outputs": [
    {
     "data": {
      "text/plain": [
       "(array([3.000e+00, 2.000e+00, 1.700e+01, 4.760e+02, 2.070e+02, 4.604e+03,\n",
       "        1.482e+03, 5.650e+02, 5.610e+02, 5.100e+01]),\n",
       " array([-10.378333 ,  -8.4636247,  -6.5489164,  -4.6342081,  -2.7194998,\n",
       "         -0.8047915,   1.1099168,   3.0246251,   4.9393334,   6.8540417,\n",
       "          8.76875  ]),\n",
       " <BarContainer object of 10 artists>)"
      ]
     },
     "execution_count": 231,
     "metadata": {},
     "output_type": "execute_result"
    },
    {
     "data": {
      "image/png": "[encoded data removed]",
      "text/plain": [
       "<Figure size 432x288 with 1 Axes>"
      ]
     },
     "metadata": {
      "needs_background": "light"
     },
     "output_type": "display_data"
    }
   ],
   "source": [
    "plt.hist(actual_diffs)"
   ]
  },
  {
   "cell_type": "code",
   "execution_count": 232,
   "metadata": {},
   "outputs": [
    {
     "data": {
      "text/plain": [
       "4.6710965114217835"
      ]
     },
     "execution_count": 232,
     "metadata": {},
     "output_type": "execute_result"
    }
   ],
   "source": [
    "mean_squared_error(predicted, Y['actual'].tolist())"
   ]
  },
  {
   "cell_type": "code",
   "execution_count": 233,
   "metadata": {},
   "outputs": [
    {
     "data": {
      "text/plain": [
       "5.743489403605204"
      ]
     },
     "execution_count": 233,
     "metadata": {},
     "output_type": "execute_result"
    }
   ],
   "source": [
    "mean_squared_error(X['pred_average'].tolist(), np.array(Y['actual'].tolist()))"
   ]
  },
  {
   "cell_type": "code",
   "execution_count": 234,
   "metadata": {},
   "outputs": [
    {
     "data": {
      "text/plain": [
       "0.6469675642914335"
      ]
     },
     "execution_count": 234,
     "metadata": {},
     "output_type": "execute_result"
    }
   ],
   "source": [
    "np.corrcoef(predicted, Y['actual'].tolist())[0][1]"
   ]
  },
  {
   "cell_type": "code",
   "execution_count": 235,
   "metadata": {},
   "outputs": [
    {
     "data": {
      "text/plain": [
       "0.630839249879817"
      ]
     },
     "execution_count": 235,
     "metadata": {},
     "output_type": "execute_result"
    }
   ],
   "source": [
    "np.corrcoef(X['pred_average'].tolist(), Y['actual'].tolist())[0][1]"
   ]
  },
  {
   "cell_type": "code",
   "execution_count": null,
   "metadata": {},
   "outputs": [],
   "source": []
  }
 ],
 "metadata": {
  "kernelspec": {
   "display_name": "Python 3",
   "language": "python",
   "name": "python3"
  },
  "language_info": {
   "codemirror_mode": {
    "name": "ipython",
    "version": 3
   },
   "file_extension": ".py",
   "mimetype": "text/x-python",
   "name": "python",
   "nbconvert_exporter": "python",
   "pygments_lexer": "ipython3",
   "version": "3.9.1"
  }
 },
 "nbformat": 4,
 "nbformat_minor": 4
}
