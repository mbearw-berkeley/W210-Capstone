{
 "cells": [
  {
   "cell_type": "code",
   "execution_count": 33,
   "id": "favorite-gasoline",
   "metadata": {},
   "outputs": [],
   "source": [
    "import pandas as pd\n",
    "import numpy as np\n",
    "import matplotlib.pyplot as plt\n",
    "import os\n",
    "import xgboost as xgb\n",
    "from sklearn.metrics import mean_squared_error"
   ]
  },
  {
   "cell_type": "code",
   "execution_count": 26,
   "id": "altered-connecticut",
   "metadata": {
    "scrolled": true
   },
   "outputs": [
    {
     "data": {
      "text/html": [
       "<div>\n",
       "<style scoped>\n",
       "    .dataframe tbody tr th:only-of-type {\n",
       "        vertical-align: middle;\n",
       "    }\n",
       "\n",
       "    .dataframe tbody tr th {\n",
       "        vertical-align: top;\n",
       "    }\n",
       "\n",
       "    .dataframe thead th {\n",
       "        text-align: right;\n",
       "    }\n",
       "</style>\n",
       "<table border=\"1\" class=\"dataframe\">\n",
       "  <thead>\n",
       "    <tr style=\"text-align: right;\">\n",
       "      <th></th>\n",
       "      <th>YEAR FORECAST MADE</th>\n",
       "      <th>QUARTER</th>\n",
       "      <th>YEAR BEING FORECAST</th>\n",
       "      <th>INDICATOR</th>\n",
       "      <th>FORECASTER ID</th>\n",
       "      <th>INDUSTRY</th>\n",
       "      <th>Year.ID.ForecastYear.Quarter</th>\n",
       "      <th>Indicator.Year.ID.ForecastYear.Quarter</th>\n",
       "      <th>BIN 1</th>\n",
       "      <th>BIN 2</th>\n",
       "      <th>...</th>\n",
       "      <th>ACTUAL_CONF</th>\n",
       "      <th>HIT</th>\n",
       "      <th>pred_average</th>\n",
       "      <th>pred_var</th>\n",
       "      <th>chicken</th>\n",
       "      <th>coffee</th>\n",
       "      <th>eggs</th>\n",
       "      <th>electricity</th>\n",
       "      <th>rice</th>\n",
       "      <th>unleadedGasoline</th>\n",
       "    </tr>\n",
       "  </thead>\n",
       "  <tbody>\n",
       "    <tr>\n",
       "      <th>0</th>\n",
       "      <td>1968</td>\n",
       "      <td>4</td>\n",
       "      <td>1968</td>\n",
       "      <td>NominalGNP</td>\n",
       "      <td>1</td>\n",
       "      <td>NaN</td>\n",
       "      <td>1968-1-1968-4</td>\n",
       "      <td>NominalGNP-1968-1-1968-4</td>\n",
       "      <td>0.0</td>\n",
       "      <td>0.0</td>\n",
       "      <td>...</td>\n",
       "      <td>0.00</td>\n",
       "      <td>0.0</td>\n",
       "      <td>6.000</td>\n",
       "      <td>0.450000</td>\n",
       "      <td>NaN</td>\n",
       "      <td>NaN</td>\n",
       "      <td>NaN</td>\n",
       "      <td>NaN</td>\n",
       "      <td>NaN</td>\n",
       "      <td>NaN</td>\n",
       "    </tr>\n",
       "    <tr>\n",
       "      <th>1</th>\n",
       "      <td>1968</td>\n",
       "      <td>4</td>\n",
       "      <td>1968</td>\n",
       "      <td>NominalGNP</td>\n",
       "      <td>2</td>\n",
       "      <td>NaN</td>\n",
       "      <td>1968-2-1968-4</td>\n",
       "      <td>NominalGNP-1968-2-1968-4</td>\n",
       "      <td>0.0</td>\n",
       "      <td>0.0</td>\n",
       "      <td>...</td>\n",
       "      <td>0.00</td>\n",
       "      <td>0.0</td>\n",
       "      <td>6.100</td>\n",
       "      <td>1.040000</td>\n",
       "      <td>NaN</td>\n",
       "      <td>NaN</td>\n",
       "      <td>NaN</td>\n",
       "      <td>NaN</td>\n",
       "      <td>NaN</td>\n",
       "      <td>NaN</td>\n",
       "    </tr>\n",
       "    <tr>\n",
       "      <th>2</th>\n",
       "      <td>1968</td>\n",
       "      <td>4</td>\n",
       "      <td>1968</td>\n",
       "      <td>NominalGNP</td>\n",
       "      <td>3</td>\n",
       "      <td>NaN</td>\n",
       "      <td>1968-3-1968-4</td>\n",
       "      <td>NominalGNP-1968-3-1968-4</td>\n",
       "      <td>0.0</td>\n",
       "      <td>0.0</td>\n",
       "      <td>...</td>\n",
       "      <td>0.00</td>\n",
       "      <td>0.0</td>\n",
       "      <td>6.800</td>\n",
       "      <td>0.410000</td>\n",
       "      <td>NaN</td>\n",
       "      <td>NaN</td>\n",
       "      <td>NaN</td>\n",
       "      <td>NaN</td>\n",
       "      <td>NaN</td>\n",
       "      <td>NaN</td>\n",
       "    </tr>\n",
       "    <tr>\n",
       "      <th>3</th>\n",
       "      <td>1968</td>\n",
       "      <td>4</td>\n",
       "      <td>1968</td>\n",
       "      <td>NominalGNP</td>\n",
       "      <td>4</td>\n",
       "      <td>NaN</td>\n",
       "      <td>1968-4-1968-4</td>\n",
       "      <td>NominalGNP-1968-4-1968-4</td>\n",
       "      <td>0.0</td>\n",
       "      <td>0.0</td>\n",
       "      <td>...</td>\n",
       "      <td>0.00</td>\n",
       "      <td>0.0</td>\n",
       "      <td>6.150</td>\n",
       "      <td>1.327500</td>\n",
       "      <td>NaN</td>\n",
       "      <td>NaN</td>\n",
       "      <td>NaN</td>\n",
       "      <td>NaN</td>\n",
       "      <td>NaN</td>\n",
       "      <td>NaN</td>\n",
       "    </tr>\n",
       "    <tr>\n",
       "      <th>4</th>\n",
       "      <td>1968</td>\n",
       "      <td>4</td>\n",
       "      <td>1968</td>\n",
       "      <td>NominalGNP</td>\n",
       "      <td>5</td>\n",
       "      <td>NaN</td>\n",
       "      <td>1968-5-1968-4</td>\n",
       "      <td>NominalGNP-1968-5-1968-4</td>\n",
       "      <td>3.0</td>\n",
       "      <td>4.0</td>\n",
       "      <td>...</td>\n",
       "      <td>0.04</td>\n",
       "      <td>0.0</td>\n",
       "      <td>4.650</td>\n",
       "      <td>7.227500</td>\n",
       "      <td>NaN</td>\n",
       "      <td>NaN</td>\n",
       "      <td>NaN</td>\n",
       "      <td>NaN</td>\n",
       "      <td>NaN</td>\n",
       "      <td>NaN</td>\n",
       "    </tr>\n",
       "    <tr>\n",
       "      <th>...</th>\n",
       "      <td>...</td>\n",
       "      <td>...</td>\n",
       "      <td>...</td>\n",
       "      <td>...</td>\n",
       "      <td>...</td>\n",
       "      <td>...</td>\n",
       "      <td>...</td>\n",
       "      <td>...</td>\n",
       "      <td>...</td>\n",
       "      <td>...</td>\n",
       "      <td>...</td>\n",
       "      <td>...</td>\n",
       "      <td>...</td>\n",
       "      <td>...</td>\n",
       "      <td>...</td>\n",
       "      <td>...</td>\n",
       "      <td>...</td>\n",
       "      <td>...</td>\n",
       "      <td>...</td>\n",
       "      <td>...</td>\n",
       "      <td>...</td>\n",
       "    </tr>\n",
       "    <tr>\n",
       "      <th>36057</th>\n",
       "      <td>2021</td>\n",
       "      <td>2</td>\n",
       "      <td>2024</td>\n",
       "      <td>Unemployment</td>\n",
       "      <td>586</td>\n",
       "      <td>2.0</td>\n",
       "      <td>2024-586-2021-2</td>\n",
       "      <td>Unemployment-2024-586-2021-2</td>\n",
       "      <td>0.0</td>\n",
       "      <td>0.0</td>\n",
       "      <td>...</td>\n",
       "      <td>0.00</td>\n",
       "      <td>0.0</td>\n",
       "      <td>5.514</td>\n",
       "      <td>0.578179</td>\n",
       "      <td>1.5005</td>\n",
       "      <td>4.659</td>\n",
       "      <td>1.6225</td>\n",
       "      <td>0.1395</td>\n",
       "      <td>0.793</td>\n",
       "      <td>2.9055</td>\n",
       "    </tr>\n",
       "    <tr>\n",
       "      <th>36058</th>\n",
       "      <td>2021</td>\n",
       "      <td>2</td>\n",
       "      <td>2024</td>\n",
       "      <td>Unemployment</td>\n",
       "      <td>587</td>\n",
       "      <td>2.0</td>\n",
       "      <td>2024-587-2021-2</td>\n",
       "      <td>Unemployment-2024-587-2021-2</td>\n",
       "      <td>0.0</td>\n",
       "      <td>0.0</td>\n",
       "      <td>...</td>\n",
       "      <td>0.00</td>\n",
       "      <td>0.0</td>\n",
       "      <td>5.125</td>\n",
       "      <td>0.203125</td>\n",
       "      <td>1.5005</td>\n",
       "      <td>4.659</td>\n",
       "      <td>1.6225</td>\n",
       "      <td>0.1395</td>\n",
       "      <td>0.793</td>\n",
       "      <td>2.9055</td>\n",
       "    </tr>\n",
       "    <tr>\n",
       "      <th>36059</th>\n",
       "      <td>2021</td>\n",
       "      <td>2</td>\n",
       "      <td>2024</td>\n",
       "      <td>Unemployment</td>\n",
       "      <td>588</td>\n",
       "      <td>1.0</td>\n",
       "      <td>2024-588-2021-2</td>\n",
       "      <td>Unemployment-2024-588-2021-2</td>\n",
       "      <td>0.0</td>\n",
       "      <td>0.0</td>\n",
       "      <td>...</td>\n",
       "      <td>0.00</td>\n",
       "      <td>0.0</td>\n",
       "      <td>5.125</td>\n",
       "      <td>0.203125</td>\n",
       "      <td>1.5005</td>\n",
       "      <td>4.659</td>\n",
       "      <td>1.6225</td>\n",
       "      <td>0.1395</td>\n",
       "      <td>0.793</td>\n",
       "      <td>2.9055</td>\n",
       "    </tr>\n",
       "    <tr>\n",
       "      <th>36060</th>\n",
       "      <td>2021</td>\n",
       "      <td>2</td>\n",
       "      <td>2024</td>\n",
       "      <td>Unemployment</td>\n",
       "      <td>589</td>\n",
       "      <td>2.0</td>\n",
       "      <td>2024-589-2021-2</td>\n",
       "      <td>Unemployment-2024-589-2021-2</td>\n",
       "      <td>0.0</td>\n",
       "      <td>0.0</td>\n",
       "      <td>...</td>\n",
       "      <td>0.00</td>\n",
       "      <td>0.0</td>\n",
       "      <td>5.175</td>\n",
       "      <td>0.050625</td>\n",
       "      <td>1.5005</td>\n",
       "      <td>4.659</td>\n",
       "      <td>1.6225</td>\n",
       "      <td>0.1395</td>\n",
       "      <td>0.793</td>\n",
       "      <td>2.9055</td>\n",
       "    </tr>\n",
       "    <tr>\n",
       "      <th>36061</th>\n",
       "      <td>2021</td>\n",
       "      <td>2</td>\n",
       "      <td>2024</td>\n",
       "      <td>Unemployment</td>\n",
       "      <td>590</td>\n",
       "      <td>1.0</td>\n",
       "      <td>2024-590-2021-2</td>\n",
       "      <td>Unemployment-2024-590-2021-2</td>\n",
       "      <td>0.0</td>\n",
       "      <td>0.0</td>\n",
       "      <td>...</td>\n",
       "      <td>0.00</td>\n",
       "      <td>0.0</td>\n",
       "      <td>5.175</td>\n",
       "      <td>0.050625</td>\n",
       "      <td>1.5005</td>\n",
       "      <td>4.659</td>\n",
       "      <td>1.6225</td>\n",
       "      <td>0.1395</td>\n",
       "      <td>0.793</td>\n",
       "      <td>2.9055</td>\n",
       "    </tr>\n",
       "  </tbody>\n",
       "</table>\n",
       "<p>36062 rows × 70 columns</p>\n",
       "</div>"
      ],
      "text/plain": [
       "       YEAR FORECAST MADE  QUARTER  YEAR BEING FORECAST     INDICATOR  \\\n",
       "0                    1968        4                 1968    NominalGNP   \n",
       "1                    1968        4                 1968    NominalGNP   \n",
       "2                    1968        4                 1968    NominalGNP   \n",
       "3                    1968        4                 1968    NominalGNP   \n",
       "4                    1968        4                 1968    NominalGNP   \n",
       "...                   ...      ...                  ...           ...   \n",
       "36057                2021        2                 2024  Unemployment   \n",
       "36058                2021        2                 2024  Unemployment   \n",
       "36059                2021        2                 2024  Unemployment   \n",
       "36060                2021        2                 2024  Unemployment   \n",
       "36061                2021        2                 2024  Unemployment   \n",
       "\n",
       "       FORECASTER ID  INDUSTRY Year.ID.ForecastYear.Quarter  \\\n",
       "0                  1       NaN                1968-1-1968-4   \n",
       "1                  2       NaN                1968-2-1968-4   \n",
       "2                  3       NaN                1968-3-1968-4   \n",
       "3                  4       NaN                1968-4-1968-4   \n",
       "4                  5       NaN                1968-5-1968-4   \n",
       "...              ...       ...                          ...   \n",
       "36057            586       2.0              2024-586-2021-2   \n",
       "36058            587       2.0              2024-587-2021-2   \n",
       "36059            588       1.0              2024-588-2021-2   \n",
       "36060            589       2.0              2024-589-2021-2   \n",
       "36061            590       1.0              2024-590-2021-2   \n",
       "\n",
       "      Indicator.Year.ID.ForecastYear.Quarter  BIN 1  BIN 2  ...  ACTUAL_CONF  \\\n",
       "0                   NominalGNP-1968-1-1968-4    0.0    0.0  ...         0.00   \n",
       "1                   NominalGNP-1968-2-1968-4    0.0    0.0  ...         0.00   \n",
       "2                   NominalGNP-1968-3-1968-4    0.0    0.0  ...         0.00   \n",
       "3                   NominalGNP-1968-4-1968-4    0.0    0.0  ...         0.00   \n",
       "4                   NominalGNP-1968-5-1968-4    3.0    4.0  ...         0.04   \n",
       "...                                      ...    ...    ...  ...          ...   \n",
       "36057           Unemployment-2024-586-2021-2    0.0    0.0  ...         0.00   \n",
       "36058           Unemployment-2024-587-2021-2    0.0    0.0  ...         0.00   \n",
       "36059           Unemployment-2024-588-2021-2    0.0    0.0  ...         0.00   \n",
       "36060           Unemployment-2024-589-2021-2    0.0    0.0  ...         0.00   \n",
       "36061           Unemployment-2024-590-2021-2    0.0    0.0  ...         0.00   \n",
       "\n",
       "       HIT  pred_average  pred_var  chicken  coffee    eggs  electricity  \\\n",
       "0      0.0         6.000  0.450000      NaN     NaN     NaN          NaN   \n",
       "1      0.0         6.100  1.040000      NaN     NaN     NaN          NaN   \n",
       "2      0.0         6.800  0.410000      NaN     NaN     NaN          NaN   \n",
       "3      0.0         6.150  1.327500      NaN     NaN     NaN          NaN   \n",
       "4      0.0         4.650  7.227500      NaN     NaN     NaN          NaN   \n",
       "...    ...           ...       ...      ...     ...     ...          ...   \n",
       "36057  0.0         5.514  0.578179   1.5005   4.659  1.6225       0.1395   \n",
       "36058  0.0         5.125  0.203125   1.5005   4.659  1.6225       0.1395   \n",
       "36059  0.0         5.125  0.203125   1.5005   4.659  1.6225       0.1395   \n",
       "36060  0.0         5.175  0.050625   1.5005   4.659  1.6225       0.1395   \n",
       "36061  0.0         5.175  0.050625   1.5005   4.659  1.6225       0.1395   \n",
       "\n",
       "        rice  unleadedGasoline  \n",
       "0        NaN               NaN  \n",
       "1        NaN               NaN  \n",
       "2        NaN               NaN  \n",
       "3        NaN               NaN  \n",
       "4        NaN               NaN  \n",
       "...      ...               ...  \n",
       "36057  0.793            2.9055  \n",
       "36058  0.793            2.9055  \n",
       "36059  0.793            2.9055  \n",
       "36060  0.793            2.9055  \n",
       "36061  0.793            2.9055  \n",
       "\n",
       "[36062 rows x 70 columns]"
      ]
     },
     "execution_count": 26,
     "metadata": {},
     "output_type": "execute_result"
    }
   ],
   "source": [
    "train = pd.read_csv(\"../data/TrainingData/trainingWithItems.csv\",index_col=0)\n",
    "train"
   ]
  },
  {
   "cell_type": "code",
   "execution_count": 27,
   "id": "prompt-patent",
   "metadata": {},
   "outputs": [],
   "source": [
    "unemp = train[train['INDICATOR'] == \"Unemployment\"]\n",
    "rgdp = train[train['INDICATOR'] == \"RealGDP\"]\n",
    "cpce = train[train['INDICATOR'] == \"Core PCE\"]\n",
    "ccpi = train[train['INDICATOR'] == \"Core CPI\"]\n",
    "ngnp = train[train['INDICATOR'] == \"NominalGNP\"]\n",
    "rgnp = train[train['INDICATOR'] == \"RealGNP\"]"
   ]
  },
  {
   "cell_type": "code",
   "execution_count": 17,
   "id": "intended-corpus",
   "metadata": {},
   "outputs": [],
   "source": [
    "def model_setup(df):\n",
    "    \n",
    "    rand = df.sample(frac = 1)\n",
    "    #80/20 split\n",
    "    nrow = len(rand)\n",
    "    \n",
    "    train_prop = int(np.round(nrow*0.8))\n",
    "    train = rand[:train_prop]\n",
    "    val = rand[train_prop:]\n",
    "    \n",
    "    train = train[[\"FORECASTER ID\", \"MAX\", \"pred_average\", \"pred_var\", \"HIT\", \"ACTUAL_CONF\", \"actual\"]]\n",
    "    val = val[[\"FORECASTER ID\", \"MAX\", \"pred_average\", \"pred_var\", \"HIT\", \"ACTUAL_CONF\", \"actual\"]]\n",
    "    \n",
    "    return train.dropna(), val.dropna()"
   ]
  },
  {
   "cell_type": "code",
   "execution_count": 40,
   "id": "fifty-chest",
   "metadata": {},
   "outputs": [],
   "source": [
    "def run_xgb_model(df, variable_name, plot=True):\n",
    "    train_set, val = model_setup(train)\n",
    "\n",
    "    X, Y = train_set[[\"FORECASTER ID\", \"MAX\", \"pred_average\", \"pred_var\", \"HIT\", \"ACTUAL_CONF\"]], train_set[\"actual\"].tolist()\n",
    "    val_X, val_Y = val[[\"FORECASTER ID\", \"MAX\", \"pred_average\", \"pred_var\", \"HIT\", \"ACTUAL_CONF\"]], val[\"actual\"].tolist()\n",
    "\n",
    "    model=xgb.XGBRegressor(verbosity=0)\n",
    "    fitted = model.fit(X, Y)\n",
    "    preds = model.predict(val_X)\n",
    "    diffs = val_Y - predicted_values\n",
    "    diffs\n",
    "\n",
    "    r21 = np.corrcoef(val_Y, preds)[0][1]\n",
    "    r22 = np.corrcoef(val_Y, np.array(val_X['pred_average'].tolist()))[0][1]\n",
    "\n",
    "    mse1 = mean_squared_error(val_Y, preds)\n",
    "    mse2 = mean_squared_error(val_Y, np.array(val_X['pred_average'].tolist()))\n",
    "\n",
    "    if plot == True:\n",
    "        print(\"Differences in actual vs. model prediction (\" + variable_name + \")\")\n",
    "        print(\"Mean: \" + str(np.mean(diffs)))\n",
    "        print(\"Median: \" + str(np.median(diffs)))\n",
    "        print(\"Max: \" + str(max(diffs)))\n",
    "        print(\"Min: \" + str(min(diffs)))\n",
    "        print(\"Correlation Coef: \" + str(r21))\n",
    "        print(\"MSE: \" + str(mse1))\n",
    "\n",
    "        plt.hist(diffs)\n",
    "        plt.title(\"Actual minus Model Prediction (\" + variable_name + \")\")\n",
    "        plt.show()\n",
    "\n",
    "        actual_diffs = np.subtract(val_Y, np.array(val_X['pred_average'].tolist()))\n",
    "        print(\"Differences in actual vs. forecaster average prediction (\" + variable_name + \")\")\n",
    "        print(\"Mean: \" + str(np.mean(actual_diffs)))\n",
    "        print(\"Median: \" + str(np.median(actual_diffs)))\n",
    "        print(\"Max: \" + str(max(actual_diffs)))\n",
    "        print(\"Min: \" + str(min(actual_diffs)))\n",
    "        print(\"Correlation Coef: \" + str(r22))\n",
    "        print(\"MSE: \" + str(mse2))\n",
    "\n",
    "        plt.hist(actual_diffs)\n",
    "        plt.title(\"Actual Rate minus Forecaster Average Prediction (\" + variable_name + \")\")\n",
    "        plt.show()\n",
    "\n",
    "    else:\n",
    "        return mse1, mse2, r21, r22"
   ]
  },
  {
   "cell_type": "code",
   "execution_count": 41,
   "id": "interstate-salad",
   "metadata": {
    "scrolled": false
   },
   "outputs": [
    {
     "name": "stdout",
     "output_type": "stream",
     "text": [
      "Differences in actual vs. model prediction (Unemployment)\n",
      "Mean: 0.00552645983852906\n",
      "Median: -0.03204310902654761\n",
      "Max: 15.5306915914917\n",
      "Min: -15.49686962677002\n",
      "Correlation Coef: 0.9275567933383105\n",
      "MSE: 1.2843785430347194\n"
     ]
    },
    {
     "data": {
      "image/png": "[encoded data removed]",
      "text/plain": [
       "<Figure size 432x288 with 1 Axes>"
      ]
     },
     "metadata": {
      "needs_background": "light"
     },
     "output_type": "display_data"
    },
    {
     "name": "stdout",
     "output_type": "stream",
     "text": [
      "Differences in actual vs. forecaster average prediction (Unemployment)\n",
      "Mean: -0.26962294956236865\n",
      "Median: -0.18732000000000015\n",
      "Max: 10.97415\n",
      "Min: -8.2875\n",
      "Correlation Coef: 0.8064049244138367\n",
      "MSE: 3.2993752859912036\n"
     ]
    },
    {
     "data": {
      "image/png": "[encoded data removed]",
      "text/plain": [
       "<Figure size 432x288 with 1 Axes>"
      ]
     },
     "metadata": {
      "needs_background": "light"
     },
     "output_type": "display_data"
    },
    {
     "name": "stdout",
     "output_type": "stream",
     "text": [
      "Differences in actual vs. model prediction (RealGDP)\n",
      "Mean: -0.028547135049122728\n",
      "Median: -0.076977139854431\n",
      "Max: 14.296030893554688\n",
      "Min: -15.548491063842773\n",
      "Correlation Coef: 0.9293794988028992\n",
      "MSE: 1.251555028570242\n"
     ]
    },
    {
     "data": {
      "image/png": "[encoded data removed]",
      "text/plain": [
       "<Figure size 432x288 with 1 Axes>"
      ]
     },
     "metadata": {
      "needs_background": "light"
     },
     "output_type": "display_data"
    },
    {
     "name": "stdout",
     "output_type": "stream",
     "text": [
      "Differences in actual vs. forecaster average prediction (RealGDP)\n",
      "Mean: -0.2680790859685023\n",
      "Median: -0.1844269999999999\n",
      "Max: 9.618333\n",
      "Min: -7.81076\n",
      "Correlation Coef: 0.8019818079051827\n",
      "MSE: 3.3551541793237543\n"
     ]
    },
    {
     "data": {
      "image/png": "[encoded data removed]",
      "text/plain": [
       "<Figure size 432x288 with 1 Axes>"
      ]
     },
     "metadata": {
      "needs_background": "light"
     },
     "output_type": "display_data"
    },
    {
     "name": "stdout",
     "output_type": "stream",
     "text": [
      "Differences in actual vs. model prediction (Core PCE)\n",
      "Mean: -0.03775229651822266\n",
      "Median: -0.08826616168770851\n",
      "Max: 15.523534522399903\n",
      "Min: -15.46058518005371\n",
      "Correlation Coef: 0.9187754524758528\n",
      "MSE: 1.4340998757557932\n"
     ]
    },
    {
     "data": {
      "image/png": "[encoded data removed]",
      "text/plain": [
       "<Figure size 432x288 with 1 Axes>"
      ]
     },
     "metadata": {
      "needs_background": "light"
     },
     "output_type": "display_data"
    },
    {
     "name": "stdout",
     "output_type": "stream",
     "text": [
      "Differences in actual vs. forecaster average prediction (Core PCE)\n",
      "Mean: -0.25829061277103665\n",
      "Median: -0.1773754999999999\n",
      "Max: 11.024149999999999\n",
      "Min: -8.629427473536666\n",
      "Correlation Coef: 0.7870341816025371\n",
      "MSE: 3.58863626178755\n"
     ]
    },
    {
     "data": {
      "image/png": "[encoded data removed]",
      "text/plain": [
       "<Figure size 432x288 with 1 Axes>"
      ]
     },
     "metadata": {
      "needs_background": "light"
     },
     "output_type": "display_data"
    },
    {
     "name": "stdout",
     "output_type": "stream",
     "text": [
      "Differences in actual vs. model prediction (Core CPI)\n",
      "Mean: 0.0016670111369541025\n",
      "Median: -0.02905021115351797\n",
      "Max: 15.675486294021606\n",
      "Min: -15.685674253234863\n",
      "Correlation Coef: 0.9276734366659078\n",
      "MSE: 1.2501539384649865\n"
     ]
    },
    {
     "data": {
      "image/png": "[encoded data removed]",
      "text/plain": [
       "<Figure size 432x288 with 1 Axes>"
      ]
     },
     "metadata": {
      "needs_background": "light"
     },
     "output_type": "display_data"
    },
    {
     "name": "stdout",
     "output_type": "stream",
     "text": [
      "Differences in actual vs. forecaster average prediction (Core CPI)\n",
      "Mean: -0.23294712726577446\n",
      "Median: -0.17444295034271007\n",
      "Max: 9.294740000000001\n",
      "Min: -8.629427473536666\n",
      "Correlation Coef: 0.8028810772593076\n",
      "MSE: 3.2585680897376186\n"
     ]
    },
    {
     "data": {
      "image/png": "[encoded data removed]",
      "text/plain": [
       "<Figure size 432x288 with 1 Axes>"
      ]
     },
     "metadata": {
      "needs_background": "light"
     },
     "output_type": "display_data"
    },
    {
     "name": "stdout",
     "output_type": "stream",
     "text": [
      "Differences in actual vs. model prediction (NominalGNP)\n",
      "Mean: -0.01992672123376128\n",
      "Median: 0.012889664347382812\n",
      "Max: 15.499554291000367\n",
      "Min: -15.779932561645508\n",
      "Correlation Coef: 0.9265911308155499\n",
      "MSE: 1.277276851265068\n"
     ]
    },
    {
     "data": {
      "image/png": "[encoded data removed]",
      "text/plain": [
       "<Figure size 432x288 with 1 Axes>"
      ]
     },
     "metadata": {
      "needs_background": "light"
     },
     "output_type": "display_data"
    },
    {
     "name": "stdout",
     "output_type": "stream",
     "text": [
      "Differences in actual vs. forecaster average prediction (NominalGNP)\n",
      "Mean: -0.25121453055218623\n",
      "Median: -0.17135000000000034\n",
      "Max: 10.378333\n",
      "Min: -8.5975\n",
      "Correlation Coef: 0.797637041614741\n",
      "MSE: 3.365002614632422\n"
     ]
    },
    {
     "data": {
      "image/png": "[encoded data removed]",
      "text/plain": [
       "<Figure size 432x288 with 1 Axes>"
      ]
     },
     "metadata": {
      "needs_background": "light"
     },
     "output_type": "display_data"
    },
    {
     "name": "stdout",
     "output_type": "stream",
     "text": [
      "Differences in actual vs. model prediction (RealGNP)\n",
      "Mean: -0.03252557017434023\n",
      "Median: -0.05751007563018806\n",
      "Max: 14.465402613067626\n",
      "Min: -15.17822605682373\n",
      "Correlation Coef: 0.9258834088760404\n",
      "MSE: 1.2769901750660335\n"
     ]
    },
    {
     "data": {
      "image/png": "[encoded data removed]",
      "text/plain": [
       "<Figure size 432x288 with 1 Axes>"
      ]
     },
     "metadata": {
      "needs_background": "light"
     },
     "output_type": "display_data"
    },
    {
     "name": "stdout",
     "output_type": "stream",
     "text": [
      "Differences in actual vs. forecaster average prediction (RealGNP)\n",
      "Mean: -0.2725522488943152\n",
      "Median: -0.19504\n",
      "Max: 9.03743\n",
      "Min: -8.82417\n",
      "Correlation Coef: 0.7968337645399018\n",
      "MSE: 3.3697505551961524\n"
     ]
    },
    {
     "data": {
      "image/png": "[encoded data removed]",
      "text/plain": [
       "<Figure size 432x288 with 1 Axes>"
      ]
     },
     "metadata": {
      "needs_background": "light"
     },
     "output_type": "display_data"
    }
   ],
   "source": [
    "for variable, name in zip([unemp,rgdp,cpce,ccpi,ngnp,rgnp],[\"Unemployment\",\"RealGDP\",\"Core PCE\",\"Core CPI\",\"NominalGNP\",\"RealGNP\"]):\n",
    "    run_xgb_model(variable,name)"
   ]
  },
  {
   "cell_type": "code",
   "execution_count": 47,
   "id": "loved-roman",
   "metadata": {},
   "outputs": [],
   "source": [
    "def evaluate():\n",
    "    mse1s = []\n",
    "    mse2s = []\n",
    "    r21s = []\n",
    "    r22s = []\n",
    "    for i in [unemp, rgdp, cpce, ccpi, ngnp, rgnp]:\n",
    "        mse1, mse2, r21, r22 = run_xgb_model(i, \"name\", plot=False)\n",
    "        mse1s.append(np.sqrt(mse1))\n",
    "        mse2s.append(np.sqrt(mse2))\n",
    "        r21s.append(r21)\n",
    "        r22s.append(r22)\n",
    "        \n",
    "    rmse_diff = np.sqrt(np.mean(np.subtract(mse2s,mse1s)))\n",
    "    r2_diff = np.mean(np.subtract(r21s, r22s))\n",
    "    \n",
    "    print(\"We decrease RMSE by \" + str(rmse_diff))\n",
    "    print(\"We increase R-squared by \" + str(r2_diff))"
   ]
  },
  {
   "cell_type": "code",
   "execution_count": 48,
   "id": "seven-kingston",
   "metadata": {},
   "outputs": [
    {
     "name": "stdout",
     "output_type": "stream",
     "text": [
      "We decrease RMSE by 0.8242179712382578\n",
      "We increase R-squared by 0.12560810243757217\n"
     ]
    }
   ],
   "source": [
    "evaluate()"
   ]
  },
  {
   "cell_type": "code",
   "execution_count": null,
   "id": "awful-business",
   "metadata": {},
   "outputs": [],
   "source": [
    "# Do Ensemble???"
   ]
  }
 ],
 "metadata": {
  "kernelspec": {
   "display_name": "Python 3",
   "language": "python",
   "name": "python3"
  },
  "language_info": {
   "codemirror_mode": {
    "name": "ipython",
    "version": 3
   },
   "file_extension": ".py",
   "mimetype": "text/x-python",
   "name": "python",
   "nbconvert_exporter": "python",
   "pygments_lexer": "ipython3",
   "version": "3.8.6"
  }
 },
 "nbformat": 4,
 "nbformat_minor": 5
}
